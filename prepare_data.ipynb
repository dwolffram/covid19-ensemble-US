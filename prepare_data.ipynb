{
 "cells": [
  {
   "cell_type": "code",
   "execution_count": 1,
   "metadata": {},
   "outputs": [],
   "source": [
    "import pandas as pd\n",
    "import requests\n",
    "from tqdm.auto import tqdm\n",
    "tqdm.pandas()"
   ]
  },
  {
   "cell_type": "code",
   "execution_count": 2,
   "metadata": {},
   "outputs": [],
   "source": [
    "def next_monday(date):\n",
    "    return pd.date_range(start=date, end=date + pd.offsets.Day(6), freq='W-MON')[0]"
   ]
  },
  {
   "cell_type": "markdown",
   "metadata": {},
   "source": [
    "# Setting"
   ]
  },
  {
   "cell_type": "code",
   "execution_count": 3,
   "metadata": {},
   "outputs": [],
   "source": [
    "test_date = pd.to_datetime('2021-06-14')"
   ]
  },
  {
   "cell_type": "code",
   "execution_count": 4,
   "metadata": {},
   "outputs": [],
   "source": [
    "models_to_exclude = ['COVIDhub-ensemble', 'COVIDhub-trained_ensemble', \n",
    "                     'CU-nochange', 'CU-scenario_high', 'CU-scenario_low', 'CU-scenario_mid']\n",
    "\n",
    "locations_to_exclude = [\"60\", \"66\", \"69\", \"72\", \"74\", \"78\"]\n",
    "\n",
    "# DC,11,District of Columbia\n",
    "# AS,60,American Samoa\n",
    "# GU,66,Guam\n",
    "# MP,69,Northern Mariana Islands\n",
    "# PR,72,Puerto Rico\n",
    "# UM,74,U.S. Minor Outlying Islands\n",
    "# VI,78,Virgin Islands"
   ]
  },
  {
   "cell_type": "code",
   "execution_count": 5,
   "metadata": {},
   "outputs": [],
   "source": [
    "dtype={'target': str, 'location': str, 'type': str, 'quantile': float, 'value': float}\n",
    "parse_dates=['forecast_date', 'target_end_date']"
   ]
  },
  {
   "cell_type": "markdown",
   "metadata": {},
   "source": [
    "# Load Files"
   ]
  },
  {
   "cell_type": "code",
   "execution_count": 6,
   "metadata": {},
   "outputs": [],
   "source": [
    "url = \"https://api.github.com/repos/reichlab/covid19-forecast-hub/git/trees/master?recursive=1\"\n",
    "r = requests.get(url)\n",
    "res = r.json()"
   ]
  },
  {
   "cell_type": "code",
   "execution_count": 7,
   "metadata": {},
   "outputs": [],
   "source": [
    "files = [file[\"path\"] for file in res[\"tree\"] if (file[\"path\"].startswith('data-processed/') and file[\"path\"].endswith('.csv'))]"
   ]
  },
  {
   "cell_type": "code",
   "execution_count": 8,
   "metadata": {},
   "outputs": [
    {
     "data": {
      "text/plain": [
       "['data-processed/epiforecasts-ensemble1/2021-05-17-epiforecasts-ensemble1.csv',\n",
       " 'data-processed/epiforecasts-ensemble1/2021-05-24-epiforecasts-ensemble1.csv',\n",
       " 'data-processed/epiforecasts-ensemble1/2021-05-31-epiforecasts-ensemble1.csv',\n",
       " 'data-processed/epiforecasts-ensemble1/2021-06-07-epiforecasts-ensemble1.csv',\n",
       " 'data-processed/epiforecasts-ensemble1/2021-06-14-epiforecasts-ensemble1.csv']"
      ]
     },
     "execution_count": 8,
     "metadata": {},
     "output_type": "execute_result"
    }
   ],
   "source": [
    "files[-5:]"
   ]
  },
  {
   "cell_type": "code",
   "execution_count": 9,
   "metadata": {},
   "outputs": [],
   "source": [
    "df_files = pd.DataFrame({'filename':files})\n",
    "\n",
    "df_files['model'] = df_files.filename.apply(lambda f: f.split('/')[1])\n",
    "\n",
    "df_files['forecast_date'] = df_files.filename.apply(lambda f: f.split('/')[2][:10])\n",
    "df_files.forecast_date = pd.to_datetime(df_files.forecast_date)\n",
    "\n",
    "df_files['timezero'] = df_files.forecast_date.apply(next_monday)\n",
    "\n",
    "df_files = df_files[~df_files.model.isin(models_to_exclude)]"
   ]
  },
  {
   "cell_type": "code",
   "execution_count": 10,
   "metadata": {},
   "outputs": [
    {
     "data": {
      "text/html": [
       "<div>\n",
       "<style scoped>\n",
       "    .dataframe tbody tr th:only-of-type {\n",
       "        vertical-align: middle;\n",
       "    }\n",
       "\n",
       "    .dataframe tbody tr th {\n",
       "        vertical-align: top;\n",
       "    }\n",
       "\n",
       "    .dataframe thead th {\n",
       "        text-align: right;\n",
       "    }\n",
       "</style>\n",
       "<table border=\"1\" class=\"dataframe\">\n",
       "  <thead>\n",
       "    <tr style=\"text-align: right;\">\n",
       "      <th></th>\n",
       "      <th>filename</th>\n",
       "      <th>model</th>\n",
       "      <th>forecast_date</th>\n",
       "      <th>timezero</th>\n",
       "    </tr>\n",
       "  </thead>\n",
       "  <tbody>\n",
       "    <tr>\n",
       "      <th>0</th>\n",
       "      <td>data-processed/AIpert-pwllnod/2020-12-21-AIper...</td>\n",
       "      <td>AIpert-pwllnod</td>\n",
       "      <td>2020-12-21</td>\n",
       "      <td>2020-12-21</td>\n",
       "    </tr>\n",
       "    <tr>\n",
       "      <th>1</th>\n",
       "      <td>data-processed/AIpert-pwllnod/2020-12-28-AIper...</td>\n",
       "      <td>AIpert-pwllnod</td>\n",
       "      <td>2020-12-28</td>\n",
       "      <td>2020-12-28</td>\n",
       "    </tr>\n",
       "    <tr>\n",
       "      <th>2</th>\n",
       "      <td>data-processed/AIpert-pwllnod/2021-01-04-AIper...</td>\n",
       "      <td>AIpert-pwllnod</td>\n",
       "      <td>2021-01-04</td>\n",
       "      <td>2021-01-04</td>\n",
       "    </tr>\n",
       "    <tr>\n",
       "      <th>3</th>\n",
       "      <td>data-processed/AIpert-pwllnod/2021-01-11-AIper...</td>\n",
       "      <td>AIpert-pwllnod</td>\n",
       "      <td>2021-01-11</td>\n",
       "      <td>2021-01-11</td>\n",
       "    </tr>\n",
       "    <tr>\n",
       "      <th>4</th>\n",
       "      <td>data-processed/AIpert-pwllnod/2021-01-18-AIper...</td>\n",
       "      <td>AIpert-pwllnod</td>\n",
       "      <td>2021-01-18</td>\n",
       "      <td>2021-01-18</td>\n",
       "    </tr>\n",
       "    <tr>\n",
       "      <th>...</th>\n",
       "      <td>...</td>\n",
       "      <td>...</td>\n",
       "      <td>...</td>\n",
       "      <td>...</td>\n",
       "    </tr>\n",
       "    <tr>\n",
       "      <th>3670</th>\n",
       "      <td>data-processed/epiforecasts-ensemble1/2021-05-...</td>\n",
       "      <td>epiforecasts-ensemble1</td>\n",
       "      <td>2021-05-17</td>\n",
       "      <td>2021-05-17</td>\n",
       "    </tr>\n",
       "    <tr>\n",
       "      <th>3671</th>\n",
       "      <td>data-processed/epiforecasts-ensemble1/2021-05-...</td>\n",
       "      <td>epiforecasts-ensemble1</td>\n",
       "      <td>2021-05-24</td>\n",
       "      <td>2021-05-24</td>\n",
       "    </tr>\n",
       "    <tr>\n",
       "      <th>3672</th>\n",
       "      <td>data-processed/epiforecasts-ensemble1/2021-05-...</td>\n",
       "      <td>epiforecasts-ensemble1</td>\n",
       "      <td>2021-05-31</td>\n",
       "      <td>2021-05-31</td>\n",
       "    </tr>\n",
       "    <tr>\n",
       "      <th>3673</th>\n",
       "      <td>data-processed/epiforecasts-ensemble1/2021-06-...</td>\n",
       "      <td>epiforecasts-ensemble1</td>\n",
       "      <td>2021-06-07</td>\n",
       "      <td>2021-06-07</td>\n",
       "    </tr>\n",
       "    <tr>\n",
       "      <th>3674</th>\n",
       "      <td>data-processed/epiforecasts-ensemble1/2021-06-...</td>\n",
       "      <td>epiforecasts-ensemble1</td>\n",
       "      <td>2021-06-14</td>\n",
       "      <td>2021-06-14</td>\n",
       "    </tr>\n",
       "  </tbody>\n",
       "</table>\n",
       "<p>3257 rows × 4 columns</p>\n",
       "</div>"
      ],
      "text/plain": [
       "                                               filename  \\\n",
       "0     data-processed/AIpert-pwllnod/2020-12-21-AIper...   \n",
       "1     data-processed/AIpert-pwllnod/2020-12-28-AIper...   \n",
       "2     data-processed/AIpert-pwllnod/2021-01-04-AIper...   \n",
       "3     data-processed/AIpert-pwllnod/2021-01-11-AIper...   \n",
       "4     data-processed/AIpert-pwllnod/2021-01-18-AIper...   \n",
       "...                                                 ...   \n",
       "3670  data-processed/epiforecasts-ensemble1/2021-05-...   \n",
       "3671  data-processed/epiforecasts-ensemble1/2021-05-...   \n",
       "3672  data-processed/epiforecasts-ensemble1/2021-05-...   \n",
       "3673  data-processed/epiforecasts-ensemble1/2021-06-...   \n",
       "3674  data-processed/epiforecasts-ensemble1/2021-06-...   \n",
       "\n",
       "                       model forecast_date   timezero  \n",
       "0             AIpert-pwllnod    2020-12-21 2020-12-21  \n",
       "1             AIpert-pwllnod    2020-12-28 2020-12-28  \n",
       "2             AIpert-pwllnod    2021-01-04 2021-01-04  \n",
       "3             AIpert-pwllnod    2021-01-11 2021-01-11  \n",
       "4             AIpert-pwllnod    2021-01-18 2021-01-18  \n",
       "...                      ...           ...        ...  \n",
       "3670  epiforecasts-ensemble1    2021-05-17 2021-05-17  \n",
       "3671  epiforecasts-ensemble1    2021-05-24 2021-05-24  \n",
       "3672  epiforecasts-ensemble1    2021-05-31 2021-05-31  \n",
       "3673  epiforecasts-ensemble1    2021-06-07 2021-06-07  \n",
       "3674  epiforecasts-ensemble1    2021-06-14 2021-06-14  \n",
       "\n",
       "[3257 rows x 4 columns]"
      ]
     },
     "execution_count": 10,
     "metadata": {},
     "output_type": "execute_result"
    }
   ],
   "source": [
    "df_files"
   ]
  },
  {
   "cell_type": "markdown",
   "metadata": {},
   "source": [
    "### Test Data"
   ]
  },
  {
   "cell_type": "code",
   "execution_count": 11,
   "metadata": {},
   "outputs": [],
   "source": [
    "VALID_TARGETS = [f\"{_} wk ahead inc death\" for _ in range(1, 5)] + \\\n",
    "                [f\"{_} wk ahead cum death\" for _ in range(1, 5)] + \\\n",
    "                [f\"{_} wk ahead inc case\" for _ in range(1, 5)]"
   ]
  },
  {
   "cell_type": "code",
   "execution_count": 12,
   "metadata": {},
   "outputs": [],
   "source": [
    "df_test_files = df_files[df_files.timezero == test_date]"
   ]
  },
  {
   "cell_type": "code",
   "execution_count": 13,
   "metadata": {},
   "outputs": [
    {
     "data": {
      "text/html": [
       "<div>\n",
       "<style scoped>\n",
       "    .dataframe tbody tr th:only-of-type {\n",
       "        vertical-align: middle;\n",
       "    }\n",
       "\n",
       "    .dataframe tbody tr th {\n",
       "        vertical-align: top;\n",
       "    }\n",
       "\n",
       "    .dataframe thead th {\n",
       "        text-align: right;\n",
       "    }\n",
       "</style>\n",
       "<table border=\"1\" class=\"dataframe\">\n",
       "  <thead>\n",
       "    <tr style=\"text-align: right;\">\n",
       "      <th></th>\n",
       "      <th>filename</th>\n",
       "      <th>model</th>\n",
       "      <th>forecast_date</th>\n",
       "      <th>timezero</th>\n",
       "    </tr>\n",
       "  </thead>\n",
       "  <tbody>\n",
       "    <tr>\n",
       "      <th>25</th>\n",
       "      <td>data-processed/AIpert-pwllnod/2021-06-14-AIper...</td>\n",
       "      <td>AIpert-pwllnod</td>\n",
       "      <td>2021-06-14</td>\n",
       "      <td>2021-06-14</td>\n",
       "    </tr>\n",
       "    <tr>\n",
       "      <th>74</th>\n",
       "      <td>data-processed/BPagano-RtDriven/2021-06-13-BPa...</td>\n",
       "      <td>BPagano-RtDriven</td>\n",
       "      <td>2021-06-13</td>\n",
       "      <td>2021-06-14</td>\n",
       "    </tr>\n",
       "    <tr>\n",
       "      <th>126</th>\n",
       "      <td>data-processed/CEID-Walk/2021-06-14-CEID-Walk.csv</td>\n",
       "      <td>CEID-Walk</td>\n",
       "      <td>2021-06-14</td>\n",
       "      <td>2021-06-14</td>\n",
       "    </tr>\n",
       "    <tr>\n",
       "      <th>174</th>\n",
       "      <td>data-processed/CMU-TimeSeries/2021-06-14-CMU-T...</td>\n",
       "      <td>CMU-TimeSeries</td>\n",
       "      <td>2021-06-14</td>\n",
       "      <td>2021-06-14</td>\n",
       "    </tr>\n",
       "    <tr>\n",
       "      <th>237</th>\n",
       "      <td>data-processed/COVIDhub-baseline/2021-06-14-CO...</td>\n",
       "      <td>COVIDhub-baseline</td>\n",
       "      <td>2021-06-14</td>\n",
       "      <td>2021-06-14</td>\n",
       "    </tr>\n",
       "  </tbody>\n",
       "</table>\n",
       "</div>"
      ],
      "text/plain": [
       "                                              filename              model  \\\n",
       "25   data-processed/AIpert-pwllnod/2021-06-14-AIper...     AIpert-pwllnod   \n",
       "74   data-processed/BPagano-RtDriven/2021-06-13-BPa...   BPagano-RtDriven   \n",
       "126  data-processed/CEID-Walk/2021-06-14-CEID-Walk.csv          CEID-Walk   \n",
       "174  data-processed/CMU-TimeSeries/2021-06-14-CMU-T...     CMU-TimeSeries   \n",
       "237  data-processed/COVIDhub-baseline/2021-06-14-CO...  COVIDhub-baseline   \n",
       "\n",
       "    forecast_date   timezero  \n",
       "25     2021-06-14 2021-06-14  \n",
       "74     2021-06-13 2021-06-14  \n",
       "126    2021-06-14 2021-06-14  \n",
       "174    2021-06-14 2021-06-14  \n",
       "237    2021-06-14 2021-06-14  "
      ]
     },
     "execution_count": 13,
     "metadata": {},
     "output_type": "execute_result"
    }
   ],
   "source": [
    "df_test_files.head()"
   ]
  },
  {
   "cell_type": "code",
   "execution_count": 14,
   "metadata": {
    "scrolled": true
   },
   "outputs": [
    {
     "data": {
      "application/vnd.jupyter.widget-view+json": {
       "model_id": "7657ce38b6fa46bfb1c62575199d6a5b",
       "version_major": 2,
       "version_minor": 0
      },
      "text/plain": [
       "  0%|          | 0/49 [00:00<?, ?it/s]"
      ]
     },
     "metadata": {},
     "output_type": "display_data"
    }
   ],
   "source": [
    "dfs_test = []\n",
    "\n",
    "for _, row in tqdm(df_test_files.iterrows(), total=df_test_files.shape[0]):\n",
    "    #print(row['filename'])\n",
    "    df_temp = pd.read_csv('https://github.com/reichlab/covid19-forecast-hub/raw/master/' + row['filename'],\n",
    "                         dtype=dtype, parse_dates=parse_dates)\n",
    "    df_temp = df_temp[df_temp.target.isin(VALID_TARGETS)]\n",
    "    df_temp['model'] = row['model']\n",
    "    dfs_test.append(df_temp)"
   ]
  },
  {
   "cell_type": "code",
   "execution_count": 15,
   "metadata": {},
   "outputs": [],
   "source": [
    "df_test = pd.concat(dfs_test)"
   ]
  },
  {
   "cell_type": "code",
   "execution_count": 16,
   "metadata": {},
   "outputs": [
    {
     "data": {
      "text/plain": [
       "(1673575, 8)"
      ]
     },
     "execution_count": 16,
     "metadata": {},
     "output_type": "execute_result"
    }
   ],
   "source": [
    "df_test.shape"
   ]
  },
  {
   "cell_type": "code",
   "execution_count": 17,
   "metadata": {},
   "outputs": [
    {
     "data": {
      "text/html": [
       "<div>\n",
       "<style scoped>\n",
       "    .dataframe tbody tr th:only-of-type {\n",
       "        vertical-align: middle;\n",
       "    }\n",
       "\n",
       "    .dataframe tbody tr th {\n",
       "        vertical-align: top;\n",
       "    }\n",
       "\n",
       "    .dataframe thead th {\n",
       "        text-align: right;\n",
       "    }\n",
       "</style>\n",
       "<table border=\"1\" class=\"dataframe\">\n",
       "  <thead>\n",
       "    <tr style=\"text-align: right;\">\n",
       "      <th></th>\n",
       "      <th>forecast_date</th>\n",
       "      <th>target</th>\n",
       "      <th>target_end_date</th>\n",
       "      <th>quantile</th>\n",
       "      <th>type</th>\n",
       "      <th>value</th>\n",
       "      <th>location</th>\n",
       "      <th>model</th>\n",
       "    </tr>\n",
       "  </thead>\n",
       "  <tbody>\n",
       "    <tr>\n",
       "      <th>0</th>\n",
       "      <td>2021-06-14</td>\n",
       "      <td>1 wk ahead cum death</td>\n",
       "      <td>2021-06-19</td>\n",
       "      <td>0.025</td>\n",
       "      <td>quantile</td>\n",
       "      <td>600794.136197</td>\n",
       "      <td>US</td>\n",
       "      <td>AIpert-pwllnod</td>\n",
       "    </tr>\n",
       "    <tr>\n",
       "      <th>1</th>\n",
       "      <td>2021-06-14</td>\n",
       "      <td>1 wk ahead cum death</td>\n",
       "      <td>2021-06-19</td>\n",
       "      <td>0.250</td>\n",
       "      <td>quantile</td>\n",
       "      <td>601872.560040</td>\n",
       "      <td>US</td>\n",
       "      <td>AIpert-pwllnod</td>\n",
       "    </tr>\n",
       "    <tr>\n",
       "      <th>2</th>\n",
       "      <td>2021-06-14</td>\n",
       "      <td>1 wk ahead cum death</td>\n",
       "      <td>2021-06-19</td>\n",
       "      <td>0.750</td>\n",
       "      <td>quantile</td>\n",
       "      <td>603207.473569</td>\n",
       "      <td>US</td>\n",
       "      <td>AIpert-pwllnod</td>\n",
       "    </tr>\n",
       "    <tr>\n",
       "      <th>3</th>\n",
       "      <td>2021-06-14</td>\n",
       "      <td>1 wk ahead cum death</td>\n",
       "      <td>2021-06-19</td>\n",
       "      <td>0.975</td>\n",
       "      <td>quantile</td>\n",
       "      <td>604673.181284</td>\n",
       "      <td>US</td>\n",
       "      <td>AIpert-pwllnod</td>\n",
       "    </tr>\n",
       "    <tr>\n",
       "      <th>4</th>\n",
       "      <td>2021-06-14</td>\n",
       "      <td>1 wk ahead cum death</td>\n",
       "      <td>2021-06-19</td>\n",
       "      <td>NaN</td>\n",
       "      <td>point</td>\n",
       "      <td>602438.412295</td>\n",
       "      <td>US</td>\n",
       "      <td>AIpert-pwllnod</td>\n",
       "    </tr>\n",
       "    <tr>\n",
       "      <th>...</th>\n",
       "      <td>...</td>\n",
       "      <td>...</td>\n",
       "      <td>...</td>\n",
       "      <td>...</td>\n",
       "      <td>...</td>\n",
       "      <td>...</td>\n",
       "      <td>...</td>\n",
       "      <td>...</td>\n",
       "    </tr>\n",
       "    <tr>\n",
       "      <th>10939</th>\n",
       "      <td>2021-06-14</td>\n",
       "      <td>4 wk ahead cum death</td>\n",
       "      <td>2021-07-10</td>\n",
       "      <td>0.850</td>\n",
       "      <td>quantile</td>\n",
       "      <td>610046.000000</td>\n",
       "      <td>US</td>\n",
       "      <td>epiforecasts-ensemble1</td>\n",
       "    </tr>\n",
       "    <tr>\n",
       "      <th>10940</th>\n",
       "      <td>2021-06-14</td>\n",
       "      <td>4 wk ahead cum death</td>\n",
       "      <td>2021-07-10</td>\n",
       "      <td>0.900</td>\n",
       "      <td>quantile</td>\n",
       "      <td>610626.000000</td>\n",
       "      <td>US</td>\n",
       "      <td>epiforecasts-ensemble1</td>\n",
       "    </tr>\n",
       "    <tr>\n",
       "      <th>10941</th>\n",
       "      <td>2021-06-14</td>\n",
       "      <td>4 wk ahead cum death</td>\n",
       "      <td>2021-07-10</td>\n",
       "      <td>0.950</td>\n",
       "      <td>quantile</td>\n",
       "      <td>611586.000000</td>\n",
       "      <td>US</td>\n",
       "      <td>epiforecasts-ensemble1</td>\n",
       "    </tr>\n",
       "    <tr>\n",
       "      <th>10942</th>\n",
       "      <td>2021-06-14</td>\n",
       "      <td>4 wk ahead cum death</td>\n",
       "      <td>2021-07-10</td>\n",
       "      <td>0.975</td>\n",
       "      <td>quantile</td>\n",
       "      <td>612661.000000</td>\n",
       "      <td>US</td>\n",
       "      <td>epiforecasts-ensemble1</td>\n",
       "    </tr>\n",
       "    <tr>\n",
       "      <th>10943</th>\n",
       "      <td>2021-06-14</td>\n",
       "      <td>4 wk ahead cum death</td>\n",
       "      <td>2021-07-10</td>\n",
       "      <td>0.990</td>\n",
       "      <td>quantile</td>\n",
       "      <td>614532.000000</td>\n",
       "      <td>US</td>\n",
       "      <td>epiforecasts-ensemble1</td>\n",
       "    </tr>\n",
       "  </tbody>\n",
       "</table>\n",
       "<p>1673575 rows × 8 columns</p>\n",
       "</div>"
      ],
      "text/plain": [
       "      forecast_date                target target_end_date  quantile      type  \\\n",
       "0        2021-06-14  1 wk ahead cum death      2021-06-19     0.025  quantile   \n",
       "1        2021-06-14  1 wk ahead cum death      2021-06-19     0.250  quantile   \n",
       "2        2021-06-14  1 wk ahead cum death      2021-06-19     0.750  quantile   \n",
       "3        2021-06-14  1 wk ahead cum death      2021-06-19     0.975  quantile   \n",
       "4        2021-06-14  1 wk ahead cum death      2021-06-19       NaN     point   \n",
       "...             ...                   ...             ...       ...       ...   \n",
       "10939    2021-06-14  4 wk ahead cum death      2021-07-10     0.850  quantile   \n",
       "10940    2021-06-14  4 wk ahead cum death      2021-07-10     0.900  quantile   \n",
       "10941    2021-06-14  4 wk ahead cum death      2021-07-10     0.950  quantile   \n",
       "10942    2021-06-14  4 wk ahead cum death      2021-07-10     0.975  quantile   \n",
       "10943    2021-06-14  4 wk ahead cum death      2021-07-10     0.990  quantile   \n",
       "\n",
       "               value location                   model  \n",
       "0      600794.136197       US          AIpert-pwllnod  \n",
       "1      601872.560040       US          AIpert-pwllnod  \n",
       "2      603207.473569       US          AIpert-pwllnod  \n",
       "3      604673.181284       US          AIpert-pwllnod  \n",
       "4      602438.412295       US          AIpert-pwllnod  \n",
       "...              ...      ...                     ...  \n",
       "10939  610046.000000       US  epiforecasts-ensemble1  \n",
       "10940  610626.000000       US  epiforecasts-ensemble1  \n",
       "10941  611586.000000       US  epiforecasts-ensemble1  \n",
       "10942  612661.000000       US  epiforecasts-ensemble1  \n",
       "10943  614532.000000       US  epiforecasts-ensemble1  \n",
       "\n",
       "[1673575 rows x 8 columns]"
      ]
     },
     "execution_count": 17,
     "metadata": {},
     "output_type": "execute_result"
    }
   ],
   "source": [
    "df_test"
   ]
  },
  {
   "cell_type": "code",
   "execution_count": 18,
   "metadata": {},
   "outputs": [],
   "source": [
    "# only consider US + 50 states\n",
    "df_test = df_test[df_test.location.str.len() == 2]\n",
    "df_test = df_test[~df_test.location.isin(locations_to_exclude)]"
   ]
  },
  {
   "cell_type": "code",
   "execution_count": 19,
   "metadata": {},
   "outputs": [
    {
     "data": {
      "text/plain": [
       "(347900, 8)"
      ]
     },
     "execution_count": 19,
     "metadata": {},
     "output_type": "execute_result"
    }
   ],
   "source": [
    "df_test.shape"
   ]
  },
  {
   "cell_type": "code",
   "execution_count": 20,
   "metadata": {},
   "outputs": [
    {
     "data": {
      "text/plain": [
       "52"
      ]
     },
     "execution_count": 20,
     "metadata": {},
     "output_type": "execute_result"
    }
   ],
   "source": [
    "df_test.location.nunique()"
   ]
  },
  {
   "cell_type": "code",
   "execution_count": 21,
   "metadata": {},
   "outputs": [],
   "source": [
    "# ensure that for all targets each model provides forecasts for all locations\n",
    "df_test = df_test[df_test.groupby(['target', 'model'])['location'].transform('nunique') == 52]"
   ]
  },
  {
   "cell_type": "code",
   "execution_count": 22,
   "metadata": {},
   "outputs": [],
   "source": [
    "df_test = df_test[df_test.type == 'quantile']"
   ]
  },
  {
   "cell_type": "code",
   "execution_count": 23,
   "metadata": {},
   "outputs": [],
   "source": [
    "df_test['no_quantiles'] = df_test.groupby(['model', 'target', 'target_end_date', 'location'])['quantile'].transform('nunique')\n",
    "\n",
    "df_test['no_quantiles'] = df_test.groupby(['target', 'model'])['no_quantiles'].transform('min')"
   ]
  },
  {
   "cell_type": "code",
   "execution_count": 24,
   "metadata": {},
   "outputs": [],
   "source": [
    "df_test = df_test[(df_test.no_quantiles == 23) | \n",
    "        (df_test.target.str.contains('inc case') & (df_test.no_quantiles == 7))].drop(columns='no_quantiles').reset_index(drop=True)"
   ]
  },
  {
   "cell_type": "code",
   "execution_count": 25,
   "metadata": {},
   "outputs": [
    {
     "data": {
      "text/plain": [
       "(255840, 8)"
      ]
     },
     "execution_count": 25,
     "metadata": {},
     "output_type": "execute_result"
    }
   ],
   "source": [
    "df_test.shape"
   ]
  },
  {
   "cell_type": "code",
   "execution_count": 26,
   "metadata": {},
   "outputs": [],
   "source": [
    "# dict of the models available for each target\n",
    "available_models = dict(df_test.groupby(['target'])['model'].unique())"
   ]
  },
  {
   "cell_type": "code",
   "execution_count": 27,
   "metadata": {},
   "outputs": [
    {
     "data": {
      "text/plain": [
       "{'1 wk ahead cum death': array(['BPagano-RtDriven', 'CEID-Walk', 'COVIDhub-baseline', 'CU-select',\n",
       "        'Covid19Sim-Simulator', 'CovidAnalytics-DELPHI', 'IHME-CurveFit',\n",
       "        'JHUAPL-Bucky', 'JHU_CSSE-DECOM', 'JHU_IDD-CovidSP', 'Karlen-pypm',\n",
       "        'LANL-GrowthRate', 'MIT_CritData-GBCF', 'Microsoft-DeepSTIA',\n",
       "        'OliverWyman-Navigator', 'PSI-DRAFT', 'RobertWalraven-ESG',\n",
       "        'SteveMcConnell-CovidComplete', 'UA-EpiCovDA', 'UCLA-SuEIR',\n",
       "        'UMass-MechBayes', 'USC-SI_kJalpha', 'epiforecasts-ensemble1'],\n",
       "       dtype=object),\n",
       " '1 wk ahead inc case': array(['BPagano-RtDriven', 'CEID-Walk', 'COVIDhub-baseline', 'CU-select',\n",
       "        'Covid19Sim-Simulator', 'CovidAnalytics-DELPHI',\n",
       "        'IEM_MED-CovidProject', 'JHUAPL-Bucky', 'JHU_CSSE-DECOM',\n",
       "        'JHU_IDD-CovidSP', 'Karlen-pypm', 'LANL-GrowthRate', 'MUNI-ARIMA',\n",
       "        'Microsoft-DeepSTIA', 'RobertWalraven-ESG', 'UCLA-SuEIR',\n",
       "        'USC-SI_kJalpha', 'UVA-Ensemble'], dtype=object),\n",
       " '1 wk ahead inc death': array(['BPagano-RtDriven', 'CEID-Walk', 'COVIDhub-baseline', 'CU-select',\n",
       "        'Covid19Sim-Simulator', 'CovidAnalytics-DELPHI',\n",
       "        'IEM_MED-CovidProject', 'IHME-CurveFit', 'JHUAPL-Bucky',\n",
       "        'JHU_CSSE-DECOM', 'JHU_IDD-CovidSP', 'Karlen-pypm',\n",
       "        'LANL-GrowthRate', 'MIT_CritData-GBCF', 'MUNI-ARIMA',\n",
       "        'Microsoft-DeepSTIA', 'OliverWyman-Navigator', 'PSI-DRAFT',\n",
       "        'RobertWalraven-ESG', 'SteveMcConnell-CovidComplete',\n",
       "        'UA-EpiCovDA', 'UCLA-SuEIR', 'UMass-MechBayes', 'USC-SI_kJalpha',\n",
       "        'epiforecasts-ensemble1'], dtype=object),\n",
       " '2 wk ahead cum death': array(['BPagano-RtDriven', 'CEID-Walk', 'COVIDhub-baseline', 'CU-select',\n",
       "        'Covid19Sim-Simulator', 'CovidAnalytics-DELPHI', 'IHME-CurveFit',\n",
       "        'JHUAPL-Bucky', 'JHU_CSSE-DECOM', 'JHU_IDD-CovidSP', 'Karlen-pypm',\n",
       "        'LANL-GrowthRate', 'MIT_CritData-GBCF', 'Microsoft-DeepSTIA',\n",
       "        'OliverWyman-Navigator', 'PSI-DRAFT', 'RobertWalraven-ESG',\n",
       "        'SteveMcConnell-CovidComplete', 'UA-EpiCovDA', 'UCLA-SuEIR',\n",
       "        'UMass-MechBayes', 'USC-SI_kJalpha', 'epiforecasts-ensemble1'],\n",
       "       dtype=object),\n",
       " '2 wk ahead inc case': array(['BPagano-RtDriven', 'CEID-Walk', 'COVIDhub-baseline', 'CU-select',\n",
       "        'Covid19Sim-Simulator', 'CovidAnalytics-DELPHI',\n",
       "        'IEM_MED-CovidProject', 'JHUAPL-Bucky', 'JHU_CSSE-DECOM',\n",
       "        'JHU_IDD-CovidSP', 'Karlen-pypm', 'LANL-GrowthRate', 'MUNI-ARIMA',\n",
       "        'Microsoft-DeepSTIA', 'RobertWalraven-ESG', 'UCLA-SuEIR',\n",
       "        'USC-SI_kJalpha', 'UVA-Ensemble'], dtype=object),\n",
       " '2 wk ahead inc death': array(['BPagano-RtDriven', 'CEID-Walk', 'COVIDhub-baseline', 'CU-select',\n",
       "        'Covid19Sim-Simulator', 'CovidAnalytics-DELPHI',\n",
       "        'IEM_MED-CovidProject', 'IHME-CurveFit', 'JHUAPL-Bucky',\n",
       "        'JHU_CSSE-DECOM', 'JHU_IDD-CovidSP', 'Karlen-pypm',\n",
       "        'LANL-GrowthRate', 'MIT_CritData-GBCF', 'MUNI-ARIMA',\n",
       "        'Microsoft-DeepSTIA', 'OliverWyman-Navigator', 'PSI-DRAFT',\n",
       "        'RobertWalraven-ESG', 'SteveMcConnell-CovidComplete',\n",
       "        'UA-EpiCovDA', 'UCLA-SuEIR', 'UMass-MechBayes', 'USC-SI_kJalpha',\n",
       "        'epiforecasts-ensemble1'], dtype=object),\n",
       " '3 wk ahead cum death': array(['BPagano-RtDriven', 'CEID-Walk', 'COVIDhub-baseline', 'CU-select',\n",
       "        'Covid19Sim-Simulator', 'CovidAnalytics-DELPHI', 'IHME-CurveFit',\n",
       "        'JHUAPL-Bucky', 'JHU_CSSE-DECOM', 'JHU_IDD-CovidSP', 'Karlen-pypm',\n",
       "        'LANL-GrowthRate', 'MIT_CritData-GBCF', 'Microsoft-DeepSTIA',\n",
       "        'OliverWyman-Navigator', 'PSI-DRAFT', 'RobertWalraven-ESG',\n",
       "        'SteveMcConnell-CovidComplete', 'UA-EpiCovDA', 'UCLA-SuEIR',\n",
       "        'UMass-MechBayes', 'USC-SI_kJalpha', 'epiforecasts-ensemble1'],\n",
       "       dtype=object),\n",
       " '3 wk ahead inc case': array(['BPagano-RtDriven', 'CEID-Walk', 'COVIDhub-baseline', 'CU-select',\n",
       "        'Covid19Sim-Simulator', 'CovidAnalytics-DELPHI',\n",
       "        'IEM_MED-CovidProject', 'JHUAPL-Bucky', 'JHU_CSSE-DECOM',\n",
       "        'JHU_IDD-CovidSP', 'Karlen-pypm', 'LANL-GrowthRate', 'MUNI-ARIMA',\n",
       "        'Microsoft-DeepSTIA', 'RobertWalraven-ESG', 'UCLA-SuEIR',\n",
       "        'USC-SI_kJalpha', 'UVA-Ensemble'], dtype=object),\n",
       " '3 wk ahead inc death': array(['BPagano-RtDriven', 'CEID-Walk', 'COVIDhub-baseline', 'CU-select',\n",
       "        'Covid19Sim-Simulator', 'CovidAnalytics-DELPHI',\n",
       "        'IEM_MED-CovidProject', 'IHME-CurveFit', 'JHUAPL-Bucky',\n",
       "        'JHU_CSSE-DECOM', 'JHU_IDD-CovidSP', 'Karlen-pypm',\n",
       "        'LANL-GrowthRate', 'MIT_CritData-GBCF', 'MUNI-ARIMA',\n",
       "        'Microsoft-DeepSTIA', 'OliverWyman-Navigator', 'PSI-DRAFT',\n",
       "        'RobertWalraven-ESG', 'SteveMcConnell-CovidComplete',\n",
       "        'UA-EpiCovDA', 'UCLA-SuEIR', 'UMass-MechBayes', 'USC-SI_kJalpha',\n",
       "        'epiforecasts-ensemble1'], dtype=object),\n",
       " '4 wk ahead cum death': array(['BPagano-RtDriven', 'CEID-Walk', 'COVIDhub-baseline', 'CU-select',\n",
       "        'Covid19Sim-Simulator', 'CovidAnalytics-DELPHI', 'IHME-CurveFit',\n",
       "        'JHUAPL-Bucky', 'JHU_CSSE-DECOM', 'JHU_IDD-CovidSP', 'Karlen-pypm',\n",
       "        'LANL-GrowthRate', 'MIT_CritData-GBCF', 'Microsoft-DeepSTIA',\n",
       "        'OliverWyman-Navigator', 'PSI-DRAFT', 'RobertWalraven-ESG',\n",
       "        'SteveMcConnell-CovidComplete', 'UA-EpiCovDA', 'UCLA-SuEIR',\n",
       "        'UMass-MechBayes', 'USC-SI_kJalpha', 'epiforecasts-ensemble1'],\n",
       "       dtype=object),\n",
       " '4 wk ahead inc case': array(['BPagano-RtDriven', 'CEID-Walk', 'COVIDhub-baseline', 'CU-select',\n",
       "        'Covid19Sim-Simulator', 'CovidAnalytics-DELPHI',\n",
       "        'IEM_MED-CovidProject', 'JHUAPL-Bucky', 'JHU_CSSE-DECOM',\n",
       "        'JHU_IDD-CovidSP', 'Karlen-pypm', 'LANL-GrowthRate', 'MUNI-ARIMA',\n",
       "        'Microsoft-DeepSTIA', 'RobertWalraven-ESG', 'UCLA-SuEIR',\n",
       "        'USC-SI_kJalpha', 'UVA-Ensemble'], dtype=object),\n",
       " '4 wk ahead inc death': array(['BPagano-RtDriven', 'CEID-Walk', 'COVIDhub-baseline', 'CU-select',\n",
       "        'Covid19Sim-Simulator', 'CovidAnalytics-DELPHI',\n",
       "        'IEM_MED-CovidProject', 'IHME-CurveFit', 'JHUAPL-Bucky',\n",
       "        'JHU_CSSE-DECOM', 'JHU_IDD-CovidSP', 'Karlen-pypm',\n",
       "        'LANL-GrowthRate', 'MIT_CritData-GBCF', 'MUNI-ARIMA',\n",
       "        'Microsoft-DeepSTIA', 'OliverWyman-Navigator', 'PSI-DRAFT',\n",
       "        'RobertWalraven-ESG', 'SteveMcConnell-CovidComplete',\n",
       "        'UA-EpiCovDA', 'UCLA-SuEIR', 'UMass-MechBayes', 'USC-SI_kJalpha',\n",
       "        'epiforecasts-ensemble1'], dtype=object)}"
      ]
     },
     "execution_count": 27,
     "metadata": {},
     "output_type": "execute_result"
    }
   ],
   "source": [
    "available_models"
   ]
  },
  {
   "cell_type": "markdown",
   "metadata": {},
   "source": [
    "## Training Data"
   ]
  },
  {
   "cell_type": "markdown",
   "metadata": {},
   "source": [
    "d - 4 weeks - (horizon - 1) --> end: d - horizon"
   ]
  },
  {
   "cell_type": "code",
   "execution_count": 28,
   "metadata": {},
   "outputs": [],
   "source": [
    "lower_bound = test_date - pd.Timedelta(weeks=4) - pd.Timedelta(weeks=(4 - 1))"
   ]
  },
  {
   "cell_type": "code",
   "execution_count": 29,
   "metadata": {},
   "outputs": [
    {
     "data": {
      "text/plain": [
       "Timestamp('2021-04-26 00:00:00')"
      ]
     },
     "execution_count": 29,
     "metadata": {},
     "output_type": "execute_result"
    }
   ],
   "source": [
    "lower_bound"
   ]
  },
  {
   "cell_type": "code",
   "execution_count": 30,
   "metadata": {},
   "outputs": [],
   "source": [
    "df_files = df_files[(df_files.timezero >= lower_bound) & (df_files.timezero < test_date)].copy()"
   ]
  },
  {
   "cell_type": "code",
   "execution_count": 31,
   "metadata": {},
   "outputs": [],
   "source": [
    "# assigns to each horizon the corresponding training forecast dates for the test date\n",
    "h_dict = {}\n",
    "for h in range(1, 5):\n",
    "    h_dict[h] = [test_date - pd.Timedelta(weeks=4) - pd.Timedelta(weeks=(h - 1)), \n",
    "                 test_date - pd.Timedelta(weeks=h)]"
   ]
  },
  {
   "cell_type": "code",
   "execution_count": 32,
   "metadata": {
    "scrolled": false
   },
   "outputs": [
    {
     "data": {
      "text/plain": [
       "{1: [Timestamp('2021-05-17 00:00:00'), Timestamp('2021-06-07 00:00:00')],\n",
       " 2: [Timestamp('2021-05-10 00:00:00'), Timestamp('2021-05-31 00:00:00')],\n",
       " 3: [Timestamp('2021-05-03 00:00:00'), Timestamp('2021-05-24 00:00:00')],\n",
       " 4: [Timestamp('2021-04-26 00:00:00'), Timestamp('2021-05-17 00:00:00')]}"
      ]
     },
     "execution_count": 32,
     "metadata": {},
     "output_type": "execute_result"
    }
   ],
   "source": [
    "h_dict"
   ]
  },
  {
   "cell_type": "code",
   "execution_count": 33,
   "metadata": {},
   "outputs": [],
   "source": [
    "def relevant_horizons(d):\n",
    "    hs = []\n",
    "    for h in range(1, 5):\n",
    "        if((d >= h_dict[h][0]) & (d <= h_dict[h][1])):\n",
    "            hs.append(h)\n",
    "    return hs"
   ]
  },
  {
   "cell_type": "code",
   "execution_count": 34,
   "metadata": {},
   "outputs": [],
   "source": [
    "df_files['horizons'] = df_files.timezero.apply(relevant_horizons)"
   ]
  },
  {
   "cell_type": "code",
   "execution_count": 35,
   "metadata": {},
   "outputs": [
    {
     "data": {
      "text/html": [
       "<div>\n",
       "<style scoped>\n",
       "    .dataframe tbody tr th:only-of-type {\n",
       "        vertical-align: middle;\n",
       "    }\n",
       "\n",
       "    .dataframe tbody tr th {\n",
       "        vertical-align: top;\n",
       "    }\n",
       "\n",
       "    .dataframe thead th {\n",
       "        text-align: right;\n",
       "    }\n",
       "</style>\n",
       "<table border=\"1\" class=\"dataframe\">\n",
       "  <thead>\n",
       "    <tr style=\"text-align: right;\">\n",
       "      <th></th>\n",
       "      <th>filename</th>\n",
       "      <th>model</th>\n",
       "      <th>forecast_date</th>\n",
       "      <th>timezero</th>\n",
       "      <th>horizons</th>\n",
       "    </tr>\n",
       "  </thead>\n",
       "  <tbody>\n",
       "    <tr>\n",
       "      <th>18</th>\n",
       "      <td>data-processed/AIpert-pwllnod/2021-04-26-AIper...</td>\n",
       "      <td>AIpert-pwllnod</td>\n",
       "      <td>2021-04-26</td>\n",
       "      <td>2021-04-26</td>\n",
       "      <td>[4]</td>\n",
       "    </tr>\n",
       "    <tr>\n",
       "      <th>19</th>\n",
       "      <td>data-processed/AIpert-pwllnod/2021-05-03-AIper...</td>\n",
       "      <td>AIpert-pwllnod</td>\n",
       "      <td>2021-05-03</td>\n",
       "      <td>2021-05-03</td>\n",
       "      <td>[3, 4]</td>\n",
       "    </tr>\n",
       "    <tr>\n",
       "      <th>20</th>\n",
       "      <td>data-processed/AIpert-pwllnod/2021-05-10-AIper...</td>\n",
       "      <td>AIpert-pwllnod</td>\n",
       "      <td>2021-05-10</td>\n",
       "      <td>2021-05-10</td>\n",
       "      <td>[2, 3, 4]</td>\n",
       "    </tr>\n",
       "    <tr>\n",
       "      <th>21</th>\n",
       "      <td>data-processed/AIpert-pwllnod/2021-05-17-AIper...</td>\n",
       "      <td>AIpert-pwllnod</td>\n",
       "      <td>2021-05-17</td>\n",
       "      <td>2021-05-17</td>\n",
       "      <td>[1, 2, 3, 4]</td>\n",
       "    </tr>\n",
       "    <tr>\n",
       "      <th>22</th>\n",
       "      <td>data-processed/AIpert-pwllnod/2021-05-24-AIper...</td>\n",
       "      <td>AIpert-pwllnod</td>\n",
       "      <td>2021-05-24</td>\n",
       "      <td>2021-05-24</td>\n",
       "      <td>[1, 2, 3]</td>\n",
       "    </tr>\n",
       "    <tr>\n",
       "      <th>...</th>\n",
       "      <td>...</td>\n",
       "      <td>...</td>\n",
       "      <td>...</td>\n",
       "      <td>...</td>\n",
       "      <td>...</td>\n",
       "    </tr>\n",
       "    <tr>\n",
       "      <th>3669</th>\n",
       "      <td>data-processed/epiforecasts-ensemble1/2021-05-...</td>\n",
       "      <td>epiforecasts-ensemble1</td>\n",
       "      <td>2021-05-10</td>\n",
       "      <td>2021-05-10</td>\n",
       "      <td>[2, 3, 4]</td>\n",
       "    </tr>\n",
       "    <tr>\n",
       "      <th>3670</th>\n",
       "      <td>data-processed/epiforecasts-ensemble1/2021-05-...</td>\n",
       "      <td>epiforecasts-ensemble1</td>\n",
       "      <td>2021-05-17</td>\n",
       "      <td>2021-05-17</td>\n",
       "      <td>[1, 2, 3, 4]</td>\n",
       "    </tr>\n",
       "    <tr>\n",
       "      <th>3671</th>\n",
       "      <td>data-processed/epiforecasts-ensemble1/2021-05-...</td>\n",
       "      <td>epiforecasts-ensemble1</td>\n",
       "      <td>2021-05-24</td>\n",
       "      <td>2021-05-24</td>\n",
       "      <td>[1, 2, 3]</td>\n",
       "    </tr>\n",
       "    <tr>\n",
       "      <th>3672</th>\n",
       "      <td>data-processed/epiforecasts-ensemble1/2021-05-...</td>\n",
       "      <td>epiforecasts-ensemble1</td>\n",
       "      <td>2021-05-31</td>\n",
       "      <td>2021-05-31</td>\n",
       "      <td>[1, 2]</td>\n",
       "    </tr>\n",
       "    <tr>\n",
       "      <th>3673</th>\n",
       "      <td>data-processed/epiforecasts-ensemble1/2021-06-...</td>\n",
       "      <td>epiforecasts-ensemble1</td>\n",
       "      <td>2021-06-07</td>\n",
       "      <td>2021-06-07</td>\n",
       "      <td>[1]</td>\n",
       "    </tr>\n",
       "  </tbody>\n",
       "</table>\n",
       "<p>404 rows × 5 columns</p>\n",
       "</div>"
      ],
      "text/plain": [
       "                                               filename  \\\n",
       "18    data-processed/AIpert-pwllnod/2021-04-26-AIper...   \n",
       "19    data-processed/AIpert-pwllnod/2021-05-03-AIper...   \n",
       "20    data-processed/AIpert-pwllnod/2021-05-10-AIper...   \n",
       "21    data-processed/AIpert-pwllnod/2021-05-17-AIper...   \n",
       "22    data-processed/AIpert-pwllnod/2021-05-24-AIper...   \n",
       "...                                                 ...   \n",
       "3669  data-processed/epiforecasts-ensemble1/2021-05-...   \n",
       "3670  data-processed/epiforecasts-ensemble1/2021-05-...   \n",
       "3671  data-processed/epiforecasts-ensemble1/2021-05-...   \n",
       "3672  data-processed/epiforecasts-ensemble1/2021-05-...   \n",
       "3673  data-processed/epiforecasts-ensemble1/2021-06-...   \n",
       "\n",
       "                       model forecast_date   timezero      horizons  \n",
       "18            AIpert-pwllnod    2021-04-26 2021-04-26           [4]  \n",
       "19            AIpert-pwllnod    2021-05-03 2021-05-03        [3, 4]  \n",
       "20            AIpert-pwllnod    2021-05-10 2021-05-10     [2, 3, 4]  \n",
       "21            AIpert-pwllnod    2021-05-17 2021-05-17  [1, 2, 3, 4]  \n",
       "22            AIpert-pwllnod    2021-05-24 2021-05-24     [1, 2, 3]  \n",
       "...                      ...           ...        ...           ...  \n",
       "3669  epiforecasts-ensemble1    2021-05-10 2021-05-10     [2, 3, 4]  \n",
       "3670  epiforecasts-ensemble1    2021-05-17 2021-05-17  [1, 2, 3, 4]  \n",
       "3671  epiforecasts-ensemble1    2021-05-24 2021-05-24     [1, 2, 3]  \n",
       "3672  epiforecasts-ensemble1    2021-05-31 2021-05-31        [1, 2]  \n",
       "3673  epiforecasts-ensemble1    2021-06-07 2021-06-07           [1]  \n",
       "\n",
       "[404 rows x 5 columns]"
      ]
     },
     "execution_count": 35,
     "metadata": {},
     "output_type": "execute_result"
    }
   ],
   "source": [
    "df_files"
   ]
  },
  {
   "cell_type": "code",
   "execution_count": 36,
   "metadata": {},
   "outputs": [],
   "source": [
    "# only keep relevant training data\n",
    "df_files = df_files[df_files.horizons.apply(len) > 0]"
   ]
  },
  {
   "cell_type": "code",
   "execution_count": 37,
   "metadata": {
    "scrolled": true
   },
   "outputs": [
    {
     "data": {
      "application/vnd.jupyter.widget-view+json": {
       "model_id": "fcce198b69a14842b270251298f3be73",
       "version_major": 2,
       "version_minor": 0
      },
      "text/plain": [
       "  0%|          | 0/404 [00:00<?, ?it/s]"
      ]
     },
     "metadata": {},
     "output_type": "display_data"
    }
   ],
   "source": [
    "dfs = []\n",
    "for _, row in tqdm(df_files.iterrows(), total=df_files.shape[0]):\n",
    "    VALID_TARGETS = [f\"{_} wk ahead inc death\" for _ in row['horizons']] + \\\n",
    "                    [f\"{_} wk ahead cum death\" for _ in row['horizons']] + \\\n",
    "                    [f\"{_} wk ahead inc case\" for _ in row['horizons']]\n",
    "    df_temp = pd.read_csv('https://github.com/reichlab/covid19-forecast-hub/raw/master/' + row['filename'],\n",
    "                         dtype=dtype, parse_dates=parse_dates)\n",
    "    df_temp = df_temp[df_temp.target.isin(VALID_TARGETS)]\n",
    "    df_temp['model'] = row['model']\n",
    "    dfs.append(df_temp)"
   ]
  },
  {
   "cell_type": "code",
   "execution_count": 38,
   "metadata": {},
   "outputs": [],
   "source": [
    "df = pd.concat(dfs)"
   ]
  },
  {
   "cell_type": "code",
   "execution_count": 39,
   "metadata": {},
   "outputs": [
    {
     "data": {
      "text/plain": [
       "(9041809, 8)"
      ]
     },
     "execution_count": 39,
     "metadata": {},
     "output_type": "execute_result"
    }
   ],
   "source": [
    "df.shape"
   ]
  },
  {
   "cell_type": "markdown",
   "metadata": {},
   "source": [
    "# Data Cleaning"
   ]
  },
  {
   "cell_type": "code",
   "execution_count": 40,
   "metadata": {},
   "outputs": [],
   "source": [
    "df = df[df.location.str.len() == 2]\n",
    "df = df[~df.location.isin(locations_to_exclude)]"
   ]
  },
  {
   "cell_type": "code",
   "execution_count": 41,
   "metadata": {},
   "outputs": [
    {
     "data": {
      "text/plain": [
       "52"
      ]
     },
     "execution_count": 41,
     "metadata": {},
     "output_type": "execute_result"
    }
   ],
   "source": [
    "df.location.nunique() # US + 50 states + district of Columbia"
   ]
  },
  {
   "cell_type": "code",
   "execution_count": 42,
   "metadata": {},
   "outputs": [],
   "source": [
    "df = df[df.type == 'quantile']"
   ]
  },
  {
   "cell_type": "code",
   "execution_count": 43,
   "metadata": {},
   "outputs": [],
   "source": [
    "# how many forecasts for each target/model/location? should be 4 for every location\n",
    "df['no_forecasts'] = df.groupby(['target', 'model', 'location'])['target_end_date'].transform('nunique')"
   ]
  },
  {
   "cell_type": "code",
   "execution_count": 44,
   "metadata": {},
   "outputs": [],
   "source": [
    "df = df[df.groupby(['target', 'model'])['no_forecasts'].transform('min') == 4].drop(columns='no_forecasts').reset_index(drop=True)"
   ]
  },
  {
   "cell_type": "code",
   "execution_count": 45,
   "metadata": {},
   "outputs": [],
   "source": [
    "# df = df[df.groupby(['target', 'model', 'location'])['target_end_date'].transform('nunique') == 4]\n",
    "# would only remove the respective location with <4 forecasts, but we want to remove the model as a whole if in one location <4"
   ]
  },
  {
   "cell_type": "code",
   "execution_count": 46,
   "metadata": {},
   "outputs": [],
   "source": [
    "df = df[df.groupby(['target', 'model', 'target_end_date'])['location'].transform('nunique') == 52]"
   ]
  },
  {
   "cell_type": "code",
   "execution_count": 47,
   "metadata": {},
   "outputs": [],
   "source": [
    "df['no_quantiles'] = df.groupby(['model', 'target', 'target_end_date', 'location'])['quantile'].transform('nunique')\n",
    "\n",
    "df['no_quantiles'] = df.groupby(['target', 'model'])['no_quantiles'].transform('min')"
   ]
  },
  {
   "cell_type": "code",
   "execution_count": 48,
   "metadata": {},
   "outputs": [
    {
     "data": {
      "text/html": [
       "<div>\n",
       "<style scoped>\n",
       "    .dataframe tbody tr th:only-of-type {\n",
       "        vertical-align: middle;\n",
       "    }\n",
       "\n",
       "    .dataframe tbody tr th {\n",
       "        vertical-align: top;\n",
       "    }\n",
       "\n",
       "    .dataframe thead th {\n",
       "        text-align: right;\n",
       "    }\n",
       "</style>\n",
       "<table border=\"1\" class=\"dataframe\">\n",
       "  <thead>\n",
       "    <tr style=\"text-align: right;\">\n",
       "      <th></th>\n",
       "      <th>forecast_date</th>\n",
       "      <th>target</th>\n",
       "      <th>target_end_date</th>\n",
       "      <th>quantile</th>\n",
       "      <th>type</th>\n",
       "      <th>value</th>\n",
       "      <th>location</th>\n",
       "      <th>model</th>\n",
       "      <th>no_quantiles</th>\n",
       "    </tr>\n",
       "  </thead>\n",
       "  <tbody>\n",
       "    <tr>\n",
       "      <th>9048</th>\n",
       "      <td>2021-04-25</td>\n",
       "      <td>4 wk ahead inc case</td>\n",
       "      <td>2021-05-22</td>\n",
       "      <td>0.025</td>\n",
       "      <td>quantile</td>\n",
       "      <td>158320.473030</td>\n",
       "      <td>US</td>\n",
       "      <td>BPagano-RtDriven</td>\n",
       "      <td>7</td>\n",
       "    </tr>\n",
       "    <tr>\n",
       "      <th>9049</th>\n",
       "      <td>2021-04-25</td>\n",
       "      <td>4 wk ahead inc case</td>\n",
       "      <td>2021-05-22</td>\n",
       "      <td>0.100</td>\n",
       "      <td>quantile</td>\n",
       "      <td>237995.058120</td>\n",
       "      <td>US</td>\n",
       "      <td>BPagano-RtDriven</td>\n",
       "      <td>7</td>\n",
       "    </tr>\n",
       "    <tr>\n",
       "      <th>9050</th>\n",
       "      <td>2021-04-25</td>\n",
       "      <td>4 wk ahead inc case</td>\n",
       "      <td>2021-05-22</td>\n",
       "      <td>0.250</td>\n",
       "      <td>quantile</td>\n",
       "      <td>310403.394940</td>\n",
       "      <td>US</td>\n",
       "      <td>BPagano-RtDriven</td>\n",
       "      <td>7</td>\n",
       "    </tr>\n",
       "    <tr>\n",
       "      <th>9051</th>\n",
       "      <td>2021-04-25</td>\n",
       "      <td>4 wk ahead inc case</td>\n",
       "      <td>2021-05-22</td>\n",
       "      <td>0.500</td>\n",
       "      <td>quantile</td>\n",
       "      <td>391120.425560</td>\n",
       "      <td>US</td>\n",
       "      <td>BPagano-RtDriven</td>\n",
       "      <td>7</td>\n",
       "    </tr>\n",
       "    <tr>\n",
       "      <th>9052</th>\n",
       "      <td>2021-04-25</td>\n",
       "      <td>4 wk ahead inc case</td>\n",
       "      <td>2021-05-22</td>\n",
       "      <td>0.750</td>\n",
       "      <td>quantile</td>\n",
       "      <td>471837.456190</td>\n",
       "      <td>US</td>\n",
       "      <td>BPagano-RtDriven</td>\n",
       "      <td>7</td>\n",
       "    </tr>\n",
       "    <tr>\n",
       "      <th>...</th>\n",
       "      <td>...</td>\n",
       "      <td>...</td>\n",
       "      <td>...</td>\n",
       "      <td>...</td>\n",
       "      <td>...</td>\n",
       "      <td>...</td>\n",
       "      <td>...</td>\n",
       "      <td>...</td>\n",
       "      <td>...</td>\n",
       "    </tr>\n",
       "    <tr>\n",
       "      <th>1121495</th>\n",
       "      <td>2021-06-07</td>\n",
       "      <td>1 wk ahead inc case</td>\n",
       "      <td>2021-06-12</td>\n",
       "      <td>0.250</td>\n",
       "      <td>quantile</td>\n",
       "      <td>41502.813436</td>\n",
       "      <td>US</td>\n",
       "      <td>UVA-Ensemble</td>\n",
       "      <td>7</td>\n",
       "    </tr>\n",
       "    <tr>\n",
       "      <th>1121496</th>\n",
       "      <td>2021-06-07</td>\n",
       "      <td>1 wk ahead inc case</td>\n",
       "      <td>2021-06-12</td>\n",
       "      <td>0.500</td>\n",
       "      <td>quantile</td>\n",
       "      <td>88649.783327</td>\n",
       "      <td>US</td>\n",
       "      <td>UVA-Ensemble</td>\n",
       "      <td>7</td>\n",
       "    </tr>\n",
       "    <tr>\n",
       "      <th>1121497</th>\n",
       "      <td>2021-06-07</td>\n",
       "      <td>1 wk ahead inc case</td>\n",
       "      <td>2021-06-12</td>\n",
       "      <td>0.750</td>\n",
       "      <td>quantile</td>\n",
       "      <td>135796.753219</td>\n",
       "      <td>US</td>\n",
       "      <td>UVA-Ensemble</td>\n",
       "      <td>7</td>\n",
       "    </tr>\n",
       "    <tr>\n",
       "      <th>1121498</th>\n",
       "      <td>2021-06-07</td>\n",
       "      <td>1 wk ahead inc case</td>\n",
       "      <td>2021-06-12</td>\n",
       "      <td>0.900</td>\n",
       "      <td>quantile</td>\n",
       "      <td>178230.496834</td>\n",
       "      <td>US</td>\n",
       "      <td>UVA-Ensemble</td>\n",
       "      <td>7</td>\n",
       "    </tr>\n",
       "    <tr>\n",
       "      <th>1121499</th>\n",
       "      <td>2021-06-07</td>\n",
       "      <td>1 wk ahead inc case</td>\n",
       "      <td>2021-06-12</td>\n",
       "      <td>0.975</td>\n",
       "      <td>quantile</td>\n",
       "      <td>225651.662067</td>\n",
       "      <td>US</td>\n",
       "      <td>UVA-Ensemble</td>\n",
       "      <td>7</td>\n",
       "    </tr>\n",
       "  </tbody>\n",
       "</table>\n",
       "<p>111384 rows × 9 columns</p>\n",
       "</div>"
      ],
      "text/plain": [
       "        forecast_date               target target_end_date  quantile  \\\n",
       "9048       2021-04-25  4 wk ahead inc case      2021-05-22     0.025   \n",
       "9049       2021-04-25  4 wk ahead inc case      2021-05-22     0.100   \n",
       "9050       2021-04-25  4 wk ahead inc case      2021-05-22     0.250   \n",
       "9051       2021-04-25  4 wk ahead inc case      2021-05-22     0.500   \n",
       "9052       2021-04-25  4 wk ahead inc case      2021-05-22     0.750   \n",
       "...               ...                  ...             ...       ...   \n",
       "1121495    2021-06-07  1 wk ahead inc case      2021-06-12     0.250   \n",
       "1121496    2021-06-07  1 wk ahead inc case      2021-06-12     0.500   \n",
       "1121497    2021-06-07  1 wk ahead inc case      2021-06-12     0.750   \n",
       "1121498    2021-06-07  1 wk ahead inc case      2021-06-12     0.900   \n",
       "1121499    2021-06-07  1 wk ahead inc case      2021-06-12     0.975   \n",
       "\n",
       "             type          value location             model  no_quantiles  \n",
       "9048     quantile  158320.473030       US  BPagano-RtDriven             7  \n",
       "9049     quantile  237995.058120       US  BPagano-RtDriven             7  \n",
       "9050     quantile  310403.394940       US  BPagano-RtDriven             7  \n",
       "9051     quantile  391120.425560       US  BPagano-RtDriven             7  \n",
       "9052     quantile  471837.456190       US  BPagano-RtDriven             7  \n",
       "...           ...            ...      ...               ...           ...  \n",
       "1121495  quantile   41502.813436       US      UVA-Ensemble             7  \n",
       "1121496  quantile   88649.783327       US      UVA-Ensemble             7  \n",
       "1121497  quantile  135796.753219       US      UVA-Ensemble             7  \n",
       "1121498  quantile  178230.496834       US      UVA-Ensemble             7  \n",
       "1121499  quantile  225651.662067       US      UVA-Ensemble             7  \n",
       "\n",
       "[111384 rows x 9 columns]"
      ]
     },
     "execution_count": 48,
     "metadata": {},
     "output_type": "execute_result"
    }
   ],
   "source": [
    "df[(df.target.str.contains('inc case') & (df.no_quantiles == 7))]"
   ]
  },
  {
   "cell_type": "code",
   "execution_count": 49,
   "metadata": {},
   "outputs": [],
   "source": [
    "df = df[(df.no_quantiles == 23) | \n",
    "        (df.target.str.contains('inc case') & (df.no_quantiles == 7))].drop(columns='no_quantiles').reset_index(drop=True)"
   ]
  },
  {
   "cell_type": "code",
   "execution_count": 50,
   "metadata": {
    "scrolled": true
   },
   "outputs": [
    {
     "data": {
      "text/plain": [
       "target\n",
       "1 wk ahead cum death    22\n",
       "1 wk ahead inc case     20\n",
       "1 wk ahead inc death    24\n",
       "2 wk ahead cum death    22\n",
       "2 wk ahead inc case     20\n",
       "2 wk ahead inc death    24\n",
       "3 wk ahead cum death    20\n",
       "3 wk ahead inc case     17\n",
       "3 wk ahead inc death    22\n",
       "4 wk ahead cum death    20\n",
       "4 wk ahead inc case     16\n",
       "4 wk ahead inc death    22\n",
       "Name: model, dtype: int64"
      ]
     },
     "execution_count": 50,
     "metadata": {},
     "output_type": "execute_result"
    }
   ],
   "source": [
    "df.groupby('target').model.nunique()"
   ]
  },
  {
   "cell_type": "code",
   "execution_count": 51,
   "metadata": {},
   "outputs": [
    {
     "data": {
      "text/plain": [
       "[('1 wk ahead cum death', 'DDS-NBDS'),\n",
       " ('1 wk ahead cum death', 'KITmetricslab-select_ensemble'),\n",
       " ('1 wk ahead cum death', 'LNQ-ens1'),\n",
       " ('1 wk ahead inc case', 'KITmetricslab-select_ensemble'),\n",
       " ('1 wk ahead inc case', 'LNQ-ens1'),\n",
       " ('1 wk ahead inc case', 'UChicagoCHATTOPADHYAY-UnIT'),\n",
       " ('1 wk ahead inc death', 'DDS-NBDS'),\n",
       " ('1 wk ahead inc death', 'KITmetricslab-select_ensemble'),\n",
       " ('1 wk ahead inc death', 'LNQ-ens1'),\n",
       " ('2 wk ahead cum death', 'DDS-NBDS'),\n",
       " ('2 wk ahead cum death', 'KITmetricslab-select_ensemble'),\n",
       " ('2 wk ahead cum death', 'LNQ-ens1'),\n",
       " ('2 wk ahead inc case', 'KITmetricslab-select_ensemble'),\n",
       " ('2 wk ahead inc case', 'LNQ-ens1'),\n",
       " ('2 wk ahead inc case', 'UChicagoCHATTOPADHYAY-UnIT'),\n",
       " ('2 wk ahead inc death', 'DDS-NBDS'),\n",
       " ('2 wk ahead inc death', 'KITmetricslab-select_ensemble'),\n",
       " ('2 wk ahead inc death', 'LNQ-ens1'),\n",
       " ('3 wk ahead cum death', 'DDS-NBDS'),\n",
       " ('3 wk ahead cum death', 'KITmetricslab-select_ensemble'),\n",
       " ('3 wk ahead cum death', 'LNQ-ens1'),\n",
       " ('3 wk ahead inc case', 'KITmetricslab-select_ensemble'),\n",
       " ('3 wk ahead inc case', 'LNQ-ens1'),\n",
       " ('3 wk ahead inc death', 'DDS-NBDS'),\n",
       " ('3 wk ahead inc death', 'KITmetricslab-select_ensemble'),\n",
       " ('3 wk ahead inc death', 'LNQ-ens1'),\n",
       " ('4 wk ahead cum death', 'DDS-NBDS'),\n",
       " ('4 wk ahead cum death', 'LNQ-ens1'),\n",
       " ('4 wk ahead inc case', 'LNQ-ens1'),\n",
       " ('4 wk ahead inc death', 'DDS-NBDS'),\n",
       " ('4 wk ahead inc death', 'LNQ-ens1')]"
      ]
     },
     "execution_count": 51,
     "metadata": {},
     "output_type": "execute_result"
    }
   ],
   "source": [
    "# check if there are models used for training that are not available for the test date\n",
    "train_models = dict(df.groupby('target').model.unique())\n",
    "\n",
    "a = [(k, t) for k, v in train_models.items() for t in v]\n",
    "b = [(k, t) for k, v in available_models.items() for t in v]\n",
    "\n",
    "[i for i in a if i not in b]"
   ]
  },
  {
   "cell_type": "code",
   "execution_count": 52,
   "metadata": {},
   "outputs": [],
   "source": [
    "df = df[df.apply(lambda x: x.model in (available_models[x.target]), axis=1)]"
   ]
  },
  {
   "cell_type": "code",
   "execution_count": 53,
   "metadata": {},
   "outputs": [
    {
     "data": {
      "text/plain": [
       "target\n",
       "1 wk ahead cum death    19\n",
       "1 wk ahead inc case     17\n",
       "1 wk ahead inc death    21\n",
       "2 wk ahead cum death    19\n",
       "2 wk ahead inc case     17\n",
       "2 wk ahead inc death    21\n",
       "3 wk ahead cum death    17\n",
       "3 wk ahead inc case     15\n",
       "3 wk ahead inc death    19\n",
       "4 wk ahead cum death    18\n",
       "4 wk ahead inc case     15\n",
       "4 wk ahead inc death    20\n",
       "Name: model, dtype: int64"
      ]
     },
     "execution_count": 53,
     "metadata": {},
     "output_type": "execute_result"
    }
   ],
   "source": [
    "df.groupby('target').model.nunique()"
   ]
  },
  {
   "cell_type": "code",
   "execution_count": 54,
   "metadata": {},
   "outputs": [
    {
     "data": {
      "text/plain": [
       "(868504, 8)"
      ]
     },
     "execution_count": 54,
     "metadata": {},
     "output_type": "execute_result"
    }
   ],
   "source": [
    "df.shape"
   ]
  },
  {
   "cell_type": "code",
   "execution_count": 55,
   "metadata": {},
   "outputs": [],
   "source": [
    "models_by_target = pd.DataFrame([(i, k) for i,j in train_models.items() for k in j], \n",
    "                  columns=['target','model'])"
   ]
  },
  {
   "cell_type": "code",
   "execution_count": 56,
   "metadata": {},
   "outputs": [
    {
     "data": {
      "text/html": [
       "<div>\n",
       "<style scoped>\n",
       "    .dataframe tbody tr th:only-of-type {\n",
       "        vertical-align: middle;\n",
       "    }\n",
       "\n",
       "    .dataframe tbody tr th {\n",
       "        vertical-align: top;\n",
       "    }\n",
       "\n",
       "    .dataframe thead th {\n",
       "        text-align: right;\n",
       "    }\n",
       "</style>\n",
       "<table border=\"1\" class=\"dataframe\">\n",
       "  <thead>\n",
       "    <tr style=\"text-align: right;\">\n",
       "      <th></th>\n",
       "      <th>target</th>\n",
       "      <th>model</th>\n",
       "    </tr>\n",
       "  </thead>\n",
       "  <tbody>\n",
       "    <tr>\n",
       "      <th>191</th>\n",
       "      <td>4 wk ahead cum death</td>\n",
       "      <td>BPagano-RtDriven</td>\n",
       "    </tr>\n",
       "    <tr>\n",
       "      <th>192</th>\n",
       "      <td>4 wk ahead cum death</td>\n",
       "      <td>CEID-Walk</td>\n",
       "    </tr>\n",
       "    <tr>\n",
       "      <th>193</th>\n",
       "      <td>4 wk ahead cum death</td>\n",
       "      <td>COVIDhub-baseline</td>\n",
       "    </tr>\n",
       "    <tr>\n",
       "      <th>194</th>\n",
       "      <td>4 wk ahead cum death</td>\n",
       "      <td>CU-select</td>\n",
       "    </tr>\n",
       "    <tr>\n",
       "      <th>195</th>\n",
       "      <td>4 wk ahead cum death</td>\n",
       "      <td>Covid19Sim-Simulator</td>\n",
       "    </tr>\n",
       "    <tr>\n",
       "      <th>196</th>\n",
       "      <td>4 wk ahead cum death</td>\n",
       "      <td>CovidAnalytics-DELPHI</td>\n",
       "    </tr>\n",
       "    <tr>\n",
       "      <th>197</th>\n",
       "      <td>4 wk ahead cum death</td>\n",
       "      <td>DDS-NBDS</td>\n",
       "    </tr>\n",
       "    <tr>\n",
       "      <th>198</th>\n",
       "      <td>4 wk ahead cum death</td>\n",
       "      <td>JHUAPL-Bucky</td>\n",
       "    </tr>\n",
       "    <tr>\n",
       "      <th>199</th>\n",
       "      <td>4 wk ahead cum death</td>\n",
       "      <td>JHU_IDD-CovidSP</td>\n",
       "    </tr>\n",
       "    <tr>\n",
       "      <th>200</th>\n",
       "      <td>4 wk ahead cum death</td>\n",
       "      <td>Karlen-pypm</td>\n",
       "    </tr>\n",
       "    <tr>\n",
       "      <th>201</th>\n",
       "      <td>4 wk ahead cum death</td>\n",
       "      <td>LANL-GrowthRate</td>\n",
       "    </tr>\n",
       "    <tr>\n",
       "      <th>202</th>\n",
       "      <td>4 wk ahead cum death</td>\n",
       "      <td>LNQ-ens1</td>\n",
       "    </tr>\n",
       "    <tr>\n",
       "      <th>203</th>\n",
       "      <td>4 wk ahead cum death</td>\n",
       "      <td>MIT_CritData-GBCF</td>\n",
       "    </tr>\n",
       "    <tr>\n",
       "      <th>204</th>\n",
       "      <td>4 wk ahead cum death</td>\n",
       "      <td>OliverWyman-Navigator</td>\n",
       "    </tr>\n",
       "    <tr>\n",
       "      <th>205</th>\n",
       "      <td>4 wk ahead cum death</td>\n",
       "      <td>RobertWalraven-ESG</td>\n",
       "    </tr>\n",
       "    <tr>\n",
       "      <th>206</th>\n",
       "      <td>4 wk ahead cum death</td>\n",
       "      <td>SteveMcConnell-CovidComplete</td>\n",
       "    </tr>\n",
       "    <tr>\n",
       "      <th>207</th>\n",
       "      <td>4 wk ahead cum death</td>\n",
       "      <td>UA-EpiCovDA</td>\n",
       "    </tr>\n",
       "    <tr>\n",
       "      <th>208</th>\n",
       "      <td>4 wk ahead cum death</td>\n",
       "      <td>UMass-MechBayes</td>\n",
       "    </tr>\n",
       "    <tr>\n",
       "      <th>209</th>\n",
       "      <td>4 wk ahead cum death</td>\n",
       "      <td>USC-SI_kJalpha</td>\n",
       "    </tr>\n",
       "    <tr>\n",
       "      <th>210</th>\n",
       "      <td>4 wk ahead cum death</td>\n",
       "      <td>epiforecasts-ensemble1</td>\n",
       "    </tr>\n",
       "  </tbody>\n",
       "</table>\n",
       "</div>"
      ],
      "text/plain": [
       "                   target                         model\n",
       "191  4 wk ahead cum death              BPagano-RtDriven\n",
       "192  4 wk ahead cum death                     CEID-Walk\n",
       "193  4 wk ahead cum death             COVIDhub-baseline\n",
       "194  4 wk ahead cum death                     CU-select\n",
       "195  4 wk ahead cum death          Covid19Sim-Simulator\n",
       "196  4 wk ahead cum death         CovidAnalytics-DELPHI\n",
       "197  4 wk ahead cum death                      DDS-NBDS\n",
       "198  4 wk ahead cum death                  JHUAPL-Bucky\n",
       "199  4 wk ahead cum death               JHU_IDD-CovidSP\n",
       "200  4 wk ahead cum death                   Karlen-pypm\n",
       "201  4 wk ahead cum death               LANL-GrowthRate\n",
       "202  4 wk ahead cum death                      LNQ-ens1\n",
       "203  4 wk ahead cum death             MIT_CritData-GBCF\n",
       "204  4 wk ahead cum death         OliverWyman-Navigator\n",
       "205  4 wk ahead cum death            RobertWalraven-ESG\n",
       "206  4 wk ahead cum death  SteveMcConnell-CovidComplete\n",
       "207  4 wk ahead cum death                   UA-EpiCovDA\n",
       "208  4 wk ahead cum death               UMass-MechBayes\n",
       "209  4 wk ahead cum death                USC-SI_kJalpha\n",
       "210  4 wk ahead cum death        epiforecasts-ensemble1"
      ]
     },
     "execution_count": 56,
     "metadata": {},
     "output_type": "execute_result"
    }
   ],
   "source": [
    "models_by_target[models_by_target.target == '4 wk ahead cum death']"
   ]
  },
  {
   "cell_type": "code",
   "execution_count": 57,
   "metadata": {},
   "outputs": [],
   "source": [
    "df = df[~df.model.isin(models_to_exclude)]"
   ]
  },
  {
   "cell_type": "code",
   "execution_count": 58,
   "metadata": {},
   "outputs": [
    {
     "data": {
      "text/html": [
       "<div>\n",
       "<style scoped>\n",
       "    .dataframe tbody tr th:only-of-type {\n",
       "        vertical-align: middle;\n",
       "    }\n",
       "\n",
       "    .dataframe tbody tr th {\n",
       "        vertical-align: top;\n",
       "    }\n",
       "\n",
       "    .dataframe thead th {\n",
       "        text-align: right;\n",
       "    }\n",
       "</style>\n",
       "<table border=\"1\" class=\"dataframe\">\n",
       "  <thead>\n",
       "    <tr style=\"text-align: right;\">\n",
       "      <th></th>\n",
       "      <th>forecast_date</th>\n",
       "      <th>target</th>\n",
       "      <th>target_end_date</th>\n",
       "      <th>quantile</th>\n",
       "      <th>type</th>\n",
       "      <th>value</th>\n",
       "      <th>location</th>\n",
       "      <th>model</th>\n",
       "    </tr>\n",
       "  </thead>\n",
       "  <tbody>\n",
       "    <tr>\n",
       "      <th>0</th>\n",
       "      <td>2021-04-25</td>\n",
       "      <td>4 wk ahead inc death</td>\n",
       "      <td>2021-05-22</td>\n",
       "      <td>0.010</td>\n",
       "      <td>quantile</td>\n",
       "      <td>1449.68565</td>\n",
       "      <td>US</td>\n",
       "      <td>BPagano-RtDriven</td>\n",
       "    </tr>\n",
       "    <tr>\n",
       "      <th>1</th>\n",
       "      <td>2021-04-25</td>\n",
       "      <td>4 wk ahead inc death</td>\n",
       "      <td>2021-05-22</td>\n",
       "      <td>0.025</td>\n",
       "      <td>quantile</td>\n",
       "      <td>1957.20698</td>\n",
       "      <td>US</td>\n",
       "      <td>BPagano-RtDriven</td>\n",
       "    </tr>\n",
       "    <tr>\n",
       "      <th>2</th>\n",
       "      <td>2021-04-25</td>\n",
       "      <td>4 wk ahead inc death</td>\n",
       "      <td>2021-05-22</td>\n",
       "      <td>0.050</td>\n",
       "      <td>quantile</td>\n",
       "      <td>2410.90431</td>\n",
       "      <td>US</td>\n",
       "      <td>BPagano-RtDriven</td>\n",
       "    </tr>\n",
       "    <tr>\n",
       "      <th>3</th>\n",
       "      <td>2021-04-25</td>\n",
       "      <td>4 wk ahead inc death</td>\n",
       "      <td>2021-05-22</td>\n",
       "      <td>0.100</td>\n",
       "      <td>quantile</td>\n",
       "      <td>2942.16901</td>\n",
       "      <td>US</td>\n",
       "      <td>BPagano-RtDriven</td>\n",
       "    </tr>\n",
       "    <tr>\n",
       "      <th>4</th>\n",
       "      <td>2021-04-25</td>\n",
       "      <td>4 wk ahead inc death</td>\n",
       "      <td>2021-05-22</td>\n",
       "      <td>0.150</td>\n",
       "      <td>quantile</td>\n",
       "      <td>3302.94463</td>\n",
       "      <td>US</td>\n",
       "      <td>BPagano-RtDriven</td>\n",
       "    </tr>\n",
       "    <tr>\n",
       "      <th>...</th>\n",
       "      <td>...</td>\n",
       "      <td>...</td>\n",
       "      <td>...</td>\n",
       "      <td>...</td>\n",
       "      <td>...</td>\n",
       "      <td>...</td>\n",
       "      <td>...</td>\n",
       "      <td>...</td>\n",
       "    </tr>\n",
       "    <tr>\n",
       "      <th>986851</th>\n",
       "      <td>2021-06-07</td>\n",
       "      <td>1 wk ahead cum death</td>\n",
       "      <td>2021-06-12</td>\n",
       "      <td>0.850</td>\n",
       "      <td>quantile</td>\n",
       "      <td>600466.00000</td>\n",
       "      <td>US</td>\n",
       "      <td>epiforecasts-ensemble1</td>\n",
       "    </tr>\n",
       "    <tr>\n",
       "      <th>986852</th>\n",
       "      <td>2021-06-07</td>\n",
       "      <td>1 wk ahead cum death</td>\n",
       "      <td>2021-06-12</td>\n",
       "      <td>0.900</td>\n",
       "      <td>quantile</td>\n",
       "      <td>600602.00000</td>\n",
       "      <td>US</td>\n",
       "      <td>epiforecasts-ensemble1</td>\n",
       "    </tr>\n",
       "    <tr>\n",
       "      <th>986853</th>\n",
       "      <td>2021-06-07</td>\n",
       "      <td>1 wk ahead cum death</td>\n",
       "      <td>2021-06-12</td>\n",
       "      <td>0.950</td>\n",
       "      <td>quantile</td>\n",
       "      <td>600826.00000</td>\n",
       "      <td>US</td>\n",
       "      <td>epiforecasts-ensemble1</td>\n",
       "    </tr>\n",
       "    <tr>\n",
       "      <th>986854</th>\n",
       "      <td>2021-06-07</td>\n",
       "      <td>1 wk ahead cum death</td>\n",
       "      <td>2021-06-12</td>\n",
       "      <td>0.975</td>\n",
       "      <td>quantile</td>\n",
       "      <td>601027.00000</td>\n",
       "      <td>US</td>\n",
       "      <td>epiforecasts-ensemble1</td>\n",
       "    </tr>\n",
       "    <tr>\n",
       "      <th>986855</th>\n",
       "      <td>2021-06-07</td>\n",
       "      <td>1 wk ahead cum death</td>\n",
       "      <td>2021-06-12</td>\n",
       "      <td>0.990</td>\n",
       "      <td>quantile</td>\n",
       "      <td>601412.00000</td>\n",
       "      <td>US</td>\n",
       "      <td>epiforecasts-ensemble1</td>\n",
       "    </tr>\n",
       "  </tbody>\n",
       "</table>\n",
       "<p>868504 rows × 8 columns</p>\n",
       "</div>"
      ],
      "text/plain": [
       "       forecast_date                target target_end_date  quantile  \\\n",
       "0         2021-04-25  4 wk ahead inc death      2021-05-22     0.010   \n",
       "1         2021-04-25  4 wk ahead inc death      2021-05-22     0.025   \n",
       "2         2021-04-25  4 wk ahead inc death      2021-05-22     0.050   \n",
       "3         2021-04-25  4 wk ahead inc death      2021-05-22     0.100   \n",
       "4         2021-04-25  4 wk ahead inc death      2021-05-22     0.150   \n",
       "...              ...                   ...             ...       ...   \n",
       "986851    2021-06-07  1 wk ahead cum death      2021-06-12     0.850   \n",
       "986852    2021-06-07  1 wk ahead cum death      2021-06-12     0.900   \n",
       "986853    2021-06-07  1 wk ahead cum death      2021-06-12     0.950   \n",
       "986854    2021-06-07  1 wk ahead cum death      2021-06-12     0.975   \n",
       "986855    2021-06-07  1 wk ahead cum death      2021-06-12     0.990   \n",
       "\n",
       "            type         value location                   model  \n",
       "0       quantile    1449.68565       US        BPagano-RtDriven  \n",
       "1       quantile    1957.20698       US        BPagano-RtDriven  \n",
       "2       quantile    2410.90431       US        BPagano-RtDriven  \n",
       "3       quantile    2942.16901       US        BPagano-RtDriven  \n",
       "4       quantile    3302.94463       US        BPagano-RtDriven  \n",
       "...          ...           ...      ...                     ...  \n",
       "986851  quantile  600466.00000       US  epiforecasts-ensemble1  \n",
       "986852  quantile  600602.00000       US  epiforecasts-ensemble1  \n",
       "986853  quantile  600826.00000       US  epiforecasts-ensemble1  \n",
       "986854  quantile  601027.00000       US  epiforecasts-ensemble1  \n",
       "986855  quantile  601412.00000       US  epiforecasts-ensemble1  \n",
       "\n",
       "[868504 rows x 8 columns]"
      ]
     },
     "execution_count": 58,
     "metadata": {},
     "output_type": "execute_result"
    }
   ],
   "source": [
    "df"
   ]
  },
  {
   "cell_type": "code",
   "execution_count": 59,
   "metadata": {},
   "outputs": [],
   "source": [
    "available_train_models = dict(df.groupby(['target'])['model'].unique())"
   ]
  },
  {
   "cell_type": "code",
   "execution_count": 60,
   "metadata": {},
   "outputs": [
    {
     "data": {
      "text/plain": [
       "{'1 wk ahead cum death': array(['BPagano-RtDriven', 'CEID-Walk', 'COVIDhub-baseline', 'CU-select',\n",
       "        'Covid19Sim-Simulator', 'CovidAnalytics-DELPHI', 'IHME-CurveFit',\n",
       "        'JHUAPL-Bucky', 'JHU_IDD-CovidSP', 'Karlen-pypm',\n",
       "        'LANL-GrowthRate', 'MIT_CritData-GBCF', 'Microsoft-DeepSTIA',\n",
       "        'RobertWalraven-ESG', 'SteveMcConnell-CovidComplete',\n",
       "        'UA-EpiCovDA', 'UMass-MechBayes', 'USC-SI_kJalpha',\n",
       "        'epiforecasts-ensemble1'], dtype=object),\n",
       " '1 wk ahead inc case': array(['BPagano-RtDriven', 'CEID-Walk', 'COVIDhub-baseline', 'CU-select',\n",
       "        'Covid19Sim-Simulator', 'CovidAnalytics-DELPHI',\n",
       "        'IEM_MED-CovidProject', 'JHUAPL-Bucky', 'JHU_CSSE-DECOM',\n",
       "        'JHU_IDD-CovidSP', 'Karlen-pypm', 'LANL-GrowthRate', 'MUNI-ARIMA',\n",
       "        'Microsoft-DeepSTIA', 'RobertWalraven-ESG', 'USC-SI_kJalpha',\n",
       "        'UVA-Ensemble'], dtype=object),\n",
       " '1 wk ahead inc death': array(['BPagano-RtDriven', 'CEID-Walk', 'COVIDhub-baseline', 'CU-select',\n",
       "        'Covid19Sim-Simulator', 'CovidAnalytics-DELPHI', 'IHME-CurveFit',\n",
       "        'JHUAPL-Bucky', 'JHU_CSSE-DECOM', 'JHU_IDD-CovidSP', 'Karlen-pypm',\n",
       "        'LANL-GrowthRate', 'MIT_CritData-GBCF', 'MUNI-ARIMA',\n",
       "        'Microsoft-DeepSTIA', 'RobertWalraven-ESG',\n",
       "        'SteveMcConnell-CovidComplete', 'UA-EpiCovDA', 'UMass-MechBayes',\n",
       "        'USC-SI_kJalpha', 'epiforecasts-ensemble1'], dtype=object),\n",
       " '2 wk ahead cum death': array(['BPagano-RtDriven', 'CEID-Walk', 'COVIDhub-baseline', 'CU-select',\n",
       "        'Covid19Sim-Simulator', 'CovidAnalytics-DELPHI', 'IHME-CurveFit',\n",
       "        'JHUAPL-Bucky', 'JHU_IDD-CovidSP', 'Karlen-pypm',\n",
       "        'LANL-GrowthRate', 'MIT_CritData-GBCF', 'Microsoft-DeepSTIA',\n",
       "        'RobertWalraven-ESG', 'SteveMcConnell-CovidComplete',\n",
       "        'UA-EpiCovDA', 'UMass-MechBayes', 'USC-SI_kJalpha',\n",
       "        'epiforecasts-ensemble1'], dtype=object),\n",
       " '2 wk ahead inc case': array(['BPagano-RtDriven', 'CEID-Walk', 'COVIDhub-baseline', 'CU-select',\n",
       "        'Covid19Sim-Simulator', 'CovidAnalytics-DELPHI',\n",
       "        'IEM_MED-CovidProject', 'JHUAPL-Bucky', 'JHU_CSSE-DECOM',\n",
       "        'JHU_IDD-CovidSP', 'Karlen-pypm', 'LANL-GrowthRate', 'MUNI-ARIMA',\n",
       "        'Microsoft-DeepSTIA', 'RobertWalraven-ESG', 'USC-SI_kJalpha',\n",
       "        'UVA-Ensemble'], dtype=object),\n",
       " '2 wk ahead inc death': array(['BPagano-RtDriven', 'CEID-Walk', 'COVIDhub-baseline', 'CU-select',\n",
       "        'Covid19Sim-Simulator', 'CovidAnalytics-DELPHI', 'IHME-CurveFit',\n",
       "        'JHUAPL-Bucky', 'JHU_CSSE-DECOM', 'JHU_IDD-CovidSP', 'Karlen-pypm',\n",
       "        'LANL-GrowthRate', 'MIT_CritData-GBCF', 'MUNI-ARIMA',\n",
       "        'Microsoft-DeepSTIA', 'RobertWalraven-ESG',\n",
       "        'SteveMcConnell-CovidComplete', 'UA-EpiCovDA', 'UMass-MechBayes',\n",
       "        'USC-SI_kJalpha', 'epiforecasts-ensemble1'], dtype=object),\n",
       " '3 wk ahead cum death': array(['BPagano-RtDriven', 'CEID-Walk', 'COVIDhub-baseline', 'CU-select',\n",
       "        'Covid19Sim-Simulator', 'CovidAnalytics-DELPHI', 'JHUAPL-Bucky',\n",
       "        'JHU_IDD-CovidSP', 'Karlen-pypm', 'LANL-GrowthRate',\n",
       "        'MIT_CritData-GBCF', 'RobertWalraven-ESG',\n",
       "        'SteveMcConnell-CovidComplete', 'UA-EpiCovDA', 'UMass-MechBayes',\n",
       "        'USC-SI_kJalpha', 'epiforecasts-ensemble1'], dtype=object),\n",
       " '3 wk ahead inc case': array(['BPagano-RtDriven', 'CEID-Walk', 'COVIDhub-baseline', 'CU-select',\n",
       "        'Covid19Sim-Simulator', 'CovidAnalytics-DELPHI',\n",
       "        'IEM_MED-CovidProject', 'JHUAPL-Bucky', 'JHU_CSSE-DECOM',\n",
       "        'JHU_IDD-CovidSP', 'Karlen-pypm', 'LANL-GrowthRate',\n",
       "        'RobertWalraven-ESG', 'USC-SI_kJalpha', 'UVA-Ensemble'],\n",
       "       dtype=object),\n",
       " '3 wk ahead inc death': array(['BPagano-RtDriven', 'CEID-Walk', 'COVIDhub-baseline', 'CU-select',\n",
       "        'Covid19Sim-Simulator', 'CovidAnalytics-DELPHI',\n",
       "        'IEM_MED-CovidProject', 'JHUAPL-Bucky', 'JHU_CSSE-DECOM',\n",
       "        'JHU_IDD-CovidSP', 'Karlen-pypm', 'LANL-GrowthRate',\n",
       "        'MIT_CritData-GBCF', 'RobertWalraven-ESG',\n",
       "        'SteveMcConnell-CovidComplete', 'UA-EpiCovDA', 'UMass-MechBayes',\n",
       "        'USC-SI_kJalpha', 'epiforecasts-ensemble1'], dtype=object),\n",
       " '4 wk ahead cum death': array(['BPagano-RtDriven', 'CEID-Walk', 'COVIDhub-baseline', 'CU-select',\n",
       "        'Covid19Sim-Simulator', 'CovidAnalytics-DELPHI', 'JHUAPL-Bucky',\n",
       "        'JHU_IDD-CovidSP', 'Karlen-pypm', 'LANL-GrowthRate',\n",
       "        'MIT_CritData-GBCF', 'OliverWyman-Navigator', 'RobertWalraven-ESG',\n",
       "        'SteveMcConnell-CovidComplete', 'UA-EpiCovDA', 'UMass-MechBayes',\n",
       "        'USC-SI_kJalpha', 'epiforecasts-ensemble1'], dtype=object),\n",
       " '4 wk ahead inc case': array(['BPagano-RtDriven', 'CEID-Walk', 'COVIDhub-baseline', 'CU-select',\n",
       "        'Covid19Sim-Simulator', 'CovidAnalytics-DELPHI',\n",
       "        'IEM_MED-CovidProject', 'JHUAPL-Bucky', 'JHU_CSSE-DECOM',\n",
       "        'JHU_IDD-CovidSP', 'Karlen-pypm', 'LANL-GrowthRate',\n",
       "        'RobertWalraven-ESG', 'USC-SI_kJalpha', 'UVA-Ensemble'],\n",
       "       dtype=object),\n",
       " '4 wk ahead inc death': array(['BPagano-RtDriven', 'CEID-Walk', 'COVIDhub-baseline', 'CU-select',\n",
       "        'Covid19Sim-Simulator', 'CovidAnalytics-DELPHI',\n",
       "        'IEM_MED-CovidProject', 'JHUAPL-Bucky', 'JHU_CSSE-DECOM',\n",
       "        'JHU_IDD-CovidSP', 'Karlen-pypm', 'LANL-GrowthRate',\n",
       "        'MIT_CritData-GBCF', 'OliverWyman-Navigator', 'RobertWalraven-ESG',\n",
       "        'SteveMcConnell-CovidComplete', 'UA-EpiCovDA', 'UMass-MechBayes',\n",
       "        'USC-SI_kJalpha', 'epiforecasts-ensemble1'], dtype=object)}"
      ]
     },
     "execution_count": 60,
     "metadata": {},
     "output_type": "execute_result"
    }
   ],
   "source": [
    "available_train_models"
   ]
  },
  {
   "cell_type": "code",
   "execution_count": 61,
   "metadata": {},
   "outputs": [
    {
     "data": {
      "text/plain": [
       "(255840, 8)"
      ]
     },
     "execution_count": 61,
     "metadata": {},
     "output_type": "execute_result"
    }
   ],
   "source": [
    "df_test.shape"
   ]
  },
  {
   "cell_type": "code",
   "execution_count": 62,
   "metadata": {},
   "outputs": [],
   "source": [
    "df_test = df_test[df_test.apply(lambda x: x.model in (available_train_models[x.target]), axis=1)]"
   ]
  },
  {
   "cell_type": "code",
   "execution_count": 63,
   "metadata": {},
   "outputs": [
    {
     "data": {
      "text/html": [
       "<div>\n",
       "<style scoped>\n",
       "    .dataframe tbody tr th:only-of-type {\n",
       "        vertical-align: middle;\n",
       "    }\n",
       "\n",
       "    .dataframe tbody tr th {\n",
       "        vertical-align: top;\n",
       "    }\n",
       "\n",
       "    .dataframe thead th {\n",
       "        text-align: right;\n",
       "    }\n",
       "</style>\n",
       "<table border=\"1\" class=\"dataframe\">\n",
       "  <thead>\n",
       "    <tr style=\"text-align: right;\">\n",
       "      <th></th>\n",
       "      <th>forecast_date</th>\n",
       "      <th>target</th>\n",
       "      <th>target_end_date</th>\n",
       "      <th>quantile</th>\n",
       "      <th>type</th>\n",
       "      <th>value</th>\n",
       "      <th>location</th>\n",
       "      <th>model</th>\n",
       "    </tr>\n",
       "  </thead>\n",
       "  <tbody>\n",
       "    <tr>\n",
       "      <th>0</th>\n",
       "      <td>2021-06-13</td>\n",
       "      <td>1 wk ahead inc death</td>\n",
       "      <td>2021-06-19</td>\n",
       "      <td>0.010</td>\n",
       "      <td>quantile</td>\n",
       "      <td>1313.91621</td>\n",
       "      <td>US</td>\n",
       "      <td>BPagano-RtDriven</td>\n",
       "    </tr>\n",
       "    <tr>\n",
       "      <th>1</th>\n",
       "      <td>2021-06-13</td>\n",
       "      <td>1 wk ahead inc death</td>\n",
       "      <td>2021-06-19</td>\n",
       "      <td>0.025</td>\n",
       "      <td>quantile</td>\n",
       "      <td>1444.91417</td>\n",
       "      <td>US</td>\n",
       "      <td>BPagano-RtDriven</td>\n",
       "    </tr>\n",
       "    <tr>\n",
       "      <th>2</th>\n",
       "      <td>2021-06-13</td>\n",
       "      <td>1 wk ahead inc death</td>\n",
       "      <td>2021-06-19</td>\n",
       "      <td>0.050</td>\n",
       "      <td>quantile</td>\n",
       "      <td>1562.01943</td>\n",
       "      <td>US</td>\n",
       "      <td>BPagano-RtDriven</td>\n",
       "    </tr>\n",
       "    <tr>\n",
       "      <th>3</th>\n",
       "      <td>2021-06-13</td>\n",
       "      <td>1 wk ahead inc death</td>\n",
       "      <td>2021-06-19</td>\n",
       "      <td>0.100</td>\n",
       "      <td>quantile</td>\n",
       "      <td>1699.14586</td>\n",
       "      <td>US</td>\n",
       "      <td>BPagano-RtDriven</td>\n",
       "    </tr>\n",
       "    <tr>\n",
       "      <th>4</th>\n",
       "      <td>2021-06-13</td>\n",
       "      <td>1 wk ahead inc death</td>\n",
       "      <td>2021-06-19</td>\n",
       "      <td>0.150</td>\n",
       "      <td>quantile</td>\n",
       "      <td>1792.26681</td>\n",
       "      <td>US</td>\n",
       "      <td>BPagano-RtDriven</td>\n",
       "    </tr>\n",
       "  </tbody>\n",
       "</table>\n",
       "</div>"
      ],
      "text/plain": [
       "  forecast_date                target target_end_date  quantile      type  \\\n",
       "0    2021-06-13  1 wk ahead inc death      2021-06-19     0.010  quantile   \n",
       "1    2021-06-13  1 wk ahead inc death      2021-06-19     0.025  quantile   \n",
       "2    2021-06-13  1 wk ahead inc death      2021-06-19     0.050  quantile   \n",
       "3    2021-06-13  1 wk ahead inc death      2021-06-19     0.100  quantile   \n",
       "4    2021-06-13  1 wk ahead inc death      2021-06-19     0.150  quantile   \n",
       "\n",
       "        value location             model  \n",
       "0  1313.91621       US  BPagano-RtDriven  \n",
       "1  1444.91417       US  BPagano-RtDriven  \n",
       "2  1562.01943       US  BPagano-RtDriven  \n",
       "3  1699.14586       US  BPagano-RtDriven  \n",
       "4  1792.26681       US  BPagano-RtDriven  "
      ]
     },
     "execution_count": 63,
     "metadata": {},
     "output_type": "execute_result"
    }
   ],
   "source": [
    "df_test.head()"
   ]
  },
  {
   "cell_type": "code",
   "execution_count": 64,
   "metadata": {},
   "outputs": [
    {
     "data": {
      "text/plain": [
       "target\n",
       "1 wk ahead cum death    [BPagano-RtDriven, CEID-Walk, COVIDhub-baselin...\n",
       "1 wk ahead inc case     [BPagano-RtDriven, CEID-Walk, COVIDhub-baselin...\n",
       "1 wk ahead inc death    [BPagano-RtDriven, CEID-Walk, COVIDhub-baselin...\n",
       "2 wk ahead cum death    [BPagano-RtDriven, CEID-Walk, COVIDhub-baselin...\n",
       "2 wk ahead inc case     [BPagano-RtDriven, CEID-Walk, COVIDhub-baselin...\n",
       "2 wk ahead inc death    [BPagano-RtDriven, CEID-Walk, COVIDhub-baselin...\n",
       "3 wk ahead cum death    [BPagano-RtDriven, CEID-Walk, COVIDhub-baselin...\n",
       "3 wk ahead inc case     [BPagano-RtDriven, CEID-Walk, COVIDhub-baselin...\n",
       "3 wk ahead inc death    [BPagano-RtDriven, CEID-Walk, COVIDhub-baselin...\n",
       "4 wk ahead cum death    [BPagano-RtDriven, CEID-Walk, COVIDhub-baselin...\n",
       "4 wk ahead inc case     [BPagano-RtDriven, CEID-Walk, COVIDhub-baselin...\n",
       "4 wk ahead inc death    [BPagano-RtDriven, CEID-Walk, COVIDhub-baselin...\n",
       "Name: model, dtype: object"
      ]
     },
     "execution_count": 64,
     "metadata": {},
     "output_type": "execute_result"
    }
   ],
   "source": [
    "df.groupby(['target'])['model'].unique()"
   ]
  },
  {
   "cell_type": "markdown",
   "metadata": {},
   "source": [
    "# Export"
   ]
  },
  {
   "cell_type": "code",
   "execution_count": 65,
   "metadata": {},
   "outputs": [],
   "source": [
    "df.to_csv('data/df_train_{}.csv'.format(str(test_date.date())), index=False)"
   ]
  },
  {
   "cell_type": "code",
   "execution_count": 66,
   "metadata": {},
   "outputs": [],
   "source": [
    "df_test.to_csv('data/df_test_{}.csv'.format(str(test_date.date())), index=False)"
   ]
  },
  {
   "cell_type": "code",
   "execution_count": null,
   "metadata": {},
   "outputs": [],
   "source": []
  }
 ],
 "metadata": {
  "kernelspec": {
   "display_name": "Python 3",
   "language": "python",
   "name": "python3"
  },
  "language_info": {
   "codemirror_mode": {
    "name": "ipython",
    "version": 3
   },
   "file_extension": ".py",
   "mimetype": "text/x-python",
   "name": "python",
   "nbconvert_exporter": "python",
   "pygments_lexer": "ipython3",
   "version": "3.8.8"
  }
 },
 "nbformat": 4,
 "nbformat_minor": 4
}
