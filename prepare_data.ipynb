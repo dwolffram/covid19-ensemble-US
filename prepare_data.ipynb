{
 "cells": [
  {
   "cell_type": "code",
   "execution_count": 1,
   "metadata": {},
   "outputs": [],
   "source": [
    "import pandas as pd\n",
    "import requests\n",
    "from tqdm.auto import tqdm\n",
    "tqdm.pandas()"
   ]
  },
  {
   "cell_type": "code",
   "execution_count": 2,
   "metadata": {},
   "outputs": [],
   "source": [
    "def next_monday(date):\n",
    "    return pd.date_range(start=date, end=date + pd.offsets.Day(6), freq='W-MON')[0]"
   ]
  },
  {
   "cell_type": "markdown",
   "metadata": {},
   "source": [
    "# Setting"
   ]
  },
  {
   "cell_type": "code",
   "execution_count": 3,
   "metadata": {},
   "outputs": [],
   "source": [
    "test_date = pd.to_datetime('2021-06-07')"
   ]
  },
  {
   "cell_type": "code",
   "execution_count": 4,
   "metadata": {},
   "outputs": [],
   "source": [
    "models_to_exclude = ['COVIDhub-ensemble', 'COVIDhub-trained_ensemble', \n",
    "                     'CU-nochange', 'CU-scenario_high', 'CU-scenario_low', 'CU-scenario_mid']\n",
    "\n",
    "locations_to_exclude = [\"60\", \"66\", \"69\", \"72\", \"74\", \"78\"]\n",
    "\n",
    "# DC,11,District of Columbia\n",
    "# AS,60,American Samoa\n",
    "# GU,66,Guam\n",
    "# MP,69,Northern Mariana Islands\n",
    "# PR,72,Puerto Rico\n",
    "# UM,74,U.S. Minor Outlying Islands\n",
    "# VI,78,Virgin Islands"
   ]
  },
  {
   "cell_type": "code",
   "execution_count": 5,
   "metadata": {},
   "outputs": [],
   "source": [
    "dtype={'target': str, 'location': str, 'type': str, 'quantile': float, 'value': float}\n",
    "parse_dates=['forecast_date', 'target_end_date']"
   ]
  },
  {
   "cell_type": "markdown",
   "metadata": {},
   "source": [
    "# Load Files"
   ]
  },
  {
   "cell_type": "code",
   "execution_count": 6,
   "metadata": {},
   "outputs": [],
   "source": [
    "url = \"https://api.github.com/repos/reichlab/covid19-forecast-hub/git/trees/master?recursive=1\"\n",
    "r = requests.get(url)\n",
    "res = r.json()"
   ]
  },
  {
   "cell_type": "code",
   "execution_count": 7,
   "metadata": {},
   "outputs": [],
   "source": [
    "files = [file[\"path\"] for file in res[\"tree\"] if (file[\"path\"].startswith('data-processed/') and file[\"path\"].endswith('.csv'))]"
   ]
  },
  {
   "cell_type": "code",
   "execution_count": 8,
   "metadata": {},
   "outputs": [
    {
     "data": {
      "text/plain": [
       "['data-processed/epiforecasts-ensemble1/2021-05-10-epiforecasts-ensemble1.csv',\n",
       " 'data-processed/epiforecasts-ensemble1/2021-05-17-epiforecasts-ensemble1.csv',\n",
       " 'data-processed/epiforecasts-ensemble1/2021-05-24-epiforecasts-ensemble1.csv',\n",
       " 'data-processed/epiforecasts-ensemble1/2021-05-31-epiforecasts-ensemble1.csv',\n",
       " 'data-processed/epiforecasts-ensemble1/2021-06-07-epiforecasts-ensemble1.csv']"
      ]
     },
     "execution_count": 8,
     "metadata": {},
     "output_type": "execute_result"
    }
   ],
   "source": [
    "files[-5:]"
   ]
  },
  {
   "cell_type": "code",
   "execution_count": 9,
   "metadata": {},
   "outputs": [],
   "source": [
    "df_files = pd.DataFrame({'filename':files})\n",
    "\n",
    "df_files['model'] = df_files.filename.apply(lambda f: f.split('/')[1])\n",
    "\n",
    "df_files['forecast_date'] = df_files.filename.apply(lambda f: f.split('/')[2][:10])\n",
    "df_files.forecast_date = pd.to_datetime(df_files.forecast_date)\n",
    "\n",
    "df_files['timezero'] = df_files.forecast_date.apply(next_monday)\n",
    "\n",
    "df_files = df_files[~df_files.model.isin(models_to_exclude)]"
   ]
  },
  {
   "cell_type": "code",
   "execution_count": 10,
   "metadata": {},
   "outputs": [
    {
     "data": {
      "text/html": [
       "<div>\n",
       "<style scoped>\n",
       "    .dataframe tbody tr th:only-of-type {\n",
       "        vertical-align: middle;\n",
       "    }\n",
       "\n",
       "    .dataframe tbody tr th {\n",
       "        vertical-align: top;\n",
       "    }\n",
       "\n",
       "    .dataframe thead th {\n",
       "        text-align: right;\n",
       "    }\n",
       "</style>\n",
       "<table border=\"1\" class=\"dataframe\">\n",
       "  <thead>\n",
       "    <tr style=\"text-align: right;\">\n",
       "      <th></th>\n",
       "      <th>filename</th>\n",
       "      <th>model</th>\n",
       "      <th>forecast_date</th>\n",
       "      <th>timezero</th>\n",
       "    </tr>\n",
       "  </thead>\n",
       "  <tbody>\n",
       "    <tr>\n",
       "      <th>0</th>\n",
       "      <td>data-processed/AIpert-pwllnod/2020-12-21-AIper...</td>\n",
       "      <td>AIpert-pwllnod</td>\n",
       "      <td>2020-12-21</td>\n",
       "      <td>2020-12-21</td>\n",
       "    </tr>\n",
       "    <tr>\n",
       "      <th>1</th>\n",
       "      <td>data-processed/AIpert-pwllnod/2020-12-28-AIper...</td>\n",
       "      <td>AIpert-pwllnod</td>\n",
       "      <td>2020-12-28</td>\n",
       "      <td>2020-12-28</td>\n",
       "    </tr>\n",
       "    <tr>\n",
       "      <th>2</th>\n",
       "      <td>data-processed/AIpert-pwllnod/2021-01-04-AIper...</td>\n",
       "      <td>AIpert-pwllnod</td>\n",
       "      <td>2021-01-04</td>\n",
       "      <td>2021-01-04</td>\n",
       "    </tr>\n",
       "    <tr>\n",
       "      <th>3</th>\n",
       "      <td>data-processed/AIpert-pwllnod/2021-01-11-AIper...</td>\n",
       "      <td>AIpert-pwllnod</td>\n",
       "      <td>2021-01-11</td>\n",
       "      <td>2021-01-11</td>\n",
       "    </tr>\n",
       "    <tr>\n",
       "      <th>4</th>\n",
       "      <td>data-processed/AIpert-pwllnod/2021-01-18-AIper...</td>\n",
       "      <td>AIpert-pwllnod</td>\n",
       "      <td>2021-01-18</td>\n",
       "      <td>2021-01-18</td>\n",
       "    </tr>\n",
       "    <tr>\n",
       "      <th>...</th>\n",
       "      <td>...</td>\n",
       "      <td>...</td>\n",
       "      <td>...</td>\n",
       "      <td>...</td>\n",
       "    </tr>\n",
       "    <tr>\n",
       "      <th>3612</th>\n",
       "      <td>data-processed/epiforecasts-ensemble1/2021-05-...</td>\n",
       "      <td>epiforecasts-ensemble1</td>\n",
       "      <td>2021-05-10</td>\n",
       "      <td>2021-05-10</td>\n",
       "    </tr>\n",
       "    <tr>\n",
       "      <th>3613</th>\n",
       "      <td>data-processed/epiforecasts-ensemble1/2021-05-...</td>\n",
       "      <td>epiforecasts-ensemble1</td>\n",
       "      <td>2021-05-17</td>\n",
       "      <td>2021-05-17</td>\n",
       "    </tr>\n",
       "    <tr>\n",
       "      <th>3614</th>\n",
       "      <td>data-processed/epiforecasts-ensemble1/2021-05-...</td>\n",
       "      <td>epiforecasts-ensemble1</td>\n",
       "      <td>2021-05-24</td>\n",
       "      <td>2021-05-24</td>\n",
       "    </tr>\n",
       "    <tr>\n",
       "      <th>3615</th>\n",
       "      <td>data-processed/epiforecasts-ensemble1/2021-05-...</td>\n",
       "      <td>epiforecasts-ensemble1</td>\n",
       "      <td>2021-05-31</td>\n",
       "      <td>2021-05-31</td>\n",
       "    </tr>\n",
       "    <tr>\n",
       "      <th>3616</th>\n",
       "      <td>data-processed/epiforecasts-ensemble1/2021-06-...</td>\n",
       "      <td>epiforecasts-ensemble1</td>\n",
       "      <td>2021-06-07</td>\n",
       "      <td>2021-06-07</td>\n",
       "    </tr>\n",
       "  </tbody>\n",
       "</table>\n",
       "<p>3205 rows × 4 columns</p>\n",
       "</div>"
      ],
      "text/plain": [
       "                                               filename  \\\n",
       "0     data-processed/AIpert-pwllnod/2020-12-21-AIper...   \n",
       "1     data-processed/AIpert-pwllnod/2020-12-28-AIper...   \n",
       "2     data-processed/AIpert-pwllnod/2021-01-04-AIper...   \n",
       "3     data-processed/AIpert-pwllnod/2021-01-11-AIper...   \n",
       "4     data-processed/AIpert-pwllnod/2021-01-18-AIper...   \n",
       "...                                                 ...   \n",
       "3612  data-processed/epiforecasts-ensemble1/2021-05-...   \n",
       "3613  data-processed/epiforecasts-ensemble1/2021-05-...   \n",
       "3614  data-processed/epiforecasts-ensemble1/2021-05-...   \n",
       "3615  data-processed/epiforecasts-ensemble1/2021-05-...   \n",
       "3616  data-processed/epiforecasts-ensemble1/2021-06-...   \n",
       "\n",
       "                       model forecast_date   timezero  \n",
       "0             AIpert-pwllnod    2020-12-21 2020-12-21  \n",
       "1             AIpert-pwllnod    2020-12-28 2020-12-28  \n",
       "2             AIpert-pwllnod    2021-01-04 2021-01-04  \n",
       "3             AIpert-pwllnod    2021-01-11 2021-01-11  \n",
       "4             AIpert-pwllnod    2021-01-18 2021-01-18  \n",
       "...                      ...           ...        ...  \n",
       "3612  epiforecasts-ensemble1    2021-05-10 2021-05-10  \n",
       "3613  epiforecasts-ensemble1    2021-05-17 2021-05-17  \n",
       "3614  epiforecasts-ensemble1    2021-05-24 2021-05-24  \n",
       "3615  epiforecasts-ensemble1    2021-05-31 2021-05-31  \n",
       "3616  epiforecasts-ensemble1    2021-06-07 2021-06-07  \n",
       "\n",
       "[3205 rows x 4 columns]"
      ]
     },
     "execution_count": 10,
     "metadata": {},
     "output_type": "execute_result"
    }
   ],
   "source": [
    "df_files"
   ]
  },
  {
   "cell_type": "markdown",
   "metadata": {},
   "source": [
    "### Test Data"
   ]
  },
  {
   "cell_type": "code",
   "execution_count": 11,
   "metadata": {},
   "outputs": [],
   "source": [
    "VALID_TARGETS = [f\"{_} wk ahead inc death\" for _ in range(1, 5)] + \\\n",
    "                [f\"{_} wk ahead cum death\" for _ in range(1, 5)] + \\\n",
    "                [f\"{_} wk ahead inc case\" for _ in range(1, 5)]"
   ]
  },
  {
   "cell_type": "code",
   "execution_count": 12,
   "metadata": {},
   "outputs": [],
   "source": [
    "df_test_files = df_files[df_files.timezero == test_date]"
   ]
  },
  {
   "cell_type": "code",
   "execution_count": 13,
   "metadata": {},
   "outputs": [
    {
     "data": {
      "text/html": [
       "<div>\n",
       "<style scoped>\n",
       "    .dataframe tbody tr th:only-of-type {\n",
       "        vertical-align: middle;\n",
       "    }\n",
       "\n",
       "    .dataframe tbody tr th {\n",
       "        vertical-align: top;\n",
       "    }\n",
       "\n",
       "    .dataframe thead th {\n",
       "        text-align: right;\n",
       "    }\n",
       "</style>\n",
       "<table border=\"1\" class=\"dataframe\">\n",
       "  <thead>\n",
       "    <tr style=\"text-align: right;\">\n",
       "      <th></th>\n",
       "      <th>filename</th>\n",
       "      <th>model</th>\n",
       "      <th>forecast_date</th>\n",
       "      <th>timezero</th>\n",
       "    </tr>\n",
       "  </thead>\n",
       "  <tbody>\n",
       "    <tr>\n",
       "      <th>24</th>\n",
       "      <td>data-processed/AIpert-pwllnod/2021-06-07-AIper...</td>\n",
       "      <td>AIpert-pwllnod</td>\n",
       "      <td>2021-06-07</td>\n",
       "      <td>2021-06-07</td>\n",
       "    </tr>\n",
       "    <tr>\n",
       "      <th>72</th>\n",
       "      <td>data-processed/BPagano-RtDriven/2021-06-06-BPa...</td>\n",
       "      <td>BPagano-RtDriven</td>\n",
       "      <td>2021-06-06</td>\n",
       "      <td>2021-06-07</td>\n",
       "    </tr>\n",
       "    <tr>\n",
       "      <th>123</th>\n",
       "      <td>data-processed/CEID-Walk/2021-06-07-CEID-Walk.csv</td>\n",
       "      <td>CEID-Walk</td>\n",
       "      <td>2021-06-07</td>\n",
       "      <td>2021-06-07</td>\n",
       "    </tr>\n",
       "    <tr>\n",
       "      <th>170</th>\n",
       "      <td>data-processed/CMU-TimeSeries/2021-06-07-CMU-T...</td>\n",
       "      <td>CMU-TimeSeries</td>\n",
       "      <td>2021-06-07</td>\n",
       "      <td>2021-06-07</td>\n",
       "    </tr>\n",
       "    <tr>\n",
       "      <th>232</th>\n",
       "      <td>data-processed/COVIDhub-baseline/2021-06-07-CO...</td>\n",
       "      <td>COVIDhub-baseline</td>\n",
       "      <td>2021-06-07</td>\n",
       "      <td>2021-06-07</td>\n",
       "    </tr>\n",
       "  </tbody>\n",
       "</table>\n",
       "</div>"
      ],
      "text/plain": [
       "                                              filename              model  \\\n",
       "24   data-processed/AIpert-pwllnod/2021-06-07-AIper...     AIpert-pwllnod   \n",
       "72   data-processed/BPagano-RtDriven/2021-06-06-BPa...   BPagano-RtDriven   \n",
       "123  data-processed/CEID-Walk/2021-06-07-CEID-Walk.csv          CEID-Walk   \n",
       "170  data-processed/CMU-TimeSeries/2021-06-07-CMU-T...     CMU-TimeSeries   \n",
       "232  data-processed/COVIDhub-baseline/2021-06-07-CO...  COVIDhub-baseline   \n",
       "\n",
       "    forecast_date   timezero  \n",
       "24     2021-06-07 2021-06-07  \n",
       "72     2021-06-06 2021-06-07  \n",
       "123    2021-06-07 2021-06-07  \n",
       "170    2021-06-07 2021-06-07  \n",
       "232    2021-06-07 2021-06-07  "
      ]
     },
     "execution_count": 13,
     "metadata": {},
     "output_type": "execute_result"
    }
   ],
   "source": [
    "df_test_files.head()"
   ]
  },
  {
   "cell_type": "code",
   "execution_count": 14,
   "metadata": {
    "scrolled": true
   },
   "outputs": [
    {
     "data": {
      "application/vnd.jupyter.widget-view+json": {
       "model_id": "8f3f56a5f75f409d9f6eb38747197803",
       "version_major": 2,
       "version_minor": 0
      },
      "text/plain": [
       "  0%|          | 0/51 [00:00<?, ?it/s]"
      ]
     },
     "metadata": {},
     "output_type": "display_data"
    }
   ],
   "source": [
    "dfs_test = []\n",
    "\n",
    "for _, row in tqdm(df_test_files.iterrows(), total=df_test_files.shape[0]):\n",
    "    #print(row['filename'])\n",
    "    df_temp = pd.read_csv('https://github.com/reichlab/covid19-forecast-hub/raw/master/' + row['filename'],\n",
    "                         dtype=dtype, parse_dates=parse_dates)\n",
    "    df_temp = df_temp[df_temp.target.isin(VALID_TARGETS)]\n",
    "    df_temp['model'] = row['model']\n",
    "    dfs_test.append(df_temp)"
   ]
  },
  {
   "cell_type": "code",
   "execution_count": 15,
   "metadata": {},
   "outputs": [],
   "source": [
    "df_test = pd.concat(dfs_test)"
   ]
  },
  {
   "cell_type": "code",
   "execution_count": 16,
   "metadata": {},
   "outputs": [
    {
     "data": {
      "text/plain": [
       "(2056315, 8)"
      ]
     },
     "execution_count": 16,
     "metadata": {},
     "output_type": "execute_result"
    }
   ],
   "source": [
    "df_test.shape"
   ]
  },
  {
   "cell_type": "code",
   "execution_count": 17,
   "metadata": {},
   "outputs": [
    {
     "data": {
      "text/html": [
       "<div>\n",
       "<style scoped>\n",
       "    .dataframe tbody tr th:only-of-type {\n",
       "        vertical-align: middle;\n",
       "    }\n",
       "\n",
       "    .dataframe tbody tr th {\n",
       "        vertical-align: top;\n",
       "    }\n",
       "\n",
       "    .dataframe thead th {\n",
       "        text-align: right;\n",
       "    }\n",
       "</style>\n",
       "<table border=\"1\" class=\"dataframe\">\n",
       "  <thead>\n",
       "    <tr style=\"text-align: right;\">\n",
       "      <th></th>\n",
       "      <th>forecast_date</th>\n",
       "      <th>target</th>\n",
       "      <th>target_end_date</th>\n",
       "      <th>quantile</th>\n",
       "      <th>type</th>\n",
       "      <th>value</th>\n",
       "      <th>location</th>\n",
       "      <th>model</th>\n",
       "    </tr>\n",
       "  </thead>\n",
       "  <tbody>\n",
       "    <tr>\n",
       "      <th>0</th>\n",
       "      <td>2021-06-07</td>\n",
       "      <td>1 wk ahead cum death</td>\n",
       "      <td>2021-06-12</td>\n",
       "      <td>0.025</td>\n",
       "      <td>quantile</td>\n",
       "      <td>598491.935140</td>\n",
       "      <td>US</td>\n",
       "      <td>AIpert-pwllnod</td>\n",
       "    </tr>\n",
       "    <tr>\n",
       "      <th>1</th>\n",
       "      <td>2021-06-07</td>\n",
       "      <td>1 wk ahead cum death</td>\n",
       "      <td>2021-06-12</td>\n",
       "      <td>0.250</td>\n",
       "      <td>quantile</td>\n",
       "      <td>599761.318293</td>\n",
       "      <td>US</td>\n",
       "      <td>AIpert-pwllnod</td>\n",
       "    </tr>\n",
       "    <tr>\n",
       "      <th>2</th>\n",
       "      <td>2021-06-07</td>\n",
       "      <td>1 wk ahead cum death</td>\n",
       "      <td>2021-06-12</td>\n",
       "      <td>0.750</td>\n",
       "      <td>quantile</td>\n",
       "      <td>601352.768457</td>\n",
       "      <td>US</td>\n",
       "      <td>AIpert-pwllnod</td>\n",
       "    </tr>\n",
       "    <tr>\n",
       "      <th>3</th>\n",
       "      <td>2021-06-07</td>\n",
       "      <td>1 wk ahead cum death</td>\n",
       "      <td>2021-06-12</td>\n",
       "      <td>0.975</td>\n",
       "      <td>quantile</td>\n",
       "      <td>603116.434632</td>\n",
       "      <td>US</td>\n",
       "      <td>AIpert-pwllnod</td>\n",
       "    </tr>\n",
       "    <tr>\n",
       "      <th>4</th>\n",
       "      <td>2021-06-07</td>\n",
       "      <td>1 wk ahead cum death</td>\n",
       "      <td>2021-06-12</td>\n",
       "      <td>NaN</td>\n",
       "      <td>point</td>\n",
       "      <td>600427.367476</td>\n",
       "      <td>US</td>\n",
       "      <td>AIpert-pwllnod</td>\n",
       "    </tr>\n",
       "    <tr>\n",
       "      <th>...</th>\n",
       "      <td>...</td>\n",
       "      <td>...</td>\n",
       "      <td>...</td>\n",
       "      <td>...</td>\n",
       "      <td>...</td>\n",
       "      <td>...</td>\n",
       "      <td>...</td>\n",
       "      <td>...</td>\n",
       "    </tr>\n",
       "    <tr>\n",
       "      <th>10939</th>\n",
       "      <td>2021-06-07</td>\n",
       "      <td>4 wk ahead cum death</td>\n",
       "      <td>2021-07-03</td>\n",
       "      <td>0.850</td>\n",
       "      <td>quantile</td>\n",
       "      <td>606078.000000</td>\n",
       "      <td>US</td>\n",
       "      <td>epiforecasts-ensemble1</td>\n",
       "    </tr>\n",
       "    <tr>\n",
       "      <th>10940</th>\n",
       "      <td>2021-06-07</td>\n",
       "      <td>4 wk ahead cum death</td>\n",
       "      <td>2021-07-03</td>\n",
       "      <td>0.900</td>\n",
       "      <td>quantile</td>\n",
       "      <td>606496.000000</td>\n",
       "      <td>US</td>\n",
       "      <td>epiforecasts-ensemble1</td>\n",
       "    </tr>\n",
       "    <tr>\n",
       "      <th>10941</th>\n",
       "      <td>2021-06-07</td>\n",
       "      <td>4 wk ahead cum death</td>\n",
       "      <td>2021-07-03</td>\n",
       "      <td>0.950</td>\n",
       "      <td>quantile</td>\n",
       "      <td>607177.000000</td>\n",
       "      <td>US</td>\n",
       "      <td>epiforecasts-ensemble1</td>\n",
       "    </tr>\n",
       "    <tr>\n",
       "      <th>10942</th>\n",
       "      <td>2021-06-07</td>\n",
       "      <td>4 wk ahead cum death</td>\n",
       "      <td>2021-07-03</td>\n",
       "      <td>0.975</td>\n",
       "      <td>quantile</td>\n",
       "      <td>607859.000000</td>\n",
       "      <td>US</td>\n",
       "      <td>epiforecasts-ensemble1</td>\n",
       "    </tr>\n",
       "    <tr>\n",
       "      <th>10943</th>\n",
       "      <td>2021-06-07</td>\n",
       "      <td>4 wk ahead cum death</td>\n",
       "      <td>2021-07-03</td>\n",
       "      <td>0.990</td>\n",
       "      <td>quantile</td>\n",
       "      <td>609149.000000</td>\n",
       "      <td>US</td>\n",
       "      <td>epiforecasts-ensemble1</td>\n",
       "    </tr>\n",
       "  </tbody>\n",
       "</table>\n",
       "<p>2056315 rows × 8 columns</p>\n",
       "</div>"
      ],
      "text/plain": [
       "      forecast_date                target target_end_date  quantile      type  \\\n",
       "0        2021-06-07  1 wk ahead cum death      2021-06-12     0.025  quantile   \n",
       "1        2021-06-07  1 wk ahead cum death      2021-06-12     0.250  quantile   \n",
       "2        2021-06-07  1 wk ahead cum death      2021-06-12     0.750  quantile   \n",
       "3        2021-06-07  1 wk ahead cum death      2021-06-12     0.975  quantile   \n",
       "4        2021-06-07  1 wk ahead cum death      2021-06-12       NaN     point   \n",
       "...             ...                   ...             ...       ...       ...   \n",
       "10939    2021-06-07  4 wk ahead cum death      2021-07-03     0.850  quantile   \n",
       "10940    2021-06-07  4 wk ahead cum death      2021-07-03     0.900  quantile   \n",
       "10941    2021-06-07  4 wk ahead cum death      2021-07-03     0.950  quantile   \n",
       "10942    2021-06-07  4 wk ahead cum death      2021-07-03     0.975  quantile   \n",
       "10943    2021-06-07  4 wk ahead cum death      2021-07-03     0.990  quantile   \n",
       "\n",
       "               value location                   model  \n",
       "0      598491.935140       US          AIpert-pwllnod  \n",
       "1      599761.318293       US          AIpert-pwllnod  \n",
       "2      601352.768457       US          AIpert-pwllnod  \n",
       "3      603116.434632       US          AIpert-pwllnod  \n",
       "4      600427.367476       US          AIpert-pwllnod  \n",
       "...              ...      ...                     ...  \n",
       "10939  606078.000000       US  epiforecasts-ensemble1  \n",
       "10940  606496.000000       US  epiforecasts-ensemble1  \n",
       "10941  607177.000000       US  epiforecasts-ensemble1  \n",
       "10942  607859.000000       US  epiforecasts-ensemble1  \n",
       "10943  609149.000000       US  epiforecasts-ensemble1  \n",
       "\n",
       "[2056315 rows x 8 columns]"
      ]
     },
     "execution_count": 17,
     "metadata": {},
     "output_type": "execute_result"
    }
   ],
   "source": [
    "df_test"
   ]
  },
  {
   "cell_type": "code",
   "execution_count": 18,
   "metadata": {},
   "outputs": [],
   "source": [
    "# only consider US + 50 states\n",
    "df_test = df_test[df_test.location.str.len() == 2]\n",
    "df_test = df_test[~df_test.location.isin(locations_to_exclude)]"
   ]
  },
  {
   "cell_type": "code",
   "execution_count": 19,
   "metadata": {},
   "outputs": [
    {
     "data": {
      "text/plain": [
       "(378460, 8)"
      ]
     },
     "execution_count": 19,
     "metadata": {},
     "output_type": "execute_result"
    }
   ],
   "source": [
    "df_test.shape"
   ]
  },
  {
   "cell_type": "code",
   "execution_count": 20,
   "metadata": {},
   "outputs": [
    {
     "data": {
      "text/plain": [
       "52"
      ]
     },
     "execution_count": 20,
     "metadata": {},
     "output_type": "execute_result"
    }
   ],
   "source": [
    "df_test.location.nunique()"
   ]
  },
  {
   "cell_type": "code",
   "execution_count": 21,
   "metadata": {},
   "outputs": [],
   "source": [
    "# ensure that for all targets each model provides forecasts for all locations\n",
    "df_test = df_test[df_test.groupby(['target', 'model'])['location'].transform('nunique') == 52]"
   ]
  },
  {
   "cell_type": "code",
   "execution_count": 22,
   "metadata": {},
   "outputs": [],
   "source": [
    "df_test = df_test[df_test.type == 'quantile']"
   ]
  },
  {
   "cell_type": "code",
   "execution_count": 23,
   "metadata": {},
   "outputs": [],
   "source": [
    "df_test['no_quantiles'] = df_test.groupby(['model', 'target', 'target_end_date', 'location'])['quantile'].transform('nunique')\n",
    "\n",
    "df_test['no_quantiles'] = df_test.groupby(['target', 'model'])['no_quantiles'].transform('min')"
   ]
  },
  {
   "cell_type": "code",
   "execution_count": 24,
   "metadata": {},
   "outputs": [],
   "source": [
    "df_test = df_test[(df_test.no_quantiles == 23) | \n",
    "        (df_test.target.str.contains('inc case') & (df_test.no_quantiles == 7))].drop(columns='no_quantiles').reset_index(drop=True)"
   ]
  },
  {
   "cell_type": "code",
   "execution_count": 25,
   "metadata": {},
   "outputs": [
    {
     "data": {
      "text/plain": [
       "(288184, 8)"
      ]
     },
     "execution_count": 25,
     "metadata": {},
     "output_type": "execute_result"
    }
   ],
   "source": [
    "df_test.shape"
   ]
  },
  {
   "cell_type": "code",
   "execution_count": 26,
   "metadata": {},
   "outputs": [],
   "source": [
    "# dict of the models available for each target\n",
    "available_models = dict(df_test.groupby(['target'])['model'].unique())"
   ]
  },
  {
   "cell_type": "code",
   "execution_count": 27,
   "metadata": {},
   "outputs": [
    {
     "data": {
      "text/plain": [
       "{'1 wk ahead cum death': array(['BPagano-RtDriven', 'CEID-Walk', 'COVIDhub-baseline', 'CU-select',\n",
       "        'Covid19Sim-Simulator', 'CovidAnalytics-DELPHI', 'DDS-NBDS',\n",
       "        'IHME-CurveFit', 'JHUAPL-Bucky', 'JHU_CSSE-DECOM',\n",
       "        'JHU_IDD-CovidSP', 'Karlen-pypm', 'LANL-GrowthRate', 'LNQ-ens1',\n",
       "        'MIT_CritData-GBCF', 'Microsoft-DeepSTIA', 'OliverWyman-Navigator',\n",
       "        'PSI-DRAFT', 'RobertWalraven-ESG', 'SteveMcConnell-CovidComplete',\n",
       "        'UA-EpiCovDA', 'UCLA-SuEIR', 'UMass-MechBayes', 'USC-SI_kJalpha',\n",
       "        'epiforecasts-ensemble1'], dtype=object),\n",
       " '1 wk ahead inc case': array(['BPagano-RtDriven', 'CEID-Walk', 'COVIDhub-baseline', 'CU-select',\n",
       "        'Covid19Sim-Simulator', 'CovidAnalytics-DELPHI',\n",
       "        'IEM_MED-CovidProject', 'JHUAPL-Bucky', 'JHU_CSSE-DECOM',\n",
       "        'JHU_IDD-CovidSP', 'Karlen-pypm', 'LANL-GrowthRate', 'LNQ-ens1',\n",
       "        'MUNI-ARIMA', 'Microsoft-DeepSTIA', 'RobertWalraven-ESG',\n",
       "        'UCLA-SuEIR', 'UChicagoCHATTOPADHYAY-UnIT', 'USC-SI_kJalpha',\n",
       "        'UVA-Ensemble'], dtype=object),\n",
       " '1 wk ahead inc death': array(['BPagano-RtDriven', 'CEID-Walk', 'COVIDhub-baseline', 'CU-select',\n",
       "        'Covid19Sim-Simulator', 'CovidAnalytics-DELPHI', 'DDS-NBDS',\n",
       "        'IEM_MED-CovidProject', 'IHME-CurveFit', 'JHUAPL-Bucky',\n",
       "        'JHU_CSSE-DECOM', 'JHU_IDD-CovidSP', 'Karlen-pypm',\n",
       "        'LANL-GrowthRate', 'LNQ-ens1', 'MIT_CritData-GBCF', 'MUNI-ARIMA',\n",
       "        'Microsoft-DeepSTIA', 'OliverWyman-Navigator', 'PSI-DRAFT',\n",
       "        'RobertWalraven-ESG', 'SteveMcConnell-CovidComplete',\n",
       "        'UA-EpiCovDA', 'UCLA-SuEIR', 'UMass-MechBayes', 'USC-SI_kJalpha',\n",
       "        'epiforecasts-ensemble1'], dtype=object),\n",
       " '2 wk ahead cum death': array(['BPagano-RtDriven', 'CEID-Walk', 'COVIDhub-baseline', 'CU-select',\n",
       "        'Covid19Sim-Simulator', 'CovidAnalytics-DELPHI', 'DDS-NBDS',\n",
       "        'IHME-CurveFit', 'JHUAPL-Bucky', 'JHU_CSSE-DECOM',\n",
       "        'JHU_IDD-CovidSP', 'Karlen-pypm', 'LANL-GrowthRate', 'LNQ-ens1',\n",
       "        'MIT_CritData-GBCF', 'Microsoft-DeepSTIA', 'OliverWyman-Navigator',\n",
       "        'PSI-DRAFT', 'RobertWalraven-ESG', 'SteveMcConnell-CovidComplete',\n",
       "        'UA-EpiCovDA', 'UCLA-SuEIR', 'UMass-MechBayes', 'USC-SI_kJalpha',\n",
       "        'epiforecasts-ensemble1'], dtype=object),\n",
       " '2 wk ahead inc case': array(['BPagano-RtDriven', 'CEID-Walk', 'COVIDhub-baseline', 'CU-select',\n",
       "        'Covid19Sim-Simulator', 'CovidAnalytics-DELPHI',\n",
       "        'IEM_MED-CovidProject', 'JHUAPL-Bucky', 'JHU_CSSE-DECOM',\n",
       "        'JHU_IDD-CovidSP', 'Karlen-pypm', 'LANL-GrowthRate', 'LNQ-ens1',\n",
       "        'MUNI-ARIMA', 'Microsoft-DeepSTIA', 'RobertWalraven-ESG',\n",
       "        'UCLA-SuEIR', 'UChicagoCHATTOPADHYAY-UnIT', 'USC-SI_kJalpha',\n",
       "        'UVA-Ensemble'], dtype=object),\n",
       " '2 wk ahead inc death': array(['BPagano-RtDriven', 'CEID-Walk', 'COVIDhub-baseline', 'CU-select',\n",
       "        'Covid19Sim-Simulator', 'CovidAnalytics-DELPHI', 'DDS-NBDS',\n",
       "        'IEM_MED-CovidProject', 'IHME-CurveFit', 'JHUAPL-Bucky',\n",
       "        'JHU_CSSE-DECOM', 'JHU_IDD-CovidSP', 'Karlen-pypm',\n",
       "        'LANL-GrowthRate', 'LNQ-ens1', 'MIT_CritData-GBCF', 'MUNI-ARIMA',\n",
       "        'Microsoft-DeepSTIA', 'OliverWyman-Navigator', 'PSI-DRAFT',\n",
       "        'RobertWalraven-ESG', 'SteveMcConnell-CovidComplete',\n",
       "        'UA-EpiCovDA', 'UCLA-SuEIR', 'UMass-MechBayes', 'USC-SI_kJalpha',\n",
       "        'epiforecasts-ensemble1'], dtype=object),\n",
       " '3 wk ahead cum death': array(['BPagano-RtDriven', 'CEID-Walk', 'COVIDhub-baseline', 'CU-select',\n",
       "        'Covid19Sim-Simulator', 'CovidAnalytics-DELPHI', 'DDS-NBDS',\n",
       "        'IHME-CurveFit', 'JHUAPL-Bucky', 'JHU_CSSE-DECOM',\n",
       "        'JHU_IDD-CovidSP', 'Karlen-pypm', 'LANL-GrowthRate', 'LNQ-ens1',\n",
       "        'MIT_CritData-GBCF', 'Microsoft-DeepSTIA', 'OliverWyman-Navigator',\n",
       "        'PSI-DRAFT', 'RobertWalraven-ESG', 'SteveMcConnell-CovidComplete',\n",
       "        'UA-EpiCovDA', 'UCLA-SuEIR', 'UMass-MechBayes', 'USC-SI_kJalpha',\n",
       "        'epiforecasts-ensemble1'], dtype=object),\n",
       " '3 wk ahead inc case': array(['BPagano-RtDriven', 'CEID-Walk', 'COVIDhub-baseline', 'CU-select',\n",
       "        'Covid19Sim-Simulator', 'CovidAnalytics-DELPHI',\n",
       "        'IEM_MED-CovidProject', 'JHUAPL-Bucky', 'JHU_CSSE-DECOM',\n",
       "        'JHU_IDD-CovidSP', 'Karlen-pypm', 'LANL-GrowthRate', 'LNQ-ens1',\n",
       "        'MUNI-ARIMA', 'Microsoft-DeepSTIA', 'RobertWalraven-ESG',\n",
       "        'UCLA-SuEIR', 'USC-SI_kJalpha', 'UVA-Ensemble'], dtype=object),\n",
       " '3 wk ahead inc death': array(['BPagano-RtDriven', 'CEID-Walk', 'COVIDhub-baseline', 'CU-select',\n",
       "        'Covid19Sim-Simulator', 'CovidAnalytics-DELPHI', 'DDS-NBDS',\n",
       "        'IEM_MED-CovidProject', 'IHME-CurveFit', 'JHUAPL-Bucky',\n",
       "        'JHU_CSSE-DECOM', 'JHU_IDD-CovidSP', 'Karlen-pypm',\n",
       "        'LANL-GrowthRate', 'LNQ-ens1', 'MIT_CritData-GBCF', 'MUNI-ARIMA',\n",
       "        'Microsoft-DeepSTIA', 'OliverWyman-Navigator', 'PSI-DRAFT',\n",
       "        'RobertWalraven-ESG', 'SteveMcConnell-CovidComplete',\n",
       "        'UA-EpiCovDA', 'UCLA-SuEIR', 'UMass-MechBayes', 'USC-SI_kJalpha',\n",
       "        'epiforecasts-ensemble1'], dtype=object),\n",
       " '4 wk ahead cum death': array(['BPagano-RtDriven', 'CEID-Walk', 'COVIDhub-baseline', 'CU-select',\n",
       "        'Covid19Sim-Simulator', 'CovidAnalytics-DELPHI', 'DDS-NBDS',\n",
       "        'IHME-CurveFit', 'JHUAPL-Bucky', 'JHU_CSSE-DECOM',\n",
       "        'JHU_IDD-CovidSP', 'Karlen-pypm', 'LANL-GrowthRate', 'LNQ-ens1',\n",
       "        'MIT_CritData-GBCF', 'Microsoft-DeepSTIA', 'OliverWyman-Navigator',\n",
       "        'PSI-DRAFT', 'RobertWalraven-ESG', 'SteveMcConnell-CovidComplete',\n",
       "        'UA-EpiCovDA', 'UCLA-SuEIR', 'UMass-MechBayes', 'USC-SI_kJalpha',\n",
       "        'epiforecasts-ensemble1'], dtype=object),\n",
       " '4 wk ahead inc case': array(['BPagano-RtDriven', 'CEID-Walk', 'COVIDhub-baseline', 'CU-select',\n",
       "        'Covid19Sim-Simulator', 'CovidAnalytics-DELPHI',\n",
       "        'IEM_MED-CovidProject', 'JHUAPL-Bucky', 'JHU_CSSE-DECOM',\n",
       "        'JHU_IDD-CovidSP', 'Karlen-pypm', 'LANL-GrowthRate', 'LNQ-ens1',\n",
       "        'MUNI-ARIMA', 'Microsoft-DeepSTIA', 'RobertWalraven-ESG',\n",
       "        'UCLA-SuEIR', 'USC-SI_kJalpha', 'UVA-Ensemble'], dtype=object),\n",
       " '4 wk ahead inc death': array(['BPagano-RtDriven', 'CEID-Walk', 'COVIDhub-baseline', 'CU-select',\n",
       "        'Covid19Sim-Simulator', 'CovidAnalytics-DELPHI', 'DDS-NBDS',\n",
       "        'IEM_MED-CovidProject', 'IHME-CurveFit', 'JHUAPL-Bucky',\n",
       "        'JHU_CSSE-DECOM', 'JHU_IDD-CovidSP', 'Karlen-pypm',\n",
       "        'LANL-GrowthRate', 'LNQ-ens1', 'MIT_CritData-GBCF', 'MUNI-ARIMA',\n",
       "        'Microsoft-DeepSTIA', 'OliverWyman-Navigator', 'PSI-DRAFT',\n",
       "        'RobertWalraven-ESG', 'SteveMcConnell-CovidComplete',\n",
       "        'UA-EpiCovDA', 'UCLA-SuEIR', 'UMass-MechBayes', 'USC-SI_kJalpha',\n",
       "        'epiforecasts-ensemble1'], dtype=object)}"
      ]
     },
     "execution_count": 27,
     "metadata": {},
     "output_type": "execute_result"
    }
   ],
   "source": [
    "available_models"
   ]
  },
  {
   "cell_type": "markdown",
   "metadata": {},
   "source": [
    "## Training Data"
   ]
  },
  {
   "cell_type": "markdown",
   "metadata": {},
   "source": [
    "d - 4 weeks - (horizon - 1) --> end: d - horizon"
   ]
  },
  {
   "cell_type": "code",
   "execution_count": 28,
   "metadata": {},
   "outputs": [],
   "source": [
    "lower_bound = test_date - pd.Timedelta(weeks=4) - pd.Timedelta(weeks=(4 - 1))"
   ]
  },
  {
   "cell_type": "code",
   "execution_count": 29,
   "metadata": {},
   "outputs": [
    {
     "data": {
      "text/plain": [
       "Timestamp('2021-04-19 00:00:00')"
      ]
     },
     "execution_count": 29,
     "metadata": {},
     "output_type": "execute_result"
    }
   ],
   "source": [
    "lower_bound"
   ]
  },
  {
   "cell_type": "code",
   "execution_count": 30,
   "metadata": {},
   "outputs": [],
   "source": [
    "df_files = df_files[(df_files.timezero >= lower_bound) & (df_files.timezero < test_date)].copy()"
   ]
  },
  {
   "cell_type": "code",
   "execution_count": 31,
   "metadata": {},
   "outputs": [],
   "source": [
    "# assigns to each horizon the corresponding training forecast dates for the test date\n",
    "h_dict = {}\n",
    "for h in range(1, 5):\n",
    "    h_dict[h] = [test_date - pd.Timedelta(weeks=4) - pd.Timedelta(weeks=(h - 1)), \n",
    "                 test_date - pd.Timedelta(weeks=h)]"
   ]
  },
  {
   "cell_type": "code",
   "execution_count": 32,
   "metadata": {
    "scrolled": false
   },
   "outputs": [
    {
     "data": {
      "text/plain": [
       "{1: [Timestamp('2021-05-10 00:00:00'), Timestamp('2021-05-31 00:00:00')],\n",
       " 2: [Timestamp('2021-05-03 00:00:00'), Timestamp('2021-05-24 00:00:00')],\n",
       " 3: [Timestamp('2021-04-26 00:00:00'), Timestamp('2021-05-17 00:00:00')],\n",
       " 4: [Timestamp('2021-04-19 00:00:00'), Timestamp('2021-05-10 00:00:00')]}"
      ]
     },
     "execution_count": 32,
     "metadata": {},
     "output_type": "execute_result"
    }
   ],
   "source": [
    "h_dict"
   ]
  },
  {
   "cell_type": "code",
   "execution_count": 33,
   "metadata": {},
   "outputs": [],
   "source": [
    "def relevant_horizons(d):\n",
    "    hs = []\n",
    "    for h in range(1, 5):\n",
    "        if((d >= h_dict[h][0]) & (d <= h_dict[h][1])):\n",
    "            hs.append(h)\n",
    "    return hs"
   ]
  },
  {
   "cell_type": "code",
   "execution_count": 34,
   "metadata": {},
   "outputs": [],
   "source": [
    "df_files['horizons'] = df_files.timezero.apply(relevant_horizons)"
   ]
  },
  {
   "cell_type": "code",
   "execution_count": 35,
   "metadata": {},
   "outputs": [
    {
     "data": {
      "text/html": [
       "<div>\n",
       "<style scoped>\n",
       "    .dataframe tbody tr th:only-of-type {\n",
       "        vertical-align: middle;\n",
       "    }\n",
       "\n",
       "    .dataframe tbody tr th {\n",
       "        vertical-align: top;\n",
       "    }\n",
       "\n",
       "    .dataframe thead th {\n",
       "        text-align: right;\n",
       "    }\n",
       "</style>\n",
       "<table border=\"1\" class=\"dataframe\">\n",
       "  <thead>\n",
       "    <tr style=\"text-align: right;\">\n",
       "      <th></th>\n",
       "      <th>filename</th>\n",
       "      <th>model</th>\n",
       "      <th>forecast_date</th>\n",
       "      <th>timezero</th>\n",
       "      <th>horizons</th>\n",
       "    </tr>\n",
       "  </thead>\n",
       "  <tbody>\n",
       "    <tr>\n",
       "      <th>17</th>\n",
       "      <td>data-processed/AIpert-pwllnod/2021-04-19-AIper...</td>\n",
       "      <td>AIpert-pwllnod</td>\n",
       "      <td>2021-04-19</td>\n",
       "      <td>2021-04-19</td>\n",
       "      <td>[4]</td>\n",
       "    </tr>\n",
       "    <tr>\n",
       "      <th>18</th>\n",
       "      <td>data-processed/AIpert-pwllnod/2021-04-26-AIper...</td>\n",
       "      <td>AIpert-pwllnod</td>\n",
       "      <td>2021-04-26</td>\n",
       "      <td>2021-04-26</td>\n",
       "      <td>[3, 4]</td>\n",
       "    </tr>\n",
       "    <tr>\n",
       "      <th>19</th>\n",
       "      <td>data-processed/AIpert-pwllnod/2021-05-03-AIper...</td>\n",
       "      <td>AIpert-pwllnod</td>\n",
       "      <td>2021-05-03</td>\n",
       "      <td>2021-05-03</td>\n",
       "      <td>[2, 3, 4]</td>\n",
       "    </tr>\n",
       "    <tr>\n",
       "      <th>20</th>\n",
       "      <td>data-processed/AIpert-pwllnod/2021-05-10-AIper...</td>\n",
       "      <td>AIpert-pwllnod</td>\n",
       "      <td>2021-05-10</td>\n",
       "      <td>2021-05-10</td>\n",
       "      <td>[1, 2, 3, 4]</td>\n",
       "    </tr>\n",
       "    <tr>\n",
       "      <th>21</th>\n",
       "      <td>data-processed/AIpert-pwllnod/2021-05-17-AIper...</td>\n",
       "      <td>AIpert-pwllnod</td>\n",
       "      <td>2021-05-17</td>\n",
       "      <td>2021-05-17</td>\n",
       "      <td>[1, 2, 3]</td>\n",
       "    </tr>\n",
       "    <tr>\n",
       "      <th>...</th>\n",
       "      <td>...</td>\n",
       "      <td>...</td>\n",
       "      <td>...</td>\n",
       "      <td>...</td>\n",
       "      <td>...</td>\n",
       "    </tr>\n",
       "    <tr>\n",
       "      <th>3611</th>\n",
       "      <td>data-processed/epiforecasts-ensemble1/2021-05-...</td>\n",
       "      <td>epiforecasts-ensemble1</td>\n",
       "      <td>2021-05-03</td>\n",
       "      <td>2021-05-03</td>\n",
       "      <td>[2, 3, 4]</td>\n",
       "    </tr>\n",
       "    <tr>\n",
       "      <th>3612</th>\n",
       "      <td>data-processed/epiforecasts-ensemble1/2021-05-...</td>\n",
       "      <td>epiforecasts-ensemble1</td>\n",
       "      <td>2021-05-10</td>\n",
       "      <td>2021-05-10</td>\n",
       "      <td>[1, 2, 3, 4]</td>\n",
       "    </tr>\n",
       "    <tr>\n",
       "      <th>3613</th>\n",
       "      <td>data-processed/epiforecasts-ensemble1/2021-05-...</td>\n",
       "      <td>epiforecasts-ensemble1</td>\n",
       "      <td>2021-05-17</td>\n",
       "      <td>2021-05-17</td>\n",
       "      <td>[1, 2, 3]</td>\n",
       "    </tr>\n",
       "    <tr>\n",
       "      <th>3614</th>\n",
       "      <td>data-processed/epiforecasts-ensemble1/2021-05-...</td>\n",
       "      <td>epiforecasts-ensemble1</td>\n",
       "      <td>2021-05-24</td>\n",
       "      <td>2021-05-24</td>\n",
       "      <td>[1, 2]</td>\n",
       "    </tr>\n",
       "    <tr>\n",
       "      <th>3615</th>\n",
       "      <td>data-processed/epiforecasts-ensemble1/2021-05-...</td>\n",
       "      <td>epiforecasts-ensemble1</td>\n",
       "      <td>2021-05-31</td>\n",
       "      <td>2021-05-31</td>\n",
       "      <td>[1]</td>\n",
       "    </tr>\n",
       "  </tbody>\n",
       "</table>\n",
       "<p>412 rows × 5 columns</p>\n",
       "</div>"
      ],
      "text/plain": [
       "                                               filename  \\\n",
       "17    data-processed/AIpert-pwllnod/2021-04-19-AIper...   \n",
       "18    data-processed/AIpert-pwllnod/2021-04-26-AIper...   \n",
       "19    data-processed/AIpert-pwllnod/2021-05-03-AIper...   \n",
       "20    data-processed/AIpert-pwllnod/2021-05-10-AIper...   \n",
       "21    data-processed/AIpert-pwllnod/2021-05-17-AIper...   \n",
       "...                                                 ...   \n",
       "3611  data-processed/epiforecasts-ensemble1/2021-05-...   \n",
       "3612  data-processed/epiforecasts-ensemble1/2021-05-...   \n",
       "3613  data-processed/epiforecasts-ensemble1/2021-05-...   \n",
       "3614  data-processed/epiforecasts-ensemble1/2021-05-...   \n",
       "3615  data-processed/epiforecasts-ensemble1/2021-05-...   \n",
       "\n",
       "                       model forecast_date   timezero      horizons  \n",
       "17            AIpert-pwllnod    2021-04-19 2021-04-19           [4]  \n",
       "18            AIpert-pwllnod    2021-04-26 2021-04-26        [3, 4]  \n",
       "19            AIpert-pwllnod    2021-05-03 2021-05-03     [2, 3, 4]  \n",
       "20            AIpert-pwllnod    2021-05-10 2021-05-10  [1, 2, 3, 4]  \n",
       "21            AIpert-pwllnod    2021-05-17 2021-05-17     [1, 2, 3]  \n",
       "...                      ...           ...        ...           ...  \n",
       "3611  epiforecasts-ensemble1    2021-05-03 2021-05-03     [2, 3, 4]  \n",
       "3612  epiforecasts-ensemble1    2021-05-10 2021-05-10  [1, 2, 3, 4]  \n",
       "3613  epiforecasts-ensemble1    2021-05-17 2021-05-17     [1, 2, 3]  \n",
       "3614  epiforecasts-ensemble1    2021-05-24 2021-05-24        [1, 2]  \n",
       "3615  epiforecasts-ensemble1    2021-05-31 2021-05-31           [1]  \n",
       "\n",
       "[412 rows x 5 columns]"
      ]
     },
     "execution_count": 35,
     "metadata": {},
     "output_type": "execute_result"
    }
   ],
   "source": [
    "df_files"
   ]
  },
  {
   "cell_type": "code",
   "execution_count": 36,
   "metadata": {},
   "outputs": [],
   "source": [
    "# only keep relevant training data\n",
    "df_files = df_files[df_files.horizons.apply(len) > 0]"
   ]
  },
  {
   "cell_type": "code",
   "execution_count": 37,
   "metadata": {
    "scrolled": true
   },
   "outputs": [
    {
     "data": {
      "application/vnd.jupyter.widget-view+json": {
       "model_id": "4f08e3121fb44b00b083ccc7b2231d28",
       "version_major": 2,
       "version_minor": 0
      },
      "text/plain": [
       "  0%|          | 0/412 [00:00<?, ?it/s]"
      ]
     },
     "metadata": {},
     "output_type": "display_data"
    }
   ],
   "source": [
    "dfs = []\n",
    "for _, row in tqdm(df_files.iterrows(), total=df_files.shape[0]):\n",
    "    VALID_TARGETS = [f\"{_} wk ahead inc death\" for _ in row['horizons']] + \\\n",
    "                    [f\"{_} wk ahead cum death\" for _ in row['horizons']] + \\\n",
    "                    [f\"{_} wk ahead inc case\" for _ in row['horizons']]\n",
    "    df_temp = pd.read_csv('https://github.com/reichlab/covid19-forecast-hub/raw/master/' + row['filename'],\n",
    "                         dtype=dtype, parse_dates=parse_dates)\n",
    "    df_temp = df_temp[df_temp.target.isin(VALID_TARGETS)]\n",
    "    df_temp['model'] = row['model']\n",
    "    dfs.append(df_temp)"
   ]
  },
  {
   "cell_type": "code",
   "execution_count": 38,
   "metadata": {},
   "outputs": [],
   "source": [
    "df = pd.concat(dfs)"
   ]
  },
  {
   "cell_type": "code",
   "execution_count": 39,
   "metadata": {},
   "outputs": [
    {
     "data": {
      "text/plain": [
       "(9240288, 8)"
      ]
     },
     "execution_count": 39,
     "metadata": {},
     "output_type": "execute_result"
    }
   ],
   "source": [
    "df.shape"
   ]
  },
  {
   "cell_type": "markdown",
   "metadata": {},
   "source": [
    "# Data Cleaning"
   ]
  },
  {
   "cell_type": "code",
   "execution_count": 40,
   "metadata": {},
   "outputs": [],
   "source": [
    "df = df[df.location.str.len() == 2]\n",
    "df = df[~df.location.isin(locations_to_exclude)]"
   ]
  },
  {
   "cell_type": "code",
   "execution_count": 41,
   "metadata": {},
   "outputs": [
    {
     "data": {
      "text/plain": [
       "52"
      ]
     },
     "execution_count": 41,
     "metadata": {},
     "output_type": "execute_result"
    }
   ],
   "source": [
    "df.location.nunique() # US + 50 states + district of Columbia"
   ]
  },
  {
   "cell_type": "code",
   "execution_count": 42,
   "metadata": {},
   "outputs": [],
   "source": [
    "df = df[df.type == 'quantile']"
   ]
  },
  {
   "cell_type": "code",
   "execution_count": 43,
   "metadata": {},
   "outputs": [],
   "source": [
    "# how many forecasts for each target/model/location? should be 4 for every location\n",
    "df['no_forecasts'] = df.groupby(['target', 'model', 'location'])['target_end_date'].transform('nunique')"
   ]
  },
  {
   "cell_type": "code",
   "execution_count": 44,
   "metadata": {},
   "outputs": [],
   "source": [
    "df = df[df.groupby(['target', 'model'])['no_forecasts'].transform('min') == 4].drop(columns='no_forecasts').reset_index(drop=True)"
   ]
  },
  {
   "cell_type": "code",
   "execution_count": 45,
   "metadata": {},
   "outputs": [],
   "source": [
    "# df = df[df.groupby(['target', 'model', 'location'])['target_end_date'].transform('nunique') == 4]\n",
    "# would only remove the respective location with <4 forecasts, but we want to remove the model as a whole if in one location <4"
   ]
  },
  {
   "cell_type": "code",
   "execution_count": 46,
   "metadata": {},
   "outputs": [],
   "source": [
    "df = df[df.groupby(['target', 'model', 'target_end_date'])['location'].transform('nunique') == 52]"
   ]
  },
  {
   "cell_type": "code",
   "execution_count": 47,
   "metadata": {},
   "outputs": [],
   "source": [
    "df['no_quantiles'] = df.groupby(['model', 'target', 'target_end_date', 'location'])['quantile'].transform('nunique')\n",
    "\n",
    "df['no_quantiles'] = df.groupby(['target', 'model'])['no_quantiles'].transform('min')"
   ]
  },
  {
   "cell_type": "code",
   "execution_count": 48,
   "metadata": {},
   "outputs": [
    {
     "data": {
      "text/html": [
       "<div>\n",
       "<style scoped>\n",
       "    .dataframe tbody tr th:only-of-type {\n",
       "        vertical-align: middle;\n",
       "    }\n",
       "\n",
       "    .dataframe tbody tr th {\n",
       "        vertical-align: top;\n",
       "    }\n",
       "\n",
       "    .dataframe thead th {\n",
       "        text-align: right;\n",
       "    }\n",
       "</style>\n",
       "<table border=\"1\" class=\"dataframe\">\n",
       "  <thead>\n",
       "    <tr style=\"text-align: right;\">\n",
       "      <th></th>\n",
       "      <th>forecast_date</th>\n",
       "      <th>target</th>\n",
       "      <th>target_end_date</th>\n",
       "      <th>quantile</th>\n",
       "      <th>type</th>\n",
       "      <th>value</th>\n",
       "      <th>location</th>\n",
       "      <th>model</th>\n",
       "      <th>no_quantiles</th>\n",
       "    </tr>\n",
       "  </thead>\n",
       "  <tbody>\n",
       "    <tr>\n",
       "      <th>9048</th>\n",
       "      <td>2021-04-18</td>\n",
       "      <td>4 wk ahead inc case</td>\n",
       "      <td>2021-05-15</td>\n",
       "      <td>0.025</td>\n",
       "      <td>quantile</td>\n",
       "      <td>287642.145780</td>\n",
       "      <td>US</td>\n",
       "      <td>BPagano-RtDriven</td>\n",
       "      <td>7</td>\n",
       "    </tr>\n",
       "    <tr>\n",
       "      <th>9049</th>\n",
       "      <td>2021-04-18</td>\n",
       "      <td>4 wk ahead inc case</td>\n",
       "      <td>2021-05-15</td>\n",
       "      <td>0.100</td>\n",
       "      <td>quantile</td>\n",
       "      <td>432397.705050</td>\n",
       "      <td>US</td>\n",
       "      <td>BPagano-RtDriven</td>\n",
       "      <td>7</td>\n",
       "    </tr>\n",
       "    <tr>\n",
       "      <th>9050</th>\n",
       "      <td>2021-04-18</td>\n",
       "      <td>4 wk ahead inc case</td>\n",
       "      <td>2021-05-15</td>\n",
       "      <td>0.250</td>\n",
       "      <td>quantile</td>\n",
       "      <td>563951.691570</td>\n",
       "      <td>US</td>\n",
       "      <td>BPagano-RtDriven</td>\n",
       "      <td>7</td>\n",
       "    </tr>\n",
       "    <tr>\n",
       "      <th>9051</th>\n",
       "      <td>2021-04-18</td>\n",
       "      <td>4 wk ahead inc case</td>\n",
       "      <td>2021-05-15</td>\n",
       "      <td>0.500</td>\n",
       "      <td>quantile</td>\n",
       "      <td>710601.202180</td>\n",
       "      <td>US</td>\n",
       "      <td>BPagano-RtDriven</td>\n",
       "      <td>7</td>\n",
       "    </tr>\n",
       "    <tr>\n",
       "      <th>9052</th>\n",
       "      <td>2021-04-18</td>\n",
       "      <td>4 wk ahead inc case</td>\n",
       "      <td>2021-05-15</td>\n",
       "      <td>0.750</td>\n",
       "      <td>quantile</td>\n",
       "      <td>857250.712790</td>\n",
       "      <td>US</td>\n",
       "      <td>BPagano-RtDriven</td>\n",
       "      <td>7</td>\n",
       "    </tr>\n",
       "    <tr>\n",
       "      <th>...</th>\n",
       "      <td>...</td>\n",
       "      <td>...</td>\n",
       "      <td>...</td>\n",
       "      <td>...</td>\n",
       "      <td>...</td>\n",
       "      <td>...</td>\n",
       "      <td>...</td>\n",
       "      <td>...</td>\n",
       "      <td>...</td>\n",
       "    </tr>\n",
       "    <tr>\n",
       "      <th>1093463</th>\n",
       "      <td>2021-05-31</td>\n",
       "      <td>1 wk ahead inc case</td>\n",
       "      <td>2021-06-05</td>\n",
       "      <td>0.250</td>\n",
       "      <td>quantile</td>\n",
       "      <td>68914.269130</td>\n",
       "      <td>US</td>\n",
       "      <td>UVA-Ensemble</td>\n",
       "      <td>7</td>\n",
       "    </tr>\n",
       "    <tr>\n",
       "      <th>1093464</th>\n",
       "      <td>2021-05-31</td>\n",
       "      <td>1 wk ahead inc case</td>\n",
       "      <td>2021-06-05</td>\n",
       "      <td>0.500</td>\n",
       "      <td>quantile</td>\n",
       "      <td>125428.548112</td>\n",
       "      <td>US</td>\n",
       "      <td>UVA-Ensemble</td>\n",
       "      <td>7</td>\n",
       "    </tr>\n",
       "    <tr>\n",
       "      <th>1093465</th>\n",
       "      <td>2021-05-31</td>\n",
       "      <td>1 wk ahead inc case</td>\n",
       "      <td>2021-06-05</td>\n",
       "      <td>0.750</td>\n",
       "      <td>quantile</td>\n",
       "      <td>181942.827095</td>\n",
       "      <td>US</td>\n",
       "      <td>UVA-Ensemble</td>\n",
       "      <td>7</td>\n",
       "    </tr>\n",
       "    <tr>\n",
       "      <th>1093466</th>\n",
       "      <td>2021-05-31</td>\n",
       "      <td>1 wk ahead inc case</td>\n",
       "      <td>2021-06-05</td>\n",
       "      <td>0.900</td>\n",
       "      <td>quantile</td>\n",
       "      <td>232807.441097</td>\n",
       "      <td>US</td>\n",
       "      <td>UVA-Ensemble</td>\n",
       "      <td>7</td>\n",
       "    </tr>\n",
       "    <tr>\n",
       "      <th>1093467</th>\n",
       "      <td>2021-05-31</td>\n",
       "      <td>1 wk ahead inc case</td>\n",
       "      <td>2021-06-05</td>\n",
       "      <td>0.975</td>\n",
       "      <td>quantile</td>\n",
       "      <td>289650.393419</td>\n",
       "      <td>US</td>\n",
       "      <td>UVA-Ensemble</td>\n",
       "      <td>7</td>\n",
       "    </tr>\n",
       "  </tbody>\n",
       "</table>\n",
       "<p>105924 rows × 9 columns</p>\n",
       "</div>"
      ],
      "text/plain": [
       "        forecast_date               target target_end_date  quantile  \\\n",
       "9048       2021-04-18  4 wk ahead inc case      2021-05-15     0.025   \n",
       "9049       2021-04-18  4 wk ahead inc case      2021-05-15     0.100   \n",
       "9050       2021-04-18  4 wk ahead inc case      2021-05-15     0.250   \n",
       "9051       2021-04-18  4 wk ahead inc case      2021-05-15     0.500   \n",
       "9052       2021-04-18  4 wk ahead inc case      2021-05-15     0.750   \n",
       "...               ...                  ...             ...       ...   \n",
       "1093463    2021-05-31  1 wk ahead inc case      2021-06-05     0.250   \n",
       "1093464    2021-05-31  1 wk ahead inc case      2021-06-05     0.500   \n",
       "1093465    2021-05-31  1 wk ahead inc case      2021-06-05     0.750   \n",
       "1093466    2021-05-31  1 wk ahead inc case      2021-06-05     0.900   \n",
       "1093467    2021-05-31  1 wk ahead inc case      2021-06-05     0.975   \n",
       "\n",
       "             type          value location             model  no_quantiles  \n",
       "9048     quantile  287642.145780       US  BPagano-RtDriven             7  \n",
       "9049     quantile  432397.705050       US  BPagano-RtDriven             7  \n",
       "9050     quantile  563951.691570       US  BPagano-RtDriven             7  \n",
       "9051     quantile  710601.202180       US  BPagano-RtDriven             7  \n",
       "9052     quantile  857250.712790       US  BPagano-RtDriven             7  \n",
       "...           ...            ...      ...               ...           ...  \n",
       "1093463  quantile   68914.269130       US      UVA-Ensemble             7  \n",
       "1093464  quantile  125428.548112       US      UVA-Ensemble             7  \n",
       "1093465  quantile  181942.827095       US      UVA-Ensemble             7  \n",
       "1093466  quantile  232807.441097       US      UVA-Ensemble             7  \n",
       "1093467  quantile  289650.393419       US      UVA-Ensemble             7  \n",
       "\n",
       "[105924 rows x 9 columns]"
      ]
     },
     "execution_count": 48,
     "metadata": {},
     "output_type": "execute_result"
    }
   ],
   "source": [
    "df[(df.target.str.contains('inc case') & (df.no_quantiles == 7))]"
   ]
  },
  {
   "cell_type": "code",
   "execution_count": 49,
   "metadata": {},
   "outputs": [],
   "source": [
    "df = df[(df.no_quantiles == 23) | \n",
    "        (df.target.str.contains('inc case') & (df.no_quantiles == 7))].drop(columns='no_quantiles').reset_index(drop=True)"
   ]
  },
  {
   "cell_type": "code",
   "execution_count": 50,
   "metadata": {
    "scrolled": true
   },
   "outputs": [
    {
     "data": {
      "text/plain": [
       "target\n",
       "1 wk ahead cum death    22\n",
       "1 wk ahead inc case     20\n",
       "1 wk ahead inc death    24\n",
       "2 wk ahead cum death    20\n",
       "2 wk ahead inc case     18\n",
       "2 wk ahead inc death    22\n",
       "3 wk ahead cum death    20\n",
       "3 wk ahead inc case     16\n",
       "3 wk ahead inc death    22\n",
       "4 wk ahead cum death    20\n",
       "4 wk ahead inc case     15\n",
       "4 wk ahead inc death    21\n",
       "Name: model, dtype: int64"
      ]
     },
     "execution_count": 50,
     "metadata": {},
     "output_type": "execute_result"
    }
   ],
   "source": [
    "df.groupby('target').model.nunique()"
   ]
  },
  {
   "cell_type": "code",
   "execution_count": 51,
   "metadata": {},
   "outputs": [
    {
     "data": {
      "text/plain": [
       "[('1 wk ahead cum death', 'KITmetricslab-select_ensemble'),\n",
       " ('1 wk ahead inc case', 'KITmetricslab-select_ensemble'),\n",
       " ('1 wk ahead inc death', 'KITmetricslab-select_ensemble'),\n",
       " ('2 wk ahead cum death', 'KITmetricslab-select_ensemble'),\n",
       " ('2 wk ahead inc case', 'KITmetricslab-select_ensemble'),\n",
       " ('2 wk ahead inc death', 'KITmetricslab-select_ensemble')]"
      ]
     },
     "execution_count": 51,
     "metadata": {},
     "output_type": "execute_result"
    }
   ],
   "source": [
    "# check if there are models used for training that are not available for the test date\n",
    "train_models = dict(df.groupby('target').model.unique())\n",
    "\n",
    "a = [(k, t) for k, v in train_models.items() for t in v]\n",
    "b = [(k, t) for k, v in available_models.items() for t in v]\n",
    "\n",
    "[i for i in a if i not in b]"
   ]
  },
  {
   "cell_type": "code",
   "execution_count": 52,
   "metadata": {},
   "outputs": [],
   "source": [
    "df = df[df.apply(lambda x: x.model in (available_models[x.target]), axis=1)]"
   ]
  },
  {
   "cell_type": "code",
   "execution_count": 53,
   "metadata": {},
   "outputs": [
    {
     "data": {
      "text/plain": [
       "target\n",
       "1 wk ahead cum death    21\n",
       "1 wk ahead inc case     19\n",
       "1 wk ahead inc death    23\n",
       "2 wk ahead cum death    19\n",
       "2 wk ahead inc case     17\n",
       "2 wk ahead inc death    21\n",
       "3 wk ahead cum death    20\n",
       "3 wk ahead inc case     16\n",
       "3 wk ahead inc death    22\n",
       "4 wk ahead cum death    20\n",
       "4 wk ahead inc case     15\n",
       "4 wk ahead inc death    21\n",
       "Name: model, dtype: int64"
      ]
     },
     "execution_count": 53,
     "metadata": {},
     "output_type": "execute_result"
    }
   ],
   "source": [
    "df.groupby('target').model.nunique()"
   ]
  },
  {
   "cell_type": "code",
   "execution_count": 54,
   "metadata": {},
   "outputs": [
    {
     "data": {
      "text/plain": [
       "(937820, 8)"
      ]
     },
     "execution_count": 54,
     "metadata": {},
     "output_type": "execute_result"
    }
   ],
   "source": [
    "df.shape"
   ]
  },
  {
   "cell_type": "code",
   "execution_count": 55,
   "metadata": {},
   "outputs": [],
   "source": [
    "models_by_target = pd.DataFrame([(i, k) for i,j in train_models.items() for k in j], \n",
    "                  columns=['target','model'])"
   ]
  },
  {
   "cell_type": "code",
   "execution_count": 56,
   "metadata": {},
   "outputs": [
    {
     "data": {
      "text/html": [
       "<div>\n",
       "<style scoped>\n",
       "    .dataframe tbody tr th:only-of-type {\n",
       "        vertical-align: middle;\n",
       "    }\n",
       "\n",
       "    .dataframe tbody tr th {\n",
       "        vertical-align: top;\n",
       "    }\n",
       "\n",
       "    .dataframe thead th {\n",
       "        text-align: right;\n",
       "    }\n",
       "</style>\n",
       "<table border=\"1\" class=\"dataframe\">\n",
       "  <thead>\n",
       "    <tr style=\"text-align: right;\">\n",
       "      <th></th>\n",
       "      <th>target</th>\n",
       "      <th>model</th>\n",
       "    </tr>\n",
       "  </thead>\n",
       "  <tbody>\n",
       "    <tr>\n",
       "      <th>184</th>\n",
       "      <td>4 wk ahead cum death</td>\n",
       "      <td>BPagano-RtDriven</td>\n",
       "    </tr>\n",
       "    <tr>\n",
       "      <th>185</th>\n",
       "      <td>4 wk ahead cum death</td>\n",
       "      <td>CEID-Walk</td>\n",
       "    </tr>\n",
       "    <tr>\n",
       "      <th>186</th>\n",
       "      <td>4 wk ahead cum death</td>\n",
       "      <td>COVIDhub-baseline</td>\n",
       "    </tr>\n",
       "    <tr>\n",
       "      <th>187</th>\n",
       "      <td>4 wk ahead cum death</td>\n",
       "      <td>CU-select</td>\n",
       "    </tr>\n",
       "    <tr>\n",
       "      <th>188</th>\n",
       "      <td>4 wk ahead cum death</td>\n",
       "      <td>Covid19Sim-Simulator</td>\n",
       "    </tr>\n",
       "    <tr>\n",
       "      <th>189</th>\n",
       "      <td>4 wk ahead cum death</td>\n",
       "      <td>CovidAnalytics-DELPHI</td>\n",
       "    </tr>\n",
       "    <tr>\n",
       "      <th>190</th>\n",
       "      <td>4 wk ahead cum death</td>\n",
       "      <td>DDS-NBDS</td>\n",
       "    </tr>\n",
       "    <tr>\n",
       "      <th>191</th>\n",
       "      <td>4 wk ahead cum death</td>\n",
       "      <td>JHUAPL-Bucky</td>\n",
       "    </tr>\n",
       "    <tr>\n",
       "      <th>192</th>\n",
       "      <td>4 wk ahead cum death</td>\n",
       "      <td>JHU_CSSE-DECOM</td>\n",
       "    </tr>\n",
       "    <tr>\n",
       "      <th>193</th>\n",
       "      <td>4 wk ahead cum death</td>\n",
       "      <td>Karlen-pypm</td>\n",
       "    </tr>\n",
       "    <tr>\n",
       "      <th>194</th>\n",
       "      <td>4 wk ahead cum death</td>\n",
       "      <td>LANL-GrowthRate</td>\n",
       "    </tr>\n",
       "    <tr>\n",
       "      <th>195</th>\n",
       "      <td>4 wk ahead cum death</td>\n",
       "      <td>LNQ-ens1</td>\n",
       "    </tr>\n",
       "    <tr>\n",
       "      <th>196</th>\n",
       "      <td>4 wk ahead cum death</td>\n",
       "      <td>MIT_CritData-GBCF</td>\n",
       "    </tr>\n",
       "    <tr>\n",
       "      <th>197</th>\n",
       "      <td>4 wk ahead cum death</td>\n",
       "      <td>OliverWyman-Navigator</td>\n",
       "    </tr>\n",
       "    <tr>\n",
       "      <th>198</th>\n",
       "      <td>4 wk ahead cum death</td>\n",
       "      <td>RobertWalraven-ESG</td>\n",
       "    </tr>\n",
       "    <tr>\n",
       "      <th>199</th>\n",
       "      <td>4 wk ahead cum death</td>\n",
       "      <td>SteveMcConnell-CovidComplete</td>\n",
       "    </tr>\n",
       "    <tr>\n",
       "      <th>200</th>\n",
       "      <td>4 wk ahead cum death</td>\n",
       "      <td>UA-EpiCovDA</td>\n",
       "    </tr>\n",
       "    <tr>\n",
       "      <th>201</th>\n",
       "      <td>4 wk ahead cum death</td>\n",
       "      <td>UMass-MechBayes</td>\n",
       "    </tr>\n",
       "    <tr>\n",
       "      <th>202</th>\n",
       "      <td>4 wk ahead cum death</td>\n",
       "      <td>USC-SI_kJalpha</td>\n",
       "    </tr>\n",
       "    <tr>\n",
       "      <th>203</th>\n",
       "      <td>4 wk ahead cum death</td>\n",
       "      <td>epiforecasts-ensemble1</td>\n",
       "    </tr>\n",
       "  </tbody>\n",
       "</table>\n",
       "</div>"
      ],
      "text/plain": [
       "                   target                         model\n",
       "184  4 wk ahead cum death              BPagano-RtDriven\n",
       "185  4 wk ahead cum death                     CEID-Walk\n",
       "186  4 wk ahead cum death             COVIDhub-baseline\n",
       "187  4 wk ahead cum death                     CU-select\n",
       "188  4 wk ahead cum death          Covid19Sim-Simulator\n",
       "189  4 wk ahead cum death         CovidAnalytics-DELPHI\n",
       "190  4 wk ahead cum death                      DDS-NBDS\n",
       "191  4 wk ahead cum death                  JHUAPL-Bucky\n",
       "192  4 wk ahead cum death                JHU_CSSE-DECOM\n",
       "193  4 wk ahead cum death                   Karlen-pypm\n",
       "194  4 wk ahead cum death               LANL-GrowthRate\n",
       "195  4 wk ahead cum death                      LNQ-ens1\n",
       "196  4 wk ahead cum death             MIT_CritData-GBCF\n",
       "197  4 wk ahead cum death         OliverWyman-Navigator\n",
       "198  4 wk ahead cum death            RobertWalraven-ESG\n",
       "199  4 wk ahead cum death  SteveMcConnell-CovidComplete\n",
       "200  4 wk ahead cum death                   UA-EpiCovDA\n",
       "201  4 wk ahead cum death               UMass-MechBayes\n",
       "202  4 wk ahead cum death                USC-SI_kJalpha\n",
       "203  4 wk ahead cum death        epiforecasts-ensemble1"
      ]
     },
     "execution_count": 56,
     "metadata": {},
     "output_type": "execute_result"
    }
   ],
   "source": [
    "models_by_target[models_by_target.target == '4 wk ahead cum death']"
   ]
  },
  {
   "cell_type": "code",
   "execution_count": 57,
   "metadata": {},
   "outputs": [],
   "source": [
    "df = df[~df.model.isin(models_to_exclude)]"
   ]
  },
  {
   "cell_type": "code",
   "execution_count": 58,
   "metadata": {},
   "outputs": [
    {
     "data": {
      "text/html": [
       "<div>\n",
       "<style scoped>\n",
       "    .dataframe tbody tr th:only-of-type {\n",
       "        vertical-align: middle;\n",
       "    }\n",
       "\n",
       "    .dataframe tbody tr th {\n",
       "        vertical-align: top;\n",
       "    }\n",
       "\n",
       "    .dataframe thead th {\n",
       "        text-align: right;\n",
       "    }\n",
       "</style>\n",
       "<table border=\"1\" class=\"dataframe\">\n",
       "  <thead>\n",
       "    <tr style=\"text-align: right;\">\n",
       "      <th></th>\n",
       "      <th>forecast_date</th>\n",
       "      <th>target</th>\n",
       "      <th>target_end_date</th>\n",
       "      <th>quantile</th>\n",
       "      <th>type</th>\n",
       "      <th>value</th>\n",
       "      <th>location</th>\n",
       "      <th>model</th>\n",
       "    </tr>\n",
       "  </thead>\n",
       "  <tbody>\n",
       "    <tr>\n",
       "      <th>0</th>\n",
       "      <td>2021-04-18</td>\n",
       "      <td>4 wk ahead inc death</td>\n",
       "      <td>2021-05-15</td>\n",
       "      <td>0.010</td>\n",
       "      <td>quantile</td>\n",
       "      <td>2044.06977</td>\n",
       "      <td>US</td>\n",
       "      <td>BPagano-RtDriven</td>\n",
       "    </tr>\n",
       "    <tr>\n",
       "      <th>1</th>\n",
       "      <td>2021-04-18</td>\n",
       "      <td>4 wk ahead inc death</td>\n",
       "      <td>2021-05-15</td>\n",
       "      <td>0.025</td>\n",
       "      <td>quantile</td>\n",
       "      <td>2759.67940</td>\n",
       "      <td>US</td>\n",
       "      <td>BPagano-RtDriven</td>\n",
       "    </tr>\n",
       "    <tr>\n",
       "      <th>2</th>\n",
       "      <td>2021-04-18</td>\n",
       "      <td>4 wk ahead inc death</td>\n",
       "      <td>2021-05-15</td>\n",
       "      <td>0.050</td>\n",
       "      <td>quantile</td>\n",
       "      <td>3399.39670</td>\n",
       "      <td>US</td>\n",
       "      <td>BPagano-RtDriven</td>\n",
       "    </tr>\n",
       "    <tr>\n",
       "      <th>3</th>\n",
       "      <td>2021-04-18</td>\n",
       "      <td>4 wk ahead inc death</td>\n",
       "      <td>2021-05-15</td>\n",
       "      <td>0.100</td>\n",
       "      <td>quantile</td>\n",
       "      <td>4148.48469</td>\n",
       "      <td>US</td>\n",
       "      <td>BPagano-RtDriven</td>\n",
       "    </tr>\n",
       "    <tr>\n",
       "      <th>4</th>\n",
       "      <td>2021-04-18</td>\n",
       "      <td>4 wk ahead inc death</td>\n",
       "      <td>2021-05-15</td>\n",
       "      <td>0.150</td>\n",
       "      <td>quantile</td>\n",
       "      <td>4657.18155</td>\n",
       "      <td>US</td>\n",
       "      <td>BPagano-RtDriven</td>\n",
       "    </tr>\n",
       "    <tr>\n",
       "      <th>...</th>\n",
       "      <td>...</td>\n",
       "      <td>...</td>\n",
       "      <td>...</td>\n",
       "      <td>...</td>\n",
       "      <td>...</td>\n",
       "      <td>...</td>\n",
       "      <td>...</td>\n",
       "      <td>...</td>\n",
       "    </tr>\n",
       "    <tr>\n",
       "      <th>959863</th>\n",
       "      <td>2021-05-31</td>\n",
       "      <td>1 wk ahead cum death</td>\n",
       "      <td>2021-06-05</td>\n",
       "      <td>0.850</td>\n",
       "      <td>quantile</td>\n",
       "      <td>598758.00000</td>\n",
       "      <td>US</td>\n",
       "      <td>epiforecasts-ensemble1</td>\n",
       "    </tr>\n",
       "    <tr>\n",
       "      <th>959864</th>\n",
       "      <td>2021-05-31</td>\n",
       "      <td>1 wk ahead cum death</td>\n",
       "      <td>2021-06-05</td>\n",
       "      <td>0.900</td>\n",
       "      <td>quantile</td>\n",
       "      <td>598849.00000</td>\n",
       "      <td>US</td>\n",
       "      <td>epiforecasts-ensemble1</td>\n",
       "    </tr>\n",
       "    <tr>\n",
       "      <th>959865</th>\n",
       "      <td>2021-05-31</td>\n",
       "      <td>1 wk ahead cum death</td>\n",
       "      <td>2021-06-05</td>\n",
       "      <td>0.950</td>\n",
       "      <td>quantile</td>\n",
       "      <td>598984.00000</td>\n",
       "      <td>US</td>\n",
       "      <td>epiforecasts-ensemble1</td>\n",
       "    </tr>\n",
       "    <tr>\n",
       "      <th>959866</th>\n",
       "      <td>2021-05-31</td>\n",
       "      <td>1 wk ahead cum death</td>\n",
       "      <td>2021-06-05</td>\n",
       "      <td>0.975</td>\n",
       "      <td>quantile</td>\n",
       "      <td>599062.00000</td>\n",
       "      <td>US</td>\n",
       "      <td>epiforecasts-ensemble1</td>\n",
       "    </tr>\n",
       "    <tr>\n",
       "      <th>959867</th>\n",
       "      <td>2021-05-31</td>\n",
       "      <td>1 wk ahead cum death</td>\n",
       "      <td>2021-06-05</td>\n",
       "      <td>0.990</td>\n",
       "      <td>quantile</td>\n",
       "      <td>599109.00000</td>\n",
       "      <td>US</td>\n",
       "      <td>epiforecasts-ensemble1</td>\n",
       "    </tr>\n",
       "  </tbody>\n",
       "</table>\n",
       "<p>937820 rows × 8 columns</p>\n",
       "</div>"
      ],
      "text/plain": [
       "       forecast_date                target target_end_date  quantile  \\\n",
       "0         2021-04-18  4 wk ahead inc death      2021-05-15     0.010   \n",
       "1         2021-04-18  4 wk ahead inc death      2021-05-15     0.025   \n",
       "2         2021-04-18  4 wk ahead inc death      2021-05-15     0.050   \n",
       "3         2021-04-18  4 wk ahead inc death      2021-05-15     0.100   \n",
       "4         2021-04-18  4 wk ahead inc death      2021-05-15     0.150   \n",
       "...              ...                   ...             ...       ...   \n",
       "959863    2021-05-31  1 wk ahead cum death      2021-06-05     0.850   \n",
       "959864    2021-05-31  1 wk ahead cum death      2021-06-05     0.900   \n",
       "959865    2021-05-31  1 wk ahead cum death      2021-06-05     0.950   \n",
       "959866    2021-05-31  1 wk ahead cum death      2021-06-05     0.975   \n",
       "959867    2021-05-31  1 wk ahead cum death      2021-06-05     0.990   \n",
       "\n",
       "            type         value location                   model  \n",
       "0       quantile    2044.06977       US        BPagano-RtDriven  \n",
       "1       quantile    2759.67940       US        BPagano-RtDriven  \n",
       "2       quantile    3399.39670       US        BPagano-RtDriven  \n",
       "3       quantile    4148.48469       US        BPagano-RtDriven  \n",
       "4       quantile    4657.18155       US        BPagano-RtDriven  \n",
       "...          ...           ...      ...                     ...  \n",
       "959863  quantile  598758.00000       US  epiforecasts-ensemble1  \n",
       "959864  quantile  598849.00000       US  epiforecasts-ensemble1  \n",
       "959865  quantile  598984.00000       US  epiforecasts-ensemble1  \n",
       "959866  quantile  599062.00000       US  epiforecasts-ensemble1  \n",
       "959867  quantile  599109.00000       US  epiforecasts-ensemble1  \n",
       "\n",
       "[937820 rows x 8 columns]"
      ]
     },
     "execution_count": 58,
     "metadata": {},
     "output_type": "execute_result"
    }
   ],
   "source": [
    "df"
   ]
  },
  {
   "cell_type": "code",
   "execution_count": 59,
   "metadata": {},
   "outputs": [],
   "source": [
    "available_train_models = dict(df.groupby(['target'])['model'].unique())"
   ]
  },
  {
   "cell_type": "code",
   "execution_count": 62,
   "metadata": {},
   "outputs": [
    {
     "data": {
      "text/plain": [
       "{'1 wk ahead cum death': array(['BPagano-RtDriven', 'CEID-Walk', 'COVIDhub-baseline', 'CU-select',\n",
       "        'Covid19Sim-Simulator', 'CovidAnalytics-DELPHI', 'DDS-NBDS',\n",
       "        'IHME-CurveFit', 'JHUAPL-Bucky', 'JHU_IDD-CovidSP', 'Karlen-pypm',\n",
       "        'LANL-GrowthRate', 'LNQ-ens1', 'MIT_CritData-GBCF',\n",
       "        'Microsoft-DeepSTIA', 'RobertWalraven-ESG',\n",
       "        'SteveMcConnell-CovidComplete', 'UA-EpiCovDA', 'UMass-MechBayes',\n",
       "        'USC-SI_kJalpha', 'epiforecasts-ensemble1'], dtype=object),\n",
       " '1 wk ahead inc case': array(['BPagano-RtDriven', 'CEID-Walk', 'COVIDhub-baseline', 'CU-select',\n",
       "        'Covid19Sim-Simulator', 'CovidAnalytics-DELPHI',\n",
       "        'IEM_MED-CovidProject', 'JHUAPL-Bucky', 'JHU_CSSE-DECOM',\n",
       "        'JHU_IDD-CovidSP', 'Karlen-pypm', 'LANL-GrowthRate', 'LNQ-ens1',\n",
       "        'MUNI-ARIMA', 'Microsoft-DeepSTIA', 'RobertWalraven-ESG',\n",
       "        'UChicagoCHATTOPADHYAY-UnIT', 'USC-SI_kJalpha', 'UVA-Ensemble'],\n",
       "       dtype=object),\n",
       " '1 wk ahead inc death': array(['BPagano-RtDriven', 'CEID-Walk', 'COVIDhub-baseline', 'CU-select',\n",
       "        'Covid19Sim-Simulator', 'CovidAnalytics-DELPHI', 'DDS-NBDS',\n",
       "        'IHME-CurveFit', 'JHUAPL-Bucky', 'JHU_CSSE-DECOM',\n",
       "        'JHU_IDD-CovidSP', 'Karlen-pypm', 'LANL-GrowthRate', 'LNQ-ens1',\n",
       "        'MIT_CritData-GBCF', 'MUNI-ARIMA', 'Microsoft-DeepSTIA',\n",
       "        'RobertWalraven-ESG', 'SteveMcConnell-CovidComplete',\n",
       "        'UA-EpiCovDA', 'UMass-MechBayes', 'USC-SI_kJalpha',\n",
       "        'epiforecasts-ensemble1'], dtype=object),\n",
       " '2 wk ahead cum death': array(['BPagano-RtDriven', 'CEID-Walk', 'COVIDhub-baseline', 'CU-select',\n",
       "        'Covid19Sim-Simulator', 'CovidAnalytics-DELPHI', 'DDS-NBDS',\n",
       "        'JHUAPL-Bucky', 'JHU_IDD-CovidSP', 'Karlen-pypm',\n",
       "        'LANL-GrowthRate', 'LNQ-ens1', 'MIT_CritData-GBCF',\n",
       "        'RobertWalraven-ESG', 'SteveMcConnell-CovidComplete',\n",
       "        'UA-EpiCovDA', 'UMass-MechBayes', 'USC-SI_kJalpha',\n",
       "        'epiforecasts-ensemble1'], dtype=object),\n",
       " '2 wk ahead inc case': array(['BPagano-RtDriven', 'CEID-Walk', 'COVIDhub-baseline', 'CU-select',\n",
       "        'Covid19Sim-Simulator', 'CovidAnalytics-DELPHI',\n",
       "        'IEM_MED-CovidProject', 'JHUAPL-Bucky', 'JHU_CSSE-DECOM',\n",
       "        'JHU_IDD-CovidSP', 'Karlen-pypm', 'LANL-GrowthRate', 'LNQ-ens1',\n",
       "        'RobertWalraven-ESG', 'UChicagoCHATTOPADHYAY-UnIT',\n",
       "        'USC-SI_kJalpha', 'UVA-Ensemble'], dtype=object),\n",
       " '2 wk ahead inc death': array(['BPagano-RtDriven', 'CEID-Walk', 'COVIDhub-baseline', 'CU-select',\n",
       "        'Covid19Sim-Simulator', 'CovidAnalytics-DELPHI', 'DDS-NBDS',\n",
       "        'IEM_MED-CovidProject', 'JHUAPL-Bucky', 'JHU_CSSE-DECOM',\n",
       "        'JHU_IDD-CovidSP', 'Karlen-pypm', 'LANL-GrowthRate', 'LNQ-ens1',\n",
       "        'MIT_CritData-GBCF', 'RobertWalraven-ESG',\n",
       "        'SteveMcConnell-CovidComplete', 'UA-EpiCovDA', 'UMass-MechBayes',\n",
       "        'USC-SI_kJalpha', 'epiforecasts-ensemble1'], dtype=object),\n",
       " '3 wk ahead cum death': array(['BPagano-RtDriven', 'CEID-Walk', 'COVIDhub-baseline', 'CU-select',\n",
       "        'Covid19Sim-Simulator', 'CovidAnalytics-DELPHI', 'DDS-NBDS',\n",
       "        'JHUAPL-Bucky', 'JHU_IDD-CovidSP', 'Karlen-pypm',\n",
       "        'LANL-GrowthRate', 'LNQ-ens1', 'MIT_CritData-GBCF',\n",
       "        'OliverWyman-Navigator', 'RobertWalraven-ESG',\n",
       "        'SteveMcConnell-CovidComplete', 'UA-EpiCovDA', 'UMass-MechBayes',\n",
       "        'USC-SI_kJalpha', 'epiforecasts-ensemble1'], dtype=object),\n",
       " '3 wk ahead inc case': array(['BPagano-RtDriven', 'CEID-Walk', 'COVIDhub-baseline', 'CU-select',\n",
       "        'Covid19Sim-Simulator', 'CovidAnalytics-DELPHI',\n",
       "        'IEM_MED-CovidProject', 'JHUAPL-Bucky', 'JHU_CSSE-DECOM',\n",
       "        'JHU_IDD-CovidSP', 'Karlen-pypm', 'LANL-GrowthRate', 'LNQ-ens1',\n",
       "        'RobertWalraven-ESG', 'USC-SI_kJalpha', 'UVA-Ensemble'],\n",
       "       dtype=object),\n",
       " '3 wk ahead inc death': array(['BPagano-RtDriven', 'CEID-Walk', 'COVIDhub-baseline', 'CU-select',\n",
       "        'Covid19Sim-Simulator', 'CovidAnalytics-DELPHI', 'DDS-NBDS',\n",
       "        'IEM_MED-CovidProject', 'JHUAPL-Bucky', 'JHU_CSSE-DECOM',\n",
       "        'JHU_IDD-CovidSP', 'Karlen-pypm', 'LANL-GrowthRate', 'LNQ-ens1',\n",
       "        'MIT_CritData-GBCF', 'OliverWyman-Navigator', 'RobertWalraven-ESG',\n",
       "        'SteveMcConnell-CovidComplete', 'UA-EpiCovDA', 'UMass-MechBayes',\n",
       "        'USC-SI_kJalpha', 'epiforecasts-ensemble1'], dtype=object),\n",
       " '4 wk ahead cum death': array(['BPagano-RtDriven', 'CEID-Walk', 'COVIDhub-baseline', 'CU-select',\n",
       "        'Covid19Sim-Simulator', 'CovidAnalytics-DELPHI', 'DDS-NBDS',\n",
       "        'JHUAPL-Bucky', 'JHU_CSSE-DECOM', 'Karlen-pypm', 'LANL-GrowthRate',\n",
       "        'LNQ-ens1', 'MIT_CritData-GBCF', 'OliverWyman-Navigator',\n",
       "        'RobertWalraven-ESG', 'SteveMcConnell-CovidComplete',\n",
       "        'UA-EpiCovDA', 'UMass-MechBayes', 'USC-SI_kJalpha',\n",
       "        'epiforecasts-ensemble1'], dtype=object),\n",
       " '4 wk ahead inc case': array(['BPagano-RtDriven', 'CEID-Walk', 'COVIDhub-baseline', 'CU-select',\n",
       "        'Covid19Sim-Simulator', 'CovidAnalytics-DELPHI',\n",
       "        'IEM_MED-CovidProject', 'JHUAPL-Bucky', 'JHU_CSSE-DECOM',\n",
       "        'Karlen-pypm', 'LANL-GrowthRate', 'LNQ-ens1', 'RobertWalraven-ESG',\n",
       "        'USC-SI_kJalpha', 'UVA-Ensemble'], dtype=object),\n",
       " '4 wk ahead inc death': array(['BPagano-RtDriven', 'CEID-Walk', 'COVIDhub-baseline', 'CU-select',\n",
       "        'Covid19Sim-Simulator', 'CovidAnalytics-DELPHI', 'DDS-NBDS',\n",
       "        'IEM_MED-CovidProject', 'JHUAPL-Bucky', 'JHU_CSSE-DECOM',\n",
       "        'Karlen-pypm', 'LANL-GrowthRate', 'LNQ-ens1', 'MIT_CritData-GBCF',\n",
       "        'OliverWyman-Navigator', 'RobertWalraven-ESG',\n",
       "        'SteveMcConnell-CovidComplete', 'UA-EpiCovDA', 'UMass-MechBayes',\n",
       "        'USC-SI_kJalpha', 'epiforecasts-ensemble1'], dtype=object)}"
      ]
     },
     "execution_count": 62,
     "metadata": {},
     "output_type": "execute_result"
    }
   ],
   "source": [
    "available_train_models"
   ]
  },
  {
   "cell_type": "code",
   "execution_count": 61,
   "metadata": {},
   "outputs": [
    {
     "data": {
      "text/plain": [
       "(288184, 8)"
      ]
     },
     "execution_count": 61,
     "metadata": {},
     "output_type": "execute_result"
    }
   ],
   "source": [
    "df_test.shape"
   ]
  },
  {
   "cell_type": "code",
   "execution_count": 63,
   "metadata": {},
   "outputs": [],
   "source": [
    "df_test = df_test[df_test.apply(lambda x: x.model in (available_train_models[x.target]), axis=1)]"
   ]
  },
  {
   "cell_type": "code",
   "execution_count": 64,
   "metadata": {},
   "outputs": [
    {
     "data": {
      "text/html": [
       "<div>\n",
       "<style scoped>\n",
       "    .dataframe tbody tr th:only-of-type {\n",
       "        vertical-align: middle;\n",
       "    }\n",
       "\n",
       "    .dataframe tbody tr th {\n",
       "        vertical-align: top;\n",
       "    }\n",
       "\n",
       "    .dataframe thead th {\n",
       "        text-align: right;\n",
       "    }\n",
       "</style>\n",
       "<table border=\"1\" class=\"dataframe\">\n",
       "  <thead>\n",
       "    <tr style=\"text-align: right;\">\n",
       "      <th></th>\n",
       "      <th>forecast_date</th>\n",
       "      <th>target</th>\n",
       "      <th>target_end_date</th>\n",
       "      <th>quantile</th>\n",
       "      <th>type</th>\n",
       "      <th>value</th>\n",
       "      <th>location</th>\n",
       "      <th>model</th>\n",
       "    </tr>\n",
       "  </thead>\n",
       "  <tbody>\n",
       "    <tr>\n",
       "      <th>0</th>\n",
       "      <td>2021-06-06</td>\n",
       "      <td>1 wk ahead inc death</td>\n",
       "      <td>2021-06-12</td>\n",
       "      <td>0.010</td>\n",
       "      <td>quantile</td>\n",
       "      <td>1541.69414</td>\n",
       "      <td>US</td>\n",
       "      <td>BPagano-RtDriven</td>\n",
       "    </tr>\n",
       "    <tr>\n",
       "      <th>1</th>\n",
       "      <td>2021-06-06</td>\n",
       "      <td>1 wk ahead inc death</td>\n",
       "      <td>2021-06-12</td>\n",
       "      <td>0.025</td>\n",
       "      <td>quantile</td>\n",
       "      <td>1695.40164</td>\n",
       "      <td>US</td>\n",
       "      <td>BPagano-RtDriven</td>\n",
       "    </tr>\n",
       "    <tr>\n",
       "      <th>2</th>\n",
       "      <td>2021-06-06</td>\n",
       "      <td>1 wk ahead inc death</td>\n",
       "      <td>2021-06-12</td>\n",
       "      <td>0.050</td>\n",
       "      <td>quantile</td>\n",
       "      <td>1832.80804</td>\n",
       "      <td>US</td>\n",
       "      <td>BPagano-RtDriven</td>\n",
       "    </tr>\n",
       "    <tr>\n",
       "      <th>3</th>\n",
       "      <td>2021-06-06</td>\n",
       "      <td>1 wk ahead inc death</td>\n",
       "      <td>2021-06-12</td>\n",
       "      <td>0.100</td>\n",
       "      <td>quantile</td>\n",
       "      <td>1993.70644</td>\n",
       "      <td>US</td>\n",
       "      <td>BPagano-RtDriven</td>\n",
       "    </tr>\n",
       "    <tr>\n",
       "      <th>4</th>\n",
       "      <td>2021-06-06</td>\n",
       "      <td>1 wk ahead inc death</td>\n",
       "      <td>2021-06-12</td>\n",
       "      <td>0.150</td>\n",
       "      <td>quantile</td>\n",
       "      <td>2102.97065</td>\n",
       "      <td>US</td>\n",
       "      <td>BPagano-RtDriven</td>\n",
       "    </tr>\n",
       "  </tbody>\n",
       "</table>\n",
       "</div>"
      ],
      "text/plain": [
       "  forecast_date                target target_end_date  quantile      type  \\\n",
       "0    2021-06-06  1 wk ahead inc death      2021-06-12     0.010  quantile   \n",
       "1    2021-06-06  1 wk ahead inc death      2021-06-12     0.025  quantile   \n",
       "2    2021-06-06  1 wk ahead inc death      2021-06-12     0.050  quantile   \n",
       "3    2021-06-06  1 wk ahead inc death      2021-06-12     0.100  quantile   \n",
       "4    2021-06-06  1 wk ahead inc death      2021-06-12     0.150  quantile   \n",
       "\n",
       "        value location             model  \n",
       "0  1541.69414       US  BPagano-RtDriven  \n",
       "1  1695.40164       US  BPagano-RtDriven  \n",
       "2  1832.80804       US  BPagano-RtDriven  \n",
       "3  1993.70644       US  BPagano-RtDriven  \n",
       "4  2102.97065       US  BPagano-RtDriven  "
      ]
     },
     "execution_count": 64,
     "metadata": {},
     "output_type": "execute_result"
    }
   ],
   "source": [
    "df_test.head()"
   ]
  },
  {
   "cell_type": "code",
   "execution_count": 65,
   "metadata": {},
   "outputs": [
    {
     "data": {
      "text/plain": [
       "target\n",
       "1 wk ahead cum death    [BPagano-RtDriven, CEID-Walk, COVIDhub-baselin...\n",
       "1 wk ahead inc case     [BPagano-RtDriven, CEID-Walk, COVIDhub-baselin...\n",
       "1 wk ahead inc death    [BPagano-RtDriven, CEID-Walk, COVIDhub-baselin...\n",
       "2 wk ahead cum death    [BPagano-RtDriven, CEID-Walk, COVIDhub-baselin...\n",
       "2 wk ahead inc case     [BPagano-RtDriven, CEID-Walk, COVIDhub-baselin...\n",
       "2 wk ahead inc death    [BPagano-RtDriven, CEID-Walk, COVIDhub-baselin...\n",
       "3 wk ahead cum death    [BPagano-RtDriven, CEID-Walk, COVIDhub-baselin...\n",
       "3 wk ahead inc case     [BPagano-RtDriven, CEID-Walk, COVIDhub-baselin...\n",
       "3 wk ahead inc death    [BPagano-RtDriven, CEID-Walk, COVIDhub-baselin...\n",
       "4 wk ahead cum death    [BPagano-RtDriven, CEID-Walk, COVIDhub-baselin...\n",
       "4 wk ahead inc case     [BPagano-RtDriven, CEID-Walk, COVIDhub-baselin...\n",
       "4 wk ahead inc death    [BPagano-RtDriven, CEID-Walk, COVIDhub-baselin...\n",
       "Name: model, dtype: object"
      ]
     },
     "execution_count": 65,
     "metadata": {},
     "output_type": "execute_result"
    }
   ],
   "source": [
    "df.groupby(['target'])['model'].unique()"
   ]
  },
  {
   "cell_type": "markdown",
   "metadata": {},
   "source": [
    "# Export"
   ]
  },
  {
   "cell_type": "code",
   "execution_count": 66,
   "metadata": {},
   "outputs": [],
   "source": [
    "df.to_csv('data/df_train_{}.csv'.format(str(test_date.date())), index=False)"
   ]
  },
  {
   "cell_type": "code",
   "execution_count": 67,
   "metadata": {},
   "outputs": [],
   "source": [
    "df_test.to_csv('data/df_test_{}.csv'.format(str(test_date.date())), index=False)"
   ]
  },
  {
   "cell_type": "code",
   "execution_count": null,
   "metadata": {},
   "outputs": [],
   "source": []
  }
 ],
 "metadata": {
  "kernelspec": {
   "display_name": "Python 3",
   "language": "python",
   "name": "python3"
  },
  "language_info": {
   "codemirror_mode": {
    "name": "ipython",
    "version": 3
   },
   "file_extension": ".py",
   "mimetype": "text/x-python",
   "name": "python",
   "nbconvert_exporter": "python",
   "pygments_lexer": "ipython3",
   "version": "3.8.8"
  }
 },
 "nbformat": 4,
 "nbformat_minor": 4
}
