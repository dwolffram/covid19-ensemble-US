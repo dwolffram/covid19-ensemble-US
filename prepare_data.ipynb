{
 "cells": [
  {
   "cell_type": "code",
   "execution_count": 67,
   "metadata": {},
   "outputs": [],
   "source": [
    "import pandas as pd\n",
    "import requests\n",
    "from tqdm.auto import tqdm\n",
    "tqdm.pandas()"
   ]
  },
  {
   "cell_type": "code",
   "execution_count": 68,
   "metadata": {},
   "outputs": [],
   "source": [
    "def next_monday(date):\n",
    "    return pd.date_range(start=date, end=date + pd.offsets.Day(6), freq='W-MON')[0]"
   ]
  },
  {
   "cell_type": "markdown",
   "metadata": {},
   "source": [
    "# Setting"
   ]
  },
  {
   "cell_type": "code",
   "execution_count": 69,
   "metadata": {},
   "outputs": [],
   "source": [
    "test_date = pd.to_datetime('2021-05-17')"
   ]
  },
  {
   "cell_type": "code",
   "execution_count": 70,
   "metadata": {},
   "outputs": [],
   "source": [
    "models_to_exclude = ['COVIDhub-ensemble', 'COVIDhub-trained_ensemble', \n",
    "                     'CU-nochange', 'CU-scenario_high', 'CU-scenario_low', 'CU-scenario_mid']\n",
    "\n",
    "locations_to_exclude = [\"60\", \"66\", \"69\", \"72\", \"74\", \"78\"]\n",
    "\n",
    "# DC,11,District of Columbia\n",
    "# AS,60,American Samoa\n",
    "# GU,66,Guam\n",
    "# MP,69,Northern Mariana Islands\n",
    "# PR,72,Puerto Rico\n",
    "# UM,74,U.S. Minor Outlying Islands\n",
    "# VI,78,Virgin Islands"
   ]
  },
  {
   "cell_type": "code",
   "execution_count": 71,
   "metadata": {},
   "outputs": [],
   "source": [
    "dtype={'target': str, 'location': str, 'type': str, 'quantile': float, 'value': float}\n",
    "parse_dates=['forecast_date', 'target_end_date']"
   ]
  },
  {
   "cell_type": "markdown",
   "metadata": {},
   "source": [
    "# Load Files"
   ]
  },
  {
   "cell_type": "code",
   "execution_count": 72,
   "metadata": {},
   "outputs": [],
   "source": [
    "url = \"https://api.github.com/repos/reichlab/covid19-forecast-hub/git/trees/master?recursive=1\"\n",
    "r = requests.get(url)\n",
    "res = r.json()"
   ]
  },
  {
   "cell_type": "code",
   "execution_count": 73,
   "metadata": {},
   "outputs": [],
   "source": [
    "files = [file[\"path\"] for file in res[\"tree\"] if (file[\"path\"].startswith('data-processed/') and file[\"path\"].endswith('.csv'))]"
   ]
  },
  {
   "cell_type": "code",
   "execution_count": 74,
   "metadata": {},
   "outputs": [
    {
     "data": {
      "text/plain": [
       "['data-processed/epiforecasts-ensemble1/2021-04-19-epiforecasts-ensemble1.csv',\n",
       " 'data-processed/epiforecasts-ensemble1/2021-04-26-epiforecasts-ensemble1.csv',\n",
       " 'data-processed/epiforecasts-ensemble1/2021-05-03-epiforecasts-ensemble1.csv',\n",
       " 'data-processed/epiforecasts-ensemble1/2021-05-10-epiforecasts-ensemble1.csv',\n",
       " 'data-processed/epiforecasts-ensemble1/2021-05-17-epiforecasts-ensemble1.csv']"
      ]
     },
     "execution_count": 74,
     "metadata": {},
     "output_type": "execute_result"
    }
   ],
   "source": [
    "files[-5:]"
   ]
  },
  {
   "cell_type": "code",
   "execution_count": 75,
   "metadata": {},
   "outputs": [],
   "source": [
    "df_files = pd.DataFrame({'filename':files})\n",
    "\n",
    "df_files['model'] = df_files.filename.apply(lambda f: f.split('/')[1])\n",
    "\n",
    "df_files['forecast_date'] = df_files.filename.apply(lambda f: f.split('/')[2][:10])\n",
    "df_files.forecast_date = pd.to_datetime(df_files.forecast_date)\n",
    "\n",
    "df_files['timezero'] = df_files.forecast_date.apply(next_monday)\n",
    "\n",
    "df_files = df_files[~df_files.model.isin(models_to_exclude)]"
   ]
  },
  {
   "cell_type": "code",
   "execution_count": 76,
   "metadata": {},
   "outputs": [
    {
     "data": {
      "text/html": [
       "<div>\n",
       "<style scoped>\n",
       "    .dataframe tbody tr th:only-of-type {\n",
       "        vertical-align: middle;\n",
       "    }\n",
       "\n",
       "    .dataframe tbody tr th {\n",
       "        vertical-align: top;\n",
       "    }\n",
       "\n",
       "    .dataframe thead th {\n",
       "        text-align: right;\n",
       "    }\n",
       "</style>\n",
       "<table border=\"1\" class=\"dataframe\">\n",
       "  <thead>\n",
       "    <tr style=\"text-align: right;\">\n",
       "      <th></th>\n",
       "      <th>filename</th>\n",
       "      <th>model</th>\n",
       "      <th>forecast_date</th>\n",
       "      <th>timezero</th>\n",
       "    </tr>\n",
       "  </thead>\n",
       "  <tbody>\n",
       "    <tr>\n",
       "      <th>0</th>\n",
       "      <td>data-processed/AIpert-pwllnod/2020-12-21-AIper...</td>\n",
       "      <td>AIpert-pwllnod</td>\n",
       "      <td>2020-12-21</td>\n",
       "      <td>2020-12-21</td>\n",
       "    </tr>\n",
       "    <tr>\n",
       "      <th>1</th>\n",
       "      <td>data-processed/AIpert-pwllnod/2020-12-28-AIper...</td>\n",
       "      <td>AIpert-pwllnod</td>\n",
       "      <td>2020-12-28</td>\n",
       "      <td>2020-12-28</td>\n",
       "    </tr>\n",
       "    <tr>\n",
       "      <th>2</th>\n",
       "      <td>data-processed/AIpert-pwllnod/2021-01-04-AIper...</td>\n",
       "      <td>AIpert-pwllnod</td>\n",
       "      <td>2021-01-04</td>\n",
       "      <td>2021-01-04</td>\n",
       "    </tr>\n",
       "    <tr>\n",
       "      <th>3</th>\n",
       "      <td>data-processed/AIpert-pwllnod/2021-01-11-AIper...</td>\n",
       "      <td>AIpert-pwllnod</td>\n",
       "      <td>2021-01-11</td>\n",
       "      <td>2021-01-11</td>\n",
       "    </tr>\n",
       "    <tr>\n",
       "      <th>4</th>\n",
       "      <td>data-processed/AIpert-pwllnod/2021-01-18-AIper...</td>\n",
       "      <td>AIpert-pwllnod</td>\n",
       "      <td>2021-01-18</td>\n",
       "      <td>2021-01-18</td>\n",
       "    </tr>\n",
       "    <tr>\n",
       "      <th>...</th>\n",
       "      <td>...</td>\n",
       "      <td>...</td>\n",
       "      <td>...</td>\n",
       "      <td>...</td>\n",
       "    </tr>\n",
       "    <tr>\n",
       "      <th>3429</th>\n",
       "      <td>data-processed/epiforecasts-ensemble1/2021-04-...</td>\n",
       "      <td>epiforecasts-ensemble1</td>\n",
       "      <td>2021-04-19</td>\n",
       "      <td>2021-04-19</td>\n",
       "    </tr>\n",
       "    <tr>\n",
       "      <th>3430</th>\n",
       "      <td>data-processed/epiforecasts-ensemble1/2021-04-...</td>\n",
       "      <td>epiforecasts-ensemble1</td>\n",
       "      <td>2021-04-26</td>\n",
       "      <td>2021-04-26</td>\n",
       "    </tr>\n",
       "    <tr>\n",
       "      <th>3431</th>\n",
       "      <td>data-processed/epiforecasts-ensemble1/2021-05-...</td>\n",
       "      <td>epiforecasts-ensemble1</td>\n",
       "      <td>2021-05-03</td>\n",
       "      <td>2021-05-03</td>\n",
       "    </tr>\n",
       "    <tr>\n",
       "      <th>3432</th>\n",
       "      <td>data-processed/epiforecasts-ensemble1/2021-05-...</td>\n",
       "      <td>epiforecasts-ensemble1</td>\n",
       "      <td>2021-05-10</td>\n",
       "      <td>2021-05-10</td>\n",
       "    </tr>\n",
       "    <tr>\n",
       "      <th>3433</th>\n",
       "      <td>data-processed/epiforecasts-ensemble1/2021-05-...</td>\n",
       "      <td>epiforecasts-ensemble1</td>\n",
       "      <td>2021-05-17</td>\n",
       "      <td>2021-05-17</td>\n",
       "    </tr>\n",
       "  </tbody>\n",
       "</table>\n",
       "<p>3039 rows × 4 columns</p>\n",
       "</div>"
      ],
      "text/plain": [
       "                                               filename  \\\n",
       "0     data-processed/AIpert-pwllnod/2020-12-21-AIper...   \n",
       "1     data-processed/AIpert-pwllnod/2020-12-28-AIper...   \n",
       "2     data-processed/AIpert-pwllnod/2021-01-04-AIper...   \n",
       "3     data-processed/AIpert-pwllnod/2021-01-11-AIper...   \n",
       "4     data-processed/AIpert-pwllnod/2021-01-18-AIper...   \n",
       "...                                                 ...   \n",
       "3429  data-processed/epiforecasts-ensemble1/2021-04-...   \n",
       "3430  data-processed/epiforecasts-ensemble1/2021-04-...   \n",
       "3431  data-processed/epiforecasts-ensemble1/2021-05-...   \n",
       "3432  data-processed/epiforecasts-ensemble1/2021-05-...   \n",
       "3433  data-processed/epiforecasts-ensemble1/2021-05-...   \n",
       "\n",
       "                       model forecast_date   timezero  \n",
       "0             AIpert-pwllnod    2020-12-21 2020-12-21  \n",
       "1             AIpert-pwllnod    2020-12-28 2020-12-28  \n",
       "2             AIpert-pwllnod    2021-01-04 2021-01-04  \n",
       "3             AIpert-pwllnod    2021-01-11 2021-01-11  \n",
       "4             AIpert-pwllnod    2021-01-18 2021-01-18  \n",
       "...                      ...           ...        ...  \n",
       "3429  epiforecasts-ensemble1    2021-04-19 2021-04-19  \n",
       "3430  epiforecasts-ensemble1    2021-04-26 2021-04-26  \n",
       "3431  epiforecasts-ensemble1    2021-05-03 2021-05-03  \n",
       "3432  epiforecasts-ensemble1    2021-05-10 2021-05-10  \n",
       "3433  epiforecasts-ensemble1    2021-05-17 2021-05-17  \n",
       "\n",
       "[3039 rows x 4 columns]"
      ]
     },
     "execution_count": 76,
     "metadata": {},
     "output_type": "execute_result"
    }
   ],
   "source": [
    "df_files"
   ]
  },
  {
   "cell_type": "markdown",
   "metadata": {},
   "source": [
    "### Test Data"
   ]
  },
  {
   "cell_type": "code",
   "execution_count": 77,
   "metadata": {},
   "outputs": [],
   "source": [
    "VALID_TARGETS = [f\"{_} wk ahead inc death\" for _ in range(1, 5)] + \\\n",
    "                [f\"{_} wk ahead cum death\" for _ in range(1, 5)] + \\\n",
    "                [f\"{_} wk ahead inc case\" for _ in range(1, 5)]"
   ]
  },
  {
   "cell_type": "code",
   "execution_count": 78,
   "metadata": {},
   "outputs": [],
   "source": [
    "df_test_files = df_files[df_files.timezero == test_date]"
   ]
  },
  {
   "cell_type": "code",
   "execution_count": 79,
   "metadata": {},
   "outputs": [
    {
     "data": {
      "text/html": [
       "<div>\n",
       "<style scoped>\n",
       "    .dataframe tbody tr th:only-of-type {\n",
       "        vertical-align: middle;\n",
       "    }\n",
       "\n",
       "    .dataframe tbody tr th {\n",
       "        vertical-align: top;\n",
       "    }\n",
       "\n",
       "    .dataframe thead th {\n",
       "        text-align: right;\n",
       "    }\n",
       "</style>\n",
       "<table border=\"1\" class=\"dataframe\">\n",
       "  <thead>\n",
       "    <tr style=\"text-align: right;\">\n",
       "      <th></th>\n",
       "      <th>filename</th>\n",
       "      <th>model</th>\n",
       "      <th>forecast_date</th>\n",
       "      <th>timezero</th>\n",
       "    </tr>\n",
       "  </thead>\n",
       "  <tbody>\n",
       "    <tr>\n",
       "      <th>21</th>\n",
       "      <td>data-processed/AIpert-pwllnod/2021-05-17-AIper...</td>\n",
       "      <td>AIpert-pwllnod</td>\n",
       "      <td>2021-05-17</td>\n",
       "      <td>2021-05-17</td>\n",
       "    </tr>\n",
       "    <tr>\n",
       "      <th>66</th>\n",
       "      <td>data-processed/BPagano-RtDriven/2021-05-16-BPa...</td>\n",
       "      <td>BPagano-RtDriven</td>\n",
       "      <td>2021-05-16</td>\n",
       "      <td>2021-05-17</td>\n",
       "    </tr>\n",
       "    <tr>\n",
       "      <th>114</th>\n",
       "      <td>data-processed/CEID-Walk/2021-05-17-CEID-Walk.csv</td>\n",
       "      <td>CEID-Walk</td>\n",
       "      <td>2021-05-17</td>\n",
       "      <td>2021-05-17</td>\n",
       "    </tr>\n",
       "    <tr>\n",
       "      <th>158</th>\n",
       "      <td>data-processed/CMU-TimeSeries/2021-05-17-CMU-T...</td>\n",
       "      <td>CMU-TimeSeries</td>\n",
       "      <td>2021-05-17</td>\n",
       "      <td>2021-05-17</td>\n",
       "    </tr>\n",
       "    <tr>\n",
       "      <th>217</th>\n",
       "      <td>data-processed/COVIDhub-baseline/2021-05-17-CO...</td>\n",
       "      <td>COVIDhub-baseline</td>\n",
       "      <td>2021-05-17</td>\n",
       "      <td>2021-05-17</td>\n",
       "    </tr>\n",
       "  </tbody>\n",
       "</table>\n",
       "</div>"
      ],
      "text/plain": [
       "                                              filename              model  \\\n",
       "21   data-processed/AIpert-pwllnod/2021-05-17-AIper...     AIpert-pwllnod   \n",
       "66   data-processed/BPagano-RtDriven/2021-05-16-BPa...   BPagano-RtDriven   \n",
       "114  data-processed/CEID-Walk/2021-05-17-CEID-Walk.csv          CEID-Walk   \n",
       "158  data-processed/CMU-TimeSeries/2021-05-17-CMU-T...     CMU-TimeSeries   \n",
       "217  data-processed/COVIDhub-baseline/2021-05-17-CO...  COVIDhub-baseline   \n",
       "\n",
       "    forecast_date   timezero  \n",
       "21     2021-05-17 2021-05-17  \n",
       "66     2021-05-16 2021-05-17  \n",
       "114    2021-05-17 2021-05-17  \n",
       "158    2021-05-17 2021-05-17  \n",
       "217    2021-05-17 2021-05-17  "
      ]
     },
     "execution_count": 79,
     "metadata": {},
     "output_type": "execute_result"
    }
   ],
   "source": [
    "df_test_files.head()"
   ]
  },
  {
   "cell_type": "code",
   "execution_count": 80,
   "metadata": {
    "scrolled": true
   },
   "outputs": [
    {
     "data": {
      "application/vnd.jupyter.widget-view+json": {
       "model_id": "d01c040e5e3b4dadbcac87fcc1c0a4d2",
       "version_major": 2,
       "version_minor": 0
      },
      "text/plain": [
       "  0%|          | 0/56 [00:00<?, ?it/s]"
      ]
     },
     "metadata": {},
     "output_type": "display_data"
    },
    {
     "ename": "KeyboardInterrupt",
     "evalue": "",
     "output_type": "error",
     "traceback": [
      "\u001b[1;31m---------------------------------------------------------------------------\u001b[0m",
      "\u001b[1;31mKeyboardInterrupt\u001b[0m                         Traceback (most recent call last)",
      "\u001b[1;32m<ipython-input-80-10eba03f5b07>\u001b[0m in \u001b[0;36m<module>\u001b[1;34m\u001b[0m\n\u001b[0;32m      3\u001b[0m \u001b[1;32mfor\u001b[0m \u001b[0m_\u001b[0m\u001b[1;33m,\u001b[0m \u001b[0mrow\u001b[0m \u001b[1;32min\u001b[0m \u001b[0mtqdm\u001b[0m\u001b[1;33m(\u001b[0m\u001b[0mdf_test_files\u001b[0m\u001b[1;33m.\u001b[0m\u001b[0miterrows\u001b[0m\u001b[1;33m(\u001b[0m\u001b[1;33m)\u001b[0m\u001b[1;33m,\u001b[0m \u001b[0mtotal\u001b[0m\u001b[1;33m=\u001b[0m\u001b[0mdf_test_files\u001b[0m\u001b[1;33m.\u001b[0m\u001b[0mshape\u001b[0m\u001b[1;33m[\u001b[0m\u001b[1;36m0\u001b[0m\u001b[1;33m]\u001b[0m\u001b[1;33m)\u001b[0m\u001b[1;33m:\u001b[0m\u001b[1;33m\u001b[0m\u001b[1;33m\u001b[0m\u001b[0m\n\u001b[0;32m      4\u001b[0m     \u001b[1;31m#print(row['filename'])\u001b[0m\u001b[1;33m\u001b[0m\u001b[1;33m\u001b[0m\u001b[1;33m\u001b[0m\u001b[0m\n\u001b[1;32m----> 5\u001b[1;33m     df_temp = pd.read_csv('https://github.com/reichlab/covid19-forecast-hub/raw/master/' + row['filename'],\n\u001b[0m\u001b[0;32m      6\u001b[0m                          dtype=dtype, parse_dates=parse_dates)\n\u001b[0;32m      7\u001b[0m     \u001b[0mdf_temp\u001b[0m \u001b[1;33m=\u001b[0m \u001b[0mdf_temp\u001b[0m\u001b[1;33m[\u001b[0m\u001b[0mdf_temp\u001b[0m\u001b[1;33m.\u001b[0m\u001b[0mtarget\u001b[0m\u001b[1;33m.\u001b[0m\u001b[0misin\u001b[0m\u001b[1;33m(\u001b[0m\u001b[0mVALID_TARGETS\u001b[0m\u001b[1;33m)\u001b[0m\u001b[1;33m]\u001b[0m\u001b[1;33m\u001b[0m\u001b[1;33m\u001b[0m\u001b[0m\n",
      "\u001b[1;32m~\\Anaconda3\\lib\\site-packages\\pandas\\io\\parsers.py\u001b[0m in \u001b[0;36mread_csv\u001b[1;34m(filepath_or_buffer, sep, delimiter, header, names, index_col, usecols, squeeze, prefix, mangle_dupe_cols, dtype, engine, converters, true_values, false_values, skipinitialspace, skiprows, skipfooter, nrows, na_values, keep_default_na, na_filter, verbose, skip_blank_lines, parse_dates, infer_datetime_format, keep_date_col, date_parser, dayfirst, cache_dates, iterator, chunksize, compression, thousands, decimal, lineterminator, quotechar, quoting, doublequote, escapechar, comment, encoding, dialect, error_bad_lines, warn_bad_lines, delim_whitespace, low_memory, memory_map, float_precision, storage_options)\u001b[0m\n\u001b[0;32m    608\u001b[0m     \u001b[0mkwds\u001b[0m\u001b[1;33m.\u001b[0m\u001b[0mupdate\u001b[0m\u001b[1;33m(\u001b[0m\u001b[0mkwds_defaults\u001b[0m\u001b[1;33m)\u001b[0m\u001b[1;33m\u001b[0m\u001b[1;33m\u001b[0m\u001b[0m\n\u001b[0;32m    609\u001b[0m \u001b[1;33m\u001b[0m\u001b[0m\n\u001b[1;32m--> 610\u001b[1;33m     \u001b[1;32mreturn\u001b[0m \u001b[0m_read\u001b[0m\u001b[1;33m(\u001b[0m\u001b[0mfilepath_or_buffer\u001b[0m\u001b[1;33m,\u001b[0m \u001b[0mkwds\u001b[0m\u001b[1;33m)\u001b[0m\u001b[1;33m\u001b[0m\u001b[1;33m\u001b[0m\u001b[0m\n\u001b[0m\u001b[0;32m    611\u001b[0m \u001b[1;33m\u001b[0m\u001b[0m\n\u001b[0;32m    612\u001b[0m \u001b[1;33m\u001b[0m\u001b[0m\n",
      "\u001b[1;32m~\\Anaconda3\\lib\\site-packages\\pandas\\io\\parsers.py\u001b[0m in \u001b[0;36m_read\u001b[1;34m(filepath_or_buffer, kwds)\u001b[0m\n\u001b[0;32m    460\u001b[0m \u001b[1;33m\u001b[0m\u001b[0m\n\u001b[0;32m    461\u001b[0m     \u001b[1;31m# Create the parser.\u001b[0m\u001b[1;33m\u001b[0m\u001b[1;33m\u001b[0m\u001b[1;33m\u001b[0m\u001b[0m\n\u001b[1;32m--> 462\u001b[1;33m     \u001b[0mparser\u001b[0m \u001b[1;33m=\u001b[0m \u001b[0mTextFileReader\u001b[0m\u001b[1;33m(\u001b[0m\u001b[0mfilepath_or_buffer\u001b[0m\u001b[1;33m,\u001b[0m \u001b[1;33m**\u001b[0m\u001b[0mkwds\u001b[0m\u001b[1;33m)\u001b[0m\u001b[1;33m\u001b[0m\u001b[1;33m\u001b[0m\u001b[0m\n\u001b[0m\u001b[0;32m    463\u001b[0m \u001b[1;33m\u001b[0m\u001b[0m\n\u001b[0;32m    464\u001b[0m     \u001b[1;32mif\u001b[0m \u001b[0mchunksize\u001b[0m \u001b[1;32mor\u001b[0m \u001b[0miterator\u001b[0m\u001b[1;33m:\u001b[0m\u001b[1;33m\u001b[0m\u001b[1;33m\u001b[0m\u001b[0m\n",
      "\u001b[1;32m~\\Anaconda3\\lib\\site-packages\\pandas\\io\\parsers.py\u001b[0m in \u001b[0;36m__init__\u001b[1;34m(self, f, engine, **kwds)\u001b[0m\n\u001b[0;32m    817\u001b[0m             \u001b[0mself\u001b[0m\u001b[1;33m.\u001b[0m\u001b[0moptions\u001b[0m\u001b[1;33m[\u001b[0m\u001b[1;34m\"has_index_names\"\u001b[0m\u001b[1;33m]\u001b[0m \u001b[1;33m=\u001b[0m \u001b[0mkwds\u001b[0m\u001b[1;33m[\u001b[0m\u001b[1;34m\"has_index_names\"\u001b[0m\u001b[1;33m]\u001b[0m\u001b[1;33m\u001b[0m\u001b[1;33m\u001b[0m\u001b[0m\n\u001b[0;32m    818\u001b[0m \u001b[1;33m\u001b[0m\u001b[0m\n\u001b[1;32m--> 819\u001b[1;33m         \u001b[0mself\u001b[0m\u001b[1;33m.\u001b[0m\u001b[0m_engine\u001b[0m \u001b[1;33m=\u001b[0m \u001b[0mself\u001b[0m\u001b[1;33m.\u001b[0m\u001b[0m_make_engine\u001b[0m\u001b[1;33m(\u001b[0m\u001b[0mself\u001b[0m\u001b[1;33m.\u001b[0m\u001b[0mengine\u001b[0m\u001b[1;33m)\u001b[0m\u001b[1;33m\u001b[0m\u001b[1;33m\u001b[0m\u001b[0m\n\u001b[0m\u001b[0;32m    820\u001b[0m \u001b[1;33m\u001b[0m\u001b[0m\n\u001b[0;32m    821\u001b[0m     \u001b[1;32mdef\u001b[0m \u001b[0mclose\u001b[0m\u001b[1;33m(\u001b[0m\u001b[0mself\u001b[0m\u001b[1;33m)\u001b[0m\u001b[1;33m:\u001b[0m\u001b[1;33m\u001b[0m\u001b[1;33m\u001b[0m\u001b[0m\n",
      "\u001b[1;32m~\\Anaconda3\\lib\\site-packages\\pandas\\io\\parsers.py\u001b[0m in \u001b[0;36m_make_engine\u001b[1;34m(self, engine)\u001b[0m\n\u001b[0;32m   1048\u001b[0m             )\n\u001b[0;32m   1049\u001b[0m         \u001b[1;31m# error: Too many arguments for \"ParserBase\"\u001b[0m\u001b[1;33m\u001b[0m\u001b[1;33m\u001b[0m\u001b[1;33m\u001b[0m\u001b[0m\n\u001b[1;32m-> 1050\u001b[1;33m         \u001b[1;32mreturn\u001b[0m \u001b[0mmapping\u001b[0m\u001b[1;33m[\u001b[0m\u001b[0mengine\u001b[0m\u001b[1;33m]\u001b[0m\u001b[1;33m(\u001b[0m\u001b[0mself\u001b[0m\u001b[1;33m.\u001b[0m\u001b[0mf\u001b[0m\u001b[1;33m,\u001b[0m \u001b[1;33m**\u001b[0m\u001b[0mself\u001b[0m\u001b[1;33m.\u001b[0m\u001b[0moptions\u001b[0m\u001b[1;33m)\u001b[0m  \u001b[1;31m# type: ignore[call-arg]\u001b[0m\u001b[1;33m\u001b[0m\u001b[1;33m\u001b[0m\u001b[0m\n\u001b[0m\u001b[0;32m   1051\u001b[0m \u001b[1;33m\u001b[0m\u001b[0m\n\u001b[0;32m   1052\u001b[0m     \u001b[1;32mdef\u001b[0m \u001b[0m_failover_to_python\u001b[0m\u001b[1;33m(\u001b[0m\u001b[0mself\u001b[0m\u001b[1;33m)\u001b[0m\u001b[1;33m:\u001b[0m\u001b[1;33m\u001b[0m\u001b[1;33m\u001b[0m\u001b[0m\n",
      "\u001b[1;32m~\\Anaconda3\\lib\\site-packages\\pandas\\io\\parsers.py\u001b[0m in \u001b[0;36m__init__\u001b[1;34m(self, src, **kwds)\u001b[0m\n\u001b[0;32m   1865\u001b[0m \u001b[1;33m\u001b[0m\u001b[0m\n\u001b[0;32m   1866\u001b[0m         \u001b[1;31m# open handles\u001b[0m\u001b[1;33m\u001b[0m\u001b[1;33m\u001b[0m\u001b[1;33m\u001b[0m\u001b[0m\n\u001b[1;32m-> 1867\u001b[1;33m         \u001b[0mself\u001b[0m\u001b[1;33m.\u001b[0m\u001b[0m_open_handles\u001b[0m\u001b[1;33m(\u001b[0m\u001b[0msrc\u001b[0m\u001b[1;33m,\u001b[0m \u001b[0mkwds\u001b[0m\u001b[1;33m)\u001b[0m\u001b[1;33m\u001b[0m\u001b[1;33m\u001b[0m\u001b[0m\n\u001b[0m\u001b[0;32m   1868\u001b[0m         \u001b[1;32massert\u001b[0m \u001b[0mself\u001b[0m\u001b[1;33m.\u001b[0m\u001b[0mhandles\u001b[0m \u001b[1;32mis\u001b[0m \u001b[1;32mnot\u001b[0m \u001b[1;32mNone\u001b[0m\u001b[1;33m\u001b[0m\u001b[1;33m\u001b[0m\u001b[0m\n\u001b[0;32m   1869\u001b[0m         \u001b[1;32mfor\u001b[0m \u001b[0mkey\u001b[0m \u001b[1;32min\u001b[0m \u001b[1;33m(\u001b[0m\u001b[1;34m\"storage_options\"\u001b[0m\u001b[1;33m,\u001b[0m \u001b[1;34m\"encoding\"\u001b[0m\u001b[1;33m,\u001b[0m \u001b[1;34m\"memory_map\"\u001b[0m\u001b[1;33m,\u001b[0m \u001b[1;34m\"compression\"\u001b[0m\u001b[1;33m)\u001b[0m\u001b[1;33m:\u001b[0m\u001b[1;33m\u001b[0m\u001b[1;33m\u001b[0m\u001b[0m\n",
      "\u001b[1;32m~\\Anaconda3\\lib\\site-packages\\pandas\\io\\parsers.py\u001b[0m in \u001b[0;36m_open_handles\u001b[1;34m(self, src, kwds)\u001b[0m\n\u001b[0;32m   1360\u001b[0m         \u001b[0mLet\u001b[0m \u001b[0mthe\u001b[0m \u001b[0mreaders\u001b[0m \u001b[0mopen\u001b[0m \u001b[0mIOHanldes\u001b[0m \u001b[0mafter\u001b[0m \u001b[0mthey\u001b[0m \u001b[0mare\u001b[0m \u001b[0mdone\u001b[0m \u001b[1;32mwith\u001b[0m \u001b[0mtheir\u001b[0m \u001b[0mpotential\u001b[0m \u001b[0mraises\u001b[0m\u001b[1;33m.\u001b[0m\u001b[1;33m\u001b[0m\u001b[1;33m\u001b[0m\u001b[0m\n\u001b[0;32m   1361\u001b[0m         \"\"\"\n\u001b[1;32m-> 1362\u001b[1;33m         self.handles = get_handle(\n\u001b[0m\u001b[0;32m   1363\u001b[0m             \u001b[0msrc\u001b[0m\u001b[1;33m,\u001b[0m\u001b[1;33m\u001b[0m\u001b[1;33m\u001b[0m\u001b[0m\n\u001b[0;32m   1364\u001b[0m             \u001b[1;34m\"r\"\u001b[0m\u001b[1;33m,\u001b[0m\u001b[1;33m\u001b[0m\u001b[1;33m\u001b[0m\u001b[0m\n",
      "\u001b[1;32m~\\Anaconda3\\lib\\site-packages\\pandas\\io\\common.py\u001b[0m in \u001b[0;36mget_handle\u001b[1;34m(path_or_buf, mode, encoding, compression, memory_map, is_text, errors, storage_options)\u001b[0m\n\u001b[0;32m    556\u001b[0m \u001b[1;33m\u001b[0m\u001b[0m\n\u001b[0;32m    557\u001b[0m     \u001b[1;31m# open URLs\u001b[0m\u001b[1;33m\u001b[0m\u001b[1;33m\u001b[0m\u001b[1;33m\u001b[0m\u001b[0m\n\u001b[1;32m--> 558\u001b[1;33m     ioargs = _get_filepath_or_buffer(\n\u001b[0m\u001b[0;32m    559\u001b[0m         \u001b[0mpath_or_buf\u001b[0m\u001b[1;33m,\u001b[0m\u001b[1;33m\u001b[0m\u001b[1;33m\u001b[0m\u001b[0m\n\u001b[0;32m    560\u001b[0m         \u001b[0mencoding\u001b[0m\u001b[1;33m=\u001b[0m\u001b[0mencoding\u001b[0m\u001b[1;33m,\u001b[0m\u001b[1;33m\u001b[0m\u001b[1;33m\u001b[0m\u001b[0m\n",
      "\u001b[1;32m~\\Anaconda3\\lib\\site-packages\\pandas\\io\\common.py\u001b[0m in \u001b[0;36m_get_filepath_or_buffer\u001b[1;34m(filepath_or_buffer, encoding, compression, mode, storage_options)\u001b[0m\n\u001b[0;32m    287\u001b[0m                 \u001b[1;34m\"storage_options passed with file object or non-fsspec file path\"\u001b[0m\u001b[1;33m\u001b[0m\u001b[1;33m\u001b[0m\u001b[0m\n\u001b[0;32m    288\u001b[0m             )\n\u001b[1;32m--> 289\u001b[1;33m         \u001b[0mreq\u001b[0m \u001b[1;33m=\u001b[0m \u001b[0murlopen\u001b[0m\u001b[1;33m(\u001b[0m\u001b[0mfilepath_or_buffer\u001b[0m\u001b[1;33m)\u001b[0m\u001b[1;33m\u001b[0m\u001b[1;33m\u001b[0m\u001b[0m\n\u001b[0m\u001b[0;32m    290\u001b[0m         \u001b[0mcontent_encoding\u001b[0m \u001b[1;33m=\u001b[0m \u001b[0mreq\u001b[0m\u001b[1;33m.\u001b[0m\u001b[0mheaders\u001b[0m\u001b[1;33m.\u001b[0m\u001b[0mget\u001b[0m\u001b[1;33m(\u001b[0m\u001b[1;34m\"Content-Encoding\"\u001b[0m\u001b[1;33m,\u001b[0m \u001b[1;32mNone\u001b[0m\u001b[1;33m)\u001b[0m\u001b[1;33m\u001b[0m\u001b[1;33m\u001b[0m\u001b[0m\n\u001b[0;32m    291\u001b[0m         \u001b[1;32mif\u001b[0m \u001b[0mcontent_encoding\u001b[0m \u001b[1;33m==\u001b[0m \u001b[1;34m\"gzip\"\u001b[0m\u001b[1;33m:\u001b[0m\u001b[1;33m\u001b[0m\u001b[1;33m\u001b[0m\u001b[0m\n",
      "\u001b[1;32m~\\Anaconda3\\lib\\site-packages\\pandas\\io\\common.py\u001b[0m in \u001b[0;36murlopen\u001b[1;34m(*args, **kwargs)\u001b[0m\n\u001b[0;32m    193\u001b[0m     \u001b[1;32mimport\u001b[0m \u001b[0murllib\u001b[0m\u001b[1;33m.\u001b[0m\u001b[0mrequest\u001b[0m\u001b[1;33m\u001b[0m\u001b[1;33m\u001b[0m\u001b[0m\n\u001b[0;32m    194\u001b[0m \u001b[1;33m\u001b[0m\u001b[0m\n\u001b[1;32m--> 195\u001b[1;33m     \u001b[1;32mreturn\u001b[0m \u001b[0murllib\u001b[0m\u001b[1;33m.\u001b[0m\u001b[0mrequest\u001b[0m\u001b[1;33m.\u001b[0m\u001b[0murlopen\u001b[0m\u001b[1;33m(\u001b[0m\u001b[1;33m*\u001b[0m\u001b[0margs\u001b[0m\u001b[1;33m,\u001b[0m \u001b[1;33m**\u001b[0m\u001b[0mkwargs\u001b[0m\u001b[1;33m)\u001b[0m\u001b[1;33m\u001b[0m\u001b[1;33m\u001b[0m\u001b[0m\n\u001b[0m\u001b[0;32m    196\u001b[0m \u001b[1;33m\u001b[0m\u001b[0m\n\u001b[0;32m    197\u001b[0m \u001b[1;33m\u001b[0m\u001b[0m\n",
      "\u001b[1;32m~\\Anaconda3\\lib\\urllib\\request.py\u001b[0m in \u001b[0;36murlopen\u001b[1;34m(url, data, timeout, cafile, capath, cadefault, context)\u001b[0m\n\u001b[0;32m    220\u001b[0m     \u001b[1;32melse\u001b[0m\u001b[1;33m:\u001b[0m\u001b[1;33m\u001b[0m\u001b[1;33m\u001b[0m\u001b[0m\n\u001b[0;32m    221\u001b[0m         \u001b[0mopener\u001b[0m \u001b[1;33m=\u001b[0m \u001b[0m_opener\u001b[0m\u001b[1;33m\u001b[0m\u001b[1;33m\u001b[0m\u001b[0m\n\u001b[1;32m--> 222\u001b[1;33m     \u001b[1;32mreturn\u001b[0m \u001b[0mopener\u001b[0m\u001b[1;33m.\u001b[0m\u001b[0mopen\u001b[0m\u001b[1;33m(\u001b[0m\u001b[0murl\u001b[0m\u001b[1;33m,\u001b[0m \u001b[0mdata\u001b[0m\u001b[1;33m,\u001b[0m \u001b[0mtimeout\u001b[0m\u001b[1;33m)\u001b[0m\u001b[1;33m\u001b[0m\u001b[1;33m\u001b[0m\u001b[0m\n\u001b[0m\u001b[0;32m    223\u001b[0m \u001b[1;33m\u001b[0m\u001b[0m\n\u001b[0;32m    224\u001b[0m \u001b[1;32mdef\u001b[0m \u001b[0minstall_opener\u001b[0m\u001b[1;33m(\u001b[0m\u001b[0mopener\u001b[0m\u001b[1;33m)\u001b[0m\u001b[1;33m:\u001b[0m\u001b[1;33m\u001b[0m\u001b[1;33m\u001b[0m\u001b[0m\n",
      "\u001b[1;32m~\\Anaconda3\\lib\\urllib\\request.py\u001b[0m in \u001b[0;36mopen\u001b[1;34m(self, fullurl, data, timeout)\u001b[0m\n\u001b[0;32m    529\u001b[0m         \u001b[1;32mfor\u001b[0m \u001b[0mprocessor\u001b[0m \u001b[1;32min\u001b[0m \u001b[0mself\u001b[0m\u001b[1;33m.\u001b[0m\u001b[0mprocess_response\u001b[0m\u001b[1;33m.\u001b[0m\u001b[0mget\u001b[0m\u001b[1;33m(\u001b[0m\u001b[0mprotocol\u001b[0m\u001b[1;33m,\u001b[0m \u001b[1;33m[\u001b[0m\u001b[1;33m]\u001b[0m\u001b[1;33m)\u001b[0m\u001b[1;33m:\u001b[0m\u001b[1;33m\u001b[0m\u001b[1;33m\u001b[0m\u001b[0m\n\u001b[0;32m    530\u001b[0m             \u001b[0mmeth\u001b[0m \u001b[1;33m=\u001b[0m \u001b[0mgetattr\u001b[0m\u001b[1;33m(\u001b[0m\u001b[0mprocessor\u001b[0m\u001b[1;33m,\u001b[0m \u001b[0mmeth_name\u001b[0m\u001b[1;33m)\u001b[0m\u001b[1;33m\u001b[0m\u001b[1;33m\u001b[0m\u001b[0m\n\u001b[1;32m--> 531\u001b[1;33m             \u001b[0mresponse\u001b[0m \u001b[1;33m=\u001b[0m \u001b[0mmeth\u001b[0m\u001b[1;33m(\u001b[0m\u001b[0mreq\u001b[0m\u001b[1;33m,\u001b[0m \u001b[0mresponse\u001b[0m\u001b[1;33m)\u001b[0m\u001b[1;33m\u001b[0m\u001b[1;33m\u001b[0m\u001b[0m\n\u001b[0m\u001b[0;32m    532\u001b[0m \u001b[1;33m\u001b[0m\u001b[0m\n\u001b[0;32m    533\u001b[0m         \u001b[1;32mreturn\u001b[0m \u001b[0mresponse\u001b[0m\u001b[1;33m\u001b[0m\u001b[1;33m\u001b[0m\u001b[0m\n",
      "\u001b[1;32m~\\Anaconda3\\lib\\urllib\\request.py\u001b[0m in \u001b[0;36mhttp_response\u001b[1;34m(self, request, response)\u001b[0m\n\u001b[0;32m    638\u001b[0m         \u001b[1;31m# request was successfully received, understood, and accepted.\u001b[0m\u001b[1;33m\u001b[0m\u001b[1;33m\u001b[0m\u001b[1;33m\u001b[0m\u001b[0m\n\u001b[0;32m    639\u001b[0m         \u001b[1;32mif\u001b[0m \u001b[1;32mnot\u001b[0m \u001b[1;33m(\u001b[0m\u001b[1;36m200\u001b[0m \u001b[1;33m<=\u001b[0m \u001b[0mcode\u001b[0m \u001b[1;33m<\u001b[0m \u001b[1;36m300\u001b[0m\u001b[1;33m)\u001b[0m\u001b[1;33m:\u001b[0m\u001b[1;33m\u001b[0m\u001b[1;33m\u001b[0m\u001b[0m\n\u001b[1;32m--> 640\u001b[1;33m             response = self.parent.error(\n\u001b[0m\u001b[0;32m    641\u001b[0m                 'http', request, response, code, msg, hdrs)\n\u001b[0;32m    642\u001b[0m \u001b[1;33m\u001b[0m\u001b[0m\n",
      "\u001b[1;32m~\\Anaconda3\\lib\\urllib\\request.py\u001b[0m in \u001b[0;36merror\u001b[1;34m(self, proto, *args)\u001b[0m\n\u001b[0;32m    561\u001b[0m             \u001b[0mhttp_err\u001b[0m \u001b[1;33m=\u001b[0m \u001b[1;36m0\u001b[0m\u001b[1;33m\u001b[0m\u001b[1;33m\u001b[0m\u001b[0m\n\u001b[0;32m    562\u001b[0m         \u001b[0margs\u001b[0m \u001b[1;33m=\u001b[0m \u001b[1;33m(\u001b[0m\u001b[0mdict\u001b[0m\u001b[1;33m,\u001b[0m \u001b[0mproto\u001b[0m\u001b[1;33m,\u001b[0m \u001b[0mmeth_name\u001b[0m\u001b[1;33m)\u001b[0m \u001b[1;33m+\u001b[0m \u001b[0margs\u001b[0m\u001b[1;33m\u001b[0m\u001b[1;33m\u001b[0m\u001b[0m\n\u001b[1;32m--> 563\u001b[1;33m         \u001b[0mresult\u001b[0m \u001b[1;33m=\u001b[0m \u001b[0mself\u001b[0m\u001b[1;33m.\u001b[0m\u001b[0m_call_chain\u001b[0m\u001b[1;33m(\u001b[0m\u001b[1;33m*\u001b[0m\u001b[0margs\u001b[0m\u001b[1;33m)\u001b[0m\u001b[1;33m\u001b[0m\u001b[1;33m\u001b[0m\u001b[0m\n\u001b[0m\u001b[0;32m    564\u001b[0m         \u001b[1;32mif\u001b[0m \u001b[0mresult\u001b[0m\u001b[1;33m:\u001b[0m\u001b[1;33m\u001b[0m\u001b[1;33m\u001b[0m\u001b[0m\n\u001b[0;32m    565\u001b[0m             \u001b[1;32mreturn\u001b[0m \u001b[0mresult\u001b[0m\u001b[1;33m\u001b[0m\u001b[1;33m\u001b[0m\u001b[0m\n",
      "\u001b[1;32m~\\Anaconda3\\lib\\urllib\\request.py\u001b[0m in \u001b[0;36m_call_chain\u001b[1;34m(self, chain, kind, meth_name, *args)\u001b[0m\n\u001b[0;32m    500\u001b[0m         \u001b[1;32mfor\u001b[0m \u001b[0mhandler\u001b[0m \u001b[1;32min\u001b[0m \u001b[0mhandlers\u001b[0m\u001b[1;33m:\u001b[0m\u001b[1;33m\u001b[0m\u001b[1;33m\u001b[0m\u001b[0m\n\u001b[0;32m    501\u001b[0m             \u001b[0mfunc\u001b[0m \u001b[1;33m=\u001b[0m \u001b[0mgetattr\u001b[0m\u001b[1;33m(\u001b[0m\u001b[0mhandler\u001b[0m\u001b[1;33m,\u001b[0m \u001b[0mmeth_name\u001b[0m\u001b[1;33m)\u001b[0m\u001b[1;33m\u001b[0m\u001b[1;33m\u001b[0m\u001b[0m\n\u001b[1;32m--> 502\u001b[1;33m             \u001b[0mresult\u001b[0m \u001b[1;33m=\u001b[0m \u001b[0mfunc\u001b[0m\u001b[1;33m(\u001b[0m\u001b[1;33m*\u001b[0m\u001b[0margs\u001b[0m\u001b[1;33m)\u001b[0m\u001b[1;33m\u001b[0m\u001b[1;33m\u001b[0m\u001b[0m\n\u001b[0m\u001b[0;32m    503\u001b[0m             \u001b[1;32mif\u001b[0m \u001b[0mresult\u001b[0m \u001b[1;32mis\u001b[0m \u001b[1;32mnot\u001b[0m \u001b[1;32mNone\u001b[0m\u001b[1;33m:\u001b[0m\u001b[1;33m\u001b[0m\u001b[1;33m\u001b[0m\u001b[0m\n\u001b[0;32m    504\u001b[0m                 \u001b[1;32mreturn\u001b[0m \u001b[0mresult\u001b[0m\u001b[1;33m\u001b[0m\u001b[1;33m\u001b[0m\u001b[0m\n",
      "\u001b[1;32m~\\Anaconda3\\lib\\urllib\\request.py\u001b[0m in \u001b[0;36mhttp_error_302\u001b[1;34m(self, req, fp, code, msg, headers)\u001b[0m\n\u001b[0;32m    753\u001b[0m         \u001b[0mfp\u001b[0m\u001b[1;33m.\u001b[0m\u001b[0mclose\u001b[0m\u001b[1;33m(\u001b[0m\u001b[1;33m)\u001b[0m\u001b[1;33m\u001b[0m\u001b[1;33m\u001b[0m\u001b[0m\n\u001b[0;32m    754\u001b[0m \u001b[1;33m\u001b[0m\u001b[0m\n\u001b[1;32m--> 755\u001b[1;33m         \u001b[1;32mreturn\u001b[0m \u001b[0mself\u001b[0m\u001b[1;33m.\u001b[0m\u001b[0mparent\u001b[0m\u001b[1;33m.\u001b[0m\u001b[0mopen\u001b[0m\u001b[1;33m(\u001b[0m\u001b[0mnew\u001b[0m\u001b[1;33m,\u001b[0m \u001b[0mtimeout\u001b[0m\u001b[1;33m=\u001b[0m\u001b[0mreq\u001b[0m\u001b[1;33m.\u001b[0m\u001b[0mtimeout\u001b[0m\u001b[1;33m)\u001b[0m\u001b[1;33m\u001b[0m\u001b[1;33m\u001b[0m\u001b[0m\n\u001b[0m\u001b[0;32m    756\u001b[0m \u001b[1;33m\u001b[0m\u001b[0m\n\u001b[0;32m    757\u001b[0m     \u001b[0mhttp_error_301\u001b[0m \u001b[1;33m=\u001b[0m \u001b[0mhttp_error_303\u001b[0m \u001b[1;33m=\u001b[0m \u001b[0mhttp_error_307\u001b[0m \u001b[1;33m=\u001b[0m \u001b[0mhttp_error_302\u001b[0m\u001b[1;33m\u001b[0m\u001b[1;33m\u001b[0m\u001b[0m\n",
      "\u001b[1;32m~\\Anaconda3\\lib\\urllib\\request.py\u001b[0m in \u001b[0;36mopen\u001b[1;34m(self, fullurl, data, timeout)\u001b[0m\n\u001b[0;32m    523\u001b[0m \u001b[1;33m\u001b[0m\u001b[0m\n\u001b[0;32m    524\u001b[0m         \u001b[0msys\u001b[0m\u001b[1;33m.\u001b[0m\u001b[0maudit\u001b[0m\u001b[1;33m(\u001b[0m\u001b[1;34m'urllib.Request'\u001b[0m\u001b[1;33m,\u001b[0m \u001b[0mreq\u001b[0m\u001b[1;33m.\u001b[0m\u001b[0mfull_url\u001b[0m\u001b[1;33m,\u001b[0m \u001b[0mreq\u001b[0m\u001b[1;33m.\u001b[0m\u001b[0mdata\u001b[0m\u001b[1;33m,\u001b[0m \u001b[0mreq\u001b[0m\u001b[1;33m.\u001b[0m\u001b[0mheaders\u001b[0m\u001b[1;33m,\u001b[0m \u001b[0mreq\u001b[0m\u001b[1;33m.\u001b[0m\u001b[0mget_method\u001b[0m\u001b[1;33m(\u001b[0m\u001b[1;33m)\u001b[0m\u001b[1;33m)\u001b[0m\u001b[1;33m\u001b[0m\u001b[1;33m\u001b[0m\u001b[0m\n\u001b[1;32m--> 525\u001b[1;33m         \u001b[0mresponse\u001b[0m \u001b[1;33m=\u001b[0m \u001b[0mself\u001b[0m\u001b[1;33m.\u001b[0m\u001b[0m_open\u001b[0m\u001b[1;33m(\u001b[0m\u001b[0mreq\u001b[0m\u001b[1;33m,\u001b[0m \u001b[0mdata\u001b[0m\u001b[1;33m)\u001b[0m\u001b[1;33m\u001b[0m\u001b[1;33m\u001b[0m\u001b[0m\n\u001b[0m\u001b[0;32m    526\u001b[0m \u001b[1;33m\u001b[0m\u001b[0m\n\u001b[0;32m    527\u001b[0m         \u001b[1;31m# post-process response\u001b[0m\u001b[1;33m\u001b[0m\u001b[1;33m\u001b[0m\u001b[1;33m\u001b[0m\u001b[0m\n",
      "\u001b[1;32m~\\Anaconda3\\lib\\urllib\\request.py\u001b[0m in \u001b[0;36m_open\u001b[1;34m(self, req, data)\u001b[0m\n\u001b[0;32m    540\u001b[0m \u001b[1;33m\u001b[0m\u001b[0m\n\u001b[0;32m    541\u001b[0m         \u001b[0mprotocol\u001b[0m \u001b[1;33m=\u001b[0m \u001b[0mreq\u001b[0m\u001b[1;33m.\u001b[0m\u001b[0mtype\u001b[0m\u001b[1;33m\u001b[0m\u001b[1;33m\u001b[0m\u001b[0m\n\u001b[1;32m--> 542\u001b[1;33m         result = self._call_chain(self.handle_open, protocol, protocol +\n\u001b[0m\u001b[0;32m    543\u001b[0m                                   '_open', req)\n\u001b[0;32m    544\u001b[0m         \u001b[1;32mif\u001b[0m \u001b[0mresult\u001b[0m\u001b[1;33m:\u001b[0m\u001b[1;33m\u001b[0m\u001b[1;33m\u001b[0m\u001b[0m\n",
      "\u001b[1;32m~\\Anaconda3\\lib\\urllib\\request.py\u001b[0m in \u001b[0;36m_call_chain\u001b[1;34m(self, chain, kind, meth_name, *args)\u001b[0m\n\u001b[0;32m    500\u001b[0m         \u001b[1;32mfor\u001b[0m \u001b[0mhandler\u001b[0m \u001b[1;32min\u001b[0m \u001b[0mhandlers\u001b[0m\u001b[1;33m:\u001b[0m\u001b[1;33m\u001b[0m\u001b[1;33m\u001b[0m\u001b[0m\n\u001b[0;32m    501\u001b[0m             \u001b[0mfunc\u001b[0m \u001b[1;33m=\u001b[0m \u001b[0mgetattr\u001b[0m\u001b[1;33m(\u001b[0m\u001b[0mhandler\u001b[0m\u001b[1;33m,\u001b[0m \u001b[0mmeth_name\u001b[0m\u001b[1;33m)\u001b[0m\u001b[1;33m\u001b[0m\u001b[1;33m\u001b[0m\u001b[0m\n\u001b[1;32m--> 502\u001b[1;33m             \u001b[0mresult\u001b[0m \u001b[1;33m=\u001b[0m \u001b[0mfunc\u001b[0m\u001b[1;33m(\u001b[0m\u001b[1;33m*\u001b[0m\u001b[0margs\u001b[0m\u001b[1;33m)\u001b[0m\u001b[1;33m\u001b[0m\u001b[1;33m\u001b[0m\u001b[0m\n\u001b[0m\u001b[0;32m    503\u001b[0m             \u001b[1;32mif\u001b[0m \u001b[0mresult\u001b[0m \u001b[1;32mis\u001b[0m \u001b[1;32mnot\u001b[0m \u001b[1;32mNone\u001b[0m\u001b[1;33m:\u001b[0m\u001b[1;33m\u001b[0m\u001b[1;33m\u001b[0m\u001b[0m\n\u001b[0;32m    504\u001b[0m                 \u001b[1;32mreturn\u001b[0m \u001b[0mresult\u001b[0m\u001b[1;33m\u001b[0m\u001b[1;33m\u001b[0m\u001b[0m\n",
      "\u001b[1;32m~\\Anaconda3\\lib\\urllib\\request.py\u001b[0m in \u001b[0;36mhttps_open\u001b[1;34m(self, req)\u001b[0m\n\u001b[0;32m   1395\u001b[0m \u001b[1;33m\u001b[0m\u001b[0m\n\u001b[0;32m   1396\u001b[0m         \u001b[1;32mdef\u001b[0m \u001b[0mhttps_open\u001b[0m\u001b[1;33m(\u001b[0m\u001b[0mself\u001b[0m\u001b[1;33m,\u001b[0m \u001b[0mreq\u001b[0m\u001b[1;33m)\u001b[0m\u001b[1;33m:\u001b[0m\u001b[1;33m\u001b[0m\u001b[1;33m\u001b[0m\u001b[0m\n\u001b[1;32m-> 1397\u001b[1;33m             return self.do_open(http.client.HTTPSConnection, req,\n\u001b[0m\u001b[0;32m   1398\u001b[0m                 context=self._context, check_hostname=self._check_hostname)\n\u001b[0;32m   1399\u001b[0m \u001b[1;33m\u001b[0m\u001b[0m\n",
      "\u001b[1;32m~\\Anaconda3\\lib\\urllib\\request.py\u001b[0m in \u001b[0;36mdo_open\u001b[1;34m(self, http_class, req, **http_conn_args)\u001b[0m\n\u001b[0;32m   1356\u001b[0m             \u001b[1;32mexcept\u001b[0m \u001b[0mOSError\u001b[0m \u001b[1;32mas\u001b[0m \u001b[0merr\u001b[0m\u001b[1;33m:\u001b[0m \u001b[1;31m# timeout error\u001b[0m\u001b[1;33m\u001b[0m\u001b[1;33m\u001b[0m\u001b[0m\n\u001b[0;32m   1357\u001b[0m                 \u001b[1;32mraise\u001b[0m \u001b[0mURLError\u001b[0m\u001b[1;33m(\u001b[0m\u001b[0merr\u001b[0m\u001b[1;33m)\u001b[0m\u001b[1;33m\u001b[0m\u001b[1;33m\u001b[0m\u001b[0m\n\u001b[1;32m-> 1358\u001b[1;33m             \u001b[0mr\u001b[0m \u001b[1;33m=\u001b[0m \u001b[0mh\u001b[0m\u001b[1;33m.\u001b[0m\u001b[0mgetresponse\u001b[0m\u001b[1;33m(\u001b[0m\u001b[1;33m)\u001b[0m\u001b[1;33m\u001b[0m\u001b[1;33m\u001b[0m\u001b[0m\n\u001b[0m\u001b[0;32m   1359\u001b[0m         \u001b[1;32mexcept\u001b[0m\u001b[1;33m:\u001b[0m\u001b[1;33m\u001b[0m\u001b[1;33m\u001b[0m\u001b[0m\n\u001b[0;32m   1360\u001b[0m             \u001b[0mh\u001b[0m\u001b[1;33m.\u001b[0m\u001b[0mclose\u001b[0m\u001b[1;33m(\u001b[0m\u001b[1;33m)\u001b[0m\u001b[1;33m\u001b[0m\u001b[1;33m\u001b[0m\u001b[0m\n",
      "\u001b[1;32m~\\Anaconda3\\lib\\http\\client.py\u001b[0m in \u001b[0;36mgetresponse\u001b[1;34m(self)\u001b[0m\n\u001b[0;32m   1345\u001b[0m         \u001b[1;32mtry\u001b[0m\u001b[1;33m:\u001b[0m\u001b[1;33m\u001b[0m\u001b[1;33m\u001b[0m\u001b[0m\n\u001b[0;32m   1346\u001b[0m             \u001b[1;32mtry\u001b[0m\u001b[1;33m:\u001b[0m\u001b[1;33m\u001b[0m\u001b[1;33m\u001b[0m\u001b[0m\n\u001b[1;32m-> 1347\u001b[1;33m                 \u001b[0mresponse\u001b[0m\u001b[1;33m.\u001b[0m\u001b[0mbegin\u001b[0m\u001b[1;33m(\u001b[0m\u001b[1;33m)\u001b[0m\u001b[1;33m\u001b[0m\u001b[1;33m\u001b[0m\u001b[0m\n\u001b[0m\u001b[0;32m   1348\u001b[0m             \u001b[1;32mexcept\u001b[0m \u001b[0mConnectionError\u001b[0m\u001b[1;33m:\u001b[0m\u001b[1;33m\u001b[0m\u001b[1;33m\u001b[0m\u001b[0m\n\u001b[0;32m   1349\u001b[0m                 \u001b[0mself\u001b[0m\u001b[1;33m.\u001b[0m\u001b[0mclose\u001b[0m\u001b[1;33m(\u001b[0m\u001b[1;33m)\u001b[0m\u001b[1;33m\u001b[0m\u001b[1;33m\u001b[0m\u001b[0m\n",
      "\u001b[1;32m~\\Anaconda3\\lib\\http\\client.py\u001b[0m in \u001b[0;36mbegin\u001b[1;34m(self)\u001b[0m\n\u001b[0;32m    305\u001b[0m         \u001b[1;31m# read until we get a non-100 response\u001b[0m\u001b[1;33m\u001b[0m\u001b[1;33m\u001b[0m\u001b[1;33m\u001b[0m\u001b[0m\n\u001b[0;32m    306\u001b[0m         \u001b[1;32mwhile\u001b[0m \u001b[1;32mTrue\u001b[0m\u001b[1;33m:\u001b[0m\u001b[1;33m\u001b[0m\u001b[1;33m\u001b[0m\u001b[0m\n\u001b[1;32m--> 307\u001b[1;33m             \u001b[0mversion\u001b[0m\u001b[1;33m,\u001b[0m \u001b[0mstatus\u001b[0m\u001b[1;33m,\u001b[0m \u001b[0mreason\u001b[0m \u001b[1;33m=\u001b[0m \u001b[0mself\u001b[0m\u001b[1;33m.\u001b[0m\u001b[0m_read_status\u001b[0m\u001b[1;33m(\u001b[0m\u001b[1;33m)\u001b[0m\u001b[1;33m\u001b[0m\u001b[1;33m\u001b[0m\u001b[0m\n\u001b[0m\u001b[0;32m    308\u001b[0m             \u001b[1;32mif\u001b[0m \u001b[0mstatus\u001b[0m \u001b[1;33m!=\u001b[0m \u001b[0mCONTINUE\u001b[0m\u001b[1;33m:\u001b[0m\u001b[1;33m\u001b[0m\u001b[1;33m\u001b[0m\u001b[0m\n\u001b[0;32m    309\u001b[0m                 \u001b[1;32mbreak\u001b[0m\u001b[1;33m\u001b[0m\u001b[1;33m\u001b[0m\u001b[0m\n",
      "\u001b[1;32m~\\Anaconda3\\lib\\http\\client.py\u001b[0m in \u001b[0;36m_read_status\u001b[1;34m(self)\u001b[0m\n\u001b[0;32m    266\u001b[0m \u001b[1;33m\u001b[0m\u001b[0m\n\u001b[0;32m    267\u001b[0m     \u001b[1;32mdef\u001b[0m \u001b[0m_read_status\u001b[0m\u001b[1;33m(\u001b[0m\u001b[0mself\u001b[0m\u001b[1;33m)\u001b[0m\u001b[1;33m:\u001b[0m\u001b[1;33m\u001b[0m\u001b[1;33m\u001b[0m\u001b[0m\n\u001b[1;32m--> 268\u001b[1;33m         \u001b[0mline\u001b[0m \u001b[1;33m=\u001b[0m \u001b[0mstr\u001b[0m\u001b[1;33m(\u001b[0m\u001b[0mself\u001b[0m\u001b[1;33m.\u001b[0m\u001b[0mfp\u001b[0m\u001b[1;33m.\u001b[0m\u001b[0mreadline\u001b[0m\u001b[1;33m(\u001b[0m\u001b[0m_MAXLINE\u001b[0m \u001b[1;33m+\u001b[0m \u001b[1;36m1\u001b[0m\u001b[1;33m)\u001b[0m\u001b[1;33m,\u001b[0m \u001b[1;34m\"iso-8859-1\"\u001b[0m\u001b[1;33m)\u001b[0m\u001b[1;33m\u001b[0m\u001b[1;33m\u001b[0m\u001b[0m\n\u001b[0m\u001b[0;32m    269\u001b[0m         \u001b[1;32mif\u001b[0m \u001b[0mlen\u001b[0m\u001b[1;33m(\u001b[0m\u001b[0mline\u001b[0m\u001b[1;33m)\u001b[0m \u001b[1;33m>\u001b[0m \u001b[0m_MAXLINE\u001b[0m\u001b[1;33m:\u001b[0m\u001b[1;33m\u001b[0m\u001b[1;33m\u001b[0m\u001b[0m\n\u001b[0;32m    270\u001b[0m             \u001b[1;32mraise\u001b[0m \u001b[0mLineTooLong\u001b[0m\u001b[1;33m(\u001b[0m\u001b[1;34m\"status line\"\u001b[0m\u001b[1;33m)\u001b[0m\u001b[1;33m\u001b[0m\u001b[1;33m\u001b[0m\u001b[0m\n",
      "\u001b[1;32m~\\Anaconda3\\lib\\socket.py\u001b[0m in \u001b[0;36mreadinto\u001b[1;34m(self, b)\u001b[0m\n\u001b[0;32m    667\u001b[0m         \u001b[1;32mwhile\u001b[0m \u001b[1;32mTrue\u001b[0m\u001b[1;33m:\u001b[0m\u001b[1;33m\u001b[0m\u001b[1;33m\u001b[0m\u001b[0m\n\u001b[0;32m    668\u001b[0m             \u001b[1;32mtry\u001b[0m\u001b[1;33m:\u001b[0m\u001b[1;33m\u001b[0m\u001b[1;33m\u001b[0m\u001b[0m\n\u001b[1;32m--> 669\u001b[1;33m                 \u001b[1;32mreturn\u001b[0m \u001b[0mself\u001b[0m\u001b[1;33m.\u001b[0m\u001b[0m_sock\u001b[0m\u001b[1;33m.\u001b[0m\u001b[0mrecv_into\u001b[0m\u001b[1;33m(\u001b[0m\u001b[0mb\u001b[0m\u001b[1;33m)\u001b[0m\u001b[1;33m\u001b[0m\u001b[1;33m\u001b[0m\u001b[0m\n\u001b[0m\u001b[0;32m    670\u001b[0m             \u001b[1;32mexcept\u001b[0m \u001b[0mtimeout\u001b[0m\u001b[1;33m:\u001b[0m\u001b[1;33m\u001b[0m\u001b[1;33m\u001b[0m\u001b[0m\n\u001b[0;32m    671\u001b[0m                 \u001b[0mself\u001b[0m\u001b[1;33m.\u001b[0m\u001b[0m_timeout_occurred\u001b[0m \u001b[1;33m=\u001b[0m \u001b[1;32mTrue\u001b[0m\u001b[1;33m\u001b[0m\u001b[1;33m\u001b[0m\u001b[0m\n",
      "\u001b[1;32m~\\Anaconda3\\lib\\ssl.py\u001b[0m in \u001b[0;36mrecv_into\u001b[1;34m(self, buffer, nbytes, flags)\u001b[0m\n\u001b[0;32m   1239\u001b[0m                   \u001b[1;34m\"non-zero flags not allowed in calls to recv_into() on %s\"\u001b[0m \u001b[1;33m%\u001b[0m\u001b[1;33m\u001b[0m\u001b[1;33m\u001b[0m\u001b[0m\n\u001b[0;32m   1240\u001b[0m                   self.__class__)\n\u001b[1;32m-> 1241\u001b[1;33m             \u001b[1;32mreturn\u001b[0m \u001b[0mself\u001b[0m\u001b[1;33m.\u001b[0m\u001b[0mread\u001b[0m\u001b[1;33m(\u001b[0m\u001b[0mnbytes\u001b[0m\u001b[1;33m,\u001b[0m \u001b[0mbuffer\u001b[0m\u001b[1;33m)\u001b[0m\u001b[1;33m\u001b[0m\u001b[1;33m\u001b[0m\u001b[0m\n\u001b[0m\u001b[0;32m   1242\u001b[0m         \u001b[1;32melse\u001b[0m\u001b[1;33m:\u001b[0m\u001b[1;33m\u001b[0m\u001b[1;33m\u001b[0m\u001b[0m\n\u001b[0;32m   1243\u001b[0m             \u001b[1;32mreturn\u001b[0m \u001b[0msuper\u001b[0m\u001b[1;33m(\u001b[0m\u001b[1;33m)\u001b[0m\u001b[1;33m.\u001b[0m\u001b[0mrecv_into\u001b[0m\u001b[1;33m(\u001b[0m\u001b[0mbuffer\u001b[0m\u001b[1;33m,\u001b[0m \u001b[0mnbytes\u001b[0m\u001b[1;33m,\u001b[0m \u001b[0mflags\u001b[0m\u001b[1;33m)\u001b[0m\u001b[1;33m\u001b[0m\u001b[1;33m\u001b[0m\u001b[0m\n",
      "\u001b[1;32m~\\Anaconda3\\lib\\ssl.py\u001b[0m in \u001b[0;36mread\u001b[1;34m(self, len, buffer)\u001b[0m\n\u001b[0;32m   1097\u001b[0m         \u001b[1;32mtry\u001b[0m\u001b[1;33m:\u001b[0m\u001b[1;33m\u001b[0m\u001b[1;33m\u001b[0m\u001b[0m\n\u001b[0;32m   1098\u001b[0m             \u001b[1;32mif\u001b[0m \u001b[0mbuffer\u001b[0m \u001b[1;32mis\u001b[0m \u001b[1;32mnot\u001b[0m \u001b[1;32mNone\u001b[0m\u001b[1;33m:\u001b[0m\u001b[1;33m\u001b[0m\u001b[1;33m\u001b[0m\u001b[0m\n\u001b[1;32m-> 1099\u001b[1;33m                 \u001b[1;32mreturn\u001b[0m \u001b[0mself\u001b[0m\u001b[1;33m.\u001b[0m\u001b[0m_sslobj\u001b[0m\u001b[1;33m.\u001b[0m\u001b[0mread\u001b[0m\u001b[1;33m(\u001b[0m\u001b[0mlen\u001b[0m\u001b[1;33m,\u001b[0m \u001b[0mbuffer\u001b[0m\u001b[1;33m)\u001b[0m\u001b[1;33m\u001b[0m\u001b[1;33m\u001b[0m\u001b[0m\n\u001b[0m\u001b[0;32m   1100\u001b[0m             \u001b[1;32melse\u001b[0m\u001b[1;33m:\u001b[0m\u001b[1;33m\u001b[0m\u001b[1;33m\u001b[0m\u001b[0m\n\u001b[0;32m   1101\u001b[0m                 \u001b[1;32mreturn\u001b[0m \u001b[0mself\u001b[0m\u001b[1;33m.\u001b[0m\u001b[0m_sslobj\u001b[0m\u001b[1;33m.\u001b[0m\u001b[0mread\u001b[0m\u001b[1;33m(\u001b[0m\u001b[0mlen\u001b[0m\u001b[1;33m)\u001b[0m\u001b[1;33m\u001b[0m\u001b[1;33m\u001b[0m\u001b[0m\n",
      "\u001b[1;31mKeyboardInterrupt\u001b[0m: "
     ]
    }
   ],
   "source": [
    "dfs_test = []\n",
    "\n",
    "for _, row in tqdm(df_test_files.iterrows(), total=df_test_files.shape[0]):\n",
    "    #print(row['filename'])\n",
    "    df_temp = pd.read_csv('https://github.com/reichlab/covid19-forecast-hub/raw/master/' + row['filename'],\n",
    "                         dtype=dtype, parse_dates=parse_dates)\n",
    "    df_temp = df_temp[df_temp.target.isin(VALID_TARGETS)]\n",
    "    df_temp['model'] = row['model']\n",
    "    dfs_test.append(df_temp)"
   ]
  },
  {
   "cell_type": "code",
   "execution_count": null,
   "metadata": {},
   "outputs": [],
   "source": [
    "df_test = pd.concat(dfs_test)"
   ]
  },
  {
   "cell_type": "code",
   "execution_count": null,
   "metadata": {},
   "outputs": [],
   "source": [
    "df_test.shape"
   ]
  },
  {
   "cell_type": "code",
   "execution_count": null,
   "metadata": {},
   "outputs": [],
   "source": [
    "df_test"
   ]
  },
  {
   "cell_type": "code",
   "execution_count": null,
   "metadata": {},
   "outputs": [],
   "source": [
    "# only consider US + 50 states\n",
    "df_test = df_test[df_test.location.str.len() == 2]\n",
    "df_test = df_test[~df_test.location.isin(locations_to_exclude)]"
   ]
  },
  {
   "cell_type": "code",
   "execution_count": null,
   "metadata": {},
   "outputs": [],
   "source": [
    "df_test.shape"
   ]
  },
  {
   "cell_type": "code",
   "execution_count": null,
   "metadata": {},
   "outputs": [],
   "source": [
    "df_test.location.nunique()"
   ]
  },
  {
   "cell_type": "code",
   "execution_count": null,
   "metadata": {},
   "outputs": [],
   "source": [
    "# ensure that for all targets each model provides forecasts for all locations\n",
    "df_test = df_test[df_test.groupby(['target', 'model'])['location'].transform('nunique') == 52]"
   ]
  },
  {
   "cell_type": "code",
   "execution_count": null,
   "metadata": {},
   "outputs": [],
   "source": [
    "df_test = df_test[df_test.type == 'quantile']"
   ]
  },
  {
   "cell_type": "code",
   "execution_count": null,
   "metadata": {},
   "outputs": [],
   "source": [
    "df_test['no_quantiles'] = df_test.groupby(['model', 'target', 'target_end_date', 'location'])['quantile'].transform('nunique')\n",
    "\n",
    "df_test['no_quantiles'] = df_test.groupby(['target', 'model'])['no_quantiles'].transform('min')"
   ]
  },
  {
   "cell_type": "code",
   "execution_count": 24,
   "metadata": {},
   "outputs": [],
   "source": [
    "df_test = df_test[(df_test.no_quantiles == 23) | \n",
    "        (df_test.target.str.contains('inc case') & (df_test.no_quantiles == 7))].drop(columns='no_quantiles').reset_index(drop=True)"
   ]
  },
  {
   "cell_type": "code",
   "execution_count": 25,
   "metadata": {},
   "outputs": [
    {
     "data": {
      "text/plain": [
       "(262808, 8)"
      ]
     },
     "execution_count": 25,
     "metadata": {},
     "output_type": "execute_result"
    }
   ],
   "source": [
    "df_test.shape"
   ]
  },
  {
   "cell_type": "code",
   "execution_count": 26,
   "metadata": {},
   "outputs": [],
   "source": [
    "# dict of the models available for each target\n",
    "available_models = dict(df_test.groupby(['target'])['model'].unique())"
   ]
  },
  {
   "cell_type": "code",
   "execution_count": 27,
   "metadata": {},
   "outputs": [
    {
     "data": {
      "text/plain": [
       "{'1 wk ahead cum death': array(['BPagano-RtDriven', 'CEID-Walk', 'COVIDhub-baseline', 'CU-select',\n",
       "        'Covid19Sim-Simulator', 'CovidAnalytics-DELPHI', 'DDS-NBDS',\n",
       "        'IHME-CurveFit', 'JHUAPL-Bucky', 'JHU_IDD-CovidSP', 'Karlen-pypm',\n",
       "        'LANL-GrowthRate', 'LNQ-ens1', 'MIT_CritData-GBCF',\n",
       "        'Microsoft-DeepSTIA', 'OliverWyman-Navigator',\n",
       "        'RobertWalraven-ESG', 'SteveMcConnell-CovidComplete',\n",
       "        'UA-EpiCovDA', 'UMass-MechBayes', 'USC-SI_kJalpha',\n",
       "        'epiforecasts-ensemble1'], dtype=object),\n",
       " '1 wk ahead inc case': array(['BPagano-RtDriven', 'CEID-Walk', 'COVIDhub-baseline', 'CU-select',\n",
       "        'Covid19Sim-Simulator', 'CovidAnalytics-DELPHI',\n",
       "        'IEM_MED-CovidProject', 'JHUAPL-Bucky', 'JHU_CSSE-DECOM',\n",
       "        'JHU_IDD-CovidSP', 'Karlen-pypm', 'LANL-GrowthRate', 'LNQ-ens1',\n",
       "        'MUNI-ARIMA', 'Microsoft-DeepSTIA', 'RobertWalraven-ESG',\n",
       "        'UChicagoCHATTOPADHYAY-UnIT', 'USC-SI_kJalpha', 'UVA-Ensemble'],\n",
       "       dtype=object),\n",
       " '1 wk ahead inc death': array(['BPagano-RtDriven', 'CEID-Walk', 'COVIDhub-baseline', 'CU-select',\n",
       "        'Covid19Sim-Simulator', 'CovidAnalytics-DELPHI', 'DDS-NBDS',\n",
       "        'IEM_MED-CovidProject', 'IHME-CurveFit', 'JHUAPL-Bucky',\n",
       "        'JHU_CSSE-DECOM', 'JHU_IDD-CovidSP', 'Karlen-pypm',\n",
       "        'LANL-GrowthRate', 'LNQ-ens1', 'MIT_CritData-GBCF', 'MUNI-ARIMA',\n",
       "        'Microsoft-DeepSTIA', 'OliverWyman-Navigator',\n",
       "        'RobertWalraven-ESG', 'SteveMcConnell-CovidComplete',\n",
       "        'UA-EpiCovDA', 'UMass-MechBayes', 'USC-SI_kJalpha',\n",
       "        'epiforecasts-ensemble1'], dtype=object),\n",
       " '2 wk ahead cum death': array(['BPagano-RtDriven', 'CEID-Walk', 'COVIDhub-baseline', 'CU-select',\n",
       "        'Covid19Sim-Simulator', 'CovidAnalytics-DELPHI', 'DDS-NBDS',\n",
       "        'IHME-CurveFit', 'JHUAPL-Bucky', 'JHU_IDD-CovidSP', 'Karlen-pypm',\n",
       "        'LANL-GrowthRate', 'LNQ-ens1', 'MIT_CritData-GBCF',\n",
       "        'Microsoft-DeepSTIA', 'OliverWyman-Navigator',\n",
       "        'RobertWalraven-ESG', 'SteveMcConnell-CovidComplete',\n",
       "        'UA-EpiCovDA', 'UMass-MechBayes', 'USC-SI_kJalpha',\n",
       "        'epiforecasts-ensemble1'], dtype=object),\n",
       " '2 wk ahead inc case': array(['BPagano-RtDriven', 'CEID-Walk', 'COVIDhub-baseline', 'CU-select',\n",
       "        'Covid19Sim-Simulator', 'CovidAnalytics-DELPHI',\n",
       "        'IEM_MED-CovidProject', 'JHUAPL-Bucky', 'JHU_CSSE-DECOM',\n",
       "        'JHU_IDD-CovidSP', 'Karlen-pypm', 'LANL-GrowthRate', 'LNQ-ens1',\n",
       "        'MUNI-ARIMA', 'Microsoft-DeepSTIA', 'RobertWalraven-ESG',\n",
       "        'UChicagoCHATTOPADHYAY-UnIT', 'USC-SI_kJalpha', 'UVA-Ensemble'],\n",
       "       dtype=object),\n",
       " '2 wk ahead inc death': array(['BPagano-RtDriven', 'CEID-Walk', 'COVIDhub-baseline', 'CU-select',\n",
       "        'Covid19Sim-Simulator', 'CovidAnalytics-DELPHI', 'DDS-NBDS',\n",
       "        'IEM_MED-CovidProject', 'IHME-CurveFit', 'JHUAPL-Bucky',\n",
       "        'JHU_CSSE-DECOM', 'JHU_IDD-CovidSP', 'Karlen-pypm',\n",
       "        'LANL-GrowthRate', 'LNQ-ens1', 'MIT_CritData-GBCF', 'MUNI-ARIMA',\n",
       "        'Microsoft-DeepSTIA', 'OliverWyman-Navigator',\n",
       "        'RobertWalraven-ESG', 'SteveMcConnell-CovidComplete',\n",
       "        'UA-EpiCovDA', 'UMass-MechBayes', 'USC-SI_kJalpha',\n",
       "        'epiforecasts-ensemble1'], dtype=object),\n",
       " '3 wk ahead cum death': array(['BPagano-RtDriven', 'CEID-Walk', 'COVIDhub-baseline', 'CU-select',\n",
       "        'Covid19Sim-Simulator', 'CovidAnalytics-DELPHI', 'DDS-NBDS',\n",
       "        'IHME-CurveFit', 'JHUAPL-Bucky', 'JHU_IDD-CovidSP', 'Karlen-pypm',\n",
       "        'LANL-GrowthRate', 'LNQ-ens1', 'MIT_CritData-GBCF',\n",
       "        'Microsoft-DeepSTIA', 'OliverWyman-Navigator',\n",
       "        'RobertWalraven-ESG', 'SteveMcConnell-CovidComplete',\n",
       "        'UA-EpiCovDA', 'UMass-MechBayes', 'USC-SI_kJalpha',\n",
       "        'epiforecasts-ensemble1'], dtype=object),\n",
       " '3 wk ahead inc case': array(['BPagano-RtDriven', 'CEID-Walk', 'COVIDhub-baseline', 'CU-select',\n",
       "        'Covid19Sim-Simulator', 'CovidAnalytics-DELPHI',\n",
       "        'IEM_MED-CovidProject', 'JHUAPL-Bucky', 'JHU_CSSE-DECOM',\n",
       "        'JHU_IDD-CovidSP', 'Karlen-pypm', 'LANL-GrowthRate', 'LNQ-ens1',\n",
       "        'MUNI-ARIMA', 'Microsoft-DeepSTIA', 'RobertWalraven-ESG',\n",
       "        'USC-SI_kJalpha', 'UVA-Ensemble'], dtype=object),\n",
       " '3 wk ahead inc death': array(['BPagano-RtDriven', 'CEID-Walk', 'COVIDhub-baseline', 'CU-select',\n",
       "        'Covid19Sim-Simulator', 'CovidAnalytics-DELPHI', 'DDS-NBDS',\n",
       "        'IEM_MED-CovidProject', 'IHME-CurveFit', 'JHUAPL-Bucky',\n",
       "        'JHU_CSSE-DECOM', 'JHU_IDD-CovidSP', 'Karlen-pypm',\n",
       "        'LANL-GrowthRate', 'LNQ-ens1', 'MIT_CritData-GBCF', 'MUNI-ARIMA',\n",
       "        'Microsoft-DeepSTIA', 'OliverWyman-Navigator',\n",
       "        'RobertWalraven-ESG', 'SteveMcConnell-CovidComplete',\n",
       "        'UA-EpiCovDA', 'UMass-MechBayes', 'USC-SI_kJalpha',\n",
       "        'epiforecasts-ensemble1'], dtype=object),\n",
       " '4 wk ahead cum death': array(['BPagano-RtDriven', 'CEID-Walk', 'COVIDhub-baseline', 'CU-select',\n",
       "        'Covid19Sim-Simulator', 'CovidAnalytics-DELPHI', 'DDS-NBDS',\n",
       "        'IHME-CurveFit', 'JHUAPL-Bucky', 'JHU_IDD-CovidSP', 'Karlen-pypm',\n",
       "        'LANL-GrowthRate', 'LNQ-ens1', 'MIT_CritData-GBCF',\n",
       "        'Microsoft-DeepSTIA', 'OliverWyman-Navigator',\n",
       "        'RobertWalraven-ESG', 'SteveMcConnell-CovidComplete',\n",
       "        'UA-EpiCovDA', 'UMass-MechBayes', 'USC-SI_kJalpha',\n",
       "        'epiforecasts-ensemble1'], dtype=object),\n",
       " '4 wk ahead inc case': array(['BPagano-RtDriven', 'CEID-Walk', 'COVIDhub-baseline', 'CU-select',\n",
       "        'Covid19Sim-Simulator', 'CovidAnalytics-DELPHI',\n",
       "        'IEM_MED-CovidProject', 'JHUAPL-Bucky', 'JHU_CSSE-DECOM',\n",
       "        'JHU_IDD-CovidSP', 'Karlen-pypm', 'LANL-GrowthRate', 'LNQ-ens1',\n",
       "        'MUNI-ARIMA', 'Microsoft-DeepSTIA', 'RobertWalraven-ESG',\n",
       "        'USC-SI_kJalpha', 'UVA-Ensemble'], dtype=object),\n",
       " '4 wk ahead inc death': array(['BPagano-RtDriven', 'CEID-Walk', 'COVIDhub-baseline', 'CU-select',\n",
       "        'Covid19Sim-Simulator', 'CovidAnalytics-DELPHI', 'DDS-NBDS',\n",
       "        'IEM_MED-CovidProject', 'IHME-CurveFit', 'JHUAPL-Bucky',\n",
       "        'JHU_CSSE-DECOM', 'JHU_IDD-CovidSP', 'Karlen-pypm',\n",
       "        'LANL-GrowthRate', 'LNQ-ens1', 'MIT_CritData-GBCF', 'MUNI-ARIMA',\n",
       "        'Microsoft-DeepSTIA', 'OliverWyman-Navigator',\n",
       "        'RobertWalraven-ESG', 'SteveMcConnell-CovidComplete',\n",
       "        'UA-EpiCovDA', 'UMass-MechBayes', 'USC-SI_kJalpha',\n",
       "        'epiforecasts-ensemble1'], dtype=object)}"
      ]
     },
     "execution_count": 27,
     "metadata": {},
     "output_type": "execute_result"
    }
   ],
   "source": [
    "available_models"
   ]
  },
  {
   "cell_type": "markdown",
   "metadata": {},
   "source": [
    "## Training Data"
   ]
  },
  {
   "cell_type": "markdown",
   "metadata": {},
   "source": [
    "d - 4 weeks - (horizon - 1) --> end: d - horizon"
   ]
  },
  {
   "cell_type": "code",
   "execution_count": 28,
   "metadata": {},
   "outputs": [],
   "source": [
    "lower_bound = test_date - pd.Timedelta(weeks=4) - pd.Timedelta(weeks=(4 - 1))"
   ]
  },
  {
   "cell_type": "code",
   "execution_count": 29,
   "metadata": {},
   "outputs": [
    {
     "data": {
      "text/plain": [
       "Timestamp('2021-03-29 00:00:00')"
      ]
     },
     "execution_count": 29,
     "metadata": {},
     "output_type": "execute_result"
    }
   ],
   "source": [
    "lower_bound"
   ]
  },
  {
   "cell_type": "code",
   "execution_count": 30,
   "metadata": {},
   "outputs": [],
   "source": [
    "df_files = df_files[(df_files.timezero >= lower_bound) & (df_files.timezero < test_date)].copy()"
   ]
  },
  {
   "cell_type": "code",
   "execution_count": 31,
   "metadata": {},
   "outputs": [],
   "source": [
    "# assigns to each horizon the corresponding training forecast dates for the test date\n",
    "h_dict = {}\n",
    "for h in range(1, 5):\n",
    "    h_dict[h] = [test_date - pd.Timedelta(weeks=4) - pd.Timedelta(weeks=(h - 1)), \n",
    "                 test_date - pd.Timedelta(weeks=h)]"
   ]
  },
  {
   "cell_type": "code",
   "execution_count": 32,
   "metadata": {
    "scrolled": false
   },
   "outputs": [
    {
     "data": {
      "text/plain": [
       "{1: [Timestamp('2021-04-19 00:00:00'), Timestamp('2021-05-10 00:00:00')],\n",
       " 2: [Timestamp('2021-04-12 00:00:00'), Timestamp('2021-05-03 00:00:00')],\n",
       " 3: [Timestamp('2021-04-05 00:00:00'), Timestamp('2021-04-26 00:00:00')],\n",
       " 4: [Timestamp('2021-03-29 00:00:00'), Timestamp('2021-04-19 00:00:00')]}"
      ]
     },
     "execution_count": 32,
     "metadata": {},
     "output_type": "execute_result"
    }
   ],
   "source": [
    "h_dict"
   ]
  },
  {
   "cell_type": "code",
   "execution_count": 33,
   "metadata": {},
   "outputs": [],
   "source": [
    "def relevant_horizons(d):\n",
    "    hs = []\n",
    "    for h in range(1, 5):\n",
    "        if((d >= h_dict[h][0]) & (d <= h_dict[h][1])):\n",
    "            hs.append(h)\n",
    "    return hs"
   ]
  },
  {
   "cell_type": "code",
   "execution_count": 34,
   "metadata": {},
   "outputs": [],
   "source": [
    "df_files['horizons'] = df_files.timezero.apply(relevant_horizons)"
   ]
  },
  {
   "cell_type": "code",
   "execution_count": 35,
   "metadata": {},
   "outputs": [
    {
     "data": {
      "text/html": [
       "<div>\n",
       "<style scoped>\n",
       "    .dataframe tbody tr th:only-of-type {\n",
       "        vertical-align: middle;\n",
       "    }\n",
       "\n",
       "    .dataframe tbody tr th {\n",
       "        vertical-align: top;\n",
       "    }\n",
       "\n",
       "    .dataframe thead th {\n",
       "        text-align: right;\n",
       "    }\n",
       "</style>\n",
       "<table border=\"1\" class=\"dataframe\">\n",
       "  <thead>\n",
       "    <tr style=\"text-align: right;\">\n",
       "      <th></th>\n",
       "      <th>filename</th>\n",
       "      <th>model</th>\n",
       "      <th>forecast_date</th>\n",
       "      <th>timezero</th>\n",
       "      <th>horizons</th>\n",
       "    </tr>\n",
       "  </thead>\n",
       "  <tbody>\n",
       "    <tr>\n",
       "      <th>14</th>\n",
       "      <td>data-processed/AIpert-pwllnod/2021-03-29-AIper...</td>\n",
       "      <td>AIpert-pwllnod</td>\n",
       "      <td>2021-03-29</td>\n",
       "      <td>2021-03-29</td>\n",
       "      <td>[4]</td>\n",
       "    </tr>\n",
       "    <tr>\n",
       "      <th>15</th>\n",
       "      <td>data-processed/AIpert-pwllnod/2021-04-05-AIper...</td>\n",
       "      <td>AIpert-pwllnod</td>\n",
       "      <td>2021-04-05</td>\n",
       "      <td>2021-04-05</td>\n",
       "      <td>[3, 4]</td>\n",
       "    </tr>\n",
       "    <tr>\n",
       "      <th>16</th>\n",
       "      <td>data-processed/AIpert-pwllnod/2021-04-12-AIper...</td>\n",
       "      <td>AIpert-pwllnod</td>\n",
       "      <td>2021-04-12</td>\n",
       "      <td>2021-04-12</td>\n",
       "      <td>[2, 3, 4]</td>\n",
       "    </tr>\n",
       "    <tr>\n",
       "      <th>17</th>\n",
       "      <td>data-processed/AIpert-pwllnod/2021-04-19-AIper...</td>\n",
       "      <td>AIpert-pwllnod</td>\n",
       "      <td>2021-04-19</td>\n",
       "      <td>2021-04-19</td>\n",
       "      <td>[1, 2, 3, 4]</td>\n",
       "    </tr>\n",
       "    <tr>\n",
       "      <th>18</th>\n",
       "      <td>data-processed/AIpert-pwllnod/2021-04-26-AIper...</td>\n",
       "      <td>AIpert-pwllnod</td>\n",
       "      <td>2021-04-26</td>\n",
       "      <td>2021-04-26</td>\n",
       "      <td>[1, 2, 3]</td>\n",
       "    </tr>\n",
       "    <tr>\n",
       "      <th>...</th>\n",
       "      <td>...</td>\n",
       "      <td>...</td>\n",
       "      <td>...</td>\n",
       "      <td>...</td>\n",
       "      <td>...</td>\n",
       "    </tr>\n",
       "    <tr>\n",
       "      <th>3427</th>\n",
       "      <td>data-processed/epiforecasts-ensemble1/2021-04-...</td>\n",
       "      <td>epiforecasts-ensemble1</td>\n",
       "      <td>2021-04-12</td>\n",
       "      <td>2021-04-12</td>\n",
       "      <td>[2, 3, 4]</td>\n",
       "    </tr>\n",
       "    <tr>\n",
       "      <th>3428</th>\n",
       "      <td>data-processed/epiforecasts-ensemble1/2021-04-...</td>\n",
       "      <td>epiforecasts-ensemble1</td>\n",
       "      <td>2021-04-19</td>\n",
       "      <td>2021-04-19</td>\n",
       "      <td>[1, 2, 3, 4]</td>\n",
       "    </tr>\n",
       "    <tr>\n",
       "      <th>3429</th>\n",
       "      <td>data-processed/epiforecasts-ensemble1/2021-04-...</td>\n",
       "      <td>epiforecasts-ensemble1</td>\n",
       "      <td>2021-04-26</td>\n",
       "      <td>2021-04-26</td>\n",
       "      <td>[1, 2, 3]</td>\n",
       "    </tr>\n",
       "    <tr>\n",
       "      <th>3430</th>\n",
       "      <td>data-processed/epiforecasts-ensemble1/2021-05-...</td>\n",
       "      <td>epiforecasts-ensemble1</td>\n",
       "      <td>2021-05-03</td>\n",
       "      <td>2021-05-03</td>\n",
       "      <td>[1, 2]</td>\n",
       "    </tr>\n",
       "    <tr>\n",
       "      <th>3431</th>\n",
       "      <td>data-processed/epiforecasts-ensemble1/2021-05-...</td>\n",
       "      <td>epiforecasts-ensemble1</td>\n",
       "      <td>2021-05-10</td>\n",
       "      <td>2021-05-10</td>\n",
       "      <td>[1]</td>\n",
       "    </tr>\n",
       "  </tbody>\n",
       "</table>\n",
       "<p>420 rows × 5 columns</p>\n",
       "</div>"
      ],
      "text/plain": [
       "                                               filename  \\\n",
       "14    data-processed/AIpert-pwllnod/2021-03-29-AIper...   \n",
       "15    data-processed/AIpert-pwllnod/2021-04-05-AIper...   \n",
       "16    data-processed/AIpert-pwllnod/2021-04-12-AIper...   \n",
       "17    data-processed/AIpert-pwllnod/2021-04-19-AIper...   \n",
       "18    data-processed/AIpert-pwllnod/2021-04-26-AIper...   \n",
       "...                                                 ...   \n",
       "3427  data-processed/epiforecasts-ensemble1/2021-04-...   \n",
       "3428  data-processed/epiforecasts-ensemble1/2021-04-...   \n",
       "3429  data-processed/epiforecasts-ensemble1/2021-04-...   \n",
       "3430  data-processed/epiforecasts-ensemble1/2021-05-...   \n",
       "3431  data-processed/epiforecasts-ensemble1/2021-05-...   \n",
       "\n",
       "                       model forecast_date   timezero      horizons  \n",
       "14            AIpert-pwllnod    2021-03-29 2021-03-29           [4]  \n",
       "15            AIpert-pwllnod    2021-04-05 2021-04-05        [3, 4]  \n",
       "16            AIpert-pwllnod    2021-04-12 2021-04-12     [2, 3, 4]  \n",
       "17            AIpert-pwllnod    2021-04-19 2021-04-19  [1, 2, 3, 4]  \n",
       "18            AIpert-pwllnod    2021-04-26 2021-04-26     [1, 2, 3]  \n",
       "...                      ...           ...        ...           ...  \n",
       "3427  epiforecasts-ensemble1    2021-04-12 2021-04-12     [2, 3, 4]  \n",
       "3428  epiforecasts-ensemble1    2021-04-19 2021-04-19  [1, 2, 3, 4]  \n",
       "3429  epiforecasts-ensemble1    2021-04-26 2021-04-26     [1, 2, 3]  \n",
       "3430  epiforecasts-ensemble1    2021-05-03 2021-05-03        [1, 2]  \n",
       "3431  epiforecasts-ensemble1    2021-05-10 2021-05-10           [1]  \n",
       "\n",
       "[420 rows x 5 columns]"
      ]
     },
     "execution_count": 35,
     "metadata": {},
     "output_type": "execute_result"
    }
   ],
   "source": [
    "df_files"
   ]
  },
  {
   "cell_type": "code",
   "execution_count": 36,
   "metadata": {},
   "outputs": [],
   "source": [
    "# only keep relevant training data\n",
    "df_files = df_files[df_files.horizons.apply(len) > 0]"
   ]
  },
  {
   "cell_type": "code",
   "execution_count": 37,
   "metadata": {
    "scrolled": true
   },
   "outputs": [
    {
     "data": {
      "application/vnd.jupyter.widget-view+json": {
       "model_id": "25123aa5c08745be94fe9449ca2d921a",
       "version_major": 2,
       "version_minor": 0
      },
      "text/plain": [
       "  0%|          | 0/420 [00:00<?, ?it/s]"
      ]
     },
     "metadata": {},
     "output_type": "display_data"
    }
   ],
   "source": [
    "dfs = []\n",
    "for _, row in tqdm(df_files.iterrows(), total=df_files.shape[0]):\n",
    "    VALID_TARGETS = [f\"{_} wk ahead inc death\" for _ in row['horizons']] + \\\n",
    "                    [f\"{_} wk ahead cum death\" for _ in row['horizons']] + \\\n",
    "                    [f\"{_} wk ahead inc case\" for _ in row['horizons']]\n",
    "    df_temp = pd.read_csv('https://github.com/reichlab/covid19-forecast-hub/raw/master/' + row['filename'],\n",
    "                         dtype=dtype, parse_dates=parse_dates)\n",
    "    df_temp = df_temp[df_temp.target.isin(VALID_TARGETS)]\n",
    "    df_temp['model'] = row['model']\n",
    "    dfs.append(df_temp)"
   ]
  },
  {
   "cell_type": "code",
   "execution_count": 38,
   "metadata": {},
   "outputs": [],
   "source": [
    "df = pd.concat(dfs)"
   ]
  },
  {
   "cell_type": "code",
   "execution_count": 39,
   "metadata": {},
   "outputs": [
    {
     "data": {
      "text/plain": [
       "(9444823, 8)"
      ]
     },
     "execution_count": 39,
     "metadata": {},
     "output_type": "execute_result"
    }
   ],
   "source": [
    "df.shape"
   ]
  },
  {
   "cell_type": "markdown",
   "metadata": {},
   "source": [
    "# Data Cleaning"
   ]
  },
  {
   "cell_type": "code",
   "execution_count": 40,
   "metadata": {},
   "outputs": [],
   "source": [
    "df = df[df.location.str.len() == 2]\n",
    "df = df[~df.location.isin(locations_to_exclude)]"
   ]
  },
  {
   "cell_type": "code",
   "execution_count": 41,
   "metadata": {},
   "outputs": [
    {
     "data": {
      "text/plain": [
       "52"
      ]
     },
     "execution_count": 41,
     "metadata": {},
     "output_type": "execute_result"
    }
   ],
   "source": [
    "df.location.nunique() # US + 50 states + district of Columbia"
   ]
  },
  {
   "cell_type": "code",
   "execution_count": 42,
   "metadata": {},
   "outputs": [],
   "source": [
    "df = df[df.type == 'quantile']"
   ]
  },
  {
   "cell_type": "code",
   "execution_count": 43,
   "metadata": {},
   "outputs": [],
   "source": [
    "# how many forecasts for each target/model/location? should be 4 for every location\n",
    "df['no_forecasts'] = df.groupby(['target', 'model', 'location'])['target_end_date'].transform('nunique')"
   ]
  },
  {
   "cell_type": "code",
   "execution_count": 44,
   "metadata": {},
   "outputs": [],
   "source": [
    "df = df[df.groupby(['target', 'model'])['no_forecasts'].transform('min') == 4].drop(columns='no_forecasts').reset_index(drop=True)"
   ]
  },
  {
   "cell_type": "code",
   "execution_count": 45,
   "metadata": {},
   "outputs": [],
   "source": [
    "# df = df[df.groupby(['target', 'model', 'location'])['target_end_date'].transform('nunique') == 4]\n",
    "# would only remove the respective location with <4 forecasts, but we want to remove the model as a whole if in one location <4"
   ]
  },
  {
   "cell_type": "code",
   "execution_count": 46,
   "metadata": {},
   "outputs": [],
   "source": [
    "df = df[df.groupby(['target', 'model', 'target_end_date'])['location'].transform('nunique') == 52]"
   ]
  },
  {
   "cell_type": "code",
   "execution_count": 47,
   "metadata": {},
   "outputs": [],
   "source": [
    "df['no_quantiles'] = df.groupby(['model', 'target', 'target_end_date', 'location'])['quantile'].transform('nunique')\n",
    "\n",
    "df['no_quantiles'] = df.groupby(['target', 'model'])['no_quantiles'].transform('min')"
   ]
  },
  {
   "cell_type": "code",
   "execution_count": 48,
   "metadata": {},
   "outputs": [
    {
     "data": {
      "text/html": [
       "<div>\n",
       "<style scoped>\n",
       "    .dataframe tbody tr th:only-of-type {\n",
       "        vertical-align: middle;\n",
       "    }\n",
       "\n",
       "    .dataframe tbody tr th {\n",
       "        vertical-align: top;\n",
       "    }\n",
       "\n",
       "    .dataframe thead th {\n",
       "        text-align: right;\n",
       "    }\n",
       "</style>\n",
       "<table border=\"1\" class=\"dataframe\">\n",
       "  <thead>\n",
       "    <tr style=\"text-align: right;\">\n",
       "      <th></th>\n",
       "      <th>forecast_date</th>\n",
       "      <th>target</th>\n",
       "      <th>target_end_date</th>\n",
       "      <th>quantile</th>\n",
       "      <th>type</th>\n",
       "      <th>value</th>\n",
       "      <th>location</th>\n",
       "      <th>model</th>\n",
       "      <th>no_quantiles</th>\n",
       "    </tr>\n",
       "  </thead>\n",
       "  <tbody>\n",
       "    <tr>\n",
       "      <th>9048</th>\n",
       "      <td>2021-03-28</td>\n",
       "      <td>4 wk ahead inc case</td>\n",
       "      <td>2021-04-24</td>\n",
       "      <td>0.025</td>\n",
       "      <td>quantile</td>\n",
       "      <td>301688.453910</td>\n",
       "      <td>US</td>\n",
       "      <td>BPagano-RtDriven</td>\n",
       "      <td>7</td>\n",
       "    </tr>\n",
       "    <tr>\n",
       "      <th>9049</th>\n",
       "      <td>2021-03-28</td>\n",
       "      <td>4 wk ahead inc case</td>\n",
       "      <td>2021-04-24</td>\n",
       "      <td>0.100</td>\n",
       "      <td>quantile</td>\n",
       "      <td>373783.603670</td>\n",
       "      <td>US</td>\n",
       "      <td>BPagano-RtDriven</td>\n",
       "      <td>7</td>\n",
       "    </tr>\n",
       "    <tr>\n",
       "      <th>9050</th>\n",
       "      <td>2021-03-28</td>\n",
       "      <td>4 wk ahead inc case</td>\n",
       "      <td>2021-04-24</td>\n",
       "      <td>0.250</td>\n",
       "      <td>quantile</td>\n",
       "      <td>439303.742640</td>\n",
       "      <td>US</td>\n",
       "      <td>BPagano-RtDriven</td>\n",
       "      <td>7</td>\n",
       "    </tr>\n",
       "    <tr>\n",
       "      <th>9051</th>\n",
       "      <td>2021-03-28</td>\n",
       "      <td>4 wk ahead inc case</td>\n",
       "      <td>2021-04-24</td>\n",
       "      <td>0.500</td>\n",
       "      <td>quantile</td>\n",
       "      <td>512342.170200</td>\n",
       "      <td>US</td>\n",
       "      <td>BPagano-RtDriven</td>\n",
       "      <td>7</td>\n",
       "    </tr>\n",
       "    <tr>\n",
       "      <th>9052</th>\n",
       "      <td>2021-03-28</td>\n",
       "      <td>4 wk ahead inc case</td>\n",
       "      <td>2021-04-24</td>\n",
       "      <td>0.750</td>\n",
       "      <td>quantile</td>\n",
       "      <td>585380.597760</td>\n",
       "      <td>US</td>\n",
       "      <td>BPagano-RtDriven</td>\n",
       "      <td>7</td>\n",
       "    </tr>\n",
       "    <tr>\n",
       "      <th>...</th>\n",
       "      <td>...</td>\n",
       "      <td>...</td>\n",
       "      <td>...</td>\n",
       "      <td>...</td>\n",
       "      <td>...</td>\n",
       "      <td>...</td>\n",
       "      <td>...</td>\n",
       "      <td>...</td>\n",
       "      <td>...</td>\n",
       "    </tr>\n",
       "    <tr>\n",
       "      <th>1056091</th>\n",
       "      <td>2021-05-10</td>\n",
       "      <td>1 wk ahead inc case</td>\n",
       "      <td>2021-05-15</td>\n",
       "      <td>0.250</td>\n",
       "      <td>quantile</td>\n",
       "      <td>144960.921195</td>\n",
       "      <td>US</td>\n",
       "      <td>UVA-Ensemble</td>\n",
       "      <td>7</td>\n",
       "    </tr>\n",
       "    <tr>\n",
       "      <th>1056092</th>\n",
       "      <td>2021-05-10</td>\n",
       "      <td>1 wk ahead inc case</td>\n",
       "      <td>2021-05-15</td>\n",
       "      <td>0.500</td>\n",
       "      <td>quantile</td>\n",
       "      <td>234295.048101</td>\n",
       "      <td>US</td>\n",
       "      <td>UVA-Ensemble</td>\n",
       "      <td>7</td>\n",
       "    </tr>\n",
       "    <tr>\n",
       "      <th>1056093</th>\n",
       "      <td>2021-05-10</td>\n",
       "      <td>1 wk ahead inc case</td>\n",
       "      <td>2021-05-15</td>\n",
       "      <td>0.750</td>\n",
       "      <td>quantile</td>\n",
       "      <td>323629.175006</td>\n",
       "      <td>US</td>\n",
       "      <td>UVA-Ensemble</td>\n",
       "      <td>7</td>\n",
       "    </tr>\n",
       "    <tr>\n",
       "      <th>1056094</th>\n",
       "      <td>2021-05-10</td>\n",
       "      <td>1 wk ahead inc case</td>\n",
       "      <td>2021-05-15</td>\n",
       "      <td>0.900</td>\n",
       "      <td>quantile</td>\n",
       "      <td>404032.675928</td>\n",
       "      <td>US</td>\n",
       "      <td>UVA-Ensemble</td>\n",
       "      <td>7</td>\n",
       "    </tr>\n",
       "    <tr>\n",
       "      <th>1056095</th>\n",
       "      <td>2021-05-10</td>\n",
       "      <td>1 wk ahead inc case</td>\n",
       "      <td>2021-05-15</td>\n",
       "      <td>0.975</td>\n",
       "      <td>quantile</td>\n",
       "      <td>493886.348448</td>\n",
       "      <td>US</td>\n",
       "      <td>UVA-Ensemble</td>\n",
       "      <td>7</td>\n",
       "    </tr>\n",
       "  </tbody>\n",
       "</table>\n",
       "<p>97188 rows × 9 columns</p>\n",
       "</div>"
      ],
      "text/plain": [
       "        forecast_date               target target_end_date  quantile  \\\n",
       "9048       2021-03-28  4 wk ahead inc case      2021-04-24     0.025   \n",
       "9049       2021-03-28  4 wk ahead inc case      2021-04-24     0.100   \n",
       "9050       2021-03-28  4 wk ahead inc case      2021-04-24     0.250   \n",
       "9051       2021-03-28  4 wk ahead inc case      2021-04-24     0.500   \n",
       "9052       2021-03-28  4 wk ahead inc case      2021-04-24     0.750   \n",
       "...               ...                  ...             ...       ...   \n",
       "1056091    2021-05-10  1 wk ahead inc case      2021-05-15     0.250   \n",
       "1056092    2021-05-10  1 wk ahead inc case      2021-05-15     0.500   \n",
       "1056093    2021-05-10  1 wk ahead inc case      2021-05-15     0.750   \n",
       "1056094    2021-05-10  1 wk ahead inc case      2021-05-15     0.900   \n",
       "1056095    2021-05-10  1 wk ahead inc case      2021-05-15     0.975   \n",
       "\n",
       "             type          value location             model  no_quantiles  \n",
       "9048     quantile  301688.453910       US  BPagano-RtDriven             7  \n",
       "9049     quantile  373783.603670       US  BPagano-RtDriven             7  \n",
       "9050     quantile  439303.742640       US  BPagano-RtDriven             7  \n",
       "9051     quantile  512342.170200       US  BPagano-RtDriven             7  \n",
       "9052     quantile  585380.597760       US  BPagano-RtDriven             7  \n",
       "...           ...            ...      ...               ...           ...  \n",
       "1056091  quantile  144960.921195       US      UVA-Ensemble             7  \n",
       "1056092  quantile  234295.048101       US      UVA-Ensemble             7  \n",
       "1056093  quantile  323629.175006       US      UVA-Ensemble             7  \n",
       "1056094  quantile  404032.675928       US      UVA-Ensemble             7  \n",
       "1056095  quantile  493886.348448       US      UVA-Ensemble             7  \n",
       "\n",
       "[97188 rows x 9 columns]"
      ]
     },
     "execution_count": 48,
     "metadata": {},
     "output_type": "execute_result"
    }
   ],
   "source": [
    "df[(df.target.str.contains('inc case') & (df.no_quantiles == 7))]"
   ]
  },
  {
   "cell_type": "code",
   "execution_count": 49,
   "metadata": {},
   "outputs": [],
   "source": [
    "df = df[(df.no_quantiles == 23) | \n",
    "        (df.target.str.contains('inc case') & (df.no_quantiles == 7))].drop(columns='no_quantiles').reset_index(drop=True)"
   ]
  },
  {
   "cell_type": "code",
   "execution_count": 50,
   "metadata": {
    "scrolled": true
   },
   "outputs": [
    {
     "data": {
      "text/plain": [
       "target\n",
       "1 wk ahead cum death    20\n",
       "1 wk ahead inc case     16\n",
       "1 wk ahead inc death    21\n",
       "2 wk ahead cum death    20\n",
       "2 wk ahead inc case     15\n",
       "2 wk ahead inc death    21\n",
       "3 wk ahead cum death    19\n",
       "3 wk ahead inc case     16\n",
       "3 wk ahead inc death    21\n",
       "4 wk ahead cum death    19\n",
       "4 wk ahead inc case     16\n",
       "4 wk ahead inc death    21\n",
       "Name: model, dtype: int64"
      ]
     },
     "execution_count": 50,
     "metadata": {},
     "output_type": "execute_result"
    }
   ],
   "source": [
    "df.groupby('target').model.nunique()"
   ]
  },
  {
   "cell_type": "code",
   "execution_count": 51,
   "metadata": {},
   "outputs": [
    {
     "data": {
      "text/plain": [
       "[('1 wk ahead cum death', 'JHU_CSSE-DECOM'),\n",
       " ('2 wk ahead cum death', 'JHU_CSSE-DECOM'),\n",
       " ('3 wk ahead inc death', 'Columbia_UNC-SurvCon'),\n",
       " ('4 wk ahead inc death', 'Columbia_UNC-SurvCon')]"
      ]
     },
     "execution_count": 51,
     "metadata": {},
     "output_type": "execute_result"
    }
   ],
   "source": [
    "# check if there are models used for training that are not available for the test date\n",
    "train_models = dict(df.groupby('target').model.unique())\n",
    "\n",
    "a = [(k, t) for k, v in train_models.items() for t in v]\n",
    "b = [(k, t) for k, v in available_models.items() for t in v]\n",
    "\n",
    "[i for i in a if i not in b]"
   ]
  },
  {
   "cell_type": "code",
   "execution_count": 52,
   "metadata": {},
   "outputs": [],
   "source": [
    "df = df[df.apply(lambda x: x.model in (available_models[x.target]), axis=1)]"
   ]
  },
  {
   "cell_type": "code",
   "execution_count": 53,
   "metadata": {},
   "outputs": [
    {
     "data": {
      "text/plain": [
       "target\n",
       "1 wk ahead cum death    19\n",
       "1 wk ahead inc case     16\n",
       "1 wk ahead inc death    21\n",
       "2 wk ahead cum death    19\n",
       "2 wk ahead inc case     15\n",
       "2 wk ahead inc death    21\n",
       "3 wk ahead cum death    19\n",
       "3 wk ahead inc case     16\n",
       "3 wk ahead inc death    20\n",
       "4 wk ahead cum death    19\n",
       "4 wk ahead inc case     16\n",
       "4 wk ahead inc death    20\n",
       "Name: model, dtype: int64"
      ]
     },
     "execution_count": 53,
     "metadata": {},
     "output_type": "execute_result"
    }
   ],
   "source": [
    "df.groupby('target').model.nunique()"
   ]
  },
  {
   "cell_type": "code",
   "execution_count": 54,
   "metadata": {},
   "outputs": [
    {
     "data": {
      "text/plain": [
       "(888940, 8)"
      ]
     },
     "execution_count": 54,
     "metadata": {},
     "output_type": "execute_result"
    }
   ],
   "source": [
    "df.shape"
   ]
  },
  {
   "cell_type": "code",
   "execution_count": 55,
   "metadata": {},
   "outputs": [],
   "source": [
    "models_by_target = pd.DataFrame([(i, k) for i,j in train_models.items() for k in j], \n",
    "                  columns=['target','model'])"
   ]
  },
  {
   "cell_type": "code",
   "execution_count": 56,
   "metadata": {},
   "outputs": [
    {
     "data": {
      "text/html": [
       "<div>\n",
       "<style scoped>\n",
       "    .dataframe tbody tr th:only-of-type {\n",
       "        vertical-align: middle;\n",
       "    }\n",
       "\n",
       "    .dataframe tbody tr th {\n",
       "        vertical-align: top;\n",
       "    }\n",
       "\n",
       "    .dataframe thead th {\n",
       "        text-align: right;\n",
       "    }\n",
       "</style>\n",
       "<table border=\"1\" class=\"dataframe\">\n",
       "  <thead>\n",
       "    <tr style=\"text-align: right;\">\n",
       "      <th></th>\n",
       "      <th>target</th>\n",
       "      <th>model</th>\n",
       "    </tr>\n",
       "  </thead>\n",
       "  <tbody>\n",
       "    <tr>\n",
       "      <th>169</th>\n",
       "      <td>4 wk ahead cum death</td>\n",
       "      <td>BPagano-RtDriven</td>\n",
       "    </tr>\n",
       "    <tr>\n",
       "      <th>170</th>\n",
       "      <td>4 wk ahead cum death</td>\n",
       "      <td>CEID-Walk</td>\n",
       "    </tr>\n",
       "    <tr>\n",
       "      <th>171</th>\n",
       "      <td>4 wk ahead cum death</td>\n",
       "      <td>COVIDhub-baseline</td>\n",
       "    </tr>\n",
       "    <tr>\n",
       "      <th>172</th>\n",
       "      <td>4 wk ahead cum death</td>\n",
       "      <td>CU-select</td>\n",
       "    </tr>\n",
       "    <tr>\n",
       "      <th>173</th>\n",
       "      <td>4 wk ahead cum death</td>\n",
       "      <td>Covid19Sim-Simulator</td>\n",
       "    </tr>\n",
       "    <tr>\n",
       "      <th>174</th>\n",
       "      <td>4 wk ahead cum death</td>\n",
       "      <td>CovidAnalytics-DELPHI</td>\n",
       "    </tr>\n",
       "    <tr>\n",
       "      <th>175</th>\n",
       "      <td>4 wk ahead cum death</td>\n",
       "      <td>DDS-NBDS</td>\n",
       "    </tr>\n",
       "    <tr>\n",
       "      <th>176</th>\n",
       "      <td>4 wk ahead cum death</td>\n",
       "      <td>JHUAPL-Bucky</td>\n",
       "    </tr>\n",
       "    <tr>\n",
       "      <th>177</th>\n",
       "      <td>4 wk ahead cum death</td>\n",
       "      <td>Karlen-pypm</td>\n",
       "    </tr>\n",
       "    <tr>\n",
       "      <th>178</th>\n",
       "      <td>4 wk ahead cum death</td>\n",
       "      <td>LANL-GrowthRate</td>\n",
       "    </tr>\n",
       "    <tr>\n",
       "      <th>179</th>\n",
       "      <td>4 wk ahead cum death</td>\n",
       "      <td>LNQ-ens1</td>\n",
       "    </tr>\n",
       "    <tr>\n",
       "      <th>180</th>\n",
       "      <td>4 wk ahead cum death</td>\n",
       "      <td>MIT_CritData-GBCF</td>\n",
       "    </tr>\n",
       "    <tr>\n",
       "      <th>181</th>\n",
       "      <td>4 wk ahead cum death</td>\n",
       "      <td>Microsoft-DeepSTIA</td>\n",
       "    </tr>\n",
       "    <tr>\n",
       "      <th>182</th>\n",
       "      <td>4 wk ahead cum death</td>\n",
       "      <td>RobertWalraven-ESG</td>\n",
       "    </tr>\n",
       "    <tr>\n",
       "      <th>183</th>\n",
       "      <td>4 wk ahead cum death</td>\n",
       "      <td>SteveMcConnell-CovidComplete</td>\n",
       "    </tr>\n",
       "    <tr>\n",
       "      <th>184</th>\n",
       "      <td>4 wk ahead cum death</td>\n",
       "      <td>UA-EpiCovDA</td>\n",
       "    </tr>\n",
       "    <tr>\n",
       "      <th>185</th>\n",
       "      <td>4 wk ahead cum death</td>\n",
       "      <td>UMass-MechBayes</td>\n",
       "    </tr>\n",
       "    <tr>\n",
       "      <th>186</th>\n",
       "      <td>4 wk ahead cum death</td>\n",
       "      <td>USC-SI_kJalpha</td>\n",
       "    </tr>\n",
       "    <tr>\n",
       "      <th>187</th>\n",
       "      <td>4 wk ahead cum death</td>\n",
       "      <td>epiforecasts-ensemble1</td>\n",
       "    </tr>\n",
       "  </tbody>\n",
       "</table>\n",
       "</div>"
      ],
      "text/plain": [
       "                   target                         model\n",
       "169  4 wk ahead cum death              BPagano-RtDriven\n",
       "170  4 wk ahead cum death                     CEID-Walk\n",
       "171  4 wk ahead cum death             COVIDhub-baseline\n",
       "172  4 wk ahead cum death                     CU-select\n",
       "173  4 wk ahead cum death          Covid19Sim-Simulator\n",
       "174  4 wk ahead cum death         CovidAnalytics-DELPHI\n",
       "175  4 wk ahead cum death                      DDS-NBDS\n",
       "176  4 wk ahead cum death                  JHUAPL-Bucky\n",
       "177  4 wk ahead cum death                   Karlen-pypm\n",
       "178  4 wk ahead cum death               LANL-GrowthRate\n",
       "179  4 wk ahead cum death                      LNQ-ens1\n",
       "180  4 wk ahead cum death             MIT_CritData-GBCF\n",
       "181  4 wk ahead cum death            Microsoft-DeepSTIA\n",
       "182  4 wk ahead cum death            RobertWalraven-ESG\n",
       "183  4 wk ahead cum death  SteveMcConnell-CovidComplete\n",
       "184  4 wk ahead cum death                   UA-EpiCovDA\n",
       "185  4 wk ahead cum death               UMass-MechBayes\n",
       "186  4 wk ahead cum death                USC-SI_kJalpha\n",
       "187  4 wk ahead cum death        epiforecasts-ensemble1"
      ]
     },
     "execution_count": 56,
     "metadata": {},
     "output_type": "execute_result"
    }
   ],
   "source": [
    "models_by_target[models_by_target.target == '4 wk ahead cum death']"
   ]
  },
  {
   "cell_type": "code",
   "execution_count": 57,
   "metadata": {},
   "outputs": [],
   "source": [
    "df = df[~df.model.isin(models_to_exclude)]"
   ]
  },
  {
   "cell_type": "code",
   "execution_count": 58,
   "metadata": {},
   "outputs": [
    {
     "data": {
      "text/html": [
       "<div>\n",
       "<style scoped>\n",
       "    .dataframe tbody tr th:only-of-type {\n",
       "        vertical-align: middle;\n",
       "    }\n",
       "\n",
       "    .dataframe tbody tr th {\n",
       "        vertical-align: top;\n",
       "    }\n",
       "\n",
       "    .dataframe thead th {\n",
       "        text-align: right;\n",
       "    }\n",
       "</style>\n",
       "<table border=\"1\" class=\"dataframe\">\n",
       "  <thead>\n",
       "    <tr style=\"text-align: right;\">\n",
       "      <th></th>\n",
       "      <th>forecast_date</th>\n",
       "      <th>target</th>\n",
       "      <th>target_end_date</th>\n",
       "      <th>quantile</th>\n",
       "      <th>type</th>\n",
       "      <th>value</th>\n",
       "      <th>location</th>\n",
       "      <th>model</th>\n",
       "    </tr>\n",
       "  </thead>\n",
       "  <tbody>\n",
       "    <tr>\n",
       "      <th>0</th>\n",
       "      <td>2021-03-28</td>\n",
       "      <td>4 wk ahead inc death</td>\n",
       "      <td>2021-04-24</td>\n",
       "      <td>0.010</td>\n",
       "      <td>quantile</td>\n",
       "      <td>4469.02672</td>\n",
       "      <td>US</td>\n",
       "      <td>BPagano-RtDriven</td>\n",
       "    </tr>\n",
       "    <tr>\n",
       "      <th>1</th>\n",
       "      <td>2021-03-28</td>\n",
       "      <td>4 wk ahead inc death</td>\n",
       "      <td>2021-04-24</td>\n",
       "      <td>0.025</td>\n",
       "      <td>quantile</td>\n",
       "      <td>5096.59716</td>\n",
       "      <td>US</td>\n",
       "      <td>BPagano-RtDriven</td>\n",
       "    </tr>\n",
       "    <tr>\n",
       "      <th>2</th>\n",
       "      <td>2021-03-28</td>\n",
       "      <td>4 wk ahead inc death</td>\n",
       "      <td>2021-04-24</td>\n",
       "      <td>0.050</td>\n",
       "      <td>quantile</td>\n",
       "      <td>5657.61206</td>\n",
       "      <td>US</td>\n",
       "      <td>BPagano-RtDriven</td>\n",
       "    </tr>\n",
       "    <tr>\n",
       "      <th>3</th>\n",
       "      <td>2021-03-28</td>\n",
       "      <td>4 wk ahead inc death</td>\n",
       "      <td>2021-04-24</td>\n",
       "      <td>0.100</td>\n",
       "      <td>quantile</td>\n",
       "      <td>6314.54213</td>\n",
       "      <td>US</td>\n",
       "      <td>BPagano-RtDriven</td>\n",
       "    </tr>\n",
       "    <tr>\n",
       "      <th>4</th>\n",
       "      <td>2021-03-28</td>\n",
       "      <td>4 wk ahead inc death</td>\n",
       "      <td>2021-04-24</td>\n",
       "      <td>0.150</td>\n",
       "      <td>quantile</td>\n",
       "      <td>6760.65562</td>\n",
       "      <td>US</td>\n",
       "      <td>BPagano-RtDriven</td>\n",
       "    </tr>\n",
       "    <tr>\n",
       "      <th>...</th>\n",
       "      <td>...</td>\n",
       "      <td>...</td>\n",
       "      <td>...</td>\n",
       "      <td>...</td>\n",
       "      <td>...</td>\n",
       "      <td>...</td>\n",
       "      <td>...</td>\n",
       "      <td>...</td>\n",
       "    </tr>\n",
       "    <tr>\n",
       "      <th>908071</th>\n",
       "      <td>2021-05-10</td>\n",
       "      <td>1 wk ahead cum death</td>\n",
       "      <td>2021-05-15</td>\n",
       "      <td>0.850</td>\n",
       "      <td>quantile</td>\n",
       "      <td>587081.00000</td>\n",
       "      <td>US</td>\n",
       "      <td>epiforecasts-ensemble1</td>\n",
       "    </tr>\n",
       "    <tr>\n",
       "      <th>908072</th>\n",
       "      <td>2021-05-10</td>\n",
       "      <td>1 wk ahead cum death</td>\n",
       "      <td>2021-05-15</td>\n",
       "      <td>0.900</td>\n",
       "      <td>quantile</td>\n",
       "      <td>587210.00000</td>\n",
       "      <td>US</td>\n",
       "      <td>epiforecasts-ensemble1</td>\n",
       "    </tr>\n",
       "    <tr>\n",
       "      <th>908073</th>\n",
       "      <td>2021-05-10</td>\n",
       "      <td>1 wk ahead cum death</td>\n",
       "      <td>2021-05-15</td>\n",
       "      <td>0.950</td>\n",
       "      <td>quantile</td>\n",
       "      <td>587436.00000</td>\n",
       "      <td>US</td>\n",
       "      <td>epiforecasts-ensemble1</td>\n",
       "    </tr>\n",
       "    <tr>\n",
       "      <th>908074</th>\n",
       "      <td>2021-05-10</td>\n",
       "      <td>1 wk ahead cum death</td>\n",
       "      <td>2021-05-15</td>\n",
       "      <td>0.975</td>\n",
       "      <td>quantile</td>\n",
       "      <td>587526.00000</td>\n",
       "      <td>US</td>\n",
       "      <td>epiforecasts-ensemble1</td>\n",
       "    </tr>\n",
       "    <tr>\n",
       "      <th>908075</th>\n",
       "      <td>2021-05-10</td>\n",
       "      <td>1 wk ahead cum death</td>\n",
       "      <td>2021-05-15</td>\n",
       "      <td>0.990</td>\n",
       "      <td>quantile</td>\n",
       "      <td>587612.00000</td>\n",
       "      <td>US</td>\n",
       "      <td>epiforecasts-ensemble1</td>\n",
       "    </tr>\n",
       "  </tbody>\n",
       "</table>\n",
       "<p>888940 rows × 8 columns</p>\n",
       "</div>"
      ],
      "text/plain": [
       "       forecast_date                target target_end_date  quantile  \\\n",
       "0         2021-03-28  4 wk ahead inc death      2021-04-24     0.010   \n",
       "1         2021-03-28  4 wk ahead inc death      2021-04-24     0.025   \n",
       "2         2021-03-28  4 wk ahead inc death      2021-04-24     0.050   \n",
       "3         2021-03-28  4 wk ahead inc death      2021-04-24     0.100   \n",
       "4         2021-03-28  4 wk ahead inc death      2021-04-24     0.150   \n",
       "...              ...                   ...             ...       ...   \n",
       "908071    2021-05-10  1 wk ahead cum death      2021-05-15     0.850   \n",
       "908072    2021-05-10  1 wk ahead cum death      2021-05-15     0.900   \n",
       "908073    2021-05-10  1 wk ahead cum death      2021-05-15     0.950   \n",
       "908074    2021-05-10  1 wk ahead cum death      2021-05-15     0.975   \n",
       "908075    2021-05-10  1 wk ahead cum death      2021-05-15     0.990   \n",
       "\n",
       "            type         value location                   model  \n",
       "0       quantile    4469.02672       US        BPagano-RtDriven  \n",
       "1       quantile    5096.59716       US        BPagano-RtDriven  \n",
       "2       quantile    5657.61206       US        BPagano-RtDriven  \n",
       "3       quantile    6314.54213       US        BPagano-RtDriven  \n",
       "4       quantile    6760.65562       US        BPagano-RtDriven  \n",
       "...          ...           ...      ...                     ...  \n",
       "908071  quantile  587081.00000       US  epiforecasts-ensemble1  \n",
       "908072  quantile  587210.00000       US  epiforecasts-ensemble1  \n",
       "908073  quantile  587436.00000       US  epiforecasts-ensemble1  \n",
       "908074  quantile  587526.00000       US  epiforecasts-ensemble1  \n",
       "908075  quantile  587612.00000       US  epiforecasts-ensemble1  \n",
       "\n",
       "[888940 rows x 8 columns]"
      ]
     },
     "execution_count": 58,
     "metadata": {},
     "output_type": "execute_result"
    }
   ],
   "source": [
    "df"
   ]
  },
  {
   "cell_type": "code",
   "execution_count": 59,
   "metadata": {},
   "outputs": [],
   "source": [
    "available_train_models = dict(df.groupby(['target'])['model'].unique())"
   ]
  },
  {
   "cell_type": "code",
   "execution_count": 60,
   "metadata": {},
   "outputs": [
    {
     "data": {
      "text/plain": [
       "{'1 wk ahead cum death': array(['BPagano-RtDriven', 'CEID-Walk', 'COVIDhub-baseline', 'CU-select',\n",
       "        'Covid19Sim-Simulator', 'CovidAnalytics-DELPHI', 'DDS-NBDS',\n",
       "        'JHUAPL-Bucky', 'Karlen-pypm', 'LANL-GrowthRate', 'LNQ-ens1',\n",
       "        'MIT_CritData-GBCF', 'OliverWyman-Navigator', 'RobertWalraven-ESG',\n",
       "        'SteveMcConnell-CovidComplete', 'UA-EpiCovDA', 'UMass-MechBayes',\n",
       "        'USC-SI_kJalpha', 'epiforecasts-ensemble1'], dtype=object),\n",
       " '1 wk ahead inc case': array(['BPagano-RtDriven', 'CEID-Walk', 'COVIDhub-baseline', 'CU-select',\n",
       "        'Covid19Sim-Simulator', 'CovidAnalytics-DELPHI',\n",
       "        'IEM_MED-CovidProject', 'JHUAPL-Bucky', 'JHU_CSSE-DECOM',\n",
       "        'Karlen-pypm', 'LANL-GrowthRate', 'LNQ-ens1', 'RobertWalraven-ESG',\n",
       "        'UChicagoCHATTOPADHYAY-UnIT', 'USC-SI_kJalpha', 'UVA-Ensemble'],\n",
       "       dtype=object),\n",
       " '1 wk ahead inc death': array(['BPagano-RtDriven', 'CEID-Walk', 'COVIDhub-baseline', 'CU-select',\n",
       "        'Covid19Sim-Simulator', 'CovidAnalytics-DELPHI', 'DDS-NBDS',\n",
       "        'IEM_MED-CovidProject', 'JHUAPL-Bucky', 'JHU_CSSE-DECOM',\n",
       "        'Karlen-pypm', 'LANL-GrowthRate', 'LNQ-ens1', 'MIT_CritData-GBCF',\n",
       "        'OliverWyman-Navigator', 'RobertWalraven-ESG',\n",
       "        'SteveMcConnell-CovidComplete', 'UA-EpiCovDA', 'UMass-MechBayes',\n",
       "        'USC-SI_kJalpha', 'epiforecasts-ensemble1'], dtype=object),\n",
       " '2 wk ahead cum death': array(['BPagano-RtDriven', 'CEID-Walk', 'COVIDhub-baseline', 'CU-select',\n",
       "        'Covid19Sim-Simulator', 'CovidAnalytics-DELPHI', 'DDS-NBDS',\n",
       "        'JHUAPL-Bucky', 'Karlen-pypm', 'LANL-GrowthRate', 'LNQ-ens1',\n",
       "        'MIT_CritData-GBCF', 'OliverWyman-Navigator', 'RobertWalraven-ESG',\n",
       "        'SteveMcConnell-CovidComplete', 'UA-EpiCovDA', 'UMass-MechBayes',\n",
       "        'USC-SI_kJalpha', 'epiforecasts-ensemble1'], dtype=object),\n",
       " '2 wk ahead inc case': array(['BPagano-RtDriven', 'CEID-Walk', 'COVIDhub-baseline', 'CU-select',\n",
       "        'Covid19Sim-Simulator', 'CovidAnalytics-DELPHI',\n",
       "        'IEM_MED-CovidProject', 'JHUAPL-Bucky', 'JHU_CSSE-DECOM',\n",
       "        'Karlen-pypm', 'LANL-GrowthRate', 'LNQ-ens1', 'RobertWalraven-ESG',\n",
       "        'USC-SI_kJalpha', 'UVA-Ensemble'], dtype=object),\n",
       " '2 wk ahead inc death': array(['BPagano-RtDriven', 'CEID-Walk', 'COVIDhub-baseline', 'CU-select',\n",
       "        'Covid19Sim-Simulator', 'CovidAnalytics-DELPHI', 'DDS-NBDS',\n",
       "        'IEM_MED-CovidProject', 'JHUAPL-Bucky', 'JHU_CSSE-DECOM',\n",
       "        'Karlen-pypm', 'LANL-GrowthRate', 'LNQ-ens1', 'MIT_CritData-GBCF',\n",
       "        'OliverWyman-Navigator', 'RobertWalraven-ESG',\n",
       "        'SteveMcConnell-CovidComplete', 'UA-EpiCovDA', 'UMass-MechBayes',\n",
       "        'USC-SI_kJalpha', 'epiforecasts-ensemble1'], dtype=object),\n",
       " '3 wk ahead cum death': array(['BPagano-RtDriven', 'CEID-Walk', 'COVIDhub-baseline', 'CU-select',\n",
       "        'Covid19Sim-Simulator', 'CovidAnalytics-DELPHI', 'DDS-NBDS',\n",
       "        'JHUAPL-Bucky', 'Karlen-pypm', 'LANL-GrowthRate', 'LNQ-ens1',\n",
       "        'MIT_CritData-GBCF', 'Microsoft-DeepSTIA', 'RobertWalraven-ESG',\n",
       "        'SteveMcConnell-CovidComplete', 'UA-EpiCovDA', 'UMass-MechBayes',\n",
       "        'USC-SI_kJalpha', 'epiforecasts-ensemble1'], dtype=object),\n",
       " '3 wk ahead inc case': array(['BPagano-RtDriven', 'CEID-Walk', 'COVIDhub-baseline', 'CU-select',\n",
       "        'Covid19Sim-Simulator', 'CovidAnalytics-DELPHI',\n",
       "        'IEM_MED-CovidProject', 'JHUAPL-Bucky', 'JHU_CSSE-DECOM',\n",
       "        'Karlen-pypm', 'LANL-GrowthRate', 'LNQ-ens1', 'Microsoft-DeepSTIA',\n",
       "        'RobertWalraven-ESG', 'USC-SI_kJalpha', 'UVA-Ensemble'],\n",
       "       dtype=object),\n",
       " '3 wk ahead inc death': array(['BPagano-RtDriven', 'CEID-Walk', 'COVIDhub-baseline', 'CU-select',\n",
       "        'Covid19Sim-Simulator', 'CovidAnalytics-DELPHI', 'DDS-NBDS',\n",
       "        'IEM_MED-CovidProject', 'JHUAPL-Bucky', 'Karlen-pypm',\n",
       "        'LANL-GrowthRate', 'LNQ-ens1', 'MIT_CritData-GBCF',\n",
       "        'Microsoft-DeepSTIA', 'RobertWalraven-ESG',\n",
       "        'SteveMcConnell-CovidComplete', 'UA-EpiCovDA', 'UMass-MechBayes',\n",
       "        'USC-SI_kJalpha', 'epiforecasts-ensemble1'], dtype=object),\n",
       " '4 wk ahead cum death': array(['BPagano-RtDriven', 'CEID-Walk', 'COVIDhub-baseline', 'CU-select',\n",
       "        'Covid19Sim-Simulator', 'CovidAnalytics-DELPHI', 'DDS-NBDS',\n",
       "        'JHUAPL-Bucky', 'Karlen-pypm', 'LANL-GrowthRate', 'LNQ-ens1',\n",
       "        'MIT_CritData-GBCF', 'Microsoft-DeepSTIA', 'RobertWalraven-ESG',\n",
       "        'SteveMcConnell-CovidComplete', 'UA-EpiCovDA', 'UMass-MechBayes',\n",
       "        'USC-SI_kJalpha', 'epiforecasts-ensemble1'], dtype=object),\n",
       " '4 wk ahead inc case': array(['BPagano-RtDriven', 'CEID-Walk', 'COVIDhub-baseline', 'CU-select',\n",
       "        'Covid19Sim-Simulator', 'CovidAnalytics-DELPHI',\n",
       "        'IEM_MED-CovidProject', 'JHUAPL-Bucky', 'JHU_CSSE-DECOM',\n",
       "        'Karlen-pypm', 'LANL-GrowthRate', 'LNQ-ens1', 'Microsoft-DeepSTIA',\n",
       "        'RobertWalraven-ESG', 'USC-SI_kJalpha', 'UVA-Ensemble'],\n",
       "       dtype=object),\n",
       " '4 wk ahead inc death': array(['BPagano-RtDriven', 'CEID-Walk', 'COVIDhub-baseline', 'CU-select',\n",
       "        'Covid19Sim-Simulator', 'CovidAnalytics-DELPHI', 'DDS-NBDS',\n",
       "        'IEM_MED-CovidProject', 'JHUAPL-Bucky', 'Karlen-pypm',\n",
       "        'LANL-GrowthRate', 'LNQ-ens1', 'MIT_CritData-GBCF',\n",
       "        'Microsoft-DeepSTIA', 'RobertWalraven-ESG',\n",
       "        'SteveMcConnell-CovidComplete', 'UA-EpiCovDA', 'UMass-MechBayes',\n",
       "        'USC-SI_kJalpha', 'epiforecasts-ensemble1'], dtype=object)}"
      ]
     },
     "execution_count": 60,
     "metadata": {},
     "output_type": "execute_result"
    }
   ],
   "source": [
    "available_train_models"
   ]
  },
  {
   "cell_type": "code",
   "execution_count": 61,
   "metadata": {},
   "outputs": [
    {
     "data": {
      "text/plain": [
       "(262808, 8)"
      ]
     },
     "execution_count": 61,
     "metadata": {},
     "output_type": "execute_result"
    }
   ],
   "source": [
    "df_test.shape"
   ]
  },
  {
   "cell_type": "code",
   "execution_count": 62,
   "metadata": {},
   "outputs": [],
   "source": [
    "df_test = df_test[df_test.apply(lambda x: x.model in (available_train_models[x.target]), axis=1)]"
   ]
  },
  {
   "cell_type": "code",
   "execution_count": 63,
   "metadata": {},
   "outputs": [
    {
     "data": {
      "text/html": [
       "<div>\n",
       "<style scoped>\n",
       "    .dataframe tbody tr th:only-of-type {\n",
       "        vertical-align: middle;\n",
       "    }\n",
       "\n",
       "    .dataframe tbody tr th {\n",
       "        vertical-align: top;\n",
       "    }\n",
       "\n",
       "    .dataframe thead th {\n",
       "        text-align: right;\n",
       "    }\n",
       "</style>\n",
       "<table border=\"1\" class=\"dataframe\">\n",
       "  <thead>\n",
       "    <tr style=\"text-align: right;\">\n",
       "      <th></th>\n",
       "      <th>forecast_date</th>\n",
       "      <th>target</th>\n",
       "      <th>target_end_date</th>\n",
       "      <th>quantile</th>\n",
       "      <th>type</th>\n",
       "      <th>value</th>\n",
       "      <th>location</th>\n",
       "      <th>model</th>\n",
       "    </tr>\n",
       "  </thead>\n",
       "  <tbody>\n",
       "    <tr>\n",
       "      <th>0</th>\n",
       "      <td>2021-05-16</td>\n",
       "      <td>1 wk ahead inc death</td>\n",
       "      <td>2021-05-22</td>\n",
       "      <td>0.010</td>\n",
       "      <td>quantile</td>\n",
       "      <td>2303.97704</td>\n",
       "      <td>US</td>\n",
       "      <td>BPagano-RtDriven</td>\n",
       "    </tr>\n",
       "    <tr>\n",
       "      <th>1</th>\n",
       "      <td>2021-05-16</td>\n",
       "      <td>1 wk ahead inc death</td>\n",
       "      <td>2021-05-22</td>\n",
       "      <td>0.025</td>\n",
       "      <td>quantile</td>\n",
       "      <td>2533.68444</td>\n",
       "      <td>US</td>\n",
       "      <td>BPagano-RtDriven</td>\n",
       "    </tr>\n",
       "    <tr>\n",
       "      <th>2</th>\n",
       "      <td>2021-05-16</td>\n",
       "      <td>1 wk ahead inc death</td>\n",
       "      <td>2021-05-22</td>\n",
       "      <td>0.050</td>\n",
       "      <td>quantile</td>\n",
       "      <td>2739.03074</td>\n",
       "      <td>US</td>\n",
       "      <td>BPagano-RtDriven</td>\n",
       "    </tr>\n",
       "    <tr>\n",
       "      <th>3</th>\n",
       "      <td>2021-05-16</td>\n",
       "      <td>1 wk ahead inc death</td>\n",
       "      <td>2021-05-22</td>\n",
       "      <td>0.100</td>\n",
       "      <td>quantile</td>\n",
       "      <td>2979.48454</td>\n",
       "      <td>US</td>\n",
       "      <td>BPagano-RtDriven</td>\n",
       "    </tr>\n",
       "    <tr>\n",
       "      <th>4</th>\n",
       "      <td>2021-05-16</td>\n",
       "      <td>1 wk ahead inc death</td>\n",
       "      <td>2021-05-22</td>\n",
       "      <td>0.150</td>\n",
       "      <td>quantile</td>\n",
       "      <td>3142.77389</td>\n",
       "      <td>US</td>\n",
       "      <td>BPagano-RtDriven</td>\n",
       "    </tr>\n",
       "  </tbody>\n",
       "</table>\n",
       "</div>"
      ],
      "text/plain": [
       "  forecast_date                target target_end_date  quantile      type  \\\n",
       "0    2021-05-16  1 wk ahead inc death      2021-05-22     0.010  quantile   \n",
       "1    2021-05-16  1 wk ahead inc death      2021-05-22     0.025  quantile   \n",
       "2    2021-05-16  1 wk ahead inc death      2021-05-22     0.050  quantile   \n",
       "3    2021-05-16  1 wk ahead inc death      2021-05-22     0.100  quantile   \n",
       "4    2021-05-16  1 wk ahead inc death      2021-05-22     0.150  quantile   \n",
       "\n",
       "        value location             model  \n",
       "0  2303.97704       US  BPagano-RtDriven  \n",
       "1  2533.68444       US  BPagano-RtDriven  \n",
       "2  2739.03074       US  BPagano-RtDriven  \n",
       "3  2979.48454       US  BPagano-RtDriven  \n",
       "4  3142.77389       US  BPagano-RtDriven  "
      ]
     },
     "execution_count": 63,
     "metadata": {},
     "output_type": "execute_result"
    }
   ],
   "source": [
    "df_test.head()"
   ]
  },
  {
   "cell_type": "code",
   "execution_count": 64,
   "metadata": {},
   "outputs": [
    {
     "data": {
      "text/plain": [
       "target\n",
       "1 wk ahead cum death    [BPagano-RtDriven, CEID-Walk, COVIDhub-baselin...\n",
       "1 wk ahead inc case     [BPagano-RtDriven, CEID-Walk, COVIDhub-baselin...\n",
       "1 wk ahead inc death    [BPagano-RtDriven, CEID-Walk, COVIDhub-baselin...\n",
       "2 wk ahead cum death    [BPagano-RtDriven, CEID-Walk, COVIDhub-baselin...\n",
       "2 wk ahead inc case     [BPagano-RtDriven, CEID-Walk, COVIDhub-baselin...\n",
       "2 wk ahead inc death    [BPagano-RtDriven, CEID-Walk, COVIDhub-baselin...\n",
       "3 wk ahead cum death    [BPagano-RtDriven, CEID-Walk, COVIDhub-baselin...\n",
       "3 wk ahead inc case     [BPagano-RtDriven, CEID-Walk, COVIDhub-baselin...\n",
       "3 wk ahead inc death    [BPagano-RtDriven, CEID-Walk, COVIDhub-baselin...\n",
       "4 wk ahead cum death    [BPagano-RtDriven, CEID-Walk, COVIDhub-baselin...\n",
       "4 wk ahead inc case     [BPagano-RtDriven, CEID-Walk, COVIDhub-baselin...\n",
       "4 wk ahead inc death    [BPagano-RtDriven, CEID-Walk, COVIDhub-baselin...\n",
       "Name: model, dtype: object"
      ]
     },
     "execution_count": 64,
     "metadata": {},
     "output_type": "execute_result"
    }
   ],
   "source": [
    "df.groupby(['target'])['model'].unique()"
   ]
  },
  {
   "cell_type": "markdown",
   "metadata": {},
   "source": [
    "# Export"
   ]
  },
  {
   "cell_type": "code",
   "execution_count": 65,
   "metadata": {},
   "outputs": [],
   "source": [
    "df.to_csv('data/df_train_{}.csv'.format(str(test_date.date())), index=False)"
   ]
  },
  {
   "cell_type": "code",
   "execution_count": 66,
   "metadata": {},
   "outputs": [],
   "source": [
    "df_test.to_csv('data/df_test_{}.csv'.format(str(test_date.date())), index=False)"
   ]
  },
  {
   "cell_type": "code",
   "execution_count": null,
   "metadata": {},
   "outputs": [],
   "source": []
  }
 ],
 "metadata": {
  "kernelspec": {
   "display_name": "Python 3",
   "language": "python",
   "name": "python3"
  },
  "language_info": {
   "codemirror_mode": {
    "name": "ipython",
    "version": 3
   },
   "file_extension": ".py",
   "mimetype": "text/x-python",
   "name": "python",
   "nbconvert_exporter": "python",
   "pygments_lexer": "ipython3",
   "version": "3.8.8"
  }
 },
 "nbformat": 4,
 "nbformat_minor": 4
}
