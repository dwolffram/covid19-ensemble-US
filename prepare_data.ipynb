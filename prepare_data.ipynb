{
 "cells": [
  {
   "cell_type": "code",
   "execution_count": 1,
   "metadata": {},
   "outputs": [],
   "source": [
    "import pandas as pd\n",
    "import requests\n",
    "from tqdm.auto import tqdm\n",
    "tqdm.pandas()"
   ]
  },
  {
   "cell_type": "code",
   "execution_count": 2,
   "metadata": {},
   "outputs": [],
   "source": [
    "def next_monday(date):\n",
    "    return pd.date_range(start=date, end=date + pd.offsets.Day(6), freq='W-MON')[0]"
   ]
  },
  {
   "cell_type": "markdown",
   "metadata": {},
   "source": [
    "# Setting"
   ]
  },
  {
   "cell_type": "code",
   "execution_count": 3,
   "metadata": {},
   "outputs": [],
   "source": [
    "test_date = pd.to_datetime('2021-05-24')"
   ]
  },
  {
   "cell_type": "code",
   "execution_count": 4,
   "metadata": {},
   "outputs": [],
   "source": [
    "models_to_exclude = ['COVIDhub-ensemble', 'COVIDhub-trained_ensemble', \n",
    "                     'CU-nochange', 'CU-scenario_high', 'CU-scenario_low', 'CU-scenario_mid']\n",
    "\n",
    "locations_to_exclude = [\"60\", \"66\", \"69\", \"72\", \"74\", \"78\"]\n",
    "\n",
    "# DC,11,District of Columbia\n",
    "# AS,60,American Samoa\n",
    "# GU,66,Guam\n",
    "# MP,69,Northern Mariana Islands\n",
    "# PR,72,Puerto Rico\n",
    "# UM,74,U.S. Minor Outlying Islands\n",
    "# VI,78,Virgin Islands"
   ]
  },
  {
   "cell_type": "code",
   "execution_count": 5,
   "metadata": {},
   "outputs": [],
   "source": [
    "dtype={'target': str, 'location': str, 'type': str, 'quantile': float, 'value': float}\n",
    "parse_dates=['forecast_date', 'target_end_date']"
   ]
  },
  {
   "cell_type": "markdown",
   "metadata": {},
   "source": [
    "# Load Files"
   ]
  },
  {
   "cell_type": "code",
   "execution_count": 6,
   "metadata": {},
   "outputs": [],
   "source": [
    "url = \"https://api.github.com/repos/reichlab/covid19-forecast-hub/git/trees/master?recursive=1\"\n",
    "r = requests.get(url)\n",
    "res = r.json()"
   ]
  },
  {
   "cell_type": "code",
   "execution_count": 7,
   "metadata": {},
   "outputs": [],
   "source": [
    "files = [file[\"path\"] for file in res[\"tree\"] if (file[\"path\"].startswith('data-processed/') and file[\"path\"].endswith('.csv'))]"
   ]
  },
  {
   "cell_type": "code",
   "execution_count": 8,
   "metadata": {},
   "outputs": [
    {
     "data": {
      "text/plain": [
       "['data-processed/epiforecasts-ensemble1/2021-04-26-epiforecasts-ensemble1.csv',\n",
       " 'data-processed/epiforecasts-ensemble1/2021-05-03-epiforecasts-ensemble1.csv',\n",
       " 'data-processed/epiforecasts-ensemble1/2021-05-10-epiforecasts-ensemble1.csv',\n",
       " 'data-processed/epiforecasts-ensemble1/2021-05-17-epiforecasts-ensemble1.csv',\n",
       " 'data-processed/epiforecasts-ensemble1/2021-05-24-epiforecasts-ensemble1.csv']"
      ]
     },
     "execution_count": 8,
     "metadata": {},
     "output_type": "execute_result"
    }
   ],
   "source": [
    "files[-5:]"
   ]
  },
  {
   "cell_type": "code",
   "execution_count": 9,
   "metadata": {},
   "outputs": [],
   "source": [
    "df_files = pd.DataFrame({'filename':files})\n",
    "\n",
    "df_files['model'] = df_files.filename.apply(lambda f: f.split('/')[1])\n",
    "\n",
    "df_files['forecast_date'] = df_files.filename.apply(lambda f: f.split('/')[2][:10])\n",
    "df_files.forecast_date = pd.to_datetime(df_files.forecast_date)\n",
    "\n",
    "df_files['timezero'] = df_files.forecast_date.apply(next_monday)\n",
    "\n",
    "df_files = df_files[~df_files.model.isin(models_to_exclude)]"
   ]
  },
  {
   "cell_type": "code",
   "execution_count": 10,
   "metadata": {},
   "outputs": [
    {
     "data": {
      "text/html": [
       "<div>\n",
       "<style scoped>\n",
       "    .dataframe tbody tr th:only-of-type {\n",
       "        vertical-align: middle;\n",
       "    }\n",
       "\n",
       "    .dataframe tbody tr th {\n",
       "        vertical-align: top;\n",
       "    }\n",
       "\n",
       "    .dataframe thead th {\n",
       "        text-align: right;\n",
       "    }\n",
       "</style>\n",
       "<table border=\"1\" class=\"dataframe\">\n",
       "  <thead>\n",
       "    <tr style=\"text-align: right;\">\n",
       "      <th></th>\n",
       "      <th>filename</th>\n",
       "      <th>model</th>\n",
       "      <th>forecast_date</th>\n",
       "      <th>timezero</th>\n",
       "    </tr>\n",
       "  </thead>\n",
       "  <tbody>\n",
       "    <tr>\n",
       "      <th>0</th>\n",
       "      <td>data-processed/AIpert-pwllnod/2020-12-21-AIper...</td>\n",
       "      <td>AIpert-pwllnod</td>\n",
       "      <td>2020-12-21</td>\n",
       "      <td>2020-12-21</td>\n",
       "    </tr>\n",
       "    <tr>\n",
       "      <th>1</th>\n",
       "      <td>data-processed/AIpert-pwllnod/2020-12-28-AIper...</td>\n",
       "      <td>AIpert-pwllnod</td>\n",
       "      <td>2020-12-28</td>\n",
       "      <td>2020-12-28</td>\n",
       "    </tr>\n",
       "    <tr>\n",
       "      <th>2</th>\n",
       "      <td>data-processed/AIpert-pwllnod/2021-01-04-AIper...</td>\n",
       "      <td>AIpert-pwllnod</td>\n",
       "      <td>2021-01-04</td>\n",
       "      <td>2021-01-04</td>\n",
       "    </tr>\n",
       "    <tr>\n",
       "      <th>3</th>\n",
       "      <td>data-processed/AIpert-pwllnod/2021-01-11-AIper...</td>\n",
       "      <td>AIpert-pwllnod</td>\n",
       "      <td>2021-01-11</td>\n",
       "      <td>2021-01-11</td>\n",
       "    </tr>\n",
       "    <tr>\n",
       "      <th>4</th>\n",
       "      <td>data-processed/AIpert-pwllnod/2021-01-18-AIper...</td>\n",
       "      <td>AIpert-pwllnod</td>\n",
       "      <td>2021-01-18</td>\n",
       "      <td>2021-01-18</td>\n",
       "    </tr>\n",
       "    <tr>\n",
       "      <th>...</th>\n",
       "      <td>...</td>\n",
       "      <td>...</td>\n",
       "      <td>...</td>\n",
       "      <td>...</td>\n",
       "    </tr>\n",
       "    <tr>\n",
       "      <th>3480</th>\n",
       "      <td>data-processed/epiforecasts-ensemble1/2021-04-...</td>\n",
       "      <td>epiforecasts-ensemble1</td>\n",
       "      <td>2021-04-26</td>\n",
       "      <td>2021-04-26</td>\n",
       "    </tr>\n",
       "    <tr>\n",
       "      <th>3481</th>\n",
       "      <td>data-processed/epiforecasts-ensemble1/2021-05-...</td>\n",
       "      <td>epiforecasts-ensemble1</td>\n",
       "      <td>2021-05-03</td>\n",
       "      <td>2021-05-03</td>\n",
       "    </tr>\n",
       "    <tr>\n",
       "      <th>3482</th>\n",
       "      <td>data-processed/epiforecasts-ensemble1/2021-05-...</td>\n",
       "      <td>epiforecasts-ensemble1</td>\n",
       "      <td>2021-05-10</td>\n",
       "      <td>2021-05-10</td>\n",
       "    </tr>\n",
       "    <tr>\n",
       "      <th>3483</th>\n",
       "      <td>data-processed/epiforecasts-ensemble1/2021-05-...</td>\n",
       "      <td>epiforecasts-ensemble1</td>\n",
       "      <td>2021-05-17</td>\n",
       "      <td>2021-05-17</td>\n",
       "    </tr>\n",
       "    <tr>\n",
       "      <th>3484</th>\n",
       "      <td>data-processed/epiforecasts-ensemble1/2021-05-...</td>\n",
       "      <td>epiforecasts-ensemble1</td>\n",
       "      <td>2021-05-24</td>\n",
       "      <td>2021-05-24</td>\n",
       "    </tr>\n",
       "  </tbody>\n",
       "</table>\n",
       "<p>3090 rows × 4 columns</p>\n",
       "</div>"
      ],
      "text/plain": [
       "                                               filename  \\\n",
       "0     data-processed/AIpert-pwllnod/2020-12-21-AIper...   \n",
       "1     data-processed/AIpert-pwllnod/2020-12-28-AIper...   \n",
       "2     data-processed/AIpert-pwllnod/2021-01-04-AIper...   \n",
       "3     data-processed/AIpert-pwllnod/2021-01-11-AIper...   \n",
       "4     data-processed/AIpert-pwllnod/2021-01-18-AIper...   \n",
       "...                                                 ...   \n",
       "3480  data-processed/epiforecasts-ensemble1/2021-04-...   \n",
       "3481  data-processed/epiforecasts-ensemble1/2021-05-...   \n",
       "3482  data-processed/epiforecasts-ensemble1/2021-05-...   \n",
       "3483  data-processed/epiforecasts-ensemble1/2021-05-...   \n",
       "3484  data-processed/epiforecasts-ensemble1/2021-05-...   \n",
       "\n",
       "                       model forecast_date   timezero  \n",
       "0             AIpert-pwllnod    2020-12-21 2020-12-21  \n",
       "1             AIpert-pwllnod    2020-12-28 2020-12-28  \n",
       "2             AIpert-pwllnod    2021-01-04 2021-01-04  \n",
       "3             AIpert-pwllnod    2021-01-11 2021-01-11  \n",
       "4             AIpert-pwllnod    2021-01-18 2021-01-18  \n",
       "...                      ...           ...        ...  \n",
       "3480  epiforecasts-ensemble1    2021-04-26 2021-04-26  \n",
       "3481  epiforecasts-ensemble1    2021-05-03 2021-05-03  \n",
       "3482  epiforecasts-ensemble1    2021-05-10 2021-05-10  \n",
       "3483  epiforecasts-ensemble1    2021-05-17 2021-05-17  \n",
       "3484  epiforecasts-ensemble1    2021-05-24 2021-05-24  \n",
       "\n",
       "[3090 rows x 4 columns]"
      ]
     },
     "execution_count": 10,
     "metadata": {},
     "output_type": "execute_result"
    }
   ],
   "source": [
    "df_files"
   ]
  },
  {
   "cell_type": "markdown",
   "metadata": {},
   "source": [
    "### Test Data"
   ]
  },
  {
   "cell_type": "code",
   "execution_count": 11,
   "metadata": {},
   "outputs": [],
   "source": [
    "VALID_TARGETS = [f\"{_} wk ahead inc death\" for _ in range(1, 5)] + \\\n",
    "                [f\"{_} wk ahead cum death\" for _ in range(1, 5)] + \\\n",
    "                [f\"{_} wk ahead inc case\" for _ in range(1, 5)]"
   ]
  },
  {
   "cell_type": "code",
   "execution_count": 12,
   "metadata": {},
   "outputs": [],
   "source": [
    "df_test_files = df_files[df_files.timezero == test_date]"
   ]
  },
  {
   "cell_type": "code",
   "execution_count": 13,
   "metadata": {},
   "outputs": [
    {
     "data": {
      "text/html": [
       "<div>\n",
       "<style scoped>\n",
       "    .dataframe tbody tr th:only-of-type {\n",
       "        vertical-align: middle;\n",
       "    }\n",
       "\n",
       "    .dataframe tbody tr th {\n",
       "        vertical-align: top;\n",
       "    }\n",
       "\n",
       "    .dataframe thead th {\n",
       "        text-align: right;\n",
       "    }\n",
       "</style>\n",
       "<table border=\"1\" class=\"dataframe\">\n",
       "  <thead>\n",
       "    <tr style=\"text-align: right;\">\n",
       "      <th></th>\n",
       "      <th>filename</th>\n",
       "      <th>model</th>\n",
       "      <th>forecast_date</th>\n",
       "      <th>timezero</th>\n",
       "    </tr>\n",
       "  </thead>\n",
       "  <tbody>\n",
       "    <tr>\n",
       "      <th>22</th>\n",
       "      <td>data-processed/AIpert-pwllnod/2021-05-24-AIper...</td>\n",
       "      <td>AIpert-pwllnod</td>\n",
       "      <td>2021-05-24</td>\n",
       "      <td>2021-05-24</td>\n",
       "    </tr>\n",
       "    <tr>\n",
       "      <th>68</th>\n",
       "      <td>data-processed/BPagano-RtDriven/2021-05-23-BPa...</td>\n",
       "      <td>BPagano-RtDriven</td>\n",
       "      <td>2021-05-23</td>\n",
       "      <td>2021-05-24</td>\n",
       "    </tr>\n",
       "    <tr>\n",
       "      <th>117</th>\n",
       "      <td>data-processed/CEID-Walk/2021-05-24-CEID-Walk.csv</td>\n",
       "      <td>CEID-Walk</td>\n",
       "      <td>2021-05-24</td>\n",
       "      <td>2021-05-24</td>\n",
       "    </tr>\n",
       "    <tr>\n",
       "      <th>162</th>\n",
       "      <td>data-processed/CMU-TimeSeries/2021-05-24-CMU-T...</td>\n",
       "      <td>CMU-TimeSeries</td>\n",
       "      <td>2021-05-24</td>\n",
       "      <td>2021-05-24</td>\n",
       "    </tr>\n",
       "    <tr>\n",
       "      <th>222</th>\n",
       "      <td>data-processed/COVIDhub-baseline/2021-05-24-CO...</td>\n",
       "      <td>COVIDhub-baseline</td>\n",
       "      <td>2021-05-24</td>\n",
       "      <td>2021-05-24</td>\n",
       "    </tr>\n",
       "  </tbody>\n",
       "</table>\n",
       "</div>"
      ],
      "text/plain": [
       "                                              filename              model  \\\n",
       "22   data-processed/AIpert-pwllnod/2021-05-24-AIper...     AIpert-pwllnod   \n",
       "68   data-processed/BPagano-RtDriven/2021-05-23-BPa...   BPagano-RtDriven   \n",
       "117  data-processed/CEID-Walk/2021-05-24-CEID-Walk.csv          CEID-Walk   \n",
       "162  data-processed/CMU-TimeSeries/2021-05-24-CMU-T...     CMU-TimeSeries   \n",
       "222  data-processed/COVIDhub-baseline/2021-05-24-CO...  COVIDhub-baseline   \n",
       "\n",
       "    forecast_date   timezero  \n",
       "22     2021-05-24 2021-05-24  \n",
       "68     2021-05-23 2021-05-24  \n",
       "117    2021-05-24 2021-05-24  \n",
       "162    2021-05-24 2021-05-24  \n",
       "222    2021-05-24 2021-05-24  "
      ]
     },
     "execution_count": 13,
     "metadata": {},
     "output_type": "execute_result"
    }
   ],
   "source": [
    "df_test_files.head()"
   ]
  },
  {
   "cell_type": "code",
   "execution_count": 14,
   "metadata": {
    "scrolled": true
   },
   "outputs": [
    {
     "data": {
      "application/vnd.jupyter.widget-view+json": {
       "model_id": "bb4fd806245f45329c72fbfd2e7a88a8",
       "version_major": 2,
       "version_minor": 0
      },
      "text/plain": [
       "  0%|          | 0/48 [00:00<?, ?it/s]"
      ]
     },
     "metadata": {},
     "output_type": "display_data"
    }
   ],
   "source": [
    "dfs_test = []\n",
    "\n",
    "for _, row in tqdm(df_test_files.iterrows(), total=df_test_files.shape[0]):\n",
    "    #print(row['filename'])\n",
    "    df_temp = pd.read_csv('https://github.com/reichlab/covid19-forecast-hub/raw/master/' + row['filename'],\n",
    "                         dtype=dtype, parse_dates=parse_dates)\n",
    "    df_temp = df_temp[df_temp.target.isin(VALID_TARGETS)]\n",
    "    df_temp['model'] = row['model']\n",
    "    dfs_test.append(df_temp)"
   ]
  },
  {
   "cell_type": "code",
   "execution_count": 15,
   "metadata": {},
   "outputs": [],
   "source": [
    "df_test = pd.concat(dfs_test)"
   ]
  },
  {
   "cell_type": "code",
   "execution_count": 16,
   "metadata": {},
   "outputs": [
    {
     "data": {
      "text/plain": [
       "(1851723, 8)"
      ]
     },
     "execution_count": 16,
     "metadata": {},
     "output_type": "execute_result"
    }
   ],
   "source": [
    "df_test.shape"
   ]
  },
  {
   "cell_type": "code",
   "execution_count": 17,
   "metadata": {},
   "outputs": [
    {
     "data": {
      "text/html": [
       "<div>\n",
       "<style scoped>\n",
       "    .dataframe tbody tr th:only-of-type {\n",
       "        vertical-align: middle;\n",
       "    }\n",
       "\n",
       "    .dataframe tbody tr th {\n",
       "        vertical-align: top;\n",
       "    }\n",
       "\n",
       "    .dataframe thead th {\n",
       "        text-align: right;\n",
       "    }\n",
       "</style>\n",
       "<table border=\"1\" class=\"dataframe\">\n",
       "  <thead>\n",
       "    <tr style=\"text-align: right;\">\n",
       "      <th></th>\n",
       "      <th>forecast_date</th>\n",
       "      <th>target</th>\n",
       "      <th>target_end_date</th>\n",
       "      <th>quantile</th>\n",
       "      <th>type</th>\n",
       "      <th>value</th>\n",
       "      <th>location</th>\n",
       "      <th>model</th>\n",
       "    </tr>\n",
       "  </thead>\n",
       "  <tbody>\n",
       "    <tr>\n",
       "      <th>0</th>\n",
       "      <td>2021-05-24</td>\n",
       "      <td>1 wk ahead cum death</td>\n",
       "      <td>2021-05-29</td>\n",
       "      <td>0.025</td>\n",
       "      <td>quantile</td>\n",
       "      <td>591099.187840</td>\n",
       "      <td>US</td>\n",
       "      <td>AIpert-pwllnod</td>\n",
       "    </tr>\n",
       "    <tr>\n",
       "      <th>1</th>\n",
       "      <td>2021-05-24</td>\n",
       "      <td>1 wk ahead cum death</td>\n",
       "      <td>2021-05-29</td>\n",
       "      <td>0.250</td>\n",
       "      <td>quantile</td>\n",
       "      <td>592611.396957</td>\n",
       "      <td>US</td>\n",
       "      <td>AIpert-pwllnod</td>\n",
       "    </tr>\n",
       "    <tr>\n",
       "      <th>2</th>\n",
       "      <td>2021-05-24</td>\n",
       "      <td>1 wk ahead cum death</td>\n",
       "      <td>2021-05-29</td>\n",
       "      <td>0.750</td>\n",
       "      <td>quantile</td>\n",
       "      <td>594510.605904</td>\n",
       "      <td>US</td>\n",
       "      <td>AIpert-pwllnod</td>\n",
       "    </tr>\n",
       "    <tr>\n",
       "      <th>3</th>\n",
       "      <td>2021-05-24</td>\n",
       "      <td>1 wk ahead cum death</td>\n",
       "      <td>2021-05-29</td>\n",
       "      <td>0.975</td>\n",
       "      <td>quantile</td>\n",
       "      <td>596617.985106</td>\n",
       "      <td>US</td>\n",
       "      <td>AIpert-pwllnod</td>\n",
       "    </tr>\n",
       "    <tr>\n",
       "      <th>4</th>\n",
       "      <td>2021-05-24</td>\n",
       "      <td>1 wk ahead cum death</td>\n",
       "      <td>2021-05-29</td>\n",
       "      <td>NaN</td>\n",
       "      <td>point</td>\n",
       "      <td>593404.857658</td>\n",
       "      <td>US</td>\n",
       "      <td>AIpert-pwllnod</td>\n",
       "    </tr>\n",
       "    <tr>\n",
       "      <th>...</th>\n",
       "      <td>...</td>\n",
       "      <td>...</td>\n",
       "      <td>...</td>\n",
       "      <td>...</td>\n",
       "      <td>...</td>\n",
       "      <td>...</td>\n",
       "      <td>...</td>\n",
       "      <td>...</td>\n",
       "    </tr>\n",
       "    <tr>\n",
       "      <th>10939</th>\n",
       "      <td>2021-05-24</td>\n",
       "      <td>4 wk ahead cum death</td>\n",
       "      <td>2021-06-19</td>\n",
       "      <td>0.850</td>\n",
       "      <td>quantile</td>\n",
       "      <td>599358.000000</td>\n",
       "      <td>US</td>\n",
       "      <td>epiforecasts-ensemble1</td>\n",
       "    </tr>\n",
       "    <tr>\n",
       "      <th>10940</th>\n",
       "      <td>2021-05-24</td>\n",
       "      <td>4 wk ahead cum death</td>\n",
       "      <td>2021-06-19</td>\n",
       "      <td>0.900</td>\n",
       "      <td>quantile</td>\n",
       "      <td>599598.000000</td>\n",
       "      <td>US</td>\n",
       "      <td>epiforecasts-ensemble1</td>\n",
       "    </tr>\n",
       "    <tr>\n",
       "      <th>10941</th>\n",
       "      <td>2021-05-24</td>\n",
       "      <td>4 wk ahead cum death</td>\n",
       "      <td>2021-06-19</td>\n",
       "      <td>0.950</td>\n",
       "      <td>quantile</td>\n",
       "      <td>599909.000000</td>\n",
       "      <td>US</td>\n",
       "      <td>epiforecasts-ensemble1</td>\n",
       "    </tr>\n",
       "    <tr>\n",
       "      <th>10942</th>\n",
       "      <td>2021-05-24</td>\n",
       "      <td>4 wk ahead cum death</td>\n",
       "      <td>2021-06-19</td>\n",
       "      <td>0.975</td>\n",
       "      <td>quantile</td>\n",
       "      <td>600194.000000</td>\n",
       "      <td>US</td>\n",
       "      <td>epiforecasts-ensemble1</td>\n",
       "    </tr>\n",
       "    <tr>\n",
       "      <th>10943</th>\n",
       "      <td>2021-05-24</td>\n",
       "      <td>4 wk ahead cum death</td>\n",
       "      <td>2021-06-19</td>\n",
       "      <td>0.990</td>\n",
       "      <td>quantile</td>\n",
       "      <td>600546.000000</td>\n",
       "      <td>US</td>\n",
       "      <td>epiforecasts-ensemble1</td>\n",
       "    </tr>\n",
       "  </tbody>\n",
       "</table>\n",
       "<p>1851723 rows × 8 columns</p>\n",
       "</div>"
      ],
      "text/plain": [
       "      forecast_date                target target_end_date  quantile      type  \\\n",
       "0        2021-05-24  1 wk ahead cum death      2021-05-29     0.025  quantile   \n",
       "1        2021-05-24  1 wk ahead cum death      2021-05-29     0.250  quantile   \n",
       "2        2021-05-24  1 wk ahead cum death      2021-05-29     0.750  quantile   \n",
       "3        2021-05-24  1 wk ahead cum death      2021-05-29     0.975  quantile   \n",
       "4        2021-05-24  1 wk ahead cum death      2021-05-29       NaN     point   \n",
       "...             ...                   ...             ...       ...       ...   \n",
       "10939    2021-05-24  4 wk ahead cum death      2021-06-19     0.850  quantile   \n",
       "10940    2021-05-24  4 wk ahead cum death      2021-06-19     0.900  quantile   \n",
       "10941    2021-05-24  4 wk ahead cum death      2021-06-19     0.950  quantile   \n",
       "10942    2021-05-24  4 wk ahead cum death      2021-06-19     0.975  quantile   \n",
       "10943    2021-05-24  4 wk ahead cum death      2021-06-19     0.990  quantile   \n",
       "\n",
       "               value location                   model  \n",
       "0      591099.187840       US          AIpert-pwllnod  \n",
       "1      592611.396957       US          AIpert-pwllnod  \n",
       "2      594510.605904       US          AIpert-pwllnod  \n",
       "3      596617.985106       US          AIpert-pwllnod  \n",
       "4      593404.857658       US          AIpert-pwllnod  \n",
       "...              ...      ...                     ...  \n",
       "10939  599358.000000       US  epiforecasts-ensemble1  \n",
       "10940  599598.000000       US  epiforecasts-ensemble1  \n",
       "10941  599909.000000       US  epiforecasts-ensemble1  \n",
       "10942  600194.000000       US  epiforecasts-ensemble1  \n",
       "10943  600546.000000       US  epiforecasts-ensemble1  \n",
       "\n",
       "[1851723 rows x 8 columns]"
      ]
     },
     "execution_count": 17,
     "metadata": {},
     "output_type": "execute_result"
    }
   ],
   "source": [
    "df_test"
   ]
  },
  {
   "cell_type": "code",
   "execution_count": 18,
   "metadata": {},
   "outputs": [],
   "source": [
    "# only consider US + 50 states\n",
    "df_test = df_test[df_test.location.str.len() == 2]\n",
    "df_test = df_test[~df_test.location.isin(locations_to_exclude)]"
   ]
  },
  {
   "cell_type": "code",
   "execution_count": 19,
   "metadata": {},
   "outputs": [
    {
     "data": {
      "text/plain": [
       "(345054, 8)"
      ]
     },
     "execution_count": 19,
     "metadata": {},
     "output_type": "execute_result"
    }
   ],
   "source": [
    "df_test.shape"
   ]
  },
  {
   "cell_type": "code",
   "execution_count": 20,
   "metadata": {},
   "outputs": [
    {
     "data": {
      "text/plain": [
       "52"
      ]
     },
     "execution_count": 20,
     "metadata": {},
     "output_type": "execute_result"
    }
   ],
   "source": [
    "df_test.location.nunique()"
   ]
  },
  {
   "cell_type": "code",
   "execution_count": 21,
   "metadata": {},
   "outputs": [],
   "source": [
    "# ensure that for all targets each model provides forecasts for all locations\n",
    "df_test = df_test[df_test.groupby(['target', 'model'])['location'].transform('nunique') == 52]"
   ]
  },
  {
   "cell_type": "code",
   "execution_count": 22,
   "metadata": {},
   "outputs": [],
   "source": [
    "df_test = df_test[df_test.type == 'quantile']"
   ]
  },
  {
   "cell_type": "code",
   "execution_count": 23,
   "metadata": {},
   "outputs": [],
   "source": [
    "df_test['no_quantiles'] = df_test.groupby(['model', 'target', 'target_end_date', 'location'])['quantile'].transform('nunique')\n",
    "\n",
    "df_test['no_quantiles'] = df_test.groupby(['target', 'model'])['no_quantiles'].transform('min')"
   ]
  },
  {
   "cell_type": "code",
   "execution_count": 24,
   "metadata": {},
   "outputs": [],
   "source": [
    "df_test = df_test[(df_test.no_quantiles == 23) | \n",
    "        (df_test.target.str.contains('inc case') & (df_test.no_quantiles == 7))].drop(columns='no_quantiles').reset_index(drop=True)"
   ]
  },
  {
   "cell_type": "code",
   "execution_count": 25,
   "metadata": {},
   "outputs": [
    {
     "data": {
      "text/plain": [
       "(246272, 8)"
      ]
     },
     "execution_count": 25,
     "metadata": {},
     "output_type": "execute_result"
    }
   ],
   "source": [
    "df_test.shape"
   ]
  },
  {
   "cell_type": "code",
   "execution_count": 26,
   "metadata": {},
   "outputs": [],
   "source": [
    "# dict of the models available for each target\n",
    "available_models = dict(df_test.groupby(['target'])['model'].unique())"
   ]
  },
  {
   "cell_type": "code",
   "execution_count": 27,
   "metadata": {},
   "outputs": [
    {
     "data": {
      "text/plain": [
       "{'1 wk ahead cum death': array(['BPagano-RtDriven', 'CEID-Walk', 'COVIDhub-baseline',\n",
       "        'Covid19Sim-Simulator', 'CovidAnalytics-DELPHI', 'DDS-NBDS',\n",
       "        'IHME-CurveFit', 'JHUAPL-Bucky', 'JHU_CSSE-DECOM',\n",
       "        'JHU_IDD-CovidSP', 'Karlen-pypm', 'LANL-GrowthRate', 'LNQ-ens1',\n",
       "        'MIT_CritData-GBCF', 'Microsoft-DeepSTIA', 'RobertWalraven-ESG',\n",
       "        'SteveMcConnell-CovidComplete', 'UA-EpiCovDA', 'UMass-MechBayes',\n",
       "        'USC-SI_kJalpha', 'epiforecasts-ensemble1'], dtype=object),\n",
       " '1 wk ahead inc case': array(['BPagano-RtDriven', 'CEID-Walk', 'COVIDhub-baseline',\n",
       "        'Covid19Sim-Simulator', 'CovidAnalytics-DELPHI',\n",
       "        'IEM_MED-CovidProject', 'JHUAPL-Bucky', 'JHU_CSSE-DECOM',\n",
       "        'JHU_IDD-CovidSP', 'Karlen-pypm', 'LANL-GrowthRate', 'LNQ-ens1',\n",
       "        'MUNI-ARIMA', 'Microsoft-DeepSTIA', 'RobertWalraven-ESG',\n",
       "        'USC-SI_kJalpha', 'UVA-Ensemble'], dtype=object),\n",
       " '1 wk ahead inc death': array(['BPagano-RtDriven', 'CEID-Walk', 'COVIDhub-baseline',\n",
       "        'Covid19Sim-Simulator', 'CovidAnalytics-DELPHI', 'DDS-NBDS',\n",
       "        'IEM_MED-CovidProject', 'IHME-CurveFit', 'JHUAPL-Bucky',\n",
       "        'JHU_CSSE-DECOM', 'JHU_IDD-CovidSP', 'Karlen-pypm',\n",
       "        'LANL-GrowthRate', 'LNQ-ens1', 'MIT_CritData-GBCF', 'MUNI-ARIMA',\n",
       "        'Microsoft-DeepSTIA', 'RobertWalraven-ESG',\n",
       "        'SteveMcConnell-CovidComplete', 'UA-EpiCovDA', 'UMass-MechBayes',\n",
       "        'USC-SI_kJalpha', 'epiforecasts-ensemble1'], dtype=object),\n",
       " '2 wk ahead cum death': array(['BPagano-RtDriven', 'CEID-Walk', 'COVIDhub-baseline',\n",
       "        'Covid19Sim-Simulator', 'CovidAnalytics-DELPHI', 'DDS-NBDS',\n",
       "        'IHME-CurveFit', 'JHUAPL-Bucky', 'JHU_CSSE-DECOM',\n",
       "        'JHU_IDD-CovidSP', 'Karlen-pypm', 'LANL-GrowthRate', 'LNQ-ens1',\n",
       "        'MIT_CritData-GBCF', 'Microsoft-DeepSTIA', 'RobertWalraven-ESG',\n",
       "        'SteveMcConnell-CovidComplete', 'UA-EpiCovDA', 'UMass-MechBayes',\n",
       "        'USC-SI_kJalpha', 'epiforecasts-ensemble1'], dtype=object),\n",
       " '2 wk ahead inc case': array(['BPagano-RtDriven', 'CEID-Walk', 'COVIDhub-baseline',\n",
       "        'Covid19Sim-Simulator', 'CovidAnalytics-DELPHI',\n",
       "        'IEM_MED-CovidProject', 'JHUAPL-Bucky', 'JHU_CSSE-DECOM',\n",
       "        'JHU_IDD-CovidSP', 'Karlen-pypm', 'LANL-GrowthRate', 'LNQ-ens1',\n",
       "        'MUNI-ARIMA', 'Microsoft-DeepSTIA', 'RobertWalraven-ESG',\n",
       "        'USC-SI_kJalpha', 'UVA-Ensemble'], dtype=object),\n",
       " '2 wk ahead inc death': array(['BPagano-RtDriven', 'CEID-Walk', 'COVIDhub-baseline',\n",
       "        'Covid19Sim-Simulator', 'CovidAnalytics-DELPHI', 'DDS-NBDS',\n",
       "        'IEM_MED-CovidProject', 'IHME-CurveFit', 'JHUAPL-Bucky',\n",
       "        'JHU_CSSE-DECOM', 'JHU_IDD-CovidSP', 'Karlen-pypm',\n",
       "        'LANL-GrowthRate', 'LNQ-ens1', 'MIT_CritData-GBCF', 'MUNI-ARIMA',\n",
       "        'Microsoft-DeepSTIA', 'RobertWalraven-ESG',\n",
       "        'SteveMcConnell-CovidComplete', 'UA-EpiCovDA', 'UMass-MechBayes',\n",
       "        'USC-SI_kJalpha', 'epiforecasts-ensemble1'], dtype=object),\n",
       " '3 wk ahead cum death': array(['BPagano-RtDriven', 'CEID-Walk', 'COVIDhub-baseline',\n",
       "        'Covid19Sim-Simulator', 'CovidAnalytics-DELPHI', 'DDS-NBDS',\n",
       "        'IHME-CurveFit', 'JHUAPL-Bucky', 'JHU_CSSE-DECOM',\n",
       "        'JHU_IDD-CovidSP', 'Karlen-pypm', 'LANL-GrowthRate', 'LNQ-ens1',\n",
       "        'MIT_CritData-GBCF', 'Microsoft-DeepSTIA', 'RobertWalraven-ESG',\n",
       "        'SteveMcConnell-CovidComplete', 'UA-EpiCovDA', 'UMass-MechBayes',\n",
       "        'USC-SI_kJalpha', 'epiforecasts-ensemble1'], dtype=object),\n",
       " '3 wk ahead inc case': array(['BPagano-RtDriven', 'CEID-Walk', 'COVIDhub-baseline',\n",
       "        'Covid19Sim-Simulator', 'CovidAnalytics-DELPHI',\n",
       "        'IEM_MED-CovidProject', 'JHUAPL-Bucky', 'JHU_CSSE-DECOM',\n",
       "        'JHU_IDD-CovidSP', 'Karlen-pypm', 'LANL-GrowthRate', 'LNQ-ens1',\n",
       "        'MUNI-ARIMA', 'Microsoft-DeepSTIA', 'RobertWalraven-ESG',\n",
       "        'USC-SI_kJalpha', 'UVA-Ensemble'], dtype=object),\n",
       " '3 wk ahead inc death': array(['BPagano-RtDriven', 'CEID-Walk', 'COVIDhub-baseline',\n",
       "        'Covid19Sim-Simulator', 'CovidAnalytics-DELPHI', 'DDS-NBDS',\n",
       "        'IEM_MED-CovidProject', 'IHME-CurveFit', 'JHUAPL-Bucky',\n",
       "        'JHU_CSSE-DECOM', 'JHU_IDD-CovidSP', 'Karlen-pypm',\n",
       "        'LANL-GrowthRate', 'LNQ-ens1', 'MIT_CritData-GBCF', 'MUNI-ARIMA',\n",
       "        'Microsoft-DeepSTIA', 'RobertWalraven-ESG',\n",
       "        'SteveMcConnell-CovidComplete', 'UA-EpiCovDA', 'UMass-MechBayes',\n",
       "        'USC-SI_kJalpha', 'epiforecasts-ensemble1'], dtype=object),\n",
       " '4 wk ahead cum death': array(['BPagano-RtDriven', 'CEID-Walk', 'COVIDhub-baseline',\n",
       "        'Covid19Sim-Simulator', 'CovidAnalytics-DELPHI', 'DDS-NBDS',\n",
       "        'IHME-CurveFit', 'JHUAPL-Bucky', 'JHU_CSSE-DECOM',\n",
       "        'JHU_IDD-CovidSP', 'Karlen-pypm', 'LANL-GrowthRate', 'LNQ-ens1',\n",
       "        'MIT_CritData-GBCF', 'Microsoft-DeepSTIA', 'RobertWalraven-ESG',\n",
       "        'SteveMcConnell-CovidComplete', 'UA-EpiCovDA', 'UMass-MechBayes',\n",
       "        'USC-SI_kJalpha', 'epiforecasts-ensemble1'], dtype=object),\n",
       " '4 wk ahead inc case': array(['BPagano-RtDriven', 'CEID-Walk', 'COVIDhub-baseline',\n",
       "        'Covid19Sim-Simulator', 'CovidAnalytics-DELPHI',\n",
       "        'IEM_MED-CovidProject', 'JHUAPL-Bucky', 'JHU_CSSE-DECOM',\n",
       "        'JHU_IDD-CovidSP', 'Karlen-pypm', 'LANL-GrowthRate', 'LNQ-ens1',\n",
       "        'MUNI-ARIMA', 'Microsoft-DeepSTIA', 'RobertWalraven-ESG',\n",
       "        'USC-SI_kJalpha', 'UVA-Ensemble'], dtype=object),\n",
       " '4 wk ahead inc death': array(['BPagano-RtDriven', 'CEID-Walk', 'COVIDhub-baseline',\n",
       "        'Covid19Sim-Simulator', 'CovidAnalytics-DELPHI', 'DDS-NBDS',\n",
       "        'IEM_MED-CovidProject', 'IHME-CurveFit', 'JHUAPL-Bucky',\n",
       "        'JHU_CSSE-DECOM', 'JHU_IDD-CovidSP', 'Karlen-pypm',\n",
       "        'LANL-GrowthRate', 'LNQ-ens1', 'MIT_CritData-GBCF', 'MUNI-ARIMA',\n",
       "        'Microsoft-DeepSTIA', 'RobertWalraven-ESG',\n",
       "        'SteveMcConnell-CovidComplete', 'UA-EpiCovDA', 'UMass-MechBayes',\n",
       "        'USC-SI_kJalpha', 'epiforecasts-ensemble1'], dtype=object)}"
      ]
     },
     "execution_count": 27,
     "metadata": {},
     "output_type": "execute_result"
    }
   ],
   "source": [
    "available_models"
   ]
  },
  {
   "cell_type": "markdown",
   "metadata": {},
   "source": [
    "## Training Data"
   ]
  },
  {
   "cell_type": "markdown",
   "metadata": {},
   "source": [
    "d - 4 weeks - (horizon - 1) --> end: d - horizon"
   ]
  },
  {
   "cell_type": "code",
   "execution_count": 28,
   "metadata": {},
   "outputs": [],
   "source": [
    "lower_bound = test_date - pd.Timedelta(weeks=4) - pd.Timedelta(weeks=(4 - 1))"
   ]
  },
  {
   "cell_type": "code",
   "execution_count": 29,
   "metadata": {},
   "outputs": [
    {
     "data": {
      "text/plain": [
       "Timestamp('2021-04-05 00:00:00')"
      ]
     },
     "execution_count": 29,
     "metadata": {},
     "output_type": "execute_result"
    }
   ],
   "source": [
    "lower_bound"
   ]
  },
  {
   "cell_type": "code",
   "execution_count": 30,
   "metadata": {},
   "outputs": [],
   "source": [
    "df_files = df_files[(df_files.timezero >= lower_bound) & (df_files.timezero < test_date)].copy()"
   ]
  },
  {
   "cell_type": "code",
   "execution_count": 31,
   "metadata": {},
   "outputs": [],
   "source": [
    "# assigns to each horizon the corresponding training forecast dates for the test date\n",
    "h_dict = {}\n",
    "for h in range(1, 5):\n",
    "    h_dict[h] = [test_date - pd.Timedelta(weeks=4) - pd.Timedelta(weeks=(h - 1)), \n",
    "                 test_date - pd.Timedelta(weeks=h)]"
   ]
  },
  {
   "cell_type": "code",
   "execution_count": 32,
   "metadata": {
    "scrolled": false
   },
   "outputs": [
    {
     "data": {
      "text/plain": [
       "{1: [Timestamp('2021-04-26 00:00:00'), Timestamp('2021-05-17 00:00:00')],\n",
       " 2: [Timestamp('2021-04-19 00:00:00'), Timestamp('2021-05-10 00:00:00')],\n",
       " 3: [Timestamp('2021-04-12 00:00:00'), Timestamp('2021-05-03 00:00:00')],\n",
       " 4: [Timestamp('2021-04-05 00:00:00'), Timestamp('2021-04-26 00:00:00')]}"
      ]
     },
     "execution_count": 32,
     "metadata": {},
     "output_type": "execute_result"
    }
   ],
   "source": [
    "h_dict"
   ]
  },
  {
   "cell_type": "code",
   "execution_count": 33,
   "metadata": {},
   "outputs": [],
   "source": [
    "def relevant_horizons(d):\n",
    "    hs = []\n",
    "    for h in range(1, 5):\n",
    "        if((d >= h_dict[h][0]) & (d <= h_dict[h][1])):\n",
    "            hs.append(h)\n",
    "    return hs"
   ]
  },
  {
   "cell_type": "code",
   "execution_count": 34,
   "metadata": {},
   "outputs": [],
   "source": [
    "df_files['horizons'] = df_files.timezero.apply(relevant_horizons)"
   ]
  },
  {
   "cell_type": "code",
   "execution_count": 35,
   "metadata": {},
   "outputs": [
    {
     "data": {
      "text/html": [
       "<div>\n",
       "<style scoped>\n",
       "    .dataframe tbody tr th:only-of-type {\n",
       "        vertical-align: middle;\n",
       "    }\n",
       "\n",
       "    .dataframe tbody tr th {\n",
       "        vertical-align: top;\n",
       "    }\n",
       "\n",
       "    .dataframe thead th {\n",
       "        text-align: right;\n",
       "    }\n",
       "</style>\n",
       "<table border=\"1\" class=\"dataframe\">\n",
       "  <thead>\n",
       "    <tr style=\"text-align: right;\">\n",
       "      <th></th>\n",
       "      <th>filename</th>\n",
       "      <th>model</th>\n",
       "      <th>forecast_date</th>\n",
       "      <th>timezero</th>\n",
       "      <th>horizons</th>\n",
       "    </tr>\n",
       "  </thead>\n",
       "  <tbody>\n",
       "    <tr>\n",
       "      <th>15</th>\n",
       "      <td>data-processed/AIpert-pwllnod/2021-04-05-AIper...</td>\n",
       "      <td>AIpert-pwllnod</td>\n",
       "      <td>2021-04-05</td>\n",
       "      <td>2021-04-05</td>\n",
       "      <td>[4]</td>\n",
       "    </tr>\n",
       "    <tr>\n",
       "      <th>16</th>\n",
       "      <td>data-processed/AIpert-pwllnod/2021-04-12-AIper...</td>\n",
       "      <td>AIpert-pwllnod</td>\n",
       "      <td>2021-04-12</td>\n",
       "      <td>2021-04-12</td>\n",
       "      <td>[3, 4]</td>\n",
       "    </tr>\n",
       "    <tr>\n",
       "      <th>17</th>\n",
       "      <td>data-processed/AIpert-pwllnod/2021-04-19-AIper...</td>\n",
       "      <td>AIpert-pwllnod</td>\n",
       "      <td>2021-04-19</td>\n",
       "      <td>2021-04-19</td>\n",
       "      <td>[2, 3, 4]</td>\n",
       "    </tr>\n",
       "    <tr>\n",
       "      <th>18</th>\n",
       "      <td>data-processed/AIpert-pwllnod/2021-04-26-AIper...</td>\n",
       "      <td>AIpert-pwllnod</td>\n",
       "      <td>2021-04-26</td>\n",
       "      <td>2021-04-26</td>\n",
       "      <td>[1, 2, 3, 4]</td>\n",
       "    </tr>\n",
       "    <tr>\n",
       "      <th>19</th>\n",
       "      <td>data-processed/AIpert-pwllnod/2021-05-03-AIper...</td>\n",
       "      <td>AIpert-pwllnod</td>\n",
       "      <td>2021-05-03</td>\n",
       "      <td>2021-05-03</td>\n",
       "      <td>[1, 2, 3]</td>\n",
       "    </tr>\n",
       "    <tr>\n",
       "      <th>...</th>\n",
       "      <td>...</td>\n",
       "      <td>...</td>\n",
       "      <td>...</td>\n",
       "      <td>...</td>\n",
       "      <td>...</td>\n",
       "    </tr>\n",
       "    <tr>\n",
       "      <th>3479</th>\n",
       "      <td>data-processed/epiforecasts-ensemble1/2021-04-...</td>\n",
       "      <td>epiforecasts-ensemble1</td>\n",
       "      <td>2021-04-19</td>\n",
       "      <td>2021-04-19</td>\n",
       "      <td>[2, 3, 4]</td>\n",
       "    </tr>\n",
       "    <tr>\n",
       "      <th>3480</th>\n",
       "      <td>data-processed/epiforecasts-ensemble1/2021-04-...</td>\n",
       "      <td>epiforecasts-ensemble1</td>\n",
       "      <td>2021-04-26</td>\n",
       "      <td>2021-04-26</td>\n",
       "      <td>[1, 2, 3, 4]</td>\n",
       "    </tr>\n",
       "    <tr>\n",
       "      <th>3481</th>\n",
       "      <td>data-processed/epiforecasts-ensemble1/2021-05-...</td>\n",
       "      <td>epiforecasts-ensemble1</td>\n",
       "      <td>2021-05-03</td>\n",
       "      <td>2021-05-03</td>\n",
       "      <td>[1, 2, 3]</td>\n",
       "    </tr>\n",
       "    <tr>\n",
       "      <th>3482</th>\n",
       "      <td>data-processed/epiforecasts-ensemble1/2021-05-...</td>\n",
       "      <td>epiforecasts-ensemble1</td>\n",
       "      <td>2021-05-10</td>\n",
       "      <td>2021-05-10</td>\n",
       "      <td>[1, 2]</td>\n",
       "    </tr>\n",
       "    <tr>\n",
       "      <th>3483</th>\n",
       "      <td>data-processed/epiforecasts-ensemble1/2021-05-...</td>\n",
       "      <td>epiforecasts-ensemble1</td>\n",
       "      <td>2021-05-17</td>\n",
       "      <td>2021-05-17</td>\n",
       "      <td>[1]</td>\n",
       "    </tr>\n",
       "  </tbody>\n",
       "</table>\n",
       "<p>418 rows × 5 columns</p>\n",
       "</div>"
      ],
      "text/plain": [
       "                                               filename  \\\n",
       "15    data-processed/AIpert-pwllnod/2021-04-05-AIper...   \n",
       "16    data-processed/AIpert-pwllnod/2021-04-12-AIper...   \n",
       "17    data-processed/AIpert-pwllnod/2021-04-19-AIper...   \n",
       "18    data-processed/AIpert-pwllnod/2021-04-26-AIper...   \n",
       "19    data-processed/AIpert-pwllnod/2021-05-03-AIper...   \n",
       "...                                                 ...   \n",
       "3479  data-processed/epiforecasts-ensemble1/2021-04-...   \n",
       "3480  data-processed/epiforecasts-ensemble1/2021-04-...   \n",
       "3481  data-processed/epiforecasts-ensemble1/2021-05-...   \n",
       "3482  data-processed/epiforecasts-ensemble1/2021-05-...   \n",
       "3483  data-processed/epiforecasts-ensemble1/2021-05-...   \n",
       "\n",
       "                       model forecast_date   timezero      horizons  \n",
       "15            AIpert-pwllnod    2021-04-05 2021-04-05           [4]  \n",
       "16            AIpert-pwllnod    2021-04-12 2021-04-12        [3, 4]  \n",
       "17            AIpert-pwllnod    2021-04-19 2021-04-19     [2, 3, 4]  \n",
       "18            AIpert-pwllnod    2021-04-26 2021-04-26  [1, 2, 3, 4]  \n",
       "19            AIpert-pwllnod    2021-05-03 2021-05-03     [1, 2, 3]  \n",
       "...                      ...           ...        ...           ...  \n",
       "3479  epiforecasts-ensemble1    2021-04-19 2021-04-19     [2, 3, 4]  \n",
       "3480  epiforecasts-ensemble1    2021-04-26 2021-04-26  [1, 2, 3, 4]  \n",
       "3481  epiforecasts-ensemble1    2021-05-03 2021-05-03     [1, 2, 3]  \n",
       "3482  epiforecasts-ensemble1    2021-05-10 2021-05-10        [1, 2]  \n",
       "3483  epiforecasts-ensemble1    2021-05-17 2021-05-17           [1]  \n",
       "\n",
       "[418 rows x 5 columns]"
      ]
     },
     "execution_count": 35,
     "metadata": {},
     "output_type": "execute_result"
    }
   ],
   "source": [
    "df_files"
   ]
  },
  {
   "cell_type": "code",
   "execution_count": 36,
   "metadata": {},
   "outputs": [],
   "source": [
    "# only keep relevant training data\n",
    "df_files = df_files[df_files.horizons.apply(len) > 0]"
   ]
  },
  {
   "cell_type": "code",
   "execution_count": 37,
   "metadata": {
    "scrolled": true
   },
   "outputs": [
    {
     "data": {
      "application/vnd.jupyter.widget-view+json": {
       "model_id": "55ff80da8a3a4d7981e778dfcd043756",
       "version_major": 2,
       "version_minor": 0
      },
      "text/plain": [
       "  0%|          | 0/418 [00:00<?, ?it/s]"
      ]
     },
     "metadata": {},
     "output_type": "display_data"
    }
   ],
   "source": [
    "dfs = []\n",
    "for _, row in tqdm(df_files.iterrows(), total=df_files.shape[0]):\n",
    "    VALID_TARGETS = [f\"{_} wk ahead inc death\" for _ in row['horizons']] + \\\n",
    "                    [f\"{_} wk ahead cum death\" for _ in row['horizons']] + \\\n",
    "                    [f\"{_} wk ahead inc case\" for _ in row['horizons']]\n",
    "    df_temp = pd.read_csv('https://github.com/reichlab/covid19-forecast-hub/raw/master/' + row['filename'],\n",
    "                         dtype=dtype, parse_dates=parse_dates)\n",
    "    df_temp = df_temp[df_temp.target.isin(VALID_TARGETS)]\n",
    "    df_temp['model'] = row['model']\n",
    "    dfs.append(df_temp)"
   ]
  },
  {
   "cell_type": "code",
   "execution_count": 38,
   "metadata": {},
   "outputs": [],
   "source": [
    "df = pd.concat(dfs)"
   ]
  },
  {
   "cell_type": "code",
   "execution_count": 39,
   "metadata": {},
   "outputs": [
    {
     "data": {
      "text/plain": [
       "(9448086, 8)"
      ]
     },
     "execution_count": 39,
     "metadata": {},
     "output_type": "execute_result"
    }
   ],
   "source": [
    "df.shape"
   ]
  },
  {
   "cell_type": "markdown",
   "metadata": {},
   "source": [
    "# Data Cleaning"
   ]
  },
  {
   "cell_type": "code",
   "execution_count": 40,
   "metadata": {},
   "outputs": [],
   "source": [
    "df = df[df.location.str.len() == 2]\n",
    "df = df[~df.location.isin(locations_to_exclude)]"
   ]
  },
  {
   "cell_type": "code",
   "execution_count": 41,
   "metadata": {},
   "outputs": [
    {
     "data": {
      "text/plain": [
       "52"
      ]
     },
     "execution_count": 41,
     "metadata": {},
     "output_type": "execute_result"
    }
   ],
   "source": [
    "df.location.nunique() # US + 50 states + district of Columbia"
   ]
  },
  {
   "cell_type": "code",
   "execution_count": 42,
   "metadata": {},
   "outputs": [],
   "source": [
    "df = df[df.type == 'quantile']"
   ]
  },
  {
   "cell_type": "code",
   "execution_count": 43,
   "metadata": {},
   "outputs": [],
   "source": [
    "# how many forecasts for each target/model/location? should be 4 for every location\n",
    "df['no_forecasts'] = df.groupby(['target', 'model', 'location'])['target_end_date'].transform('nunique')"
   ]
  },
  {
   "cell_type": "code",
   "execution_count": 44,
   "metadata": {},
   "outputs": [],
   "source": [
    "df = df[df.groupby(['target', 'model'])['no_forecasts'].transform('min') == 4].drop(columns='no_forecasts').reset_index(drop=True)"
   ]
  },
  {
   "cell_type": "code",
   "execution_count": 45,
   "metadata": {},
   "outputs": [],
   "source": [
    "# df = df[df.groupby(['target', 'model', 'location'])['target_end_date'].transform('nunique') == 4]\n",
    "# would only remove the respective location with <4 forecasts, but we want to remove the model as a whole if in one location <4"
   ]
  },
  {
   "cell_type": "code",
   "execution_count": 46,
   "metadata": {},
   "outputs": [],
   "source": [
    "df = df[df.groupby(['target', 'model', 'target_end_date'])['location'].transform('nunique') == 52]"
   ]
  },
  {
   "cell_type": "code",
   "execution_count": 47,
   "metadata": {},
   "outputs": [],
   "source": [
    "df['no_quantiles'] = df.groupby(['model', 'target', 'target_end_date', 'location'])['quantile'].transform('nunique')\n",
    "\n",
    "df['no_quantiles'] = df.groupby(['target', 'model'])['no_quantiles'].transform('min')"
   ]
  },
  {
   "cell_type": "code",
   "execution_count": 48,
   "metadata": {},
   "outputs": [
    {
     "data": {
      "text/html": [
       "<div>\n",
       "<style scoped>\n",
       "    .dataframe tbody tr th:only-of-type {\n",
       "        vertical-align: middle;\n",
       "    }\n",
       "\n",
       "    .dataframe tbody tr th {\n",
       "        vertical-align: top;\n",
       "    }\n",
       "\n",
       "    .dataframe thead th {\n",
       "        text-align: right;\n",
       "    }\n",
       "</style>\n",
       "<table border=\"1\" class=\"dataframe\">\n",
       "  <thead>\n",
       "    <tr style=\"text-align: right;\">\n",
       "      <th></th>\n",
       "      <th>forecast_date</th>\n",
       "      <th>target</th>\n",
       "      <th>target_end_date</th>\n",
       "      <th>quantile</th>\n",
       "      <th>type</th>\n",
       "      <th>value</th>\n",
       "      <th>location</th>\n",
       "      <th>model</th>\n",
       "      <th>no_quantiles</th>\n",
       "    </tr>\n",
       "  </thead>\n",
       "  <tbody>\n",
       "    <tr>\n",
       "      <th>9048</th>\n",
       "      <td>2021-04-04</td>\n",
       "      <td>4 wk ahead inc case</td>\n",
       "      <td>2021-05-01</td>\n",
       "      <td>0.025</td>\n",
       "      <td>quantile</td>\n",
       "      <td>385284.712000</td>\n",
       "      <td>US</td>\n",
       "      <td>BPagano-RtDriven</td>\n",
       "      <td>7</td>\n",
       "    </tr>\n",
       "    <tr>\n",
       "      <th>9049</th>\n",
       "      <td>2021-04-04</td>\n",
       "      <td>4 wk ahead inc case</td>\n",
       "      <td>2021-05-01</td>\n",
       "      <td>0.100</td>\n",
       "      <td>quantile</td>\n",
       "      <td>477357.042410</td>\n",
       "      <td>US</td>\n",
       "      <td>BPagano-RtDriven</td>\n",
       "      <td>7</td>\n",
       "    </tr>\n",
       "    <tr>\n",
       "      <th>9050</th>\n",
       "      <td>2021-04-04</td>\n",
       "      <td>4 wk ahead inc case</td>\n",
       "      <td>2021-05-01</td>\n",
       "      <td>0.250</td>\n",
       "      <td>quantile</td>\n",
       "      <td>561032.461690</td>\n",
       "      <td>US</td>\n",
       "      <td>BPagano-RtDriven</td>\n",
       "      <td>7</td>\n",
       "    </tr>\n",
       "    <tr>\n",
       "      <th>9051</th>\n",
       "      <td>2021-04-04</td>\n",
       "      <td>4 wk ahead inc case</td>\n",
       "      <td>2021-05-01</td>\n",
       "      <td>0.500</td>\n",
       "      <td>quantile</td>\n",
       "      <td>654309.447150</td>\n",
       "      <td>US</td>\n",
       "      <td>BPagano-RtDriven</td>\n",
       "      <td>7</td>\n",
       "    </tr>\n",
       "    <tr>\n",
       "      <th>9052</th>\n",
       "      <td>2021-04-04</td>\n",
       "      <td>4 wk ahead inc case</td>\n",
       "      <td>2021-05-01</td>\n",
       "      <td>0.750</td>\n",
       "      <td>quantile</td>\n",
       "      <td>747586.432610</td>\n",
       "      <td>US</td>\n",
       "      <td>BPagano-RtDriven</td>\n",
       "      <td>7</td>\n",
       "    </tr>\n",
       "    <tr>\n",
       "      <th>...</th>\n",
       "      <td>...</td>\n",
       "      <td>...</td>\n",
       "      <td>...</td>\n",
       "      <td>...</td>\n",
       "      <td>...</td>\n",
       "      <td>...</td>\n",
       "      <td>...</td>\n",
       "      <td>...</td>\n",
       "      <td>...</td>\n",
       "    </tr>\n",
       "    <tr>\n",
       "      <th>1059111</th>\n",
       "      <td>2021-05-17</td>\n",
       "      <td>1 wk ahead inc case</td>\n",
       "      <td>2021-05-22</td>\n",
       "      <td>0.250</td>\n",
       "      <td>quantile</td>\n",
       "      <td>116222.876123</td>\n",
       "      <td>US</td>\n",
       "      <td>UVA-Ensemble</td>\n",
       "      <td>7</td>\n",
       "    </tr>\n",
       "    <tr>\n",
       "      <th>1059112</th>\n",
       "      <td>2021-05-17</td>\n",
       "      <td>1 wk ahead inc case</td>\n",
       "      <td>2021-05-22</td>\n",
       "      <td>0.500</td>\n",
       "      <td>quantile</td>\n",
       "      <td>193247.603623</td>\n",
       "      <td>US</td>\n",
       "      <td>UVA-Ensemble</td>\n",
       "      <td>7</td>\n",
       "    </tr>\n",
       "    <tr>\n",
       "      <th>1059113</th>\n",
       "      <td>2021-05-17</td>\n",
       "      <td>1 wk ahead inc case</td>\n",
       "      <td>2021-05-22</td>\n",
       "      <td>0.750</td>\n",
       "      <td>quantile</td>\n",
       "      <td>270272.331123</td>\n",
       "      <td>US</td>\n",
       "      <td>UVA-Ensemble</td>\n",
       "      <td>7</td>\n",
       "    </tr>\n",
       "    <tr>\n",
       "      <th>1059114</th>\n",
       "      <td>2021-05-17</td>\n",
       "      <td>1 wk ahead inc case</td>\n",
       "      <td>2021-05-22</td>\n",
       "      <td>0.900</td>\n",
       "      <td>quantile</td>\n",
       "      <td>339596.988598</td>\n",
       "      <td>US</td>\n",
       "      <td>UVA-Ensemble</td>\n",
       "      <td>7</td>\n",
       "    </tr>\n",
       "    <tr>\n",
       "      <th>1059115</th>\n",
       "      <td>2021-05-17</td>\n",
       "      <td>1 wk ahead inc case</td>\n",
       "      <td>2021-05-22</td>\n",
       "      <td>0.975</td>\n",
       "      <td>quantile</td>\n",
       "      <td>417069.673232</td>\n",
       "      <td>US</td>\n",
       "      <td>UVA-Ensemble</td>\n",
       "      <td>7</td>\n",
       "    </tr>\n",
       "  </tbody>\n",
       "</table>\n",
       "<p>99008 rows × 9 columns</p>\n",
       "</div>"
      ],
      "text/plain": [
       "        forecast_date               target target_end_date  quantile  \\\n",
       "9048       2021-04-04  4 wk ahead inc case      2021-05-01     0.025   \n",
       "9049       2021-04-04  4 wk ahead inc case      2021-05-01     0.100   \n",
       "9050       2021-04-04  4 wk ahead inc case      2021-05-01     0.250   \n",
       "9051       2021-04-04  4 wk ahead inc case      2021-05-01     0.500   \n",
       "9052       2021-04-04  4 wk ahead inc case      2021-05-01     0.750   \n",
       "...               ...                  ...             ...       ...   \n",
       "1059111    2021-05-17  1 wk ahead inc case      2021-05-22     0.250   \n",
       "1059112    2021-05-17  1 wk ahead inc case      2021-05-22     0.500   \n",
       "1059113    2021-05-17  1 wk ahead inc case      2021-05-22     0.750   \n",
       "1059114    2021-05-17  1 wk ahead inc case      2021-05-22     0.900   \n",
       "1059115    2021-05-17  1 wk ahead inc case      2021-05-22     0.975   \n",
       "\n",
       "             type          value location             model  no_quantiles  \n",
       "9048     quantile  385284.712000       US  BPagano-RtDriven             7  \n",
       "9049     quantile  477357.042410       US  BPagano-RtDriven             7  \n",
       "9050     quantile  561032.461690       US  BPagano-RtDriven             7  \n",
       "9051     quantile  654309.447150       US  BPagano-RtDriven             7  \n",
       "9052     quantile  747586.432610       US  BPagano-RtDriven             7  \n",
       "...           ...            ...      ...               ...           ...  \n",
       "1059111  quantile  116222.876123       US      UVA-Ensemble             7  \n",
       "1059112  quantile  193247.603623       US      UVA-Ensemble             7  \n",
       "1059113  quantile  270272.331123       US      UVA-Ensemble             7  \n",
       "1059114  quantile  339596.988598       US      UVA-Ensemble             7  \n",
       "1059115  quantile  417069.673232       US      UVA-Ensemble             7  \n",
       "\n",
       "[99008 rows x 9 columns]"
      ]
     },
     "execution_count": 48,
     "metadata": {},
     "output_type": "execute_result"
    }
   ],
   "source": [
    "df[(df.target.str.contains('inc case') & (df.no_quantiles == 7))]"
   ]
  },
  {
   "cell_type": "code",
   "execution_count": 49,
   "metadata": {},
   "outputs": [],
   "source": [
    "df = df[(df.no_quantiles == 23) | \n",
    "        (df.target.str.contains('inc case') & (df.no_quantiles == 7))].drop(columns='no_quantiles').reset_index(drop=True)"
   ]
  },
  {
   "cell_type": "code",
   "execution_count": 50,
   "metadata": {
    "scrolled": true
   },
   "outputs": [
    {
     "data": {
      "text/plain": [
       "target\n",
       "1 wk ahead cum death    20\n",
       "1 wk ahead inc case     17\n",
       "1 wk ahead inc death    22\n",
       "2 wk ahead cum death    20\n",
       "2 wk ahead inc case     16\n",
       "2 wk ahead inc death    21\n",
       "3 wk ahead cum death    20\n",
       "3 wk ahead inc case     15\n",
       "3 wk ahead inc death    21\n",
       "4 wk ahead cum death    19\n",
       "4 wk ahead inc case     16\n",
       "4 wk ahead inc death    21\n",
       "Name: model, dtype: int64"
      ]
     },
     "execution_count": 50,
     "metadata": {},
     "output_type": "execute_result"
    }
   ],
   "source": [
    "df.groupby('target').model.nunique()"
   ]
  },
  {
   "cell_type": "code",
   "execution_count": 51,
   "metadata": {},
   "outputs": [
    {
     "data": {
      "text/plain": [
       "[('1 wk ahead cum death', 'CU-select'),\n",
       " ('1 wk ahead cum death', 'OliverWyman-Navigator'),\n",
       " ('1 wk ahead inc case', 'CU-select'),\n",
       " ('1 wk ahead inc case', 'UChicagoCHATTOPADHYAY-UnIT'),\n",
       " ('1 wk ahead inc death', 'CU-select'),\n",
       " ('1 wk ahead inc death', 'OliverWyman-Navigator'),\n",
       " ('2 wk ahead cum death', 'CU-select'),\n",
       " ('2 wk ahead cum death', 'OliverWyman-Navigator'),\n",
       " ('2 wk ahead inc case', 'CU-select'),\n",
       " ('2 wk ahead inc case', 'UChicagoCHATTOPADHYAY-UnIT'),\n",
       " ('2 wk ahead inc death', 'CU-select'),\n",
       " ('2 wk ahead inc death', 'OliverWyman-Navigator'),\n",
       " ('3 wk ahead cum death', 'CU-select'),\n",
       " ('3 wk ahead cum death', 'OliverWyman-Navigator'),\n",
       " ('3 wk ahead inc case', 'CU-select'),\n",
       " ('3 wk ahead inc death', 'CU-select'),\n",
       " ('3 wk ahead inc death', 'OliverWyman-Navigator'),\n",
       " ('4 wk ahead cum death', 'CU-select'),\n",
       " ('4 wk ahead inc case', 'CU-select'),\n",
       " ('4 wk ahead inc death', 'CU-select'),\n",
       " ('4 wk ahead inc death', 'Columbia_UNC-SurvCon')]"
      ]
     },
     "execution_count": 51,
     "metadata": {},
     "output_type": "execute_result"
    }
   ],
   "source": [
    "# check if there are models used for training that are not available for the test date\n",
    "train_models = dict(df.groupby('target').model.unique())\n",
    "\n",
    "a = [(k, t) for k, v in train_models.items() for t in v]\n",
    "b = [(k, t) for k, v in available_models.items() for t in v]\n",
    "\n",
    "[i for i in a if i not in b]"
   ]
  },
  {
   "cell_type": "code",
   "execution_count": 52,
   "metadata": {},
   "outputs": [],
   "source": [
    "df = df[df.apply(lambda x: x.model in (available_models[x.target]), axis=1)]"
   ]
  },
  {
   "cell_type": "code",
   "execution_count": 53,
   "metadata": {},
   "outputs": [
    {
     "data": {
      "text/plain": [
       "target\n",
       "1 wk ahead cum death    18\n",
       "1 wk ahead inc case     15\n",
       "1 wk ahead inc death    20\n",
       "2 wk ahead cum death    18\n",
       "2 wk ahead inc case     14\n",
       "2 wk ahead inc death    19\n",
       "3 wk ahead cum death    18\n",
       "3 wk ahead inc case     14\n",
       "3 wk ahead inc death    19\n",
       "4 wk ahead cum death    18\n",
       "4 wk ahead inc case     15\n",
       "4 wk ahead inc death    19\n",
       "Name: model, dtype: int64"
      ]
     },
     "execution_count": 53,
     "metadata": {},
     "output_type": "execute_result"
    }
   ],
   "source": [
    "df.groupby('target').model.nunique()"
   ]
  },
  {
   "cell_type": "code",
   "execution_count": 54,
   "metadata": {},
   "outputs": [
    {
     "data": {
      "text/plain": [
       "(841360, 8)"
      ]
     },
     "execution_count": 54,
     "metadata": {},
     "output_type": "execute_result"
    }
   ],
   "source": [
    "df.shape"
   ]
  },
  {
   "cell_type": "code",
   "execution_count": 55,
   "metadata": {},
   "outputs": [],
   "source": [
    "models_by_target = pd.DataFrame([(i, k) for i,j in train_models.items() for k in j], \n",
    "                  columns=['target','model'])"
   ]
  },
  {
   "cell_type": "code",
   "execution_count": 56,
   "metadata": {},
   "outputs": [
    {
     "data": {
      "text/html": [
       "<div>\n",
       "<style scoped>\n",
       "    .dataframe tbody tr th:only-of-type {\n",
       "        vertical-align: middle;\n",
       "    }\n",
       "\n",
       "    .dataframe tbody tr th {\n",
       "        vertical-align: top;\n",
       "    }\n",
       "\n",
       "    .dataframe thead th {\n",
       "        text-align: right;\n",
       "    }\n",
       "</style>\n",
       "<table border=\"1\" class=\"dataframe\">\n",
       "  <thead>\n",
       "    <tr style=\"text-align: right;\">\n",
       "      <th></th>\n",
       "      <th>target</th>\n",
       "      <th>model</th>\n",
       "    </tr>\n",
       "  </thead>\n",
       "  <tbody>\n",
       "    <tr>\n",
       "      <th>172</th>\n",
       "      <td>4 wk ahead cum death</td>\n",
       "      <td>BPagano-RtDriven</td>\n",
       "    </tr>\n",
       "    <tr>\n",
       "      <th>173</th>\n",
       "      <td>4 wk ahead cum death</td>\n",
       "      <td>CEID-Walk</td>\n",
       "    </tr>\n",
       "    <tr>\n",
       "      <th>174</th>\n",
       "      <td>4 wk ahead cum death</td>\n",
       "      <td>COVIDhub-baseline</td>\n",
       "    </tr>\n",
       "    <tr>\n",
       "      <th>175</th>\n",
       "      <td>4 wk ahead cum death</td>\n",
       "      <td>CU-select</td>\n",
       "    </tr>\n",
       "    <tr>\n",
       "      <th>176</th>\n",
       "      <td>4 wk ahead cum death</td>\n",
       "      <td>Covid19Sim-Simulator</td>\n",
       "    </tr>\n",
       "    <tr>\n",
       "      <th>177</th>\n",
       "      <td>4 wk ahead cum death</td>\n",
       "      <td>CovidAnalytics-DELPHI</td>\n",
       "    </tr>\n",
       "    <tr>\n",
       "      <th>178</th>\n",
       "      <td>4 wk ahead cum death</td>\n",
       "      <td>DDS-NBDS</td>\n",
       "    </tr>\n",
       "    <tr>\n",
       "      <th>179</th>\n",
       "      <td>4 wk ahead cum death</td>\n",
       "      <td>JHUAPL-Bucky</td>\n",
       "    </tr>\n",
       "    <tr>\n",
       "      <th>180</th>\n",
       "      <td>4 wk ahead cum death</td>\n",
       "      <td>Karlen-pypm</td>\n",
       "    </tr>\n",
       "    <tr>\n",
       "      <th>181</th>\n",
       "      <td>4 wk ahead cum death</td>\n",
       "      <td>LANL-GrowthRate</td>\n",
       "    </tr>\n",
       "    <tr>\n",
       "      <th>182</th>\n",
       "      <td>4 wk ahead cum death</td>\n",
       "      <td>LNQ-ens1</td>\n",
       "    </tr>\n",
       "    <tr>\n",
       "      <th>183</th>\n",
       "      <td>4 wk ahead cum death</td>\n",
       "      <td>MIT_CritData-GBCF</td>\n",
       "    </tr>\n",
       "    <tr>\n",
       "      <th>184</th>\n",
       "      <td>4 wk ahead cum death</td>\n",
       "      <td>Microsoft-DeepSTIA</td>\n",
       "    </tr>\n",
       "    <tr>\n",
       "      <th>185</th>\n",
       "      <td>4 wk ahead cum death</td>\n",
       "      <td>RobertWalraven-ESG</td>\n",
       "    </tr>\n",
       "    <tr>\n",
       "      <th>186</th>\n",
       "      <td>4 wk ahead cum death</td>\n",
       "      <td>SteveMcConnell-CovidComplete</td>\n",
       "    </tr>\n",
       "    <tr>\n",
       "      <th>187</th>\n",
       "      <td>4 wk ahead cum death</td>\n",
       "      <td>UA-EpiCovDA</td>\n",
       "    </tr>\n",
       "    <tr>\n",
       "      <th>188</th>\n",
       "      <td>4 wk ahead cum death</td>\n",
       "      <td>UMass-MechBayes</td>\n",
       "    </tr>\n",
       "    <tr>\n",
       "      <th>189</th>\n",
       "      <td>4 wk ahead cum death</td>\n",
       "      <td>USC-SI_kJalpha</td>\n",
       "    </tr>\n",
       "    <tr>\n",
       "      <th>190</th>\n",
       "      <td>4 wk ahead cum death</td>\n",
       "      <td>epiforecasts-ensemble1</td>\n",
       "    </tr>\n",
       "  </tbody>\n",
       "</table>\n",
       "</div>"
      ],
      "text/plain": [
       "                   target                         model\n",
       "172  4 wk ahead cum death              BPagano-RtDriven\n",
       "173  4 wk ahead cum death                     CEID-Walk\n",
       "174  4 wk ahead cum death             COVIDhub-baseline\n",
       "175  4 wk ahead cum death                     CU-select\n",
       "176  4 wk ahead cum death          Covid19Sim-Simulator\n",
       "177  4 wk ahead cum death         CovidAnalytics-DELPHI\n",
       "178  4 wk ahead cum death                      DDS-NBDS\n",
       "179  4 wk ahead cum death                  JHUAPL-Bucky\n",
       "180  4 wk ahead cum death                   Karlen-pypm\n",
       "181  4 wk ahead cum death               LANL-GrowthRate\n",
       "182  4 wk ahead cum death                      LNQ-ens1\n",
       "183  4 wk ahead cum death             MIT_CritData-GBCF\n",
       "184  4 wk ahead cum death            Microsoft-DeepSTIA\n",
       "185  4 wk ahead cum death            RobertWalraven-ESG\n",
       "186  4 wk ahead cum death  SteveMcConnell-CovidComplete\n",
       "187  4 wk ahead cum death                   UA-EpiCovDA\n",
       "188  4 wk ahead cum death               UMass-MechBayes\n",
       "189  4 wk ahead cum death                USC-SI_kJalpha\n",
       "190  4 wk ahead cum death        epiforecasts-ensemble1"
      ]
     },
     "execution_count": 56,
     "metadata": {},
     "output_type": "execute_result"
    }
   ],
   "source": [
    "models_by_target[models_by_target.target == '4 wk ahead cum death']"
   ]
  },
  {
   "cell_type": "code",
   "execution_count": 57,
   "metadata": {},
   "outputs": [],
   "source": [
    "df = df[~df.model.isin(models_to_exclude)]"
   ]
  },
  {
   "cell_type": "code",
   "execution_count": 58,
   "metadata": {},
   "outputs": [
    {
     "data": {
      "text/html": [
       "<div>\n",
       "<style scoped>\n",
       "    .dataframe tbody tr th:only-of-type {\n",
       "        vertical-align: middle;\n",
       "    }\n",
       "\n",
       "    .dataframe tbody tr th {\n",
       "        vertical-align: top;\n",
       "    }\n",
       "\n",
       "    .dataframe thead th {\n",
       "        text-align: right;\n",
       "    }\n",
       "</style>\n",
       "<table border=\"1\" class=\"dataframe\">\n",
       "  <thead>\n",
       "    <tr style=\"text-align: right;\">\n",
       "      <th></th>\n",
       "      <th>forecast_date</th>\n",
       "      <th>target</th>\n",
       "      <th>target_end_date</th>\n",
       "      <th>quantile</th>\n",
       "      <th>type</th>\n",
       "      <th>value</th>\n",
       "      <th>location</th>\n",
       "      <th>model</th>\n",
       "    </tr>\n",
       "  </thead>\n",
       "  <tbody>\n",
       "    <tr>\n",
       "      <th>0</th>\n",
       "      <td>2021-04-04</td>\n",
       "      <td>4 wk ahead inc death</td>\n",
       "      <td>2021-05-01</td>\n",
       "      <td>0.010</td>\n",
       "      <td>quantile</td>\n",
       "      <td>3613.39426</td>\n",
       "      <td>US</td>\n",
       "      <td>BPagano-RtDriven</td>\n",
       "    </tr>\n",
       "    <tr>\n",
       "      <th>1</th>\n",
       "      <td>2021-04-04</td>\n",
       "      <td>4 wk ahead inc death</td>\n",
       "      <td>2021-05-01</td>\n",
       "      <td>0.025</td>\n",
       "      <td>quantile</td>\n",
       "      <td>4120.81110</td>\n",
       "      <td>US</td>\n",
       "      <td>BPagano-RtDriven</td>\n",
       "    </tr>\n",
       "    <tr>\n",
       "      <th>2</th>\n",
       "      <td>2021-04-04</td>\n",
       "      <td>4 wk ahead inc death</td>\n",
       "      <td>2021-05-01</td>\n",
       "      <td>0.050</td>\n",
       "      <td>quantile</td>\n",
       "      <td>4574.41502</td>\n",
       "      <td>US</td>\n",
       "      <td>BPagano-RtDriven</td>\n",
       "    </tr>\n",
       "    <tr>\n",
       "      <th>3</th>\n",
       "      <td>2021-04-04</td>\n",
       "      <td>4 wk ahead inc death</td>\n",
       "      <td>2021-05-01</td>\n",
       "      <td>0.100</td>\n",
       "      <td>quantile</td>\n",
       "      <td>5105.57034</td>\n",
       "      <td>US</td>\n",
       "      <td>BPagano-RtDriven</td>\n",
       "    </tr>\n",
       "    <tr>\n",
       "      <th>4</th>\n",
       "      <td>2021-04-04</td>\n",
       "      <td>4 wk ahead inc death</td>\n",
       "      <td>2021-05-01</td>\n",
       "      <td>0.150</td>\n",
       "      <td>quantile</td>\n",
       "      <td>5466.27169</td>\n",
       "      <td>US</td>\n",
       "      <td>BPagano-RtDriven</td>\n",
       "    </tr>\n",
       "    <tr>\n",
       "      <th>...</th>\n",
       "      <td>...</td>\n",
       "      <td>...</td>\n",
       "      <td>...</td>\n",
       "      <td>...</td>\n",
       "      <td>...</td>\n",
       "      <td>...</td>\n",
       "      <td>...</td>\n",
       "      <td>...</td>\n",
       "    </tr>\n",
       "    <tr>\n",
       "      <th>921851</th>\n",
       "      <td>2021-05-17</td>\n",
       "      <td>1 wk ahead cum death</td>\n",
       "      <td>2021-05-22</td>\n",
       "      <td>0.850</td>\n",
       "      <td>quantile</td>\n",
       "      <td>589397.00000</td>\n",
       "      <td>US</td>\n",
       "      <td>epiforecasts-ensemble1</td>\n",
       "    </tr>\n",
       "    <tr>\n",
       "      <th>921852</th>\n",
       "      <td>2021-05-17</td>\n",
       "      <td>1 wk ahead cum death</td>\n",
       "      <td>2021-05-22</td>\n",
       "      <td>0.900</td>\n",
       "      <td>quantile</td>\n",
       "      <td>589439.00000</td>\n",
       "      <td>US</td>\n",
       "      <td>epiforecasts-ensemble1</td>\n",
       "    </tr>\n",
       "    <tr>\n",
       "      <th>921853</th>\n",
       "      <td>2021-05-17</td>\n",
       "      <td>1 wk ahead cum death</td>\n",
       "      <td>2021-05-22</td>\n",
       "      <td>0.950</td>\n",
       "      <td>quantile</td>\n",
       "      <td>589516.00000</td>\n",
       "      <td>US</td>\n",
       "      <td>epiforecasts-ensemble1</td>\n",
       "    </tr>\n",
       "    <tr>\n",
       "      <th>921854</th>\n",
       "      <td>2021-05-17</td>\n",
       "      <td>1 wk ahead cum death</td>\n",
       "      <td>2021-05-22</td>\n",
       "      <td>0.975</td>\n",
       "      <td>quantile</td>\n",
       "      <td>589597.00000</td>\n",
       "      <td>US</td>\n",
       "      <td>epiforecasts-ensemble1</td>\n",
       "    </tr>\n",
       "    <tr>\n",
       "      <th>921855</th>\n",
       "      <td>2021-05-17</td>\n",
       "      <td>1 wk ahead cum death</td>\n",
       "      <td>2021-05-22</td>\n",
       "      <td>0.990</td>\n",
       "      <td>quantile</td>\n",
       "      <td>589762.00000</td>\n",
       "      <td>US</td>\n",
       "      <td>epiforecasts-ensemble1</td>\n",
       "    </tr>\n",
       "  </tbody>\n",
       "</table>\n",
       "<p>841360 rows × 8 columns</p>\n",
       "</div>"
      ],
      "text/plain": [
       "       forecast_date                target target_end_date  quantile  \\\n",
       "0         2021-04-04  4 wk ahead inc death      2021-05-01     0.010   \n",
       "1         2021-04-04  4 wk ahead inc death      2021-05-01     0.025   \n",
       "2         2021-04-04  4 wk ahead inc death      2021-05-01     0.050   \n",
       "3         2021-04-04  4 wk ahead inc death      2021-05-01     0.100   \n",
       "4         2021-04-04  4 wk ahead inc death      2021-05-01     0.150   \n",
       "...              ...                   ...             ...       ...   \n",
       "921851    2021-05-17  1 wk ahead cum death      2021-05-22     0.850   \n",
       "921852    2021-05-17  1 wk ahead cum death      2021-05-22     0.900   \n",
       "921853    2021-05-17  1 wk ahead cum death      2021-05-22     0.950   \n",
       "921854    2021-05-17  1 wk ahead cum death      2021-05-22     0.975   \n",
       "921855    2021-05-17  1 wk ahead cum death      2021-05-22     0.990   \n",
       "\n",
       "            type         value location                   model  \n",
       "0       quantile    3613.39426       US        BPagano-RtDriven  \n",
       "1       quantile    4120.81110       US        BPagano-RtDriven  \n",
       "2       quantile    4574.41502       US        BPagano-RtDriven  \n",
       "3       quantile    5105.57034       US        BPagano-RtDriven  \n",
       "4       quantile    5466.27169       US        BPagano-RtDriven  \n",
       "...          ...           ...      ...                     ...  \n",
       "921851  quantile  589397.00000       US  epiforecasts-ensemble1  \n",
       "921852  quantile  589439.00000       US  epiforecasts-ensemble1  \n",
       "921853  quantile  589516.00000       US  epiforecasts-ensemble1  \n",
       "921854  quantile  589597.00000       US  epiforecasts-ensemble1  \n",
       "921855  quantile  589762.00000       US  epiforecasts-ensemble1  \n",
       "\n",
       "[841360 rows x 8 columns]"
      ]
     },
     "execution_count": 58,
     "metadata": {},
     "output_type": "execute_result"
    }
   ],
   "source": [
    "df"
   ]
  },
  {
   "cell_type": "code",
   "execution_count": 59,
   "metadata": {},
   "outputs": [],
   "source": [
    "available_train_models = dict(df.groupby(['target'])['model'].unique())"
   ]
  },
  {
   "cell_type": "code",
   "execution_count": 60,
   "metadata": {},
   "outputs": [
    {
     "data": {
      "text/plain": [
       "{'1 wk ahead cum death': array(['BPagano-RtDriven', 'CEID-Walk', 'COVIDhub-baseline',\n",
       "        'Covid19Sim-Simulator', 'CovidAnalytics-DELPHI', 'DDS-NBDS',\n",
       "        'JHUAPL-Bucky', 'JHU_IDD-CovidSP', 'Karlen-pypm',\n",
       "        'LANL-GrowthRate', 'LNQ-ens1', 'MIT_CritData-GBCF',\n",
       "        'RobertWalraven-ESG', 'SteveMcConnell-CovidComplete',\n",
       "        'UA-EpiCovDA', 'UMass-MechBayes', 'USC-SI_kJalpha',\n",
       "        'epiforecasts-ensemble1'], dtype=object),\n",
       " '1 wk ahead inc case': array(['BPagano-RtDriven', 'CEID-Walk', 'COVIDhub-baseline',\n",
       "        'Covid19Sim-Simulator', 'CovidAnalytics-DELPHI',\n",
       "        'IEM_MED-CovidProject', 'JHUAPL-Bucky', 'JHU_CSSE-DECOM',\n",
       "        'JHU_IDD-CovidSP', 'Karlen-pypm', 'LANL-GrowthRate', 'LNQ-ens1',\n",
       "        'RobertWalraven-ESG', 'USC-SI_kJalpha', 'UVA-Ensemble'],\n",
       "       dtype=object),\n",
       " '1 wk ahead inc death': array(['BPagano-RtDriven', 'CEID-Walk', 'COVIDhub-baseline',\n",
       "        'Covid19Sim-Simulator', 'CovidAnalytics-DELPHI', 'DDS-NBDS',\n",
       "        'IEM_MED-CovidProject', 'JHUAPL-Bucky', 'JHU_CSSE-DECOM',\n",
       "        'JHU_IDD-CovidSP', 'Karlen-pypm', 'LANL-GrowthRate', 'LNQ-ens1',\n",
       "        'MIT_CritData-GBCF', 'RobertWalraven-ESG',\n",
       "        'SteveMcConnell-CovidComplete', 'UA-EpiCovDA', 'UMass-MechBayes',\n",
       "        'USC-SI_kJalpha', 'epiforecasts-ensemble1'], dtype=object),\n",
       " '2 wk ahead cum death': array(['BPagano-RtDriven', 'CEID-Walk', 'COVIDhub-baseline',\n",
       "        'Covid19Sim-Simulator', 'CovidAnalytics-DELPHI', 'DDS-NBDS',\n",
       "        'JHUAPL-Bucky', 'JHU_CSSE-DECOM', 'Karlen-pypm', 'LANL-GrowthRate',\n",
       "        'LNQ-ens1', 'MIT_CritData-GBCF', 'RobertWalraven-ESG',\n",
       "        'SteveMcConnell-CovidComplete', 'UA-EpiCovDA', 'UMass-MechBayes',\n",
       "        'USC-SI_kJalpha', 'epiforecasts-ensemble1'], dtype=object),\n",
       " '2 wk ahead inc case': array(['BPagano-RtDriven', 'CEID-Walk', 'COVIDhub-baseline',\n",
       "        'Covid19Sim-Simulator', 'CovidAnalytics-DELPHI',\n",
       "        'IEM_MED-CovidProject', 'JHUAPL-Bucky', 'JHU_CSSE-DECOM',\n",
       "        'Karlen-pypm', 'LANL-GrowthRate', 'LNQ-ens1', 'RobertWalraven-ESG',\n",
       "        'USC-SI_kJalpha', 'UVA-Ensemble'], dtype=object),\n",
       " '2 wk ahead inc death': array(['BPagano-RtDriven', 'CEID-Walk', 'COVIDhub-baseline',\n",
       "        'Covid19Sim-Simulator', 'CovidAnalytics-DELPHI', 'DDS-NBDS',\n",
       "        'IEM_MED-CovidProject', 'JHUAPL-Bucky', 'JHU_CSSE-DECOM',\n",
       "        'Karlen-pypm', 'LANL-GrowthRate', 'LNQ-ens1', 'MIT_CritData-GBCF',\n",
       "        'RobertWalraven-ESG', 'SteveMcConnell-CovidComplete',\n",
       "        'UA-EpiCovDA', 'UMass-MechBayes', 'USC-SI_kJalpha',\n",
       "        'epiforecasts-ensemble1'], dtype=object),\n",
       " '3 wk ahead cum death': array(['BPagano-RtDriven', 'CEID-Walk', 'COVIDhub-baseline',\n",
       "        'Covid19Sim-Simulator', 'CovidAnalytics-DELPHI', 'DDS-NBDS',\n",
       "        'JHUAPL-Bucky', 'JHU_CSSE-DECOM', 'Karlen-pypm', 'LANL-GrowthRate',\n",
       "        'LNQ-ens1', 'MIT_CritData-GBCF', 'RobertWalraven-ESG',\n",
       "        'SteveMcConnell-CovidComplete', 'UA-EpiCovDA', 'UMass-MechBayes',\n",
       "        'USC-SI_kJalpha', 'epiforecasts-ensemble1'], dtype=object),\n",
       " '3 wk ahead inc case': array(['BPagano-RtDriven', 'CEID-Walk', 'COVIDhub-baseline',\n",
       "        'Covid19Sim-Simulator', 'CovidAnalytics-DELPHI',\n",
       "        'IEM_MED-CovidProject', 'JHUAPL-Bucky', 'JHU_CSSE-DECOM',\n",
       "        'Karlen-pypm', 'LANL-GrowthRate', 'LNQ-ens1', 'RobertWalraven-ESG',\n",
       "        'USC-SI_kJalpha', 'UVA-Ensemble'], dtype=object),\n",
       " '3 wk ahead inc death': array(['BPagano-RtDriven', 'CEID-Walk', 'COVIDhub-baseline',\n",
       "        'Covid19Sim-Simulator', 'CovidAnalytics-DELPHI', 'DDS-NBDS',\n",
       "        'IEM_MED-CovidProject', 'JHUAPL-Bucky', 'JHU_CSSE-DECOM',\n",
       "        'Karlen-pypm', 'LANL-GrowthRate', 'LNQ-ens1', 'MIT_CritData-GBCF',\n",
       "        'RobertWalraven-ESG', 'SteveMcConnell-CovidComplete',\n",
       "        'UA-EpiCovDA', 'UMass-MechBayes', 'USC-SI_kJalpha',\n",
       "        'epiforecasts-ensemble1'], dtype=object),\n",
       " '4 wk ahead cum death': array(['BPagano-RtDriven', 'CEID-Walk', 'COVIDhub-baseline',\n",
       "        'Covid19Sim-Simulator', 'CovidAnalytics-DELPHI', 'DDS-NBDS',\n",
       "        'JHUAPL-Bucky', 'Karlen-pypm', 'LANL-GrowthRate', 'LNQ-ens1',\n",
       "        'MIT_CritData-GBCF', 'Microsoft-DeepSTIA', 'RobertWalraven-ESG',\n",
       "        'SteveMcConnell-CovidComplete', 'UA-EpiCovDA', 'UMass-MechBayes',\n",
       "        'USC-SI_kJalpha', 'epiforecasts-ensemble1'], dtype=object),\n",
       " '4 wk ahead inc case': array(['BPagano-RtDriven', 'CEID-Walk', 'COVIDhub-baseline',\n",
       "        'Covid19Sim-Simulator', 'CovidAnalytics-DELPHI',\n",
       "        'IEM_MED-CovidProject', 'JHUAPL-Bucky', 'JHU_CSSE-DECOM',\n",
       "        'Karlen-pypm', 'LANL-GrowthRate', 'LNQ-ens1', 'Microsoft-DeepSTIA',\n",
       "        'RobertWalraven-ESG', 'USC-SI_kJalpha', 'UVA-Ensemble'],\n",
       "       dtype=object),\n",
       " '4 wk ahead inc death': array(['BPagano-RtDriven', 'CEID-Walk', 'COVIDhub-baseline',\n",
       "        'Covid19Sim-Simulator', 'CovidAnalytics-DELPHI', 'DDS-NBDS',\n",
       "        'IEM_MED-CovidProject', 'JHUAPL-Bucky', 'Karlen-pypm',\n",
       "        'LANL-GrowthRate', 'LNQ-ens1', 'MIT_CritData-GBCF',\n",
       "        'Microsoft-DeepSTIA', 'RobertWalraven-ESG',\n",
       "        'SteveMcConnell-CovidComplete', 'UA-EpiCovDA', 'UMass-MechBayes',\n",
       "        'USC-SI_kJalpha', 'epiforecasts-ensemble1'], dtype=object)}"
      ]
     },
     "execution_count": 60,
     "metadata": {},
     "output_type": "execute_result"
    }
   ],
   "source": [
    "available_train_models"
   ]
  },
  {
   "cell_type": "code",
   "execution_count": 61,
   "metadata": {},
   "outputs": [
    {
     "data": {
      "text/plain": [
       "(246272, 8)"
      ]
     },
     "execution_count": 61,
     "metadata": {},
     "output_type": "execute_result"
    }
   ],
   "source": [
    "df_test.shape"
   ]
  },
  {
   "cell_type": "code",
   "execution_count": 62,
   "metadata": {},
   "outputs": [],
   "source": [
    "df_test = df_test[df_test.apply(lambda x: x.model in (available_train_models[x.target]), axis=1)]"
   ]
  },
  {
   "cell_type": "code",
   "execution_count": 63,
   "metadata": {},
   "outputs": [
    {
     "data": {
      "text/html": [
       "<div>\n",
       "<style scoped>\n",
       "    .dataframe tbody tr th:only-of-type {\n",
       "        vertical-align: middle;\n",
       "    }\n",
       "\n",
       "    .dataframe tbody tr th {\n",
       "        vertical-align: top;\n",
       "    }\n",
       "\n",
       "    .dataframe thead th {\n",
       "        text-align: right;\n",
       "    }\n",
       "</style>\n",
       "<table border=\"1\" class=\"dataframe\">\n",
       "  <thead>\n",
       "    <tr style=\"text-align: right;\">\n",
       "      <th></th>\n",
       "      <th>forecast_date</th>\n",
       "      <th>target</th>\n",
       "      <th>target_end_date</th>\n",
       "      <th>quantile</th>\n",
       "      <th>type</th>\n",
       "      <th>value</th>\n",
       "      <th>location</th>\n",
       "      <th>model</th>\n",
       "    </tr>\n",
       "  </thead>\n",
       "  <tbody>\n",
       "    <tr>\n",
       "      <th>0</th>\n",
       "      <td>2021-05-23</td>\n",
       "      <td>1 wk ahead inc death</td>\n",
       "      <td>2021-05-29</td>\n",
       "      <td>0.010</td>\n",
       "      <td>quantile</td>\n",
       "      <td>2063.07986</td>\n",
       "      <td>US</td>\n",
       "      <td>BPagano-RtDriven</td>\n",
       "    </tr>\n",
       "    <tr>\n",
       "      <th>1</th>\n",
       "      <td>2021-05-23</td>\n",
       "      <td>1 wk ahead inc death</td>\n",
       "      <td>2021-05-29</td>\n",
       "      <td>0.025</td>\n",
       "      <td>quantile</td>\n",
       "      <td>2268.76972</td>\n",
       "      <td>US</td>\n",
       "      <td>BPagano-RtDriven</td>\n",
       "    </tr>\n",
       "    <tr>\n",
       "      <th>2</th>\n",
       "      <td>2021-05-23</td>\n",
       "      <td>1 wk ahead inc death</td>\n",
       "      <td>2021-05-29</td>\n",
       "      <td>0.050</td>\n",
       "      <td>quantile</td>\n",
       "      <td>2452.64561</td>\n",
       "      <td>US</td>\n",
       "      <td>BPagano-RtDriven</td>\n",
       "    </tr>\n",
       "    <tr>\n",
       "      <th>3</th>\n",
       "      <td>2021-05-23</td>\n",
       "      <td>1 wk ahead inc death</td>\n",
       "      <td>2021-05-29</td>\n",
       "      <td>0.100</td>\n",
       "      <td>quantile</td>\n",
       "      <td>2667.95825</td>\n",
       "      <td>US</td>\n",
       "      <td>BPagano-RtDriven</td>\n",
       "    </tr>\n",
       "    <tr>\n",
       "      <th>4</th>\n",
       "      <td>2021-05-23</td>\n",
       "      <td>1 wk ahead inc death</td>\n",
       "      <td>2021-05-29</td>\n",
       "      <td>0.150</td>\n",
       "      <td>quantile</td>\n",
       "      <td>2814.17454</td>\n",
       "      <td>US</td>\n",
       "      <td>BPagano-RtDriven</td>\n",
       "    </tr>\n",
       "  </tbody>\n",
       "</table>\n",
       "</div>"
      ],
      "text/plain": [
       "  forecast_date                target target_end_date  quantile      type  \\\n",
       "0    2021-05-23  1 wk ahead inc death      2021-05-29     0.010  quantile   \n",
       "1    2021-05-23  1 wk ahead inc death      2021-05-29     0.025  quantile   \n",
       "2    2021-05-23  1 wk ahead inc death      2021-05-29     0.050  quantile   \n",
       "3    2021-05-23  1 wk ahead inc death      2021-05-29     0.100  quantile   \n",
       "4    2021-05-23  1 wk ahead inc death      2021-05-29     0.150  quantile   \n",
       "\n",
       "        value location             model  \n",
       "0  2063.07986       US  BPagano-RtDriven  \n",
       "1  2268.76972       US  BPagano-RtDriven  \n",
       "2  2452.64561       US  BPagano-RtDriven  \n",
       "3  2667.95825       US  BPagano-RtDriven  \n",
       "4  2814.17454       US  BPagano-RtDriven  "
      ]
     },
     "execution_count": 63,
     "metadata": {},
     "output_type": "execute_result"
    }
   ],
   "source": [
    "df_test.head()"
   ]
  },
  {
   "cell_type": "code",
   "execution_count": 64,
   "metadata": {},
   "outputs": [
    {
     "data": {
      "text/plain": [
       "target\n",
       "1 wk ahead cum death    [BPagano-RtDriven, CEID-Walk, COVIDhub-baselin...\n",
       "1 wk ahead inc case     [BPagano-RtDriven, CEID-Walk, COVIDhub-baselin...\n",
       "1 wk ahead inc death    [BPagano-RtDriven, CEID-Walk, COVIDhub-baselin...\n",
       "2 wk ahead cum death    [BPagano-RtDriven, CEID-Walk, COVIDhub-baselin...\n",
       "2 wk ahead inc case     [BPagano-RtDriven, CEID-Walk, COVIDhub-baselin...\n",
       "2 wk ahead inc death    [BPagano-RtDriven, CEID-Walk, COVIDhub-baselin...\n",
       "3 wk ahead cum death    [BPagano-RtDriven, CEID-Walk, COVIDhub-baselin...\n",
       "3 wk ahead inc case     [BPagano-RtDriven, CEID-Walk, COVIDhub-baselin...\n",
       "3 wk ahead inc death    [BPagano-RtDriven, CEID-Walk, COVIDhub-baselin...\n",
       "4 wk ahead cum death    [BPagano-RtDriven, CEID-Walk, COVIDhub-baselin...\n",
       "4 wk ahead inc case     [BPagano-RtDriven, CEID-Walk, COVIDhub-baselin...\n",
       "4 wk ahead inc death    [BPagano-RtDriven, CEID-Walk, COVIDhub-baselin...\n",
       "Name: model, dtype: object"
      ]
     },
     "execution_count": 64,
     "metadata": {},
     "output_type": "execute_result"
    }
   ],
   "source": [
    "df.groupby(['target'])['model'].unique()"
   ]
  },
  {
   "cell_type": "markdown",
   "metadata": {},
   "source": [
    "# Export"
   ]
  },
  {
   "cell_type": "code",
   "execution_count": 65,
   "metadata": {},
   "outputs": [],
   "source": [
    "df.to_csv('data/df_train_{}.csv'.format(str(test_date.date())), index=False)"
   ]
  },
  {
   "cell_type": "code",
   "execution_count": 66,
   "metadata": {},
   "outputs": [],
   "source": [
    "df_test.to_csv('data/df_test_{}.csv'.format(str(test_date.date())), index=False)"
   ]
  },
  {
   "cell_type": "code",
   "execution_count": null,
   "metadata": {},
   "outputs": [],
   "source": []
  }
 ],
 "metadata": {
  "kernelspec": {
   "display_name": "Python 3",
   "language": "python",
   "name": "python3"
  },
  "language_info": {
   "codemirror_mode": {
    "name": "ipython",
    "version": 3
   },
   "file_extension": ".py",
   "mimetype": "text/x-python",
   "name": "python",
   "nbconvert_exporter": "python",
   "pygments_lexer": "ipython3",
   "version": "3.8.8"
  }
 },
 "nbformat": 4,
 "nbformat_minor": 4
}
